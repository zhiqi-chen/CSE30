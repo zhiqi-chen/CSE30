{
  "nbformat": 4,
  "nbformat_minor": 0,
  "metadata": {
    "kernelspec": {
      "display_name": "teaching37",
      "language": "python",
      "name": "teaching37"
    },
    "language_info": {
      "codemirror_mode": {
        "name": "ipython",
        "version": 3
      },
      "file_extension": ".py",
      "mimetype": "text/x-python",
      "name": "python",
      "nbconvert_exporter": "python",
      "pygments_lexer": "ipython3",
      "version": "3.7.3"
    },
    "test_info": {
      "id": "e2eea3a2b6179b40daf798ea76f45f5d6b722267"
    },
    "colab": {
      "name": "CSE_30_Fall_2020_Homework_1.ipynb",
      "provenance": [],
      "collapsed_sections": []
    }
  },
  "cells": [
    {
      "cell_type": "markdown",
      "metadata": {
        "id": "5JidtpBx95Ct"
      },
      "source": [
        "Before you turn this problem in, make sure everything runs as expected. First, **restart the kernel** (in the menubar, select Kernel$\\rightarrow$Restart) and then **run all cells** (in the menubar, select Cell$\\rightarrow$Run All).\n",
        "\n",
        "Make sure you fill in any place that says `YOUR CODE HERE` or \"YOUR ANSWER HERE\", as well as your name and collaborators below:"
      ]
    },
    {
      "cell_type": "code",
      "metadata": {
        "id": "6jtpRVED95Cw"
      },
      "source": [
        "NAME = \"Zhiqi Chen\"\n",
        "COLLABORATORS = \"\""
      ],
      "execution_count": 2,
      "outputs": []
    },
    {
      "cell_type": "markdown",
      "metadata": {
        "id": "GmoYeRhJ95DF"
      },
      "source": [
        "---"
      ]
    },
    {
      "cell_type": "markdown",
      "metadata": {
        "deletable": false,
        "editable": false,
        "nbgrader": {
          "checksum": "b42b628f01610674d412155808e6b0a7",
          "grade": false,
          "grade_id": "cell-2be5226c1f58f9d0",
          "locked": true,
          "schema_version": 1,
          "solution": false
        },
        "id": "YRYZeJlz95DM"
      },
      "source": [
        "# Homework 1: Python Basics\n",
        "## CSE 20 Fall 2020\n",
        "\n",
        "## Luca de Alfaro\n",
        "Copyright Luca de Alfaro, 2020.  CC-BY-NC License."
      ]
    },
    {
      "cell_type": "markdown",
      "metadata": {
        "deletable": false,
        "editable": false,
        "nbgrader": {
          "checksum": "97aee9954dbe6eb2214e5a74dd73f7e7",
          "grade": false,
          "grade_id": "cell-aeb2ccbddd103ad4",
          "locked": true,
          "schema_version": 1,
          "solution": false
        },
        "id": "_1FxlwfP95DQ"
      },
      "source": [
        "# Instructions\n",
        "\n",
        "## The Format of a Python Notebook\n",
        "\n",
        "*This* is a Python Notebook homework.  It consists of various types of cells: \n",
        "\n",
        "* Text: you can read them :-) \n",
        "* Code: you should run them, as they may set up the problems that you are asked to solve.\n",
        "* **Solution:** These are cells where you should enter a solution.  You will see a marker in these cells that indicates where your work should be inserted.  \n",
        "\n",
        "```\n",
        "    # YOUR CODE HERE\n",
        "```    \n",
        "\n",
        "* Test: These cells contains some tests, and are worth some points.  You should run the cells as a way to debug your code, and to see if you understood the question, and whether the output of your code is produced in the correct format.  The notebook contains both the tests you see, and some secret ones that you cannot see.  This prevents you from using the simple trick of hard-coding the desired output. "
      ]
    },
    {
      "cell_type": "markdown",
      "metadata": {
        "deletable": false,
        "editable": false,
        "nbgrader": {
          "checksum": "949d7ad627a0d2ac15d99df7205fe858",
          "grade": false,
          "grade_id": "cell-db2d02adb61a2336",
          "locked": true,
          "schema_version": 1,
          "solution": false
        },
        "id": "ZFZ7IrRB95DT"
      },
      "source": [
        "## Working on Your Notebook in Colab\n",
        "\n",
        "Please work on your notebook directly on Colab.  Please don't download it and work directly on your laptop.  Working on Colab has two key features: \n",
        "\n",
        "* The notebook is shared with the TAs, tutors, and with the instructor.  So when you report that you have difficulties, they can open your notebook and help you. \n",
        "* The notebook preserves the revision history, which is useful for many reasons, among which that none of your work can be lost, and we can see how you reached the solution.\n",
        "\n",
        "### Using Colab for the first time (in this class)\n",
        "\n",
        "**Set indent to 4 spaces.**\n",
        "If this is the first time you use Colab, click on the gear icon on the top right, then on Editor.  There, set the indentation width to 4 spaces: this will keep your code correctly indented, which is very important.  You can configure the other options at your pleasure. \n",
        "\n",
        "### Running your notebook\n",
        "\n",
        "**Running a cell.**\n",
        "To run a cell of the notebook, either click on the icon to its top left, or press shift-ENTER (or shift-Return). \n",
        "\n",
        "**Disconnections.**\n",
        "When you open a notebook, Google automatically connects a server to the web page, so that you can type code in your browser, and the code is run on that server.  If you are idle for more than a few minutes, Google keeps all you typed (none of your work is lost), but the server may be disconnected due to inactivity.  When the server is disconnected, it loses all memory of anything you have defined (functions, classes, variables, etc). \n",
        "\n",
        "If you do get disconnected, select Runtime > Run All (or Runtime > Run before) to ensure everything is defined as it should. \n",
        "\n",
        "### DO NOT\n",
        "\n",
        "* **Do not add, delete, reorder, remove cells.**  This breaks the relationship between your work, and the grading system, making it impossible to grade your work.\n",
        "\n",
        "### Debugging\n",
        "To debug, you can add print statements to your code.  They should have no effect on the tests.  Just be careful that if you add too many of them inside loops and similar, you may cause for some of the tests we will do such an enormous amount of output that grading might timeout (and you may not get credit for an answer). \n",
        "\n",
        "### Asking for help\n",
        "The tutors and TAs should have access to the notebook; otherwise, you can always share a link with them.  In this way, they can take a look at your work and help you with debugging and with any questions you might have."
      ]
    },
    {
      "cell_type": "markdown",
      "metadata": {
        "deletable": false,
        "editable": false,
        "nbgrader": {
          "checksum": "54b70bb61cf55ce9f80656f001f478a2",
          "grade": false,
          "grade_id": "cell-0b20458c52da69e4",
          "locked": true,
          "schema_version": 1,
          "solution": false
        },
        "id": "BBYPe29H95DV"
      },
      "source": [
        "## Submitting Your Notebook\n",
        "\n",
        "To submit:\n",
        "* **Check your work.** Before submitting, select Runtime > Run All, and check that you don't get any unexpected error. \n",
        "* **Download the notebook.** Click on File > Download .ipynb . **Do not download the .py file.**\n",
        "* **Upload.** Upload the .ipynb file to [this Google form](https://forms.gle/V55pDXK7CheXycgdA). \n",
        "* **Deadline:** Friday October 9, **11pm (NOT midnight)**.\n"
      ]
    },
    {
      "cell_type": "markdown",
      "metadata": {
        "deletable": false,
        "editable": false,
        "nbgrader": {
          "checksum": "efe3a836b97e7b1ab437b26cbc65fdfb",
          "grade": false,
          "grade_id": "cell-5427fd59a2ad7578",
          "locked": true,
          "schema_version": 1,
          "solution": false
        },
        "id": "Q-nVwGDK95DX"
      },
      "source": [
        "## What Happens Next? \n",
        "In 2-3 days, the instructor will autograde all submitted homework.  You will find, in a Google Drive folder shared with you, a version of your notebook annotated with your total grade for the assignment, and the details of the grading for each question. "
      ]
    },
    {
      "cell_type": "markdown",
      "metadata": {
        "deletable": false,
        "editable": false,
        "nbgrader": {
          "checksum": "f2d78137900cc5a77b56fa8c64e82790",
          "grade": false,
          "grade_id": "cell-18b78ebb5a65b5d3",
          "locked": true,
          "schema_version": 1,
          "solution": false
        },
        "id": "jPh9XoHZ95DY"
      },
      "source": [
        "## The Test\n",
        "\n",
        "Here the real homework begins!"
      ]
    },
    {
      "cell_type": "code",
      "metadata": {
        "deletable": false,
        "editable": false,
        "nbgrader": {
          "checksum": "840dfbbba59f2c417acb4062a7de73b5",
          "grade": false,
          "grade_id": "cell-aa6578b7fdc732a1",
          "locked": true,
          "schema_version": 1,
          "solution": false
        },
        "id": "-YolzAj_95Da"
      },
      "source": [
        "# Let me define the function I use for testing.  Don't change this cell. \n",
        "\n",
        "def check_equal(x, y, msg=None):\n",
        "    if x == y:\n",
        "        if msg is None:\n",
        "            print(\"Success\")\n",
        "        else:\n",
        "            print(msg, \": Success\")\n",
        "    else:\n",
        "        if msg is None:\n",
        "            print(\"Error:\")\n",
        "        else:\n",
        "            print(\"Error in\", msg, \":\")\n",
        "        print(\"    Your answer was:\", x)\n",
        "        print(\"    Correct answer: \", y)\n",
        "    assert x == y, \"%r and %r are different\" % (x, y)"
      ],
      "execution_count": 3,
      "outputs": []
    },
    {
      "cell_type": "markdown",
      "metadata": {
        "deletable": false,
        "editable": false,
        "nbgrader": {
          "checksum": "9d4f2c1bc4d3329d230867cfab9b12c2",
          "grade": false,
          "grade_id": "cell-ce9257cdaf6fbe78",
          "locked": true,
          "schema_version": 1,
          "solution": false
        },
        "id": "z-7hGwXf95Dk"
      },
      "source": [
        "## Problem 1: common word pairs\n",
        "\n",
        "The goal is to find the set of consecutive word pairs in common between two sentences. \n",
        "We will get there in steps, guiding you to the solution. "
      ]
    },
    {
      "cell_type": "code",
      "metadata": {
        "deletable": false,
        "editable": false,
        "nbgrader": {
          "checksum": "26d241a80761597fb61492df74c4cea1",
          "grade": false,
          "grade_id": "cell-406db0f574a89232",
          "locked": true,
          "schema_version": 1,
          "solution": false
        },
        "id": "O9dQ-cHk95Dm",
        "outputId": "d26bc49d-cb1b-475b-e692-af0566a15854",
        "colab": {
          "base_uri": "https://localhost:8080/",
          "height": 34
        }
      },
      "source": [
        "# First, notice that .split() splits a sentence according to white space, returning a list.\n",
        "\n",
        "print(\"I love eating bananas\".split())"
      ],
      "execution_count": 4,
      "outputs": [
        {
          "output_type": "stream",
          "text": [
            "['I', 'love', 'eating', 'bananas']\n"
          ],
          "name": "stdout"
        }
      ]
    },
    {
      "cell_type": "code",
      "metadata": {
        "deletable": false,
        "editable": false,
        "nbgrader": {
          "checksum": "24e7791d4a575e98e2a28fb4608d4feb",
          "grade": false,
          "grade_id": "cell-c65e0fce85afde8c",
          "locked": true,
          "schema_version": 1,
          "solution": false
        },
        "id": "c6tsQojJ95Dw",
        "outputId": "d5e6dd14-d629-4369-d33d-c6d8f41bee60",
        "colab": {
          "base_uri": "https://localhost:8080/",
          "height": 34
        }
      },
      "source": [
        "# Second, recall that in Python, a[i:k] gives you the sub-list of a consisting \n",
        "# of a[i], a[i+1], ..., a[k-1].\n",
        "a = \"I love eating bananas\".split()\n",
        "print(a[2:4])"
      ],
      "execution_count": 5,
      "outputs": [
        {
          "output_type": "stream",
          "text": [
            "['eating', 'bananas']\n"
          ],
          "name": "stdout"
        }
      ]
    },
    {
      "cell_type": "markdown",
      "metadata": {
        "deletable": false,
        "editable": false,
        "nbgrader": {
          "checksum": "c320ea29f3893b672484bed7af43aae3",
          "grade": false,
          "grade_id": "cell-a241c17207271026",
          "locked": true,
          "schema_version": 1,
          "solution": false
        },
        "id": "bFly_qzN95D8"
      },
      "source": [
        "### Problem 1 part 1: generating the list of consecutive words in a sentence.\n",
        "\n",
        "You are given a sentence, with words separated by white space.  You need to write a function `word_pairs` that outputs the list of consecutive words.  For example, if the input is: \n",
        "\n",
        "    \"I love eating bananas\"\n",
        "    \n",
        "Then the function `word_pairs` should output:\n",
        "\n",
        "    [(\"I\", \"love\"), (\"love\", \"eating\"), (\"eating\", \"bananas\")]\n",
        "    \n",
        "If the input sentence consists of fewer than two words, then `word_pairs` should output the empty list. \n",
        "**Be careful:** the result should be a list of tuples, not a list of lists."
      ]
    },
    {
      "cell_type": "code",
      "metadata": {
        "deletable": false,
        "nbgrader": {
          "checksum": "a3e721254d67ac30a2bea9d57724d079",
          "grade": false,
          "grade_id": "cell-a75f44130c87420c",
          "locked": false,
          "schema_version": 1,
          "solution": true
        },
        "id": "1Die88Zm95D-"
      },
      "source": [
        "def word_pairs(sentence):\n",
        "    # YOUR CODE HERE\n",
        "    words=sentence.split()\n",
        "    result=[]\n",
        "    number=int(len(words))\n",
        "    i=0\n",
        "    k=1\n",
        "    if number>2 or number==2:\n",
        "        for n in range(number-1):\n",
        "            wordlist=(words[i],words[k])\n",
        "            result.append(wordlist)          \n",
        "            i+=1\n",
        "            k+=1\n",
        "        return result\n",
        "    return result\n",
        "    print(result)\n"
      ],
      "execution_count": 6,
      "outputs": []
    },
    {
      "cell_type": "code",
      "metadata": {
        "deletable": false,
        "editable": false,
        "nbgrader": {
          "checksum": "12f8f4c3520208688ad6747321a7cb77",
          "grade": true,
          "grade_id": "cell-e2701ded4af645eb",
          "locked": true,
          "points": 5,
          "schema_version": 1,
          "solution": false
        },
        "id": "0YxnMKZ-95EF",
        "outputId": "ad09ebfc-9250-43da-bb10-06e724fc80bd",
        "colab": {
          "base_uri": "https://localhost:8080/",
          "height": 68
        }
      },
      "source": [
        "# Base cases.  5 points.\n",
        "\n",
        "check_equal(word_pairs(\" \"), [])\n",
        "check_equal(word_pairs(\"woohoo\"), [])\n",
        "check_equal(word_pairs(\"I am\"), [(\"I\", \"am\")])\n"
      ],
      "execution_count": 7,
      "outputs": [
        {
          "output_type": "stream",
          "text": [
            "Success\n",
            "Success\n",
            "Success\n"
          ],
          "name": "stdout"
        }
      ]
    },
    {
      "cell_type": "code",
      "metadata": {
        "deletable": false,
        "editable": false,
        "nbgrader": {
          "checksum": "6e3a28390816f4d4feee8c4a20f76d4b",
          "grade": true,
          "grade_id": "cell-e31912e43e3d4eaa",
          "locked": true,
          "points": 5,
          "schema_version": 1,
          "solution": false
        },
        "id": "sdENw3C495EM",
        "outputId": "1d099adc-909e-450d-fa5d-e74b80237eb4",
        "colab": {
          "base_uri": "https://localhost:8080/",
          "height": 51
        }
      },
      "source": [
        "# Longer sentences.  5 points. \n",
        "\n",
        "check_equal(word_pairs(\"I love bananas\"), [(\"I\", \"love\"), (\"love\", \"bananas\")])\n",
        "check_equal(word_pairs(\"a b c d e\"), [(\"a\", \"b\"), (\"b\", \"c\"), (\"c\", \"d\"), (\"d\", \"e\")])"
      ],
      "execution_count": 8,
      "outputs": [
        {
          "output_type": "stream",
          "text": [
            "Success\n",
            "Success\n"
          ],
          "name": "stdout"
        }
      ]
    },
    {
      "cell_type": "markdown",
      "metadata": {
        "deletable": false,
        "editable": false,
        "nbgrader": {
          "checksum": "b54275210fe28a31d0dba2dbae37c509",
          "grade": false,
          "grade_id": "cell-41b65b2587d379a1",
          "locked": true,
          "schema_version": 1,
          "solution": false
        },
        "id": "nvv6t_CO95ER"
      },
      "source": [
        "Good.  Now, the idea is to use the `word_pair` function to compute the _set_ of consecutive word pairs common to two sentences.  The idea is to compute the word pairs of each list, turn the list into a set, and take the instersection."
      ]
    },
    {
      "cell_type": "code",
      "metadata": {
        "deletable": false,
        "nbgrader": {
          "checksum": "5a18ef39ece4c8600ca09c144ea70305",
          "grade": false,
          "grade_id": "cell-5e54babab03eabbb",
          "locked": false,
          "schema_version": 1,
          "solution": true
        },
        "id": "6sj9EYpa95ES"
      },
      "source": [
        "def common_word_pairs(sentence1, sentence2):\n",
        "    \"\"\"Returns the set of common consecutive word pairs in two sentences.\"\"\"\n",
        "    # YOUR CODE HERE\n",
        "    list1=word_pairs(sentence1)\n",
        "    list2=word_pairs(sentence2)\n",
        "    result=set(list1)&set(list2)\n",
        "    return result"
      ],
      "execution_count": 9,
      "outputs": []
    },
    {
      "cell_type": "code",
      "metadata": {
        "deletable": false,
        "editable": false,
        "nbgrader": {
          "checksum": "bde421fee7c7f93e43f1833eddefccf6",
          "grade": true,
          "grade_id": "cell-4841b43738f3cc2b",
          "locked": true,
          "points": 5,
          "schema_version": 1,
          "solution": false
        },
        "id": "IuHkPnMS95EW",
        "outputId": "4754046f-9af5-4dbf-c107-e95490884cb7",
        "colab": {
          "base_uri": "https://localhost:8080/",
          "height": 85
        }
      },
      "source": [
        "s1 = \"I love bananas\"\n",
        "s2 = \"I love to eat bananas\"\n",
        "s3 = \"Nobody truly dislikes to eat bananas\"\n",
        "s4 = \"I love to eat anything but bananas\"\n",
        "s5 = \"I like mangos more than bananas\"\n",
        "\n",
        "check_equal(common_word_pairs(s1, s2), {(\"I\", \"love\")})\n",
        "check_equal(common_word_pairs(s2, s3), {(\"to\", \"eat\"), (\"eat\", \"bananas\")})\n",
        "check_equal(common_word_pairs(s3, s4), {(\"to\", \"eat\")})\n",
        "check_equal(common_word_pairs(s1, s5), set())\n"
      ],
      "execution_count": 10,
      "outputs": [
        {
          "output_type": "stream",
          "text": [
            "Success\n",
            "Success\n",
            "Success\n",
            "Success\n"
          ],
          "name": "stdout"
        }
      ]
    },
    {
      "cell_type": "markdown",
      "metadata": {
        "deletable": false,
        "editable": false,
        "nbgrader": {
          "checksum": "8d6736259e20a41e3e7bd61121aa7a1f",
          "grade": false,
          "grade_id": "cell-88cbd7f55c690255",
          "locked": true,
          "schema_version": 1,
          "solution": false
        },
        "id": "F1dgaE_f95Eb"
      },
      "source": [
        "## Problem 2: Composing dictionaries\n",
        "\n",
        "A dictionary $f$ with a set of keys $K$ can be thought of a mapping from keys to values, that is, as a one-to-many partial function $f: K \\mapsto V$ from $K$ to a set $V$ of values.  The [_domain_](https://en.wikipedia.org/wiki/Domain_of_a_function) ${\\rm Dom}(f) = K$ of $f$ is the set of keys of the dictionary $f$. \n",
        "\n",
        "Given two functions $f$ and $g$, their [composition](https://en.wikipedia.org/wiki/Function_composition) $g \\circ f$ is obtained by applying first $f$, then $g$:\n",
        "\n",
        "$$\n",
        "  (g \\circ f) (x) = g(f(x)) \\; .\n",
        "$$\n",
        "\n",
        "Note that an element $x$ that is in the domain (set of keys) of $f$ is also in the domain of $g \\circ f$ only if $f(x)$ is in the domain of $g$ (otherwise, we cannot apply $g$ to $f(x)$. \n",
        "We can write this in formulas, stating that the domain ${\\rm Dom}(g \\circ f)$ consists of all $x \\in \\mathrm{Dom}(f)$ such that $f(x) \\in \\mathrm{Dom}(g)$, or: \n",
        "\n",
        "$$\n",
        "  \\mathrm{Dom}(g \\circ f) = \\{ x \\in \\mathrm{Dom}(f) \\mid f(x) \\in \\mathrm{Dom}(g) \\} \\; .\n",
        "$$\n",
        "\n",
        "Your task is, given two dictionaries $f$ and $g$, to compute the dictionary of $g \\circ f$.\n",
        "\n"
      ]
    },
    {
      "cell_type": "code",
      "metadata": {
        "deletable": false,
        "nbgrader": {
          "checksum": "a6e08d83e196b75060b2a9f48360b6dd",
          "grade": false,
          "grade_id": "cell-608f6aa3165a3967",
          "locked": false,
          "schema_version": 1,
          "solution": true
        },
        "id": "1AmkJnqi95Ec"
      },
      "source": [
        "def compose(f, g):\n",
        "    \"\"\"Given two dictionaries f and g, returns the dictionary of g \\circ f.\"\"\"\n",
        "    # This can be done in a single line shorter than this comment.\n",
        "    # You can use more lines; if you use more than half a dozen lines, you are doing it\n",
        "    # in too complicated a fashion.\n",
        "    # YOUR CODE HERE\n",
        "    d={k:g[v] for (k,v) in f.items() if v in g}\n",
        "    return d\n"
      ],
      "execution_count": 11,
      "outputs": []
    },
    {
      "cell_type": "code",
      "metadata": {
        "deletable": false,
        "editable": false,
        "nbgrader": {
          "checksum": "2acc43d365adcea7097b9ea8c236a959",
          "grade": true,
          "grade_id": "cell-688052660c47655f",
          "locked": true,
          "points": 10,
          "schema_version": 1,
          "solution": false
        },
        "id": "U_EXp4t595Eh",
        "outputId": "27b45c12-63e4-4649-f7b8-f404d77fcbbf",
        "colab": {
          "base_uri": "https://localhost:8080/",
          "height": 51
        }
      },
      "source": [
        "# Tests for composition. 10 points.\n",
        "\n",
        "f = {'cat': 4, 'dog': 4, 'bird': 2, \"centipede\": 100}\n",
        "g = {4: \"quadruped\", 2: \"biped\"}\n",
        "\n",
        "check_equal(compose(f, g), {\"cat\": \"quadruped\", \"dog\": \"quadruped\", \"bird\": \"biped\"})\n",
        "\n",
        "f = {0: 1, 1: 2}\n",
        "g = {10: 11, 11: 12}\n",
        "check_equal(compose(f, g), {})\n",
        "\n"
      ],
      "execution_count": 12,
      "outputs": [
        {
          "output_type": "stream",
          "text": [
            "Success\n",
            "Success\n"
          ],
          "name": "stdout"
        }
      ]
    },
    {
      "cell_type": "markdown",
      "metadata": {
        "deletable": false,
        "editable": false,
        "nbgrader": {
          "checksum": "2675d122c310e818d673e4f92dd63ae0",
          "grade": false,
          "grade_id": "cell-b081c8427cb13b99",
          "locked": true,
          "schema_version": 1,
          "solution": false
        },
        "id": "cUXx6e2m95El"
      },
      "source": [
        "## Problem 3: Classes\n",
        "\n",
        "Here is a class that represents a square in the plane.  You create a square by specifying the center, and the edge.  Then, you can ask for the coordinates of the four quarters.  It's given here just as an example."
      ]
    },
    {
      "cell_type": "code",
      "metadata": {
        "deletable": false,
        "editable": false,
        "nbgrader": {
          "checksum": "632e63356be873099cfc711ccbfaf0a9",
          "grade": false,
          "grade_id": "cell-e203bd42c02b6c6c",
          "locked": true,
          "schema_version": 1,
          "solution": false
        },
        "id": "uV9EhJvV95Em"
      },
      "source": [
        "class Square(object):\n",
        "    \n",
        "    def __init__(self, center, edge):\n",
        "        assert isinstance(center, tuple)\n",
        "        assert len(center) == 2\n",
        "        self.center = center\n",
        "        self.semiedge = edge / 2\n",
        "        \n",
        "    @property\n",
        "    def edge(self):\n",
        "        return 2 * semiedge\n",
        "    \n",
        "    @property\n",
        "    def ur(self):\n",
        "        \"\"\"Returns the coordinates of the upper right corner.\"\"\"\n",
        "        (x, y) = self.center\n",
        "        return x + self.semiedge, y + self.semiedge\n",
        "    \n",
        "    @property\n",
        "    def lr(self):\n",
        "        \"\"\"Returns the coordinates of the upper right corner.\"\"\"\n",
        "        (x, y) = self.center\n",
        "        return x + self.semiedge, y - self.semiedge\n",
        "\n",
        "    @property\n",
        "    def ul(self):\n",
        "        \"\"\"Returns the coordinates of the upper right corner.\"\"\"\n",
        "        (x, y) = self.center\n",
        "        return x - self.semiedge, y + self.semiedge\n",
        "\n",
        "    @property\n",
        "    def ll(self):\n",
        "        \"\"\"Returns the coordinates of the upper right corner.\"\"\"\n",
        "        (x, y) = self.center\n",
        "        return x - self.semiedge, y - self.semiedge\n",
        "    \n",
        "    def contains(self, point):\n",
        "        \"\"\"Returns whether the point is in the square.\"\"\"\n",
        "        x, y = point\n",
        "        cx, cy = self.center\n",
        "        return abs(x - cx) < self.semiedge and abs(y - cy) < self.semiedge\n",
        "    "
      ],
      "execution_count": 13,
      "outputs": []
    },
    {
      "cell_type": "code",
      "metadata": {
        "deletable": false,
        "editable": false,
        "nbgrader": {
          "checksum": "2159887fc5bcdb0695384c7458dec583",
          "grade": false,
          "grade_id": "cell-e838e3f7b8fadbb4",
          "locked": true,
          "schema_version": 1,
          "solution": false
        },
        "id": "yPAYEGsY95Eq",
        "outputId": "31a76648-d73b-48ad-fb49-3d7e02964cdb",
        "colab": {
          "base_uri": "https://localhost:8080/",
          "height": 68
        }
      },
      "source": [
        "# Let's try it. \n",
        "\n",
        "s = Square((2, 2), 3)\n",
        "print(\"UR corner:\", s.ur)\n",
        "print(s.contains((1, 1)))\n",
        "print(s.contains((3, 4)))"
      ],
      "execution_count": 14,
      "outputs": [
        {
          "output_type": "stream",
          "text": [
            "UR corner: (3.5, 3.5)\n",
            "True\n",
            "False\n"
          ],
          "name": "stdout"
        }
      ]
    },
    {
      "cell_type": "markdown",
      "metadata": {
        "deletable": false,
        "editable": false,
        "nbgrader": {
          "checksum": "f338615af33b51ab61d65095e2ae6194",
          "grade": false,
          "grade_id": "cell-b1473237242d6b48",
          "locked": true,
          "schema_version": 1,
          "solution": false
        },
        "id": "BVUz9STP95Eu"
      },
      "source": [
        "Here is a hint for you: to test the type of a variable in Python, you can use the `isinstance` function."
      ]
    },
    {
      "cell_type": "code",
      "metadata": {
        "deletable": false,
        "editable": false,
        "nbgrader": {
          "checksum": "4c23d36a62b2db254154552311703baf",
          "grade": false,
          "grade_id": "cell-bab8b43fb9cff1b1",
          "locked": true,
          "schema_version": 1,
          "solution": false
        },
        "id": "frQcfxbC95Ev",
        "outputId": "4618616d-6a0a-4a4e-a2ec-d2dfbdd74395",
        "colab": {
          "base_uri": "https://localhost:8080/",
          "height": 68
        }
      },
      "source": [
        "print(isinstance(s, Square)) # This prints True\n",
        "print(isinstance(s, tuple)) # False\n",
        "print(isinstance((1, 2), tuple)) # True"
      ],
      "execution_count": 15,
      "outputs": [
        {
          "output_type": "stream",
          "text": [
            "True\n",
            "False\n",
            "True\n"
          ],
          "name": "stdout"
        }
      ]
    },
    {
      "cell_type": "markdown",
      "metadata": {
        "deletable": false,
        "editable": false,
        "nbgrader": {
          "checksum": "9eb363e27418ab3ee5bf49cdb05a96f1",
          "grade": false,
          "grade_id": "cell-e1b9042ccb6349ac",
          "locked": true,
          "schema_version": 1,
          "solution": false
        },
        "id": "DkURMvgK95Ez"
      },
      "source": [
        "### Defining a Circle\n",
        "\n",
        "Now it's your turn.  Define a `Circle` class.  A circle is created similarly to a square, specifying center and radius, as in: \n",
        "\n",
        "    Circle((2, 3), 4)\n",
        "    \n",
        "(a circle of radius 4 with center in (2, 3)). \n",
        "\n",
        "For a circle `c`, you should implement the following methods: \n",
        "\n",
        "* `c.contains_point(p)`: returns True/False according to whether the circle contains a given point `p`, specified as a pair (x, y) of coordinates, as in `p = (2, 3)`.  \n",
        "* `c.contains_square(s)`: returns True/False according to whether the square `s` is completely contained in the circle `c`.\n",
        "* `contains(x)`: returns True/False according to whether the circle contains the argument `x`, which can be either a square a point, or another Circle. \n",
        "\n",
        "_A little geometry reminder:_  \n",
        "\n",
        "* A circle contains a square iff it contains all four corners of the square. \n",
        "* A circle $c_1$ contains a circle $c_2$ iff the distance between the centers of $c_1$ and $c_2$, plus the radius of $c_2$, is smaller than the radius of $c_1$. \n"
      ]
    },
    {
      "cell_type": "code",
      "metadata": {
        "deletable": false,
        "nbgrader": {
          "checksum": "9229e763a739fbce63483cd8dacfb516",
          "grade": false,
          "grade_id": "cell-3bfa1020afb1662c",
          "locked": false,
          "schema_version": 1,
          "solution": true
        },
        "id": "4G8GKkk_95E0"
      },
      "source": [
        "import math # In case you need it.\n",
        "\n",
        "class Circle(object):\n",
        "    # YOUR CODE HERE\n",
        "\n",
        "    def __init__(self,center,radius):\n",
        "        assert isinstance(center,tuple)\n",
        "        assert len(center)==2\n",
        "        self.center=center\n",
        "        self.radius=radius\n",
        "\n",
        "    def radius(self):\n",
        "        return radius\n",
        "\n",
        "    def ax(self):\n",
        "        (x,y)=self.center\n",
        "        return x+self.radius\n",
        "\n",
        "    def bx(self):\n",
        "        (x,y)=self.center\n",
        "        return x-self.radius\n",
        "\n",
        "    def ay(self):\n",
        "        (x,y)=self.center\n",
        "        return y+self.radius\n",
        "\n",
        "    def by(self):\n",
        "        (x,y)=self.center\n",
        "        return y-self.radius\n",
        "\n",
        "    def contains(self,x):\n",
        "        if isinstance(x,Square):\n",
        "            return self.contains_square(x)\n",
        "        elif isinstance(x,Circle):\n",
        "            return abs(math.sqrt((x.ax()-self.ax())**2+(x.ay()-self.ay())**2)+x.radius)<=self.radius\n",
        "        else:\n",
        "            return self.contains_point(x)\n",
        "\n",
        "    def contains_point(self,p):\n",
        "        x,y=p\n",
        "        cx,cy=self.center\n",
        "        return abs(math.sqrt((x-cx)**2+(y-cy)**2))<=self.radius\n",
        "\n",
        "    def contains_square(self,s):\n",
        "        urx,ury=s.ur\n",
        "        cx,cy=self.center\n",
        "        return abs(math.sqrt((cx-urx)**2+(cy-ury)**2))<=self.radius\n",
        "\n",
        "class Square(object):\n",
        "    \n",
        "    def __init__(self, center, edge):\n",
        "        assert isinstance(center, tuple)\n",
        "        assert len(center) == 2\n",
        "        self.center = center\n",
        "        self.semiedge = edge / 2\n",
        "        \n",
        "    @property\n",
        "    def edge(self):\n",
        "        return 2 * semiedge\n",
        "    \n",
        "    @property\n",
        "    def ur(self):\n",
        "        \"\"\"Returns the coordinates of the upper right corner.\"\"\"\n",
        "        (x, y) = self.center\n",
        "        return x + self.semiedge, y + self.semiedge\n",
        "    \n",
        "    @property\n",
        "    def lr(self):\n",
        "        \"\"\"Returns the coordinates of the upper right corner.\"\"\"\n",
        "        (x, y) = self.center\n",
        "        return x + self.semiedge, y - self.semiedge\n",
        "\n",
        "    @property\n",
        "    def ul(self):\n",
        "        \"\"\"Returns the coordinates of the upper right corner.\"\"\"\n",
        "        (x, y) = self.center\n",
        "        return x - self.semiedge, y + self.semiedge\n",
        "\n",
        "    @property\n",
        "    def ll(self):\n",
        "        \"\"\"Returns the coordinates of the upper right corner.\"\"\"\n",
        "        (x, y) = self.center\n",
        "        return x - self.semiedge, y - self.semiedge\n",
        "    \n",
        "    def contains(self, point):\n",
        "        \"\"\"Returns whether the point is in the square.\"\"\"\n",
        "        x, y = point\n",
        "        cx, cy = self.center\n",
        "        return abs(x - cx) < self.semiedge and abs(y - cy) < self.semiedge\n"
      ],
      "execution_count": 1,
      "outputs": []
    },
    {
      "cell_type": "code",
      "metadata": {
        "deletable": false,
        "editable": false,
        "nbgrader": {
          "checksum": "74626de1b17537800ef728a99c9216f2",
          "grade": true,
          "grade_id": "cell-d32407151e61934d",
          "locked": true,
          "points": 5,
          "schema_version": 1,
          "solution": false
        },
        "id": "52Pxo6zZ95E4",
        "outputId": "c54d275b-9306-43cd-b164-c8e6c597dfce",
        "colab": {
          "base_uri": "https://localhost:8080/",
          "height": 51
        }
      },
      "source": [
        "# Let us test point containment first.  5 points. \n",
        "\n",
        "c = Circle((1, 2), 4)\n",
        "check_equal(c.contains_point((2, 2)), True)\n",
        "check_equal(c.contains_point((10, 20)), False)\n"
      ],
      "execution_count": 16,
      "outputs": [
        {
          "output_type": "stream",
          "text": [
            "Success\n",
            "Success\n"
          ],
          "name": "stdout"
        }
      ]
    },
    {
      "cell_type": "code",
      "metadata": {
        "deletable": false,
        "editable": false,
        "nbgrader": {
          "checksum": "950fca76f6df9ebe782a6ebf076d48cf",
          "grade": true,
          "grade_id": "cell-fe416f608d3dd49b",
          "locked": true,
          "points": 5,
          "schema_version": 1,
          "solution": false
        },
        "id": "EfwwsmIM95E9",
        "outputId": "17f84859-7bbb-4380-cf54-c62a5812a571",
        "colab": {
          "base_uri": "https://localhost:8080/",
          "height": 51
        }
      },
      "source": [
        "# Then, let us check square containment.  5 points. \n",
        "c = Circle((1, 2), 4)\n",
        "s1 = Square((2, 2), 1)\n",
        "s2 = Square((3, 2), 6)\n",
        "check_equal(c.contains_square(s1), True)\n",
        "check_equal(c.contains_square(s2), False)\n"
      ],
      "execution_count": 17,
      "outputs": [
        {
          "output_type": "stream",
          "text": [
            "Success\n",
            "Success\n"
          ],
          "name": "stdout"
        }
      ]
    },
    {
      "cell_type": "code",
      "metadata": {
        "deletable": false,
        "editable": false,
        "nbgrader": {
          "checksum": "4b76c52fb90875a9e6a0566dc50bac8a",
          "grade": true,
          "grade_id": "cell-91dc3a6ba562b55c",
          "locked": true,
          "points": 10,
          "schema_version": 1,
          "solution": false
        },
        "id": "99L3NtyX95FC",
        "outputId": "c1646a9a-2980-4847-e1bd-c5a2aea87b19",
        "colab": {
          "base_uri": "https://localhost:8080/",
          "height": 153
        }
      },
      "source": [
        "# Lastly, we check the contain method. 10 points. \n",
        "c1 = Circle((1, 2), 4)\n",
        "c2 = Circle((1, 2), 4)\n",
        "c3 = Circle((2, 2), 3)\n",
        "c4 = Circle((2, 2), 4)\n",
        "s1 = Square((2, 2), 1)\n",
        "s2 = Square((3, 2), 6)\n",
        "p1 = (2, 3)\n",
        "p2 = (3, 4)\n",
        "p3 = (4, 5)\n",
        "\n",
        "check_equal(c1.contains(p1), True, msg=\"a\")\n",
        "check_equal(c1.contains(p2), True, msg=\"b\")\n",
        "check_equal(c1.contains(p3), False, msg=\"c\")\n",
        "check_equal(c1.contains(s1), True, msg=\"d\")\n",
        "check_equal(c1.contains(s2), False, msg=\"e\")\n",
        "check_equal(c1.contains(c2), True, msg=\"f\")\n",
        "check_equal(c1.contains(c3), True, msg=\"g\")\n",
        "check_equal(c1.contains(c4), False, msg=\"h\")\n"
      ],
      "execution_count": 18,
      "outputs": [
        {
          "output_type": "stream",
          "text": [
            "a : Success\n",
            "b : Success\n",
            "c : Success\n",
            "d : Success\n",
            "e : Success\n",
            "f : Success\n",
            "g : Success\n",
            "h : Success\n"
          ],
          "name": "stdout"
        }
      ]
    }
  ]
}