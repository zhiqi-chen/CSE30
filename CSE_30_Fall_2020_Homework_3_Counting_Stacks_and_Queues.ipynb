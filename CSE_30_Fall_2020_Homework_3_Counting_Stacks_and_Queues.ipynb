{
  "nbformat": 4,
  "nbformat_minor": 0,
  "metadata": {
    "colab": {
      "name": "CSE_30_Fall_2020_Homework_3_Counting_Stacks_and_Queues.ipynb",
      "provenance": [],
      "collapsed_sections": []
    },
    "kernelspec": {
      "display_name": "Python 3",
      "language": "python",
      "name": "python3"
    },
    "language_info": {
      "codemirror_mode": {
        "name": "ipython",
        "version": 3
      },
      "file_extension": ".py",
      "mimetype": "text/x-python",
      "name": "python",
      "nbconvert_exporter": "python",
      "pygments_lexer": "ipython3",
      "version": "3.7.3"
    },
    "test_info": {
      "id": "e2eea3a2b6179b40daf798ea76f45f5d6b722267"
    }
  },
  "cells": [
    {
      "cell_type": "markdown",
      "metadata": {
        "id": "h6XsHbIMsIrL"
      },
      "source": [
        "Before you turn this problem in, make sure everything runs as expected. First, **restart the kernel** (in the menubar, select Kernel$\\rightarrow$Restart) and then **run all cells** (in the menubar, select Cell$\\rightarrow$Run All).\n",
        "\n",
        "Make sure you fill in any place that says `YOUR CODE HERE` or \"YOUR ANSWER HERE\", as well as your name and collaborators below:"
      ]
    },
    {
      "cell_type": "code",
      "metadata": {
        "id": "uER6fHC_sIrP"
      },
      "source": [
        "NAME = \"Zhiqi Chen\"\n",
        "COLLABORATORS = \"\""
      ],
      "execution_count": null,
      "outputs": []
    },
    {
      "cell_type": "markdown",
      "metadata": {
        "id": "09bkWqHosIrh"
      },
      "source": [
        "---"
      ]
    },
    {
      "cell_type": "markdown",
      "metadata": {
        "deletable": false,
        "editable": false,
        "nbgrader": {
          "checksum": "353d59af7b176fbca66c0befde05fff4",
          "grade": false,
          "grade_id": "cell-c00039965f709bcd",
          "locked": true,
          "schema_version": 1,
          "solution": false
        },
        "id": "Uz7uZDA4sIrk"
      },
      "source": [
        "# Homework 3: Counting Stacks and Queues\n",
        "## CSE 30 Fall 2020\n",
        "\n",
        "### Copyright Luca de Alfaro, 2019-20.  License: CC-BY-NC. "
      ]
    },
    {
      "cell_type": "markdown",
      "metadata": {
        "deletable": false,
        "editable": false,
        "nbgrader": {
          "checksum": "409fb3cfd3a6db048d3d9b60e103e9c5",
          "grade": false,
          "grade_id": "cell-f615175e9b985c9f",
          "locked": true,
          "schema_version": 1,
          "solution": false
        },
        "id": "VWWPizeTsIrm"
      },
      "source": [
        "For how to work on this homework assignment, please refer to the instructions posted on Canvas. \n",
        "\n",
        "## Submission\n",
        "\n",
        "[Please submit to this Google Form](https://forms.gle/RtDD1fd6KkmJHiqp7).\n",
        "\n",
        "Deadline: Thursday October 15, 11pm. "
      ]
    },
    {
      "cell_type": "markdown",
      "metadata": {
        "deletable": false,
        "editable": false,
        "nbgrader": {
          "checksum": "8cb4186a2ddae6353dab907db883c694",
          "grade": false,
          "grade_id": "cell-68b77e5d1c0322d9",
          "locked": true,
          "schema_version": 1,
          "solution": false
        },
        "id": "eHOLd679sIro"
      },
      "source": [
        "## Stacks, Queues, and Their Counting Versions\n",
        "\n",
        "A stack is a data structure with two operations: push, and pop.  Picture it as a pile of dishes sitting on a counter.  A push operation places a dish on top of the pile.  A pop operation returns the dish on top of the pile, or None if the pile is empty, that is, contains no dishes.  A \"dish\" can be any Python object. \n",
        "\n",
        "A queue is a data structure with two operations: put, and get.  Imagine it as a stack of books horizontally on a shelf.  A put operation adds the book to the left end of the books on the shelf; a get operation gets the book from the right end of the shelf.  \n",
        "\n",
        "Thus, the difference between a stack and a queue is that the stack is FILO (First In, Last Out), whereas the queue is FIFO (First In, First Out).  Elements in a stack are retrieved newest first. \n",
        "Elements in a queue are retrieved in the order they were put in, oldest first.\n",
        "\n",
        "We will implement here these data structures, with a small twist: we will also introduce _counting_ versions of them, which avoid keeping multiple identical copies of objects in a row. \n",
        "\n"
      ]
    },
    {
      "cell_type": "markdown",
      "metadata": {
        "deletable": false,
        "editable": false,
        "nbgrader": {
          "checksum": "1c57c66ea88e89b27579c7fb265fe5e9",
          "grade": false,
          "grade_id": "cell-ee4467322ec8da54",
          "locked": true,
          "schema_version": 1,
          "solution": false
        },
        "id": "JLEX1zAjsIrr"
      },
      "source": [
        "Here is the implementation of the Counting Queue we defined in class. "
      ]
    },
    {
      "cell_type": "code",
      "metadata": {
        "deletable": false,
        "editable": false,
        "nbgrader": {
          "checksum": "b9204233c96bb285882ffc2d296f56c0",
          "grade": false,
          "grade_id": "cell-bef7933a5e94e093",
          "locked": true,
          "schema_version": 1,
          "solution": false
        },
        "id": "b3fbedcPsIrt"
      },
      "source": [
        "class CountingQueue(object):\n",
        "\n",
        "    def __init__(self):\n",
        "        self.queue = []\n",
        "\n",
        "    def __repr__(self):\n",
        "        return repr(self.queue)\n",
        "\n",
        "    def add(self, x, count=1):\n",
        "        # If the element is the same as the last element, we simply\n",
        "        # increment the count.  This assumes we can test equality of\n",
        "        # elements.\n",
        "        if len(self.queue) > 0:\n",
        "            xx, cc = self.queue[-1]\n",
        "            if xx == x:\n",
        "                self.queue[-1] = (xx, cc + count)\n",
        "            else:\n",
        "                self.queue.append((x, count))\n",
        "        else:\n",
        "            self.queue = [(x, count)]\n",
        "\n",
        "    def get(self):\n",
        "        if len(self.queue) == 0:\n",
        "            return None\n",
        "        x, c = self.queue[0]\n",
        "        if c == 1:\n",
        "            self.queue.pop(0)\n",
        "            return x\n",
        "        else:\n",
        "            self.queue[0] = (x, c - 1)\n",
        "            return x\n",
        "\n",
        "    def isempty(self):\n",
        "        # Since the count of an element is never 0, we can just check\n",
        "        # whether the queue is empty.\n",
        "        return len(self.queue) == 0\n",
        "\n"
      ],
      "execution_count": 12,
      "outputs": []
    },
    {
      "cell_type": "markdown",
      "metadata": {
        "deletable": false,
        "editable": false,
        "nbgrader": {
          "checksum": "01ee76988015a4212a68c360a97c5f4d",
          "grade": false,
          "grade_id": "cell-b1ef898d2be6dee5",
          "locked": true,
          "schema_version": 1,
          "solution": false
        },
        "id": "85vhiG0MsIr4"
      },
      "source": [
        "Let's put this to the same test as before, printing the queue contents at each step to see what is going on."
      ]
    },
    {
      "cell_type": "code",
      "metadata": {
        "deletable": false,
        "editable": false,
        "nbgrader": {
          "checksum": "f05841dd77db2c948bc2128b6ed6c0cb",
          "grade": false,
          "grade_id": "cell-3f3e2c4163f4c9d6",
          "locked": true,
          "schema_version": 1,
          "solution": false
        },
        "id": "SAZDFyg_sIr6",
        "outputId": "0ad08a7c-00d3-4b35-a1c9-aa2b4c210ba0",
        "colab": {
          "base_uri": "https://localhost:8080/",
          "height": 340
        }
      },
      "source": [
        "q = CountingQueue()\n",
        "q.add('a')\n",
        "print(q)\n",
        "q.add('b', count=5)\n",
        "print(q)\n",
        "q.add('c', count=2)\n",
        "print(q)\n",
        "while not q.isempty():\n",
        "    print(q.get())\n",
        "    print(q)\n"
      ],
      "execution_count": 13,
      "outputs": [
        {
          "output_type": "stream",
          "text": [
            "[('a', 1)]\n",
            "[('a', 1), ('b', 5)]\n",
            "[('a', 1), ('b', 5), ('c', 2)]\n",
            "a\n",
            "[('b', 5), ('c', 2)]\n",
            "b\n",
            "[('b', 4), ('c', 2)]\n",
            "b\n",
            "[('b', 3), ('c', 2)]\n",
            "b\n",
            "[('b', 2), ('c', 2)]\n",
            "b\n",
            "[('b', 1), ('c', 2)]\n",
            "b\n",
            "[('c', 2)]\n",
            "c\n",
            "[('c', 1)]\n",
            "c\n",
            "[]\n"
          ],
          "name": "stdout"
        }
      ]
    },
    {
      "cell_type": "code",
      "metadata": {
        "deletable": false,
        "editable": false,
        "nbgrader": {
          "checksum": "9e9c2d81aeb332d0733f8b6443f24e8e",
          "grade": false,
          "grade_id": "cell-a71a5131e6c4b53b",
          "locked": true,
          "schema_version": 1,
          "solution": false
        },
        "id": "ocQW5XWNsIsF"
      },
      "source": [
        "#@title Testing helper\n",
        "\n",
        "def check_equal(x, y, msg=None):\n",
        "    if x == y:\n",
        "        if msg is not None:\n",
        "            print(msg, \": Success\")\n",
        "    else:\n",
        "        if msg is None:\n",
        "            print(\"Error:\")\n",
        "        else:\n",
        "            print(\"Error in\", msg, \":\")\n",
        "        print(\"    Your answer was:\", x)\n",
        "        print(\"    Correct answer: \", y)\n",
        "    assert x == y, \"%r and %r are different\" % (x, y)\n"
      ],
      "execution_count": 14,
      "outputs": []
    },
    {
      "cell_type": "markdown",
      "metadata": {
        "deletable": false,
        "editable": false,
        "nbgrader": {
          "checksum": "79e583d5c91f5dcc0dd2ce6b130f17d1",
          "grade": false,
          "grade_id": "cell-ae3b81203caaf4ff",
          "locked": true,
          "schema_version": 1,
          "solution": false
        },
        "id": "6xjVemhosIsO"
      },
      "source": [
        "## Question 1: Implement the `__len__` Method"
      ]
    },
    {
      "cell_type": "markdown",
      "metadata": {
        "deletable": false,
        "editable": false,
        "nbgrader": {
          "checksum": "eb08bcbc77b05b158b0a1091396facfb",
          "grade": false,
          "grade_id": "cell-25d9a373c7897f33",
          "locked": true,
          "schema_version": 1,
          "solution": false
        },
        "id": "aUNE4sZjsIsQ"
      },
      "source": [
        "If you want to take the length of an object, as in \n",
        "\n",
        "    len(someobject)\n",
        "\n",
        "then `someobject` must have a `__len__` method, which should return the length. \n",
        "Implement the `__len__` method for counting queues, so that it returns the queue length (the number of elements in it, counting repeated elements as distinct). "
      ]
    },
    {
      "cell_type": "code",
      "metadata": {
        "deletable": false,
        "nbgrader": {
          "checksum": "012f3c405aa3488c3fc43d2490abd458",
          "grade": false,
          "grade_id": "cell-6f1a06d4386ac995",
          "locked": false,
          "schema_version": 1,
          "solution": true
        },
        "id": "AFVLm0oasIsR"
      },
      "source": [
        "### Exercise: implement `__len__` for a counting queue\n",
        "\n",
        "def countingqueue_len(self):\n",
        "    \"\"\"Returns the number of elements in the queue.\"\"\"\n",
        "    # YOUR CODE HERE\n",
        "    queue_list=[]\n",
        "    for i in range(len(self.queue)):\n",
        "        queue_list.extend(list(self.queue[i][0]*self.queue[i][1]))\n",
        "    return len(queue_list)\n",
        "\n",
        "# This is a way to add a method to a class once the class\n",
        "# has already been defined.\n",
        "CountingQueue.__len__ = countingqueue_len\n"
      ],
      "execution_count": 21,
      "outputs": []
    },
    {
      "cell_type": "code",
      "metadata": {
        "deletable": false,
        "editable": false,
        "nbgrader": {
          "checksum": "3b7ea80d6f0a42037651e5ee22551690",
          "grade": true,
          "grade_id": "cell-d4145db7654fd42",
          "locked": true,
          "points": 10,
          "schema_version": 1,
          "solution": false
        },
        "id": "HcIPZNuAsIsd"
      },
      "source": [
        "### Tests for `__len__`\n",
        "\n",
        "q = CountingQueue()\n",
        "for i in range(10):\n",
        "    q.add('a')\n",
        "q.add('b')\n",
        "for i in range(3):\n",
        "    q.add('c', count=2)\n",
        "check_equal(len(q), 17)\n",
        "\n"
      ],
      "execution_count": 22,
      "outputs": []
    },
    {
      "cell_type": "markdown",
      "metadata": {
        "deletable": false,
        "editable": false,
        "nbgrader": {
          "checksum": "94cca2cab137561aa4960cd21be76499",
          "grade": false,
          "grade_id": "cell-942db846f803d0ed",
          "locked": true,
          "schema_version": 1,
          "solution": false
        },
        "id": "ToY7dlctsIsm"
      },
      "source": [
        "## Question 2: implement the `__iter__` Method\n",
        "\n",
        "We would like to be able to have a way of iterating over elements in our counting queue.  \n",
        "This can be used, for instance, to print them, or to process the elements in some way. \n",
        "\n",
        "Precisely, we would like to have a way of writing, for a counting queue `q`:\n",
        "\n",
        "    for el in q:\n",
        "        print el\n",
        "\n",
        "and we would like this to print all queue elements, in order. \n",
        "\n",
        "The way to achieve this is to define an `__iter__` method that acts as a generator for the elements. "
      ]
    },
    {
      "cell_type": "code",
      "metadata": {
        "deletable": false,
        "nbgrader": {
          "checksum": "eec3766e1ec95b104ac5455cf2e2f165",
          "grade": false,
          "grade_id": "cell-1801f4443b0e3b2b",
          "locked": false,
          "schema_version": 1,
          "solution": true
        },
        "id": "qh3s3xMKsIso"
      },
      "source": [
        "### Exercise: Write an iterator for CountingQueue\n",
        "\n",
        "# Note: it can be done elegantly in 3 lines of code.\n",
        "\n",
        "def countingqueue_iter_elements(self):\n",
        "    \"\"\"Iterates through all the elements of the queue,\n",
        "    without removing them.\"\"\"\n",
        "    # YOUR CODE HERE\n",
        "    for i in range(len(self.queue)):\n",
        "        for n in range(self.queue[i][1]):\n",
        "            yield self.queue[i][0]\n",
        "\n",
        "\n",
        "CountingQueue.__iter__ = countingqueue_iter_elements\n"
      ],
      "execution_count": 53,
      "outputs": []
    },
    {
      "cell_type": "code",
      "metadata": {
        "deletable": false,
        "editable": false,
        "nbgrader": {
          "checksum": "bab534217725db64bf9cedde7c6acc7c",
          "grade": true,
          "grade_id": "cell-d0c5e12aa321b055",
          "locked": true,
          "points": 10,
          "schema_version": 1,
          "solution": false
        },
        "id": "nyDuwb2psIsx"
      },
      "source": [
        "### Tests for `CountingQueue.__iter__`\n",
        "\n",
        "q = CountingQueue()\n",
        "for i in range(10):\n",
        "    q.add('a')\n",
        "q.add('b')\n",
        "for i in range(3):\n",
        "    q.add('c', count=2)\n",
        "l1 = [x for x in q]\n",
        "l2 = []\n",
        "while not q.isempty():\n",
        "    l2.append(q.get())\n",
        "check_equal(l1, l2)\n",
        "\n"
      ],
      "execution_count": 54,
      "outputs": []
    }
  ]
}