{
  "nbformat": 4,
  "nbformat_minor": 0,
  "metadata": {
    "colab": {
      "name": "Expression_Trees_test.ipynb",
      "provenance": [],
      "collapsed_sections": []
    },
    "kernelspec": {
      "display_name": "Python 3",
      "language": "python",
      "name": "python3"
    },
    "language_info": {
      "codemirror_mode": {
        "name": "ipython",
        "version": 3
      },
      "file_extension": ".py",
      "mimetype": "text/x-python",
      "name": "python",
      "nbconvert_exporter": "python",
      "pygments_lexer": "ipython3",
      "version": "3.7.3"
    },
    "test_info": {
      "id": "e2eea3a2b6179b40daf798ea76f45f5d6b722267"
    }
  },
  "cells": [
    {
      "cell_type": "markdown",
      "metadata": {
        "id": "7rPuaxi12JJx"
      },
      "source": [
        "Before you turn this problem in, make sure everything runs as expected. First, **restart the kernel** (in the menubar, select Kernel$\\rightarrow$Restart) and then **run all cells** (in the menubar, select Cell$\\rightarrow$Run All).\n",
        "\n",
        "Make sure you fill in any place that says `YOUR CODE HERE` or \"YOUR ANSWER HERE\", as well as your name and collaborators below:"
      ]
    },
    {
      "cell_type": "code",
      "metadata": {
        "id": "NIXzDd-H2JJ2"
      },
      "source": [
        "NAME = \"Zhiqi Chen\"\n",
        "COLLABORATORS = \"\""
      ],
      "execution_count": 161,
      "outputs": []
    },
    {
      "cell_type": "markdown",
      "metadata": {
        "id": "0NBLuVqp2JKL"
      },
      "source": [
        "---"
      ]
    },
    {
      "cell_type": "markdown",
      "metadata": {
        "deletable": false,
        "editable": false,
        "nbgrader": {
          "checksum": "25175b5354bbbd7cfa83290fd26cb55c",
          "grade": false,
          "grade_id": "cell-b4ddb837b6cd125d",
          "locked": true,
          "schema_version": 1,
          "solution": false
        },
        "id": "3FIRrpKy2JKP"
      },
      "source": [
        "# Homework 7: Expression Trees\n",
        "\n",
        "Copyright Luca de Alfaro, 2019-20. \n",
        "License: [CC-BY-NC-ND](https://creativecommons.org/licenses/by-nc-nd/4.0/)."
      ]
    },
    {
      "cell_type": "markdown",
      "metadata": {
        "deletable": false,
        "editable": false,
        "nbgrader": {
          "checksum": "6d34e41c32a8683030f7d98e30bcc019",
          "grade": false,
          "grade_id": "cell-deabe6385dbf079d",
          "locked": true,
          "schema_version": 1,
          "solution": false
        },
        "id": "OaLiYyF02JKV"
      },
      "source": [
        "## Submission\n",
        "\n",
        "[Please submit to this Google Form](https://docs.google.com/forms/d/e/1FAIpQLSceVO96w9k1LOJ1hPFCeCT9mSaBtjwA8Ds0IQMHEmvrcn4dKg/viewform?usp=sf_link).\n",
        "\n",
        "Deadline: Friday November 6, 11pm (check on Canvas for updated information)."
      ]
    },
    {
      "cell_type": "markdown",
      "metadata": {
        "id": "PrAE7NuD2JKY"
      },
      "source": [
        "## The assignment\n",
        "\n",
        "There are three questions in this assignment, each labeled `Question n:`, and each followed by one or more test cells:\n",
        "\n",
        "* A question on printing out expressions in LaTeX, \n",
        "* A question on derivatives,\n",
        "* A question on checking expression equality."
      ]
    },
    {
      "cell_type": "markdown",
      "metadata": {
        "deletable": false,
        "editable": false,
        "nbgrader": {
          "checksum": "f34d3d7cd714483ea63dd4ecd99d6b1a",
          "grade": false,
          "grade_id": "cell-1eef897c16ae7c5c",
          "locked": true,
          "schema_version": 1,
          "solution": false
        },
        "id": "n4e7ZRz_2JKb"
      },
      "source": [
        "We will develop a data structure to represent arithmetic expressions containing variables, such as $3 + 4$ or $2 + x * (1 - y)$.  \n",
        "\n",
        "What is an expression?  An expression consists of one of these: \n",
        "\n",
        "\n",
        "1. A number\n",
        "2. A variable\n",
        "3. If $e_1$ and $e_2$ are expressions, then $e_1 + e_2$, $e_1 - e_2$, $e_1 * e_2$, and $e_1 / e_2$ are also expressions. \n",
        "\n",
        "Formally, the set of expressions is the _least_ set constructed according to the rules above. \n",
        "\n",
        "Thus, an expression can be either a constant, representing numbers and variables, or a composite expression, consisting of an operator, a left expression, and a right expression.  \n"
      ]
    },
    {
      "cell_type": "markdown",
      "metadata": {
        "deletable": false,
        "editable": false,
        "nbgrader": {
          "checksum": "4f03ae847ff88ef66263b98715a6ea48",
          "grade": false,
          "grade_id": "cell-367a6ba7ae8ce08",
          "locked": true,
          "schema_version": 1,
          "solution": false
        },
        "id": "2-eBM7Ec2JKd"
      },
      "source": [
        "There are (at least) two ways of representing expressions. The simplest way is to represent expressions as trees, and define operations on them. \n",
        "The more sophisticated way consists in representing expressions via classes: there will be one class for variable and constants, and one class representing composite expressions; both of these classes will be subclasses of a generic \"expression\" class. \n",
        "\n",
        "In this chapter, we will represent expression as trees, to gain experience with writing recursive functions on trees; in the next chapter, we will show how to represent them more elegantly as classes."
      ]
    },
    {
      "cell_type": "markdown",
      "metadata": {
        "deletable": false,
        "editable": false,
        "nbgrader": {
          "checksum": "97744fff2401606b8a3764cbcb14370a",
          "grade": false,
          "grade_id": "cell-4f9963e65bfa7f24",
          "locked": true,
          "schema_version": 1,
          "solution": false
        },
        "id": "kcC-ix0Y2JKh"
      },
      "source": [
        "We will represent expressions as trees.  A number will be represented via a number; a variable via a string, and the expression $e_1 \\odot e_2$ via the tuple $(\\odot, e_1, e_2)$, for $\\odot \\in \\{+, -, *, / \\}$.\n",
        "\n",
        "For example, we will represent $2 * (x + 1)$ via:\n",
        "\n",
        "    ('*', 2, ('+', 'x', 1))"
      ]
    },
    {
      "cell_type": "code",
      "metadata": {
        "deletable": false,
        "editable": false,
        "nbgrader": {
          "checksum": "ff9dd21c9b5cebc05a51dddf8f0c3372",
          "grade": false,
          "grade_id": "cell-b2d84e2d75b1834b",
          "locked": true,
          "schema_version": 1,
          "solution": false
        },
        "id": "gs7jQ_5G2JKj"
      },
      "source": [
        "e = ('*', 2, ('+', 'x', 1))\n"
      ],
      "execution_count": 162,
      "outputs": []
    },
    {
      "cell_type": "markdown",
      "metadata": {
        "deletable": false,
        "editable": false,
        "nbgrader": {
          "checksum": "90f23d4be6fd84cbf132b2497f87f84f",
          "grade": false,
          "grade_id": "cell-0ef73bcc5b3c9143",
          "locked": true,
          "schema_version": 1,
          "solution": false
        },
        "id": "3k9c_sh_2JKx"
      },
      "source": [
        "Let us define a check function, in preparation for our first question."
      ]
    },
    {
      "cell_type": "code",
      "metadata": {
        "deletable": false,
        "editable": false,
        "nbgrader": {
          "checksum": "3a4da5274c6f62d706e62940d7ccf319",
          "grade": false,
          "grade_id": "cell-cb08bfd0538a01cb",
          "locked": true,
          "schema_version": 1,
          "solution": false
        },
        "id": "e_u1fs022JK2"
      },
      "source": [
        "def check_equal(x, y, msg=None):\n",
        "    if x != y:\n",
        "        if msg is None:\n",
        "            print(\"Error:\")\n",
        "        else:\n",
        "            print(\"Error in\", msg, \":\")\n",
        "        print(\"    Your answer was:\", x)\n",
        "        print(\"    Correct answer: \", y)\n",
        "    assert x == y, \"%r and %r are different\" % (x, y)\n",
        "    print(\"Success\")"
      ],
      "execution_count": 163,
      "outputs": []
    },
    {
      "cell_type": "markdown",
      "metadata": {
        "deletable": false,
        "editable": false,
        "nbgrader": {
          "checksum": "b8c5993f5da061acf7ba9254fe05cc41",
          "grade": false,
          "grade_id": "cell-4aaaa507299e3412",
          "locked": true,
          "schema_version": 1,
          "solution": false
        },
        "id": "pDFxTCZ02JK_"
      },
      "source": [
        "## Question 1: Printing an expression in LaTeX format\n",
        "\n",
        "Our first question asks you to write a function `expr_to_latex` so that, for an expression `e`, `expr_to_latex(e)` will produce a string which is the LaTeX representation of the expression `e`. \n",
        "This sounds complicated, but the rules are simple: \n",
        "\n",
        "* Numbers and variable names are simply converted to strings (you can use str()). \n",
        "* If e = (op, e1, e2), then you compute the strings s1 and s2 representing e1 and e2 via a recursive call.\n",
        "* If op is one of `\"+\"`, `\"-\"`, `\"*\"`, you proceed as follows: \n",
        "    \n",
        "    * Enclose s1 in parentheses if: \n",
        "        \n",
        "        e1 is not a leaf, and its operator is not `\"/\"`\n",
        "        \n",
        "      To enclose s1 in parentheses, do: `s1 = \"(\" + s1 + \")\"`;\n",
        "    * Same for e2;\n",
        "    * Finally, you output s1 + op + s2, where op is one of `+`, `-`, `*`. \n",
        "* If you have e1 / e2, you output `\\frac{s1}{s2}`.\n",
        "\n",
        "To test whether parentheses are needed, for an expression e1, you can use this code: \n",
        "\n",
        "    if isinstance(e1, tuple) and e1[0] != '/':\n",
        "\n",
        "Some examples will help: \n",
        "\n",
        "If the expression is\n",
        "\n",
        "    (\"+\", 3, \"x\")\n",
        "    \n",
        "the latex output is simply `\"3+x\"`.  If the expression is \n",
        "\n",
        "    (\"+\", 3, (\"*\", 2, \"x\"))\n",
        "\n",
        "you should output \n",
        "\n",
        "    \"3+(2*x)\"\n",
        "    \n",
        "where the parentheses have been added because the expression `(\"*\", 2, \"x\")` is not a leaf. \n",
        "If the expression is \n",
        "\n",
        "    (\"/\", (\"+\", 3, (\"*\", 2, \"x\")), (\"+\", 1, \"x\"))\n",
        "    \n",
        "you should output: \n",
        "\n",
        "    \\frac{3+(2*x)}{1+x}\n",
        "    "
      ]
    },
    {
      "cell_type": "markdown",
      "metadata": {
        "id": "0NERFEKE2JLD"
      },
      "source": [
        "One word of caution about Python strings.  To include a `\\` in a string, you have to quote it, as in `\"\\\\\"`. \n",
        "So to generate the string `\\frac`, you have to actually write `\"\\\\frac\"` in your code. "
      ]
    },
    {
      "cell_type": "code",
      "metadata": {
        "deletable": false,
        "nbgrader": {
          "checksum": "94517672f088a185c064b0b22df0f450",
          "grade": false,
          "grade_id": "cell-3fc0f1961983e06f",
          "locked": false,
          "schema_version": 1,
          "solution": true
        },
        "id": "9-71e8Tt2JLF"
      },
      "source": [
        "### Question 1: define expr_to_latex\n",
        "\n",
        "def expr_to_latex(e):\n",
        "    # YOUR CODE HERE\n",
        "    if type(e)==tuple:\n",
        "        op,e1,e2=e\n",
        "        s1=expr_to_latex(e1)\n",
        "        s2=expr_to_latex(e2)\n",
        "        if op=='/':\n",
        "            return \"\\\\frac\"+\"{\"+s1+\"}\"+\"{\"+s2+\"}\"\n",
        "        else:\n",
        "            if isinstance(e1,tuple) and e1[0]!='/':\n",
        "                s1=\"(\"+s1+\")\"\n",
        "            if isinstance(e2,tuple) and e2[0]!='/':\n",
        "                s2=\"(\"+s2+\")\"\n",
        "            return s1+op+s2        \n",
        "    else:\n",
        "        return str(e)\n",
        "\n",
        "        \n",
        "            \n",
        "        \n",
        "\n",
        "    "
      ],
      "execution_count": 164,
      "outputs": []
    },
    {
      "cell_type": "code",
      "metadata": {
        "deletable": false,
        "editable": false,
        "nbgrader": {
          "checksum": "42d641399cbca3dabc52107784e7ac2b",
          "grade": true,
          "grade_id": "cell-7ab5a60722b73c1f",
          "locked": true,
          "points": 5,
          "schema_version": 1,
          "solution": false
        },
        "id": "9PHC-_WH2JLO",
        "outputId": "c9b5c6a8-8ccf-406f-f5c9-f6d913e24044",
        "colab": {
          "base_uri": "https://localhost:8080/"
        }
      },
      "source": [
        "### Question 1, part 1: 5 points: tests for leaves. \n",
        "\n",
        "check_equal(expr_to_latex(3), \"3\")\n",
        "check_equal(expr_to_latex(\"x\"), \"x\")\n"
      ],
      "execution_count": 165,
      "outputs": [
        {
          "output_type": "stream",
          "text": [
            "Success\n",
            "Success\n"
          ],
          "name": "stdout"
        }
      ]
    },
    {
      "cell_type": "code",
      "metadata": {
        "deletable": false,
        "editable": false,
        "nbgrader": {
          "checksum": "e18f519d05031591a39114157c7053c4",
          "grade": true,
          "grade_id": "cell-5ff30fed1e5a2476",
          "locked": true,
          "points": 5,
          "schema_version": 1,
          "solution": false
        },
        "id": "akatCK-f2JLV",
        "outputId": "322e8810-eb6f-4341-a52e-577a83211cb4",
        "colab": {
          "base_uri": "https://localhost:8080/"
        }
      },
      "source": [
        "### Question 1, part 2: 5 points: simple expressions. \n",
        "e = (\"+\", 3, \"x\")\n",
        "check_equal(expr_to_latex(e), \"3+x\")\n",
        "e = (\"-\", \"y\", \"x\")\n",
        "check_equal(expr_to_latex(e), \"y-x\")\n",
        "e = (\"*\", \"y\", \"2\")\n",
        "check_equal(expr_to_latex(e), \"y*2\")\n",
        "e = (\"/\", \"y\", \"2\")\n",
        "check_equal(expr_to_latex(e), \"\\\\frac{y}{2}\")\n"
      ],
      "execution_count": 166,
      "outputs": [
        {
          "output_type": "stream",
          "text": [
            "Success\n",
            "Success\n",
            "Success\n",
            "Success\n"
          ],
          "name": "stdout"
        }
      ]
    },
    {
      "cell_type": "code",
      "metadata": {
        "deletable": false,
        "editable": false,
        "nbgrader": {
          "checksum": "84ffe941a1d0c8d7d11493dedcc7af04",
          "grade": true,
          "grade_id": "cell-43ab997efe4ac674",
          "locked": true,
          "points": 5,
          "schema_version": 1,
          "solution": false
        },
        "id": "C9X4TEKX2JLl",
        "outputId": "2155c475-5579-42e8-d7b6-5aabaa1217d2",
        "colab": {
          "base_uri": "https://localhost:8080/"
        }
      },
      "source": [
        "### Question 1, part 3: 5 points: when to use parentheses.\n",
        "e = (\"*\", (\"+\", 1, \"x\"), (\"-\", 3, \"y\"))\n",
        "check_equal(expr_to_latex(e), \"(1+x)*(3-y)\")\n",
        "e = (\"*\", (\"+\", 1, \"x\"), \"z\")\n",
        "check_equal(expr_to_latex(e), \"(1+x)*z\")\n"
      ],
      "execution_count": 167,
      "outputs": [
        {
          "output_type": "stream",
          "text": [
            "Success\n",
            "Success\n"
          ],
          "name": "stdout"
        }
      ]
    },
    {
      "cell_type": "code",
      "metadata": {
        "deletable": false,
        "editable": false,
        "nbgrader": {
          "checksum": "33002762cb9c4f8aa975634cfdb4b199",
          "grade": true,
          "grade_id": "cell-0f373d9147e43eb7",
          "locked": true,
          "points": 10,
          "schema_version": 1,
          "solution": false
        },
        "id": "kB8QH7Un2JLu",
        "outputId": "574f795e-7fc0-43f1-e5a7-b297ba9f9b17",
        "colab": {
          "base_uri": "https://localhost:8080/"
        }
      },
      "source": [
        "### Question 1, part 4, 10 points: general expressions.\n",
        "\n",
        "e = (\"*\", (\"+\", 1, \"x\"), (\"-\", (\"*\", \"x\", \"y\"), \"y\"))\n",
        "check_equal(expr_to_latex(e), \"(1+x)*((x*y)-y)\")\n",
        "e = (\"*\", (\"/\", (\"*\", 3, \"y\"), \"x\"), (\"-\", (\"*\", \"x\", \"y\"), \"y\"))\n",
        "check_equal(expr_to_latex(e), \"\\\\frac{3*y}{x}*((x*y)-y)\")\n"
      ],
      "execution_count": 168,
      "outputs": [
        {
          "output_type": "stream",
          "text": [
            "Success\n",
            "Success\n"
          ],
          "name": "stdout"
        }
      ]
    },
    {
      "cell_type": "markdown",
      "metadata": {
        "id": "FVO7-_UZ2JLz"
      },
      "source": [
        "Note that with a tiny bit of work, we can really use `expr_to_latex` to output expressions in LaTeX for us: "
      ]
    },
    {
      "cell_type": "code",
      "metadata": {
        "deletable": false,
        "editable": false,
        "nbgrader": {
          "checksum": "a1f396d52d26fe61485b1e7df09447bd",
          "grade": false,
          "grade_id": "cell-11368c67a32cc59e",
          "locked": true,
          "schema_version": 1,
          "solution": false
        },
        "id": "ohvRYAfR2JL0"
      },
      "source": [
        "from IPython.display import display, Math\n",
        "\n",
        "def niceprint(e):\n",
        "    display(Math(expr_to_latex(e)))"
      ],
      "execution_count": 169,
      "outputs": []
    },
    {
      "cell_type": "code",
      "metadata": {
        "deletable": false,
        "editable": false,
        "nbgrader": {
          "checksum": "6c797f48bf6099d70d37f97d8540440c",
          "grade": false,
          "grade_id": "cell-fff7359372afd1ba",
          "locked": true,
          "schema_version": 1,
          "solution": false
        },
        "id": "jt-aUjFp2JL6",
        "outputId": "b1863e09-1b9f-47ef-e117-8b916d682ba3",
        "colab": {
          "base_uri": "https://localhost:8080/",
          "height": 40
        }
      },
      "source": [
        "niceprint((\"/\", (\"+\", 3, (\"*\", 2, \"x\")), (\"+\", 1, \"x\")))"
      ],
      "execution_count": 170,
      "outputs": [
        {
          "output_type": "display_data",
          "data": {
            "text/latex": "$$\\frac{3+(2*x)}{1+x}$$",
            "text/plain": [
              "<IPython.core.display.Math object>"
            ]
          },
          "metadata": {
            "tags": []
          }
        }
      ]
    },
    {
      "cell_type": "code",
      "metadata": {
        "deletable": false,
        "editable": false,
        "nbgrader": {
          "checksum": "80e0309c7277b54a06a11e68f521cb91",
          "grade": false,
          "grade_id": "cell-a011496823ce8758",
          "locked": true,
          "schema_version": 1,
          "solution": false
        },
        "id": "MPdXQOwR2JL-",
        "outputId": "98590cf8-a3c0-4575-bd2e-6935be0312e2",
        "colab": {
          "base_uri": "https://localhost:8080/",
          "height": 38
        }
      },
      "source": [
        "e = (\"*\", (\"/\", (\"*\", 3, \"y\"), \"x\"), (\"-\", (\"*\", \"x\", \"y\"), \"y\"))\n",
        "niceprint(e)"
      ],
      "execution_count": 171,
      "outputs": [
        {
          "output_type": "display_data",
          "data": {
            "text/latex": "$$\\frac{3*y}{x}*((x*y)-y)$$",
            "text/plain": [
              "<IPython.core.display.Math object>"
            ]
          },
          "metadata": {
            "tags": []
          }
        }
      ]
    },
    {
      "cell_type": "markdown",
      "metadata": {
        "deletable": false,
        "editable": false,
        "nbgrader": {
          "checksum": "b75a07d4c721519e9cc416f8cb8b7914",
          "grade": false,
          "grade_id": "cell-868f33d1e4fe2bf9",
          "locked": true,
          "schema_version": 1,
          "solution": false
        },
        "id": "ozyToxW12JMD"
      },
      "source": [
        "Of course, optimizing the beauty of the output, so that the above is rendered as: \n",
        "\n",
        "$$\n",
        "    \\frac{3 + 2x}{1 + x}\n",
        "$$\n",
        "\n",
        "would require a tiny bit more work.  For instance, we could decide to include the `*` operation only when both left and right subexpressions are numbers.  We should also then convert $x2$ into $2x$... many optimizations are possible.  But we got the basics done. "
      ]
    },
    {
      "cell_type": "markdown",
      "metadata": {
        "deletable": false,
        "editable": false,
        "nbgrader": {
          "checksum": "eba223984df1c3f89a3311380f02170c",
          "grade": false,
          "grade_id": "cell-cd57f8e787d2c0ab",
          "locked": true,
          "schema_version": 1,
          "solution": false
        },
        "id": "mXf_0vJ92JME"
      },
      "source": [
        "### Evaluating expressions with respect to a variable valuation.\n",
        "\n",
        "Let us define a compute function that evaluates an expression with the help of a _variable valuation_.\n",
        "The idea is that if we specify values for variables, we can then use those values in computing the value of an expression. \n",
        "A _variable valuation_ is a mapping from variables to their values; we can represent it simply as a dictionary associating to each variable a number:"
      ]
    },
    {
      "cell_type": "code",
      "metadata": {
        "deletable": false,
        "editable": false,
        "nbgrader": {
          "checksum": "41bb18f715bee581a1e25db27f78bec7",
          "grade": false,
          "grade_id": "cell-e1f68fbf442ed878",
          "locked": true,
          "schema_version": 1,
          "solution": false
        },
        "id": "0Sz9YwTw2JMF"
      },
      "source": [
        "varval = {'x': 3, 'y': 8}\n"
      ],
      "execution_count": 172,
      "outputs": []
    },
    {
      "cell_type": "markdown",
      "metadata": {
        "deletable": false,
        "editable": false,
        "nbgrader": {
          "checksum": "caece26db724b43461d6b24965bf6b93",
          "grade": false,
          "grade_id": "cell-667fe03b0a2c79d4",
          "locked": true,
          "schema_version": 1,
          "solution": false
        },
        "id": "NT1rO2lk2JML"
      },
      "source": [
        "\n",
        "We can compute the value of expressions given a variable valuation as follows: "
      ]
    },
    {
      "cell_type": "code",
      "metadata": {
        "deletable": false,
        "editable": false,
        "nbgrader": {
          "checksum": "ee9132de93ed35550196c2d7d115c198",
          "grade": false,
          "grade_id": "cell-43a8338c007883e8",
          "locked": true,
          "schema_version": 1,
          "solution": false
        },
        "id": "cQOFvv0X2JMM"
      },
      "source": [
        "from numbers import Number\n",
        "\n",
        "def compute(e, varval={}):\n",
        "    if isinstance(e, Number):\n",
        "        return e\n",
        "    elif isinstance(e, str):\n",
        "        v = varval.get(e)\n",
        "        # If we find a value for e, we return it; otherwise we return e.\n",
        "        return e if v is None else v\n",
        "    else:\n",
        "        op, l, r = e\n",
        "        # We simplify the left and right subexpressions first.\n",
        "        ll = compute(l, varval=varval)\n",
        "        rr = compute(r, varval=varval)\n",
        "        # And we carry out the operation if we can.\n",
        "        if isinstance(ll, Number) and isinstance(rr, Number):\n",
        "            if op == '+':\n",
        "                return ll + rr\n",
        "            elif op == '-':\n",
        "                return ll - rr\n",
        "            elif op == '*':\n",
        "                return ll * rr\n",
        "            elif op == '/' and rr != 0:\n",
        "                return ll / rr\n",
        "        # Not simplifiable.\n",
        "        return (op, ll, rr)\n"
      ],
      "execution_count": 173,
      "outputs": []
    },
    {
      "cell_type": "code",
      "metadata": {
        "deletable": false,
        "editable": false,
        "nbgrader": {
          "checksum": "5f306db541eb6b4bfc24bc262b283eb5",
          "grade": false,
          "grade_id": "cell-e44dc70d255c0498",
          "locked": true,
          "schema_version": 1,
          "solution": false
        },
        "id": "MIW8WUp92JMQ",
        "outputId": "89e6329f-5e20-45a2-f402-11de3cdab683",
        "colab": {
          "base_uri": "https://localhost:8080/"
        }
      },
      "source": [
        "e = ('*', 2, ('+', 'x', ('-', 3, 2)))\n",
        "print(compute(e))\n",
        "print(compute(e, varval={'x': 6}))\n"
      ],
      "execution_count": 174,
      "outputs": [
        {
          "output_type": "stream",
          "text": [
            "('*', 2, ('+', 'x', 1))\n",
            "14\n"
          ],
          "name": "stdout"
        }
      ]
    },
    {
      "cell_type": "markdown",
      "metadata": {
        "deletable": false,
        "editable": false,
        "nbgrader": {
          "checksum": "62af2b415d00dd198bf8a324006084f0",
          "grade": false,
          "grade_id": "cell-2dcf2cbfdf1de6f7",
          "locked": true,
          "schema_version": 1,
          "solution": false
        },
        "id": "pkIZqI542JMV"
      },
      "source": [
        "If we provide the values for only some of the variables, the compute function defined above, will plug in the values for those variables and perform all computations possible.  Of course, if the expression contains variables for which the valuation does not specify a value, the resulting expression will still contain those variables: it will not be simply a number.  In computer science, evaluating an expression as far as possible using the values for a subset of the variables is knwon as _partial evaluation_."
      ]
    },
    {
      "cell_type": "code",
      "metadata": {
        "deletable": false,
        "editable": false,
        "nbgrader": {
          "checksum": "978e2a79291eb9763cce526d534c4309",
          "grade": false,
          "grade_id": "cell-a4ce0e9f9025ba7c",
          "locked": true,
          "schema_version": 1,
          "solution": false
        },
        "id": "UfZFrHbE2JMY",
        "outputId": "e9d8964c-4192-4fe3-fbdc-3e6a347afc7e",
        "colab": {
          "base_uri": "https://localhost:8080/"
        }
      },
      "source": [
        "e = ('+', ('-', 'y', 3), ('*', 'x', 4))\n",
        "print(compute(e, varval={'x': 2}))\n",
        "print(compute(e, varval={'y': 3}))\n",
        "print(compute(e, varval={'x': 2, 'y': 3}))\n"
      ],
      "execution_count": 175,
      "outputs": [
        {
          "output_type": "stream",
          "text": [
            "('+', ('-', 'y', 3), 8)\n",
            "('+', 0, ('*', 'x', 4))\n",
            "8\n"
          ],
          "name": "stdout"
        }
      ]
    },
    {
      "cell_type": "markdown",
      "metadata": {
        "deletable": false,
        "editable": false,
        "nbgrader": {
          "checksum": "1b31b52d966af3acdedc1c8e336bdbd6",
          "grade": false,
          "grade_id": "cell-9e3cfd594a6086d3",
          "locked": true,
          "schema_version": 1,
          "solution": false
        },
        "id": "PAKRCnZH2JMc"
      },
      "source": [
        "## Question 2: Compute symbolic derivatives\n",
        "\n",
        "As we have symbolic expressions, we can compute their (partial) derivative with respect to any variable.  Given an expression $e$ and a variable $x$, we denote by $\\partial e / \\partial x$ the partial derivative of $e$ with respect to $x$.  To compute it, we can simply rely on the definition of derivative. \n",
        "For leaf nodes in the expression tree:\n",
        "\n",
        "* For a constant $c$, $\\partial c / \\partial x = 0$.\n",
        "* For a variable $y \\neq x$,  $\\partial y / \\partial x = 0$.\n",
        "* $\\partial x / \\partial x = 1$.\n",
        "\n",
        "For operators, we can use:\n",
        "\n",
        "$$\n",
        " \\begin{align*}\n",
        " \\frac{\\partial}{\\partial x}(f \\pm g) & = \\frac{\\partial f}{\\partial x} \\pm \\frac  {\\partial g}{\\partial x}, \\\\[1ex]\n",
        " \\frac{\\partial}{\\partial x}(f \\cdot g) & = g \\cdot \\frac{\\partial f}{\\partial x}  + f \\cdot \\frac{\\partial g}{\\partial x}, \\\\[1ex]\n",
        " \\frac{\\partial}{\\partial x}\\left(\\frac{f}{g}\\right) & = \\frac{g \\cdot \\frac\n",
        "  {\\partial f}{\\partial x} - f \\cdot \\frac{\\partial g}{\\partial x}}{g^2}. \n",
        "\\end{align*}\n",
        "$$\n",
        "\n",
        "This directly suggest how to implement the symbolic computation of derivatives."
      ]
    },
    {
      "cell_type": "markdown",
      "metadata": {
        "deletable": false,
        "editable": false,
        "nbgrader": {
          "checksum": "03297aff87bcd5f74d2a765a6240e485",
          "grade": false,
          "grade_id": "cell-6bf1e08d3f001365",
          "locked": true,
          "schema_version": 1,
          "solution": false
        },
        "id": "qUwrE__p2JMd"
      },
      "source": [
        "Write a function `derivate` that, given an expression $e$ and a variable $x$, returns an expression for $\\partial e / \\partial x$.  Please, write it according to the above rules, including order of terms in products.  For instance, use\n",
        "\n",
        "$$ \n",
        "\\frac{\\partial}{\\partial x}(f \\cdot g) = g \\cdot \\frac{\\partial f}{\\partial x}  + f \\cdot \\frac{\\partial g}{\\partial x}\n",
        "$$\n",
        "rather than \n",
        "$$ \n",
        "\\frac{\\partial}{\\partial x}(f \\cdot g) = \\frac{\\partial f}{\\partial x} \\cdot g + f \\cdot \\frac{\\partial g}{\\partial x}\n",
        "$$\n",
        "\n",
        "While the two expressions are equivalent, our tests (so far!) can only check for _identical_, not _equivalent_, expressions."
      ]
    },
    {
      "cell_type": "code",
      "metadata": {
        "deletable": false,
        "nbgrader": {
          "checksum": "04d49921fa33289438c8d6fd54bc135b",
          "grade": false,
          "grade_id": "cell-3a3d0562ca39237",
          "locked": false,
          "schema_version": 1,
          "solution": true
        },
        "id": "q7bQKbEX2JMe"
      },
      "source": [
        "### Implement `derivate`\n",
        "\n",
        "def derivate(e, x):\n",
        "    \"\"\"Returns the derivative of e wrt x.\n",
        "    It can be done in less than 15 lines of code.\"\"\"\n",
        "    # YOUR CODE HERE\n",
        "    if type(e)!=tuple:\n",
        "        if e==x:\n",
        "            return 1\n",
        "        else:\n",
        "            return 0\n",
        "    else:\n",
        "        op,e1,e2=e\n",
        "        d1=derivate(e1,x)\n",
        "        d2=derivate(e2,x)\n",
        "        if op=='+' or op=='-':\n",
        "            return (op,d1,d2)\n",
        "        if op=='*' or op=='/':\n",
        "            if op=='*':\n",
        "                f1=(op,e2,d1)\n",
        "                f2=(op,e1,d2) \n",
        "                return ('+',f1,f2)\n",
        "            elif op=='/':\n",
        "                s1=('*',e2,d1)\n",
        "                s2=('*',e1,d2)\n",
        "                f1=('-',s1,s2)\n",
        "                f2=('*',e2,e2)\n",
        "                return (op,f1,f2)\n",
        "\n"
      ],
      "execution_count": 176,
      "outputs": []
    },
    {
      "cell_type": "code",
      "metadata": {
        "deletable": false,
        "editable": false,
        "nbgrader": {
          "checksum": "2a874ac2935a17ffe44d3376b3367241",
          "grade": true,
          "grade_id": "cell-d02a199429cfa96b",
          "locked": true,
          "points": 5,
          "schema_version": 1,
          "solution": false
        },
        "id": "QnE8KecJ2JMi",
        "outputId": "ad4d5fd7-4598-4ad7-f436-c894bba206f9",
        "colab": {
          "base_uri": "https://localhost:8080/"
        }
      },
      "source": [
        "### Question 2, part 1: 5 points. \n",
        "# Base case tests for `derivate`\n",
        "\n",
        "# First, the basics.\n",
        "check_equal(derivate(3, 'x'), 0)\n",
        "check_equal(derivate('y', 'x'), 0)\n",
        "check_equal(derivate('x', 'x'), 1)\n",
        "\n"
      ],
      "execution_count": 177,
      "outputs": [
        {
          "output_type": "stream",
          "text": [
            "Success\n",
            "Success\n",
            "Success\n"
          ],
          "name": "stdout"
        }
      ]
    },
    {
      "cell_type": "code",
      "metadata": {
        "deletable": false,
        "editable": false,
        "nbgrader": {
          "checksum": "fd1ca58169321e67221d942dcf04b161",
          "grade": true,
          "grade_id": "cell-70988a871dd2b28a",
          "locked": true,
          "points": 5,
          "schema_version": 1,
          "solution": false
        },
        "id": "QpOb_afC2JMo",
        "outputId": "3b4f2b25-de50-429b-c9c1-6a51431bff3f",
        "colab": {
          "base_uri": "https://localhost:8080/"
        }
      },
      "source": [
        "### Question 2, part 2: 5 points. \n",
        "### Tests for `derivate` for single-operator expressions\n",
        "\n",
        "check_equal(derivate(('+', 'x', 'x'), 'x'), ('+', 1, 1))\n",
        "check_equal(derivate(('-', 4, 'x'), 'x'), ('-', 0, 1))\n",
        "check_equal(derivate(('*', 2, 'x'), 'x'),\n",
        "             ('+', ('*', 'x', 0), ('*', 2, 1)))\n",
        "check_equal(derivate(('/', 2, 'x'), 'x'),\n",
        "             ('/', ('-', ('*', 'x', 0), ('*', 2, 1)), ('*', 'x', 'x')))\n",
        "\n"
      ],
      "execution_count": 178,
      "outputs": [
        {
          "output_type": "stream",
          "text": [
            "Success\n",
            "Success\n",
            "Success\n",
            "Success\n"
          ],
          "name": "stdout"
        }
      ]
    },
    {
      "cell_type": "code",
      "metadata": {
        "deletable": false,
        "editable": false,
        "nbgrader": {
          "checksum": "6f6ad061b5398ccb90e5c508cecde17f",
          "grade": true,
          "grade_id": "cell-7b9aadcd1ccc31be",
          "locked": true,
          "points": 5,
          "schema_version": 1,
          "solution": false
        },
        "id": "rMhM7HQF2JMt",
        "outputId": "ae09cfbe-7da7-4056-e208-231541cf0fe1",
        "colab": {
          "base_uri": "https://localhost:8080/"
        }
      },
      "source": [
        "### Question 2, part 3: 5 points. \n",
        "### Tests for `derivate` for composite expressions\n",
        "\n",
        "e1 = ('*', 'x', 'x')\n",
        "e2 = ('*', 3, 'x')\n",
        "num = ('-', e1, e2)\n",
        "e3 = ('*', 'a', 'x')\n",
        "den = ('+', e1, e3)\n",
        "e = ('/', num, den)\n",
        "\n",
        "f = ('/',\n",
        " ('-',\n",
        "  ('*',\n",
        "   ('+', ('*', 'x', 'x'), ('*', 'a', 'x')),\n",
        "   ('-',\n",
        "    ('+', ('*', 'x', 1), ('*', 'x', 1)),\n",
        "    ('+', ('*', 'x', 0), ('*', 3, 1)))),\n",
        "  ('*',\n",
        "   ('-', ('*', 'x', 'x'), ('*', 3, 'x')),\n",
        "   ('+',\n",
        "    ('+', ('*', 'x', 1), ('*', 'x', 1)),\n",
        "    ('+', ('*', 'x', 0), ('*', 'a', 1))))),\n",
        " ('*',\n",
        "  ('+', ('*', 'x', 'x'), ('*', 'a', 'x')),\n",
        "  ('+', ('*', 'x', 'x'), ('*', 'a', 'x'))))\n",
        "\n",
        "check_equal(derivate(e, 'x'), f)\n",
        "\n"
      ],
      "execution_count": 179,
      "outputs": [
        {
          "output_type": "stream",
          "text": [
            "Success\n"
          ],
          "name": "stdout"
        }
      ]
    },
    {
      "cell_type": "markdown",
      "metadata": {
        "deletable": false,
        "editable": false,
        "nbgrader": {
          "checksum": "970141976c5031d9029dcaaf05e6183a",
          "grade": false,
          "grade_id": "cell-c7394b7605439fbc",
          "locked": true,
          "schema_version": 1,
          "solution": false
        },
        "id": "TfflBNx92JMx"
      },
      "source": [
        "### Distributive property\n",
        "\n",
        "**Exercise:** Implement the `apply_distributive_property` function, which applies the distributive property to an expression to push down multiplication to the leaves as far as possible.  The function should apply, recursively, the following transformations: \n",
        "\n",
        "$$\n",
        "f (g \\pm h) \\Rightarrow fg \\pm fh \\qquad\n",
        "(f \\pm g) h \\Rightarrow fh \\pm fg\n",
        "$$\n",
        "\n",
        "until the multiplications cannot be moved down further in the expression tree.\n",
        "\n",
        "_Hint:_ Model the implementation after the one of `to_fraction`, but use the rules for distributivity above instead of the ones given there.  The implementation is somewhat more complex, and can be done as follows. \n",
        "\n",
        "If you have $e = e_1 \\odot e_2$, you first must apply distributivity to $e_1$ and $e_2$, obtaining $e'_1$ and $e'_2$.  If $\\odot \\neq *$, then you can just return $e'_1 \\odot e'_2$. If $\\odot = *$, then you must consider whether $e'_1$ or $e'_2$ has the form $g_1 \\pm g_2$.  Assume $e'_2$ does.  This means your expression is $e'_1 * (g_1 \\pm g_2)$, and you need to apply distributivity:\n",
        "\n",
        "$$\n",
        "e'_1 * (g_1 \\pm g_2) \\Rightarrow (e'_1 * g_1) \\pm (e'_1 * g_2)\n",
        "$$\n",
        "\n",
        "The trick is that _after_ you apply distributivity and obtain $(e'_1 * g_1) \\pm (e'_1 * g_2)$, you must _again_ apply distributivity to both\n",
        "\n",
        "$$\n",
        "(e'_1 * g_1), \\qquad (e'_1 * g_2)\n",
        "$$\n",
        "\n",
        "obtaining $f_1, f_2$, respectively.  This step is necessary because $(e'_1 * g_1)$ now has $*$ as top operator, and you may need to \"push it down\" using distributivity, obtaining $f_1$; similarly for $(e'_1 * g_2)$.   Finally, you can return $f_1 \\pm f_2$. \n"
      ]
    },
    {
      "cell_type": "markdown",
      "metadata": {
        "deletable": false,
        "editable": false,
        "nbgrader": {
          "checksum": "18d77bd6fee079b32c2f914382fa007d",
          "grade": false,
          "grade_id": "cell-e7ee97d41d255e09",
          "locked": true,
          "schema_version": 1,
          "solution": false
        },
        "id": "DluMnyYP2JMy"
      },
      "source": [
        "## Question 3: expression equality\n",
        "\n",
        "We now consider the following problem: given two expressions $e$ and $f$, how can we decide whether they are equal in value, that is, whether they yield always the same value for all values of the variables? \n",
        "\n",
        "This _\"value equality\"_ is a different notion from the structural equality we defined before.  For instance, the two expressions `V('x') + 1` and `2 * V('x') + 1 - V('x')` are not structurally equal, but they are equal in values.  \n",
        "\n",
        "How can we test for value equality of expressions?  There are two ways: the high road one, and the pirate one.  \n",
        "\n",
        "The high-road approach consists in trying to demonstrate, in some way, that the two expressions are equal.  One way of doing so would be to define a set of [rewriting rules](https://en.wikipedia.org/wiki/Rewriting) for expressions, that try to transform one expression into the other; this would mimick the process often done by hand to show that two expressions are equal.  Another way would be to use theorem provers that can reason about expressions and real numbers, such as [PVS](https://pvs.csl.sri.com).  The problem is that these approaches are a lot of work.  Is there a way to be lazy, and still get the job done? \n",
        "\n",
        "There is, it turns out.  Suppose you have two expressions $f, g$ containing variable $x$ only.  The idea is that if $f$ and $g$ are built with the usual operators of algebra, it is exceedingly unlikely for $f$ and $g$ to give the same value  many values of $x$, and yet not be always equal.  This would not be true if our expressions could contain if-then-else statements, but for the operators we defined so far, it holds.  Indeed, one could be more precise, and try to come up with a theorem of the form: \n",
        "\n",
        "> If $f$ and $g$ have \"zerosity\" $n$, and are equal for $n+1$ values of $x$, then they are equal for all values of $x$. \n",
        "\n",
        "We could then try to define the \"zerosity\" of an expression to make this hold: for example, for two polynomials of degree at most $d$, once you show that they are equal for $d+1$ points, they must be equal everywhere ([why?](https://en.wikipedia.org/wiki/Fundamental_theorem_of_algebra)).  But this again would be a smart approach, and we are trying to see if we can solve the problem while being as stupid as possible.  So our idea will simply be: pick 1000 values of $x$ at random; if the two expressions are equal for all the values, then they must be equal everywhere.  This is a somewhat special case of a [Monte Carlo method](https://en.wikipedia.org/wiki/Monte_Carlo_method), a method used to estimate the probability of complex phenomena (where expression equality is our phenomenon).\n",
        "\n",
        "There are only two wrinkles with this.  The first is that an expression can contain many variables, and we have to try to value assignments for all of the variables.  This is easy to overcome; we just need some helper function that gives us the set of variables in a function.  The second wrinkle is: how do we generate the possible value assignments?  How big do these values need to be on average?  According to what probability distribution?  We could dive into a lot of theory and reasoning about how to compute appropriate probability distributions, but since our goal is to be stupid, we will use one of the simplest distributions with infinite domain: the Gaussian one. \n",
        "\n",
        "Let us start by writing the function `variables` such that, if `e` is an expression, `variables(e)` is the set of variables that appear in it."
      ]
    },
    {
      "cell_type": "code",
      "metadata": {
        "deletable": false,
        "nbgrader": {
          "checksum": "d78d7ccfde7e39d74e976c0cd1d84ea0",
          "grade": false,
          "grade_id": "cell-d7dda9f4dd7b9112",
          "locked": false,
          "schema_version": 1,
          "solution": true
        },
        "id": "kgIhWuM32JMy"
      },
      "source": [
        "### Exercise: define `variables`\n",
        "\n",
        "# YOUR CODE HERE\n",
        "from numbers import Number\n",
        "def variables(e):\n",
        "    if not isinstance(e,tuple):\n",
        "        if isinstance(e,str):\n",
        "            return {e}\n",
        "        else:\n",
        "            return set()\n",
        "    if isinstance(e,tuple):\n",
        "        op,e1,e2=e\n",
        "        s1=variables(e1)\n",
        "        s2=variables(e2)\n",
        "    return s1|s2\n",
        "\n",
        "\n",
        "\n",
        "    \n",
        "\n"
      ],
      "execution_count": 180,
      "outputs": []
    },
    {
      "cell_type": "code",
      "metadata": {
        "deletable": false,
        "editable": false,
        "nbgrader": {
          "checksum": "f294c8eb5fe544bf5dcf14c76c417539",
          "grade": true,
          "grade_id": "cell-11bbc7de7991be0",
          "locked": true,
          "points": 5,
          "schema_version": 1,
          "solution": false
        },
        "id": "O_E_fOMK2JM2",
        "outputId": "ac3fb8fd-633f-4426-a369-b53012bcf139",
        "colab": {
          "base_uri": "https://localhost:8080/"
        }
      },
      "source": [
        "### Question 3, part 1: 5 points\n",
        "### Tests for `Expr.variables`\n",
        "\n",
        "e = ('*', ('+', 'x', 2), ('/', 'x', 'y'))\n",
        "check_equal(variables(e), {'x', 'y'})\n",
        "\n"
      ],
      "execution_count": 181,
      "outputs": [
        {
          "output_type": "stream",
          "text": [
            "Success\n"
          ],
          "name": "stdout"
        }
      ]
    },
    {
      "cell_type": "markdown",
      "metadata": {
        "deletable": false,
        "editable": false,
        "nbgrader": {
          "checksum": "66be5a42a20f10c2b47f0753c4ac47c3",
          "grade": false,
          "grade_id": "cell-5ecea70109bc29b3",
          "locked": true,
          "schema_version": 1,
          "solution": false
        },
        "id": "0q_XYVYk2JM7"
      },
      "source": [
        "Now write the `value_equality` method for expressions.  The idea is perform an equality test `num_samples` times.  Each time, you produce a variable assignment (a dictionary) `d` mapping variables to random values, and then you use the `compute(e1, varval=d)` function to evaluate `e1` under that assignment, and similarly for `e2`.  You can then compare the resulting values, up to the tolerance `tolerance`.  All of this can be done in six lines of code (it's ok if you use a few more). "
      ]
    },
    {
      "cell_type": "code",
      "metadata": {
        "deletable": false,
        "nbgrader": {
          "checksum": "557573e73ef6747995605c192f8b45c0",
          "grade": false,
          "grade_id": "cell-4d50237429a9c85c",
          "locked": false,
          "schema_version": 1,
          "solution": true
        },
        "id": "unYRP9R-2JM7"
      },
      "source": [
        "### Exercise: implementation of value equality\n",
        "\n",
        "import random\n",
        "\n",
        "def value_equality(e1, e2, num_samples=1000, tolerance=1e-6):\n",
        "    \"\"\"Return True if the two expressions self and other are numerically\n",
        "    equivalent.  Equivalence is tested by generating\n",
        "    num_samples assignments, and checking that equality holds\n",
        "    for all of them.  Equality is checked up to tolerance, that is,\n",
        "    the values of the two expressions have to be closer than tolerance.\n",
        "    It can be done in less than 10 lines of code.\"\"\"\n",
        "    # YOUR CODE HERE\n",
        "\n",
        "    for i in range(num_samples):\n",
        "        f1={}\n",
        "        s1=variables(e1)\n",
        "        random_value=random.gauss(0,10)\n",
        "        for j in s1:\n",
        "            f1[j]=random_value\n",
        "        value1=compute(e1,varval=f1)\n",
        "        f2={}\n",
        "        s2=variables(e2)\n",
        "        for n in s2:\n",
        "            f2[n]=random_value\n",
        "        value2=compute(e2,varval=f2) \n",
        "        if abs(value1-value2)<tolerance:\n",
        "            return True\n",
        "        else:\n",
        "            return False\n"
      ],
      "execution_count": 182,
      "outputs": []
    },
    {
      "cell_type": "code",
      "metadata": {
        "deletable": false,
        "editable": false,
        "nbgrader": {
          "checksum": "97b0745d61a2126cd93ad88cf5d75dea",
          "grade": true,
          "grade_id": "cell-6b1aec1c2d75c985",
          "locked": true,
          "points": 10,
          "schema_version": 1,
          "solution": false
        },
        "id": "tDRi4j7O2JNB",
        "outputId": "64eda7bc-dd1e-4897-b5fe-374ebe62b061",
        "colab": {
          "base_uri": "https://localhost:8080/"
        }
      },
      "source": [
        "### Tests for value equality\n",
        "\n",
        "e1 = ('+', ('*', 'x', 1), ('*', 'y', 0))\n",
        "e2 = 'x'\n",
        "check_equal(value_equality(e1, e2), True)\n",
        "\n",
        "e3 = ('/', ('*', 'x', 'x'), ('*', 'x', 1))\n",
        "check_equal(value_equality(e1, e3), True)\n",
        "\n",
        "e4 = ('/', 'y', 2)\n",
        "check_equal(value_equality(e1, e4), False)\n",
        "check_equal(value_equality(e3, e4), False)\n",
        "\n"
      ],
      "execution_count": 183,
      "outputs": [
        {
          "output_type": "stream",
          "text": [
            "Success\n",
            "Success\n",
            "Success\n",
            "Success\n"
          ],
          "name": "stdout"
        }
      ]
    }
  ]
}