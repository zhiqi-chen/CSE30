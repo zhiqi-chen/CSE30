{
  "nbformat": 4,
  "nbformat_minor": 0,
  "metadata": {
    "colab": {
      "name": "Homework_5_Data_Tables.ipynb",
      "provenance": [],
      "collapsed_sections": []
    },
    "kernelspec": {
      "display_name": "teaching37",
      "language": "python",
      "name": "teaching37"
    },
    "language_info": {
      "codemirror_mode": {
        "name": "ipython",
        "version": 3
      },
      "file_extension": ".py",
      "mimetype": "text/x-python",
      "name": "python",
      "nbconvert_exporter": "python",
      "pygments_lexer": "ipython3",
      "version": "3.7.3"
    },
    "test_info": {
      "id": "e2eea3a2b6179b40daf798ea76f45f5d6b722267"
    }
  },
  "cells": [
    {
      "cell_type": "markdown",
      "metadata": {
        "id": "Fa_95JmJgMu3"
      },
      "source": [
        "Before you turn this problem in, make sure everything runs as expected. First, **restart the kernel** (in the menubar, select Kernel$\\rightarrow$Restart) and then **run all cells** (in the menubar, select Cell$\\rightarrow$Run All).\n",
        "\n",
        "Make sure you fill in any place that says `YOUR CODE HERE` or \"YOUR ANSWER HERE\", as well as your name and collaborators below:"
      ]
    },
    {
      "cell_type": "code",
      "metadata": {
        "id": "Q4glQiGbgMu8"
      },
      "source": [
        "NAME = \"Zhiqi Chen\"\n",
        "COLLABORATORS = \"\""
      ],
      "execution_count": 187,
      "outputs": []
    },
    {
      "cell_type": "markdown",
      "metadata": {
        "id": "DK66lXXIgMvP"
      },
      "source": [
        "---"
      ]
    },
    {
      "cell_type": "markdown",
      "metadata": {
        "deletable": false,
        "editable": false,
        "nbgrader": {
          "checksum": "04417b1d36e076a878d1e4c9ebfaf353",
          "grade": false,
          "grade_id": "cell-3cecca23daf225ac",
          "locked": true,
          "schema_version": 1,
          "solution": false
        },
        "id": "_MQxzAFrgMvS"
      },
      "source": [
        "# Homework 5: Data Tables\n",
        "\n",
        "### © Luca de Alfaro, 2020, [CC-BY_NC License](http://creativecommons.org/licenses/by-nc-nd/4.0/)."
      ]
    },
    {
      "cell_type": "markdown",
      "metadata": {
        "deletable": false,
        "editable": false,
        "nbgrader": {
          "checksum": "fe309bdaac7073d4835d1ef909261190",
          "grade": false,
          "grade_id": "cell-4a34f9b667afa4fe",
          "locked": true,
          "schema_version": 1,
          "solution": false
        },
        "id": "pdkrhtE-gMvV"
      },
      "source": [
        "For how to work on this homework assignment, please refer to the instructions posted on Canvas. \n",
        "\n",
        "There are 5 questions in the homework; each question has one or more test cells. \n",
        "\n",
        "## Submission\n",
        "\n",
        "[Please submit to this Google Form](https://docs.google.com/forms/d/e/1FAIpQLSfi_wJKdT0Z2mJyuzMhk8mfhnNpdZE0Sh2kftQSMVHP0EkIUg/viewform?usp=sf_link).\n",
        "\n",
        "Deadline: Thursday October 29, 11pm (check on Canvas for updated information)."
      ]
    },
    {
      "cell_type": "markdown",
      "metadata": {
        "deletable": false,
        "editable": false,
        "nbgrader": {
          "checksum": "ad2a00d02ae9d3afba5e1d1fd87cd31c",
          "grade": false,
          "grade_id": "cell-e8a9d60602aa81c8",
          "locked": true,
          "schema_version": 1,
          "solution": false
        },
        "id": "ts_l-eQGgMvY"
      },
      "source": [
        "The importance of data science cannot be underestimated.  The data sets used in data science often come as tables, with rows representing data items, and columns representing the attribute of the data items. \n",
        "Packages such as [Pandas](https://pandas.pydata.org/) and [Datatable Frames](https://datatable.readthedocs.io/en/latest/quick-start.html) help process and visualize such tabular data efficiently. \n",
        "\n",
        "Perhaps you think that implementing one such tabular computation package is a major effort.  This is very much true, if extreme efficiency, and perhaps the ability to use parallel processing and out-of-memory storage are your goals. \n",
        "However, implementing a basic (yet efficient) table processing framework is not very difficult. \n",
        "We shall do just that in this notebook, and it will be an instructive journey. \n",
        "\n",
        "We will implement Tables, which are similar to [Pandas Dataframes](https://pandas.pydata.org/pandas-docs/stable/reference/api/pandas.DataFrame.html) and to [Datatable Frames](https://datatable.readthedocs.io/en/latest/quick-start.html). \n",
        "A Table is ... a table, whose columns have labels that are usually strings (but can be any hashable type), and whose rows have integer indices.  A Table is used to represent data as it may appear in a csv file or a spreadsheet.\n",
        "Unlike in Datatable, we do not assume that all values in a column be of the same type.  In the package, we will strive for simplicity of use and generality, rather than efficiency. \n",
        "\n",
        "To have an idea of where we are aiming, it is strongly recommended that you read the [_10 minutes to Pandas_](https://pandas.pydata.org/pandas-docs/stable/user_guide/10min.html) introduction to Pandas.  If nothing else, Pandas is a very well known and much used tool for data analysis, and knowing roughly what it does will be instructive in its own right. \n",
        "\n"
      ]
    },
    {
      "cell_type": "markdown",
      "metadata": {
        "deletable": false,
        "editable": false,
        "nbgrader": {
          "checksum": "9378c30d8dbb35ea185677cd5dff0508",
          "grade": false,
          "grade_id": "cell-14b0db70a945c596",
          "locked": true,
          "schema_version": 1,
          "solution": false
        },
        "id": "n-sJqysKgMva"
      },
      "source": [
        "## A Quick Tour of NumPy and Pandas\n",
        "\n",
        "Let's give you a quick tour of NumPy and Pandas."
      ]
    },
    {
      "cell_type": "markdown",
      "metadata": {
        "deletable": false,
        "editable": false,
        "nbgrader": {
          "checksum": "26b3009d91c8eab25b4544e9ff5434a5",
          "grade": false,
          "grade_id": "cell-b927513cca30812c",
          "locked": true,
          "schema_version": 1,
          "solution": false
        },
        "id": "7rKVcOhjgMvc"
      },
      "source": [
        "### Numpy\n",
        "\n",
        "[NumPy](https://numpy.org/) is a tool for numerical computation that is very commonly used in Python: indeed, NumPy is one of the main reasons why Python is becoming the most used language for data science. \n",
        "Numpy also has a \"sister package\" [SciPy](https://www.scipy.org/), which contains more advanced scientific functions; we will not discuss SciPy here. \n",
        "\n",
        "In NumPy, you can create arrays and matrices.  You can then combine these matrices with operators such as $+$, $-$, $/$, and so forth, which operate element-wise on the arrays and matrices. \n"
      ]
    },
    {
      "cell_type": "code",
      "metadata": {
        "deletable": false,
        "editable": false,
        "nbgrader": {
          "checksum": "a1633c9c8465dfaa3ae8ca4f0467ae60",
          "grade": false,
          "grade_id": "cell-cbf1fd19907ced0c",
          "locked": true,
          "schema_version": 1,
          "solution": false
        },
        "id": "4sYWtY6dgMvf",
        "outputId": "782b4abb-bc86-456d-d9c1-1d2988a46403",
        "colab": {
          "base_uri": "https://localhost:8080/"
        }
      },
      "source": [
        "import numpy as np\n",
        "\n",
        "a = np.array([1, 2, 3, 4])\n",
        "b = np.array([4, 3, 2, 5])\n",
        "a + b\n"
      ],
      "execution_count": 188,
      "outputs": [
        {
          "output_type": "execute_result",
          "data": {
            "text/plain": [
              "array([5, 5, 5, 9])"
            ]
          },
          "metadata": {
            "tags": []
          },
          "execution_count": 188
        }
      ]
    },
    {
      "cell_type": "markdown",
      "metadata": {
        "deletable": false,
        "editable": false,
        "nbgrader": {
          "checksum": "c2a555f6fed3ef6910f6e31a6c1ca9e6",
          "grade": false,
          "grade_id": "cell-1800e10a32a1f367",
          "locked": true,
          "schema_version": 1,
          "solution": false
        },
        "id": "MZeGrvNTgMvp"
      },
      "source": [
        "Matrices are equally easy:"
      ]
    },
    {
      "cell_type": "code",
      "metadata": {
        "deletable": false,
        "editable": false,
        "nbgrader": {
          "checksum": "4d1b91d688e21e7f89ce0648c784d5a7",
          "grade": false,
          "grade_id": "cell-694feb6a8a7fb0c8",
          "locked": true,
          "schema_version": 1,
          "solution": false
        },
        "id": "NMUnCK3agMvq",
        "outputId": "cf505f24-4528-4081-b123-92ac1fbe3041",
        "colab": {
          "base_uri": "https://localhost:8080/"
        }
      },
      "source": [
        "m = np.random.random((3, 4)) # Generates a random 3 x 4 matrix\n",
        "m\n"
      ],
      "execution_count": 189,
      "outputs": [
        {
          "output_type": "execute_result",
          "data": {
            "text/plain": [
              "array([[0.17464529, 0.46737129, 0.12889631, 0.50007685],\n",
              "       [0.72295524, 0.33865044, 0.85436468, 0.16865137],\n",
              "       [0.44312607, 0.35634969, 0.9015801 , 0.4778895 ]])"
            ]
          },
          "metadata": {
            "tags": []
          },
          "execution_count": 189
        }
      ]
    },
    {
      "cell_type": "markdown",
      "metadata": {
        "deletable": false,
        "editable": false,
        "nbgrader": {
          "checksum": "e9f34d0e2de3fd01597b42d8c071837b",
          "grade": false,
          "grade_id": "cell-4c83e0906bfbc571",
          "locked": true,
          "schema_version": 1,
          "solution": false
        },
        "id": "oEzcKIg5gMvy"
      },
      "source": [
        "You can then do matrix multiplication... "
      ]
    },
    {
      "cell_type": "code",
      "metadata": {
        "deletable": false,
        "editable": false,
        "nbgrader": {
          "checksum": "32c493b72d9401eab2681f0db3f46377",
          "grade": false,
          "grade_id": "cell-a3662ca540bc1bfb",
          "locked": true,
          "schema_version": 1,
          "solution": false
        },
        "id": "P1pXtFiPgMvz",
        "outputId": "9859aee6-bad5-4857-914d-12a8728ea60a",
        "colab": {
          "base_uri": "https://localhost:8080/"
        }
      },
      "source": [
        "np.matmul(m, a)\n"
      ],
      "execution_count": 190,
      "outputs": [
        {
          "output_type": "execute_result",
          "data": {
            "text/plain": [
              "array([3.49638421, 4.63795566, 5.77212375])"
            ]
          },
          "metadata": {
            "tags": []
          },
          "execution_count": 190
        }
      ]
    },
    {
      "cell_type": "markdown",
      "metadata": {
        "deletable": false,
        "editable": false,
        "nbgrader": {
          "checksum": "d3536f91528a6b15abdb79d706cb2e84",
          "grade": false,
          "grade_id": "cell-139a0ba9090ea8c6",
          "locked": true,
          "schema_version": 1,
          "solution": false
        },
        "id": "9vG8_gqegMv8"
      },
      "source": [
        "... and you can easily compute average, max, min, median, and more, of arrays. "
      ]
    },
    {
      "cell_type": "code",
      "metadata": {
        "deletable": false,
        "editable": false,
        "nbgrader": {
          "checksum": "7ecfbffb61956b0318a2353dca0a9c5d",
          "grade": false,
          "grade_id": "cell-6a57ccd3fed1410b",
          "locked": true,
          "schema_version": 1,
          "solution": false
        },
        "id": "CYAzp8GbgMv9",
        "outputId": "e3fb2e84-9023-439c-e2cf-2677c3784a4a",
        "colab": {
          "base_uri": "https://localhost:8080/"
        }
      },
      "source": [
        "np.average(a)\n"
      ],
      "execution_count": 191,
      "outputs": [
        {
          "output_type": "execute_result",
          "data": {
            "text/plain": [
              "2.5"
            ]
          },
          "metadata": {
            "tags": []
          },
          "execution_count": 191
        }
      ]
    },
    {
      "cell_type": "markdown",
      "metadata": {
        "deletable": false,
        "editable": false,
        "nbgrader": {
          "checksum": "e09f82d97bccf4422578a5ad7995c5a1",
          "grade": false,
          "grade_id": "cell-af46587774a6f5e1",
          "locked": true,
          "schema_version": 1,
          "solution": false
        },
        "id": "RPKuJ61zgMwF"
      },
      "source": [
        "You can do much more; so much more, in fact, that nobody starts out by studying all that NumPy can do.  A good rule of thumb is that, if you need something that's even remotely standard, it's likely to be available in NumPy; just search and you will find it. "
      ]
    },
    {
      "cell_type": "markdown",
      "metadata": {
        "deletable": false,
        "editable": false,
        "nbgrader": {
          "checksum": "d4f59eb89e22ec5fa3aede38142ef431",
          "grade": false,
          "grade_id": "cell-256831a31a390016",
          "locked": true,
          "schema_version": 1,
          "solution": false
        },
        "id": "8kfZOeeAgMwH"
      },
      "source": [
        "### Pandas\n",
        "\n",
        "Pandas is a tool for processing data in tabular form.  Think at it like a spreadsheet processor, except one that can quickly read spreadsheets with millions of lines, and perform useful data visualizations, aggregate computations, and statistical analysis on them.  Pandas is widely used in data science to preprocess and explore datasets. "
      ]
    },
    {
      "cell_type": "markdown",
      "metadata": {
        "deletable": false,
        "editable": false,
        "nbgrader": {
          "checksum": "5df5f27b4a98e374b7b828eac24770e4",
          "grade": false,
          "grade_id": "cell-bcbcf09dcaf63114",
          "locked": true,
          "schema_version": 1,
          "solution": false
        },
        "id": "bCo3Y2RWgMwJ"
      },
      "source": [
        "Let's give it a try.  Pandas is imported traditionally with the pd name.  You can easily import data from csv, even if the data comes from a URL.  This dataset is the [US Census Demographic Data dataset by MuonNeutrino on Kaggle](https://www.kaggle.com/muonneutrino/us-census-demographic-data?select=acs2017_county_data.csv). "
      ]
    },
    {
      "cell_type": "code",
      "metadata": {
        "deletable": false,
        "editable": false,
        "nbgrader": {
          "checksum": "4b01a14bffb7c287475f710e1f3ccdc9",
          "grade": false,
          "grade_id": "cell-b8e596159f38f9cc",
          "locked": true,
          "schema_version": 1,
          "solution": false
        },
        "id": "MeYmd4IrgMwK"
      },
      "source": [
        "import pandas as pd\n",
        "\n",
        "ACS_URL = \"https://storage.googleapis.com/lucadealfaro-share/acs2017_county_data.csv\"\n",
        "df = pd.read_csv(ACS_URL)\n"
      ],
      "execution_count": 192,
      "outputs": []
    },
    {
      "cell_type": "markdown",
      "metadata": {
        "deletable": false,
        "editable": false,
        "nbgrader": {
          "checksum": "a9351b4f5b1523ccd0a11922f1951f7d",
          "grade": false,
          "grade_id": "cell-380c8b7ce865ead5",
          "locked": true,
          "schema_version": 1,
          "solution": false
        },
        "id": "cM3xI1GYgMwQ"
      },
      "source": [
        "We have imported the dataset into `df`, which is a Pandas _dataframe_.  Let's display it. "
      ]
    },
    {
      "cell_type": "code",
      "metadata": {
        "deletable": false,
        "editable": false,
        "nbgrader": {
          "checksum": "95ab94bd51bfe58247ffaab88715b85d",
          "grade": false,
          "grade_id": "cell-a9d5874872eace4d",
          "locked": true,
          "schema_version": 1,
          "solution": false
        },
        "id": "jwuKyl12gMwQ",
        "outputId": "19ffe0de-bd82-400a-db58-b369a121593a",
        "colab": {
          "base_uri": "https://localhost:8080/",
          "height": 626
        }
      },
      "source": [
        "df\n"
      ],
      "execution_count": 193,
      "outputs": [
        {
          "output_type": "execute_result",
          "data": {
            "text/html": [
              "<div>\n",
              "<style scoped>\n",
              "    .dataframe tbody tr th:only-of-type {\n",
              "        vertical-align: middle;\n",
              "    }\n",
              "\n",
              "    .dataframe tbody tr th {\n",
              "        vertical-align: top;\n",
              "    }\n",
              "\n",
              "    .dataframe thead th {\n",
              "        text-align: right;\n",
              "    }\n",
              "</style>\n",
              "<table border=\"1\" class=\"dataframe\">\n",
              "  <thead>\n",
              "    <tr style=\"text-align: right;\">\n",
              "      <th></th>\n",
              "      <th>CountyId</th>\n",
              "      <th>State</th>\n",
              "      <th>County</th>\n",
              "      <th>TotalPop</th>\n",
              "      <th>Men</th>\n",
              "      <th>Women</th>\n",
              "      <th>Hispanic</th>\n",
              "      <th>White</th>\n",
              "      <th>Black</th>\n",
              "      <th>Native</th>\n",
              "      <th>Asian</th>\n",
              "      <th>Pacific</th>\n",
              "      <th>VotingAgeCitizen</th>\n",
              "      <th>Income</th>\n",
              "      <th>IncomeErr</th>\n",
              "      <th>IncomePerCap</th>\n",
              "      <th>IncomePerCapErr</th>\n",
              "      <th>Poverty</th>\n",
              "      <th>ChildPoverty</th>\n",
              "      <th>Professional</th>\n",
              "      <th>Service</th>\n",
              "      <th>Office</th>\n",
              "      <th>Construction</th>\n",
              "      <th>Production</th>\n",
              "      <th>Drive</th>\n",
              "      <th>Carpool</th>\n",
              "      <th>Transit</th>\n",
              "      <th>Walk</th>\n",
              "      <th>OtherTransp</th>\n",
              "      <th>WorkAtHome</th>\n",
              "      <th>MeanCommute</th>\n",
              "      <th>Employed</th>\n",
              "      <th>PrivateWork</th>\n",
              "      <th>PublicWork</th>\n",
              "      <th>SelfEmployed</th>\n",
              "      <th>FamilyWork</th>\n",
              "      <th>Unemployment</th>\n",
              "    </tr>\n",
              "  </thead>\n",
              "  <tbody>\n",
              "    <tr>\n",
              "      <th>0</th>\n",
              "      <td>1001</td>\n",
              "      <td>Alabama</td>\n",
              "      <td>Autauga County</td>\n",
              "      <td>55036</td>\n",
              "      <td>26899</td>\n",
              "      <td>28137</td>\n",
              "      <td>2.7</td>\n",
              "      <td>75.4</td>\n",
              "      <td>18.9</td>\n",
              "      <td>0.3</td>\n",
              "      <td>0.9</td>\n",
              "      <td>0.0</td>\n",
              "      <td>41016</td>\n",
              "      <td>55317</td>\n",
              "      <td>2838</td>\n",
              "      <td>27824</td>\n",
              "      <td>2024</td>\n",
              "      <td>13.7</td>\n",
              "      <td>20.1</td>\n",
              "      <td>35.3</td>\n",
              "      <td>18.0</td>\n",
              "      <td>23.2</td>\n",
              "      <td>8.1</td>\n",
              "      <td>15.4</td>\n",
              "      <td>86.0</td>\n",
              "      <td>9.6</td>\n",
              "      <td>0.1</td>\n",
              "      <td>0.6</td>\n",
              "      <td>1.3</td>\n",
              "      <td>2.5</td>\n",
              "      <td>25.8</td>\n",
              "      <td>24112</td>\n",
              "      <td>74.1</td>\n",
              "      <td>20.2</td>\n",
              "      <td>5.6</td>\n",
              "      <td>0.1</td>\n",
              "      <td>5.2</td>\n",
              "    </tr>\n",
              "    <tr>\n",
              "      <th>1</th>\n",
              "      <td>1003</td>\n",
              "      <td>Alabama</td>\n",
              "      <td>Baldwin County</td>\n",
              "      <td>203360</td>\n",
              "      <td>99527</td>\n",
              "      <td>103833</td>\n",
              "      <td>4.4</td>\n",
              "      <td>83.1</td>\n",
              "      <td>9.5</td>\n",
              "      <td>0.8</td>\n",
              "      <td>0.7</td>\n",
              "      <td>0.0</td>\n",
              "      <td>155376</td>\n",
              "      <td>52562</td>\n",
              "      <td>1348</td>\n",
              "      <td>29364</td>\n",
              "      <td>735</td>\n",
              "      <td>11.8</td>\n",
              "      <td>16.1</td>\n",
              "      <td>35.7</td>\n",
              "      <td>18.2</td>\n",
              "      <td>25.6</td>\n",
              "      <td>9.7</td>\n",
              "      <td>10.8</td>\n",
              "      <td>84.7</td>\n",
              "      <td>7.6</td>\n",
              "      <td>0.1</td>\n",
              "      <td>0.8</td>\n",
              "      <td>1.1</td>\n",
              "      <td>5.6</td>\n",
              "      <td>27.0</td>\n",
              "      <td>89527</td>\n",
              "      <td>80.7</td>\n",
              "      <td>12.9</td>\n",
              "      <td>6.3</td>\n",
              "      <td>0.1</td>\n",
              "      <td>5.5</td>\n",
              "    </tr>\n",
              "    <tr>\n",
              "      <th>2</th>\n",
              "      <td>1005</td>\n",
              "      <td>Alabama</td>\n",
              "      <td>Barbour County</td>\n",
              "      <td>26201</td>\n",
              "      <td>13976</td>\n",
              "      <td>12225</td>\n",
              "      <td>4.2</td>\n",
              "      <td>45.7</td>\n",
              "      <td>47.8</td>\n",
              "      <td>0.2</td>\n",
              "      <td>0.6</td>\n",
              "      <td>0.0</td>\n",
              "      <td>20269</td>\n",
              "      <td>33368</td>\n",
              "      <td>2551</td>\n",
              "      <td>17561</td>\n",
              "      <td>798</td>\n",
              "      <td>27.2</td>\n",
              "      <td>44.9</td>\n",
              "      <td>25.0</td>\n",
              "      <td>16.8</td>\n",
              "      <td>22.6</td>\n",
              "      <td>11.5</td>\n",
              "      <td>24.1</td>\n",
              "      <td>83.4</td>\n",
              "      <td>11.1</td>\n",
              "      <td>0.3</td>\n",
              "      <td>2.2</td>\n",
              "      <td>1.7</td>\n",
              "      <td>1.3</td>\n",
              "      <td>23.4</td>\n",
              "      <td>8878</td>\n",
              "      <td>74.1</td>\n",
              "      <td>19.1</td>\n",
              "      <td>6.5</td>\n",
              "      <td>0.3</td>\n",
              "      <td>12.4</td>\n",
              "    </tr>\n",
              "    <tr>\n",
              "      <th>3</th>\n",
              "      <td>1007</td>\n",
              "      <td>Alabama</td>\n",
              "      <td>Bibb County</td>\n",
              "      <td>22580</td>\n",
              "      <td>12251</td>\n",
              "      <td>10329</td>\n",
              "      <td>2.4</td>\n",
              "      <td>74.6</td>\n",
              "      <td>22.0</td>\n",
              "      <td>0.4</td>\n",
              "      <td>0.0</td>\n",
              "      <td>0.0</td>\n",
              "      <td>17662</td>\n",
              "      <td>43404</td>\n",
              "      <td>3431</td>\n",
              "      <td>20911</td>\n",
              "      <td>1889</td>\n",
              "      <td>15.2</td>\n",
              "      <td>26.6</td>\n",
              "      <td>24.4</td>\n",
              "      <td>17.6</td>\n",
              "      <td>19.7</td>\n",
              "      <td>15.9</td>\n",
              "      <td>22.4</td>\n",
              "      <td>86.4</td>\n",
              "      <td>9.5</td>\n",
              "      <td>0.7</td>\n",
              "      <td>0.3</td>\n",
              "      <td>1.7</td>\n",
              "      <td>1.5</td>\n",
              "      <td>30.0</td>\n",
              "      <td>8171</td>\n",
              "      <td>76.0</td>\n",
              "      <td>17.4</td>\n",
              "      <td>6.3</td>\n",
              "      <td>0.3</td>\n",
              "      <td>8.2</td>\n",
              "    </tr>\n",
              "    <tr>\n",
              "      <th>4</th>\n",
              "      <td>1009</td>\n",
              "      <td>Alabama</td>\n",
              "      <td>Blount County</td>\n",
              "      <td>57667</td>\n",
              "      <td>28490</td>\n",
              "      <td>29177</td>\n",
              "      <td>9.0</td>\n",
              "      <td>87.4</td>\n",
              "      <td>1.5</td>\n",
              "      <td>0.3</td>\n",
              "      <td>0.1</td>\n",
              "      <td>0.0</td>\n",
              "      <td>42513</td>\n",
              "      <td>47412</td>\n",
              "      <td>2630</td>\n",
              "      <td>22021</td>\n",
              "      <td>850</td>\n",
              "      <td>15.6</td>\n",
              "      <td>25.4</td>\n",
              "      <td>28.5</td>\n",
              "      <td>12.9</td>\n",
              "      <td>23.3</td>\n",
              "      <td>15.8</td>\n",
              "      <td>19.5</td>\n",
              "      <td>86.8</td>\n",
              "      <td>10.2</td>\n",
              "      <td>0.1</td>\n",
              "      <td>0.4</td>\n",
              "      <td>0.4</td>\n",
              "      <td>2.1</td>\n",
              "      <td>35.0</td>\n",
              "      <td>21380</td>\n",
              "      <td>83.9</td>\n",
              "      <td>11.9</td>\n",
              "      <td>4.0</td>\n",
              "      <td>0.1</td>\n",
              "      <td>4.9</td>\n",
              "    </tr>\n",
              "    <tr>\n",
              "      <th>...</th>\n",
              "      <td>...</td>\n",
              "      <td>...</td>\n",
              "      <td>...</td>\n",
              "      <td>...</td>\n",
              "      <td>...</td>\n",
              "      <td>...</td>\n",
              "      <td>...</td>\n",
              "      <td>...</td>\n",
              "      <td>...</td>\n",
              "      <td>...</td>\n",
              "      <td>...</td>\n",
              "      <td>...</td>\n",
              "      <td>...</td>\n",
              "      <td>...</td>\n",
              "      <td>...</td>\n",
              "      <td>...</td>\n",
              "      <td>...</td>\n",
              "      <td>...</td>\n",
              "      <td>...</td>\n",
              "      <td>...</td>\n",
              "      <td>...</td>\n",
              "      <td>...</td>\n",
              "      <td>...</td>\n",
              "      <td>...</td>\n",
              "      <td>...</td>\n",
              "      <td>...</td>\n",
              "      <td>...</td>\n",
              "      <td>...</td>\n",
              "      <td>...</td>\n",
              "      <td>...</td>\n",
              "      <td>...</td>\n",
              "      <td>...</td>\n",
              "      <td>...</td>\n",
              "      <td>...</td>\n",
              "      <td>...</td>\n",
              "      <td>...</td>\n",
              "      <td>...</td>\n",
              "    </tr>\n",
              "    <tr>\n",
              "      <th>3215</th>\n",
              "      <td>72145</td>\n",
              "      <td>Puerto Rico</td>\n",
              "      <td>Vega Baja Municipio</td>\n",
              "      <td>54754</td>\n",
              "      <td>26269</td>\n",
              "      <td>28485</td>\n",
              "      <td>96.7</td>\n",
              "      <td>3.1</td>\n",
              "      <td>0.1</td>\n",
              "      <td>0.0</td>\n",
              "      <td>0.0</td>\n",
              "      <td>0.0</td>\n",
              "      <td>42838</td>\n",
              "      <td>18900</td>\n",
              "      <td>1219</td>\n",
              "      <td>10197</td>\n",
              "      <td>576</td>\n",
              "      <td>43.8</td>\n",
              "      <td>49.4</td>\n",
              "      <td>28.6</td>\n",
              "      <td>20.2</td>\n",
              "      <td>25.9</td>\n",
              "      <td>11.1</td>\n",
              "      <td>14.2</td>\n",
              "      <td>92.0</td>\n",
              "      <td>4.2</td>\n",
              "      <td>0.9</td>\n",
              "      <td>1.4</td>\n",
              "      <td>0.6</td>\n",
              "      <td>0.9</td>\n",
              "      <td>31.6</td>\n",
              "      <td>14234</td>\n",
              "      <td>76.2</td>\n",
              "      <td>19.3</td>\n",
              "      <td>4.3</td>\n",
              "      <td>0.2</td>\n",
              "      <td>16.8</td>\n",
              "    </tr>\n",
              "    <tr>\n",
              "      <th>3216</th>\n",
              "      <td>72147</td>\n",
              "      <td>Puerto Rico</td>\n",
              "      <td>Vieques Municipio</td>\n",
              "      <td>8931</td>\n",
              "      <td>4351</td>\n",
              "      <td>4580</td>\n",
              "      <td>95.7</td>\n",
              "      <td>4.0</td>\n",
              "      <td>0.0</td>\n",
              "      <td>0.0</td>\n",
              "      <td>0.0</td>\n",
              "      <td>0.0</td>\n",
              "      <td>7045</td>\n",
              "      <td>16261</td>\n",
              "      <td>2414</td>\n",
              "      <td>11136</td>\n",
              "      <td>1459</td>\n",
              "      <td>36.8</td>\n",
              "      <td>68.2</td>\n",
              "      <td>20.9</td>\n",
              "      <td>38.4</td>\n",
              "      <td>16.4</td>\n",
              "      <td>16.9</td>\n",
              "      <td>7.3</td>\n",
              "      <td>76.3</td>\n",
              "      <td>16.9</td>\n",
              "      <td>0.0</td>\n",
              "      <td>5.0</td>\n",
              "      <td>0.0</td>\n",
              "      <td>1.7</td>\n",
              "      <td>14.9</td>\n",
              "      <td>2927</td>\n",
              "      <td>40.7</td>\n",
              "      <td>40.9</td>\n",
              "      <td>18.4</td>\n",
              "      <td>0.0</td>\n",
              "      <td>12.8</td>\n",
              "    </tr>\n",
              "    <tr>\n",
              "      <th>3217</th>\n",
              "      <td>72149</td>\n",
              "      <td>Puerto Rico</td>\n",
              "      <td>Villalba Municipio</td>\n",
              "      <td>23659</td>\n",
              "      <td>11510</td>\n",
              "      <td>12149</td>\n",
              "      <td>99.7</td>\n",
              "      <td>0.2</td>\n",
              "      <td>0.1</td>\n",
              "      <td>0.0</td>\n",
              "      <td>0.0</td>\n",
              "      <td>0.0</td>\n",
              "      <td>18053</td>\n",
              "      <td>19893</td>\n",
              "      <td>1935</td>\n",
              "      <td>10449</td>\n",
              "      <td>1619</td>\n",
              "      <td>50.0</td>\n",
              "      <td>67.9</td>\n",
              "      <td>22.5</td>\n",
              "      <td>21.2</td>\n",
              "      <td>22.7</td>\n",
              "      <td>14.1</td>\n",
              "      <td>19.5</td>\n",
              "      <td>83.1</td>\n",
              "      <td>11.8</td>\n",
              "      <td>0.1</td>\n",
              "      <td>2.1</td>\n",
              "      <td>0.0</td>\n",
              "      <td>2.8</td>\n",
              "      <td>28.4</td>\n",
              "      <td>6873</td>\n",
              "      <td>59.2</td>\n",
              "      <td>30.2</td>\n",
              "      <td>10.4</td>\n",
              "      <td>0.2</td>\n",
              "      <td>24.8</td>\n",
              "    </tr>\n",
              "    <tr>\n",
              "      <th>3218</th>\n",
              "      <td>72151</td>\n",
              "      <td>Puerto Rico</td>\n",
              "      <td>Yabucoa Municipio</td>\n",
              "      <td>35025</td>\n",
              "      <td>16984</td>\n",
              "      <td>18041</td>\n",
              "      <td>99.9</td>\n",
              "      <td>0.1</td>\n",
              "      <td>0.0</td>\n",
              "      <td>0.0</td>\n",
              "      <td>0.0</td>\n",
              "      <td>0.0</td>\n",
              "      <td>27523</td>\n",
              "      <td>15586</td>\n",
              "      <td>1467</td>\n",
              "      <td>8672</td>\n",
              "      <td>702</td>\n",
              "      <td>52.4</td>\n",
              "      <td>62.1</td>\n",
              "      <td>27.7</td>\n",
              "      <td>26.0</td>\n",
              "      <td>20.7</td>\n",
              "      <td>9.5</td>\n",
              "      <td>16.0</td>\n",
              "      <td>87.6</td>\n",
              "      <td>9.2</td>\n",
              "      <td>0.0</td>\n",
              "      <td>1.4</td>\n",
              "      <td>1.8</td>\n",
              "      <td>0.1</td>\n",
              "      <td>30.5</td>\n",
              "      <td>7878</td>\n",
              "      <td>62.7</td>\n",
              "      <td>30.9</td>\n",
              "      <td>6.3</td>\n",
              "      <td>0.0</td>\n",
              "      <td>25.4</td>\n",
              "    </tr>\n",
              "    <tr>\n",
              "      <th>3219</th>\n",
              "      <td>72153</td>\n",
              "      <td>Puerto Rico</td>\n",
              "      <td>Yauco Municipio</td>\n",
              "      <td>37585</td>\n",
              "      <td>18052</td>\n",
              "      <td>19533</td>\n",
              "      <td>99.8</td>\n",
              "      <td>0.2</td>\n",
              "      <td>0.0</td>\n",
              "      <td>0.0</td>\n",
              "      <td>0.0</td>\n",
              "      <td>0.0</td>\n",
              "      <td>29763</td>\n",
              "      <td>14451</td>\n",
              "      <td>1371</td>\n",
              "      <td>8124</td>\n",
              "      <td>445</td>\n",
              "      <td>50.4</td>\n",
              "      <td>58.2</td>\n",
              "      <td>30.4</td>\n",
              "      <td>20.2</td>\n",
              "      <td>25.6</td>\n",
              "      <td>12.6</td>\n",
              "      <td>11.3</td>\n",
              "      <td>82.8</td>\n",
              "      <td>8.2</td>\n",
              "      <td>2.2</td>\n",
              "      <td>1.7</td>\n",
              "      <td>0.1</td>\n",
              "      <td>5.0</td>\n",
              "      <td>24.4</td>\n",
              "      <td>8995</td>\n",
              "      <td>66.4</td>\n",
              "      <td>28.7</td>\n",
              "      <td>5.0</td>\n",
              "      <td>0.0</td>\n",
              "      <td>24.0</td>\n",
              "    </tr>\n",
              "  </tbody>\n",
              "</table>\n",
              "<p>3220 rows × 37 columns</p>\n",
              "</div>"
            ],
            "text/plain": [
              "      CountyId        State  ... FamilyWork  Unemployment\n",
              "0         1001      Alabama  ...        0.1           5.2\n",
              "1         1003      Alabama  ...        0.1           5.5\n",
              "2         1005      Alabama  ...        0.3          12.4\n",
              "3         1007      Alabama  ...        0.3           8.2\n",
              "4         1009      Alabama  ...        0.1           4.9\n",
              "...        ...          ...  ...        ...           ...\n",
              "3215     72145  Puerto Rico  ...        0.2          16.8\n",
              "3216     72147  Puerto Rico  ...        0.0          12.8\n",
              "3217     72149  Puerto Rico  ...        0.2          24.8\n",
              "3218     72151  Puerto Rico  ...        0.0          25.4\n",
              "3219     72153  Puerto Rico  ...        0.0          24.0\n",
              "\n",
              "[3220 rows x 37 columns]"
            ]
          },
          "metadata": {
            "tags": []
          },
          "execution_count": 193
        }
      ]
    },
    {
      "cell_type": "markdown",
      "metadata": {
        "deletable": false,
        "editable": false,
        "nbgrader": {
          "checksum": "609f5e8db1268eaffd1d5c506795041f",
          "grade": false,
          "grade_id": "cell-d38ab49cae7f1dff",
          "locked": true,
          "schema_version": 1,
          "solution": false
        },
        "id": "6jWGnlwsgMwX"
      },
      "source": [
        "Let's compute the average income. "
      ]
    },
    {
      "cell_type": "code",
      "metadata": {
        "deletable": false,
        "editable": false,
        "nbgrader": {
          "checksum": "919592dd8c3cf5af215b385a912e86f3",
          "grade": false,
          "grade_id": "cell-752ba6cde2ea1483",
          "locked": true,
          "schema_version": 1,
          "solution": false
        },
        "id": "DPlcHiAQgMwY",
        "outputId": "78ab174a-f24d-40c2-ba8b-a98a671c5d19",
        "colab": {
          "base_uri": "https://localhost:8080/"
        }
      },
      "source": [
        "df[\"Income\"].mean()\n"
      ],
      "execution_count": 194,
      "outputs": [
        {
          "output_type": "execute_result",
          "data": {
            "text/plain": [
              "48994.966770186336"
            ]
          },
          "metadata": {
            "tags": []
          },
          "execution_count": 194
        }
      ]
    },
    {
      "cell_type": "markdown",
      "metadata": {
        "deletable": false,
        "editable": false,
        "nbgrader": {
          "checksum": "84531e09491b9ecdd05762ace178ab99",
          "grade": false,
          "grade_id": "cell-a9b4b72a6c6576c2",
          "locked": true,
          "schema_version": 1,
          "solution": false
        },
        "id": "MfISMXKTgMwd"
      },
      "source": [
        "However, the above is the average of the income of the _counties_, not the average income of the _people_: the two are not the same, as the population is not the same for all counties. \n",
        "How can we compute the average income of _people_?  There may be more elegant ways, but we can do as follows.  First, we compute the total number of people. "
      ]
    },
    {
      "cell_type": "code",
      "metadata": {
        "deletable": false,
        "editable": false,
        "nbgrader": {
          "checksum": "3b2dac73c35f412551cf877390cd36fb",
          "grade": false,
          "grade_id": "cell-afc0c4267700ee19",
          "locked": true,
          "schema_version": 1,
          "solution": false
        },
        "id": "Ngz2rdbFgMwe",
        "outputId": "543de1e7-0b49-4138-c896-04dc47256978",
        "colab": {
          "base_uri": "https://localhost:8080/"
        }
      },
      "source": [
        "total_people = df[\"TotalPop\"].sum()\n",
        "total_people\n"
      ],
      "execution_count": 195,
      "outputs": [
        {
          "output_type": "execute_result",
          "data": {
            "text/plain": [
              "324473370"
            ]
          },
          "metadata": {
            "tags": []
          },
          "execution_count": 195
        }
      ]
    },
    {
      "cell_type": "markdown",
      "metadata": {
        "deletable": false,
        "editable": false,
        "nbgrader": {
          "checksum": "cc8108a801e2a126c1629b806dc076c1",
          "grade": false,
          "grade_id": "cell-5055d1672d53fb73",
          "locked": true,
          "schema_version": 1,
          "solution": false
        },
        "id": "91_UlJd0gMwh"
      },
      "source": [
        "That's 324 million people, so it's reasonable. \n",
        "Now, we add a new column `CountyIncome` to the dataframe, equal to the product of the average income in a county, by the county population.  The column thus corresponds to the total income of people in the county. "
      ]
    },
    {
      "cell_type": "code",
      "metadata": {
        "deletable": false,
        "editable": false,
        "nbgrader": {
          "checksum": "80ac18ccdb975bf9f4948b947b0b1fb4",
          "grade": false,
          "grade_id": "cell-8958e1cc514d9ef1",
          "locked": true,
          "schema_version": 1,
          "solution": false
        },
        "id": "6OrcYSnrgMwi"
      },
      "source": [
        "df[\"CountyIncome\"] = df[\"TotalPop\"] * df[\"Income\"]\n"
      ],
      "execution_count": 196,
      "outputs": []
    },
    {
      "cell_type": "markdown",
      "metadata": {
        "deletable": false,
        "editable": false,
        "nbgrader": {
          "checksum": "86b315b8ae433a79cc3ea6ae0bacc6fd",
          "grade": false,
          "grade_id": "cell-11beeb528c3bd48f",
          "locked": true,
          "schema_version": 1,
          "solution": false
        },
        "id": "9si58hzcgMwm"
      },
      "source": [
        "Let's compute the average income. "
      ]
    },
    {
      "cell_type": "code",
      "metadata": {
        "deletable": false,
        "editable": false,
        "nbgrader": {
          "checksum": "c29b94de24319cb9868a91521b769e12",
          "grade": false,
          "grade_id": "cell-799856f88bcec08e",
          "locked": true,
          "schema_version": 1,
          "solution": false
        },
        "id": "PzD9yVUXgMwn",
        "outputId": "06ab217a-b7ea-4b7f-f380-47cf62654c8c",
        "colab": {
          "base_uri": "https://localhost:8080/"
        }
      },
      "source": [
        "df[\"CountyIncome\"].sum() / df[\"TotalPop\"].sum()\n"
      ],
      "execution_count": 197,
      "outputs": [
        {
          "output_type": "execute_result",
          "data": {
            "text/plain": [
              "59864.95225865839"
            ]
          },
          "metadata": {
            "tags": []
          },
          "execution_count": 197
        }
      ]
    },
    {
      "cell_type": "markdown",
      "metadata": {
        "deletable": false,
        "editable": false,
        "nbgrader": {
          "checksum": "50ab5a2f73278764dd4e7331fb85618d",
          "grade": false,
          "grade_id": "cell-808ad664f5ca879",
          "locked": true,
          "schema_version": 1,
          "solution": false
        },
        "id": "GNOEdCLHgMws"
      },
      "source": [
        "The number is in the right ballpark. \n",
        "\n",
        "We can also look around.  Which counties are the wealthiest, measured as average income of their residents? "
      ]
    },
    {
      "cell_type": "code",
      "metadata": {
        "deletable": false,
        "editable": false,
        "nbgrader": {
          "checksum": "549fe286f72171e80cf3be7c581e0727",
          "grade": false,
          "grade_id": "cell-56ab303dc1c463e0",
          "locked": true,
          "schema_version": 1,
          "solution": false
        },
        "id": "Bsm7uWXLgMwt",
        "outputId": "36e816af-f8ee-4ce1-ec40-89c218b14325",
        "colab": {
          "base_uri": "https://localhost:8080/",
          "height": 583
        }
      },
      "source": [
        "df.nlargest(10, \"Income\")\n"
      ],
      "execution_count": 198,
      "outputs": [
        {
          "output_type": "execute_result",
          "data": {
            "text/html": [
              "<div>\n",
              "<style scoped>\n",
              "    .dataframe tbody tr th:only-of-type {\n",
              "        vertical-align: middle;\n",
              "    }\n",
              "\n",
              "    .dataframe tbody tr th {\n",
              "        vertical-align: top;\n",
              "    }\n",
              "\n",
              "    .dataframe thead th {\n",
              "        text-align: right;\n",
              "    }\n",
              "</style>\n",
              "<table border=\"1\" class=\"dataframe\">\n",
              "  <thead>\n",
              "    <tr style=\"text-align: right;\">\n",
              "      <th></th>\n",
              "      <th>CountyId</th>\n",
              "      <th>State</th>\n",
              "      <th>County</th>\n",
              "      <th>TotalPop</th>\n",
              "      <th>Men</th>\n",
              "      <th>Women</th>\n",
              "      <th>Hispanic</th>\n",
              "      <th>White</th>\n",
              "      <th>Black</th>\n",
              "      <th>Native</th>\n",
              "      <th>Asian</th>\n",
              "      <th>Pacific</th>\n",
              "      <th>VotingAgeCitizen</th>\n",
              "      <th>Income</th>\n",
              "      <th>IncomeErr</th>\n",
              "      <th>IncomePerCap</th>\n",
              "      <th>IncomePerCapErr</th>\n",
              "      <th>Poverty</th>\n",
              "      <th>ChildPoverty</th>\n",
              "      <th>Professional</th>\n",
              "      <th>Service</th>\n",
              "      <th>Office</th>\n",
              "      <th>Construction</th>\n",
              "      <th>Production</th>\n",
              "      <th>Drive</th>\n",
              "      <th>Carpool</th>\n",
              "      <th>Transit</th>\n",
              "      <th>Walk</th>\n",
              "      <th>OtherTransp</th>\n",
              "      <th>WorkAtHome</th>\n",
              "      <th>MeanCommute</th>\n",
              "      <th>Employed</th>\n",
              "      <th>PrivateWork</th>\n",
              "      <th>PublicWork</th>\n",
              "      <th>SelfEmployed</th>\n",
              "      <th>FamilyWork</th>\n",
              "      <th>Unemployment</th>\n",
              "      <th>CountyIncome</th>\n",
              "    </tr>\n",
              "  </thead>\n",
              "  <tbody>\n",
              "    <tr>\n",
              "      <th>2872</th>\n",
              "      <td>51107</td>\n",
              "      <td>Virginia</td>\n",
              "      <td>Loudoun County</td>\n",
              "      <td>374558</td>\n",
              "      <td>185575</td>\n",
              "      <td>188983</td>\n",
              "      <td>13.5</td>\n",
              "      <td>57.7</td>\n",
              "      <td>7.2</td>\n",
              "      <td>0.2</td>\n",
              "      <td>17.1</td>\n",
              "      <td>0.1</td>\n",
              "      <td>231130</td>\n",
              "      <td>129588</td>\n",
              "      <td>2111</td>\n",
              "      <td>50456</td>\n",
              "      <td>581</td>\n",
              "      <td>3.7</td>\n",
              "      <td>3.6</td>\n",
              "      <td>57.3</td>\n",
              "      <td>13.2</td>\n",
              "      <td>19.9</td>\n",
              "      <td>4.5</td>\n",
              "      <td>5.1</td>\n",
              "      <td>77.2</td>\n",
              "      <td>9.2</td>\n",
              "      <td>3.7</td>\n",
              "      <td>1.7</td>\n",
              "      <td>1.1</td>\n",
              "      <td>7.0</td>\n",
              "      <td>33.7</td>\n",
              "      <td>201528</td>\n",
              "      <td>78.7</td>\n",
              "      <td>16.8</td>\n",
              "      <td>4.4</td>\n",
              "      <td>0.1</td>\n",
              "      <td>3.8</td>\n",
              "      <td>48538222104</td>\n",
              "    </tr>\n",
              "    <tr>\n",
              "      <th>2848</th>\n",
              "      <td>51059</td>\n",
              "      <td>Virginia</td>\n",
              "      <td>Fairfax County</td>\n",
              "      <td>1142004</td>\n",
              "      <td>565593</td>\n",
              "      <td>576411</td>\n",
              "      <td>16.2</td>\n",
              "      <td>51.7</td>\n",
              "      <td>9.3</td>\n",
              "      <td>0.1</td>\n",
              "      <td>18.8</td>\n",
              "      <td>0.0</td>\n",
              "      <td>724787</td>\n",
              "      <td>117515</td>\n",
              "      <td>1314</td>\n",
              "      <td>52976</td>\n",
              "      <td>419</td>\n",
              "      <td>6.1</td>\n",
              "      <td>7.9</td>\n",
              "      <td>56.6</td>\n",
              "      <td>14.7</td>\n",
              "      <td>18.4</td>\n",
              "      <td>5.7</td>\n",
              "      <td>4.7</td>\n",
              "      <td>71.1</td>\n",
              "      <td>9.4</td>\n",
              "      <td>9.6</td>\n",
              "      <td>1.9</td>\n",
              "      <td>1.7</td>\n",
              "      <td>6.3</td>\n",
              "      <td>32.1</td>\n",
              "      <td>609859</td>\n",
              "      <td>73.6</td>\n",
              "      <td>20.8</td>\n",
              "      <td>5.5</td>\n",
              "      <td>0.1</td>\n",
              "      <td>4.5</td>\n",
              "      <td>134202600060</td>\n",
              "    </tr>\n",
              "    <tr>\n",
              "      <th>1205</th>\n",
              "      <td>24027</td>\n",
              "      <td>Maryland</td>\n",
              "      <td>Howard County</td>\n",
              "      <td>312495</td>\n",
              "      <td>152843</td>\n",
              "      <td>159652</td>\n",
              "      <td>6.5</td>\n",
              "      <td>54.1</td>\n",
              "      <td>18.1</td>\n",
              "      <td>0.2</td>\n",
              "      <td>17.3</td>\n",
              "      <td>0.0</td>\n",
              "      <td>212310</td>\n",
              "      <td>115576</td>\n",
              "      <td>1799</td>\n",
              "      <td>51045</td>\n",
              "      <td>772</td>\n",
              "      <td>5.2</td>\n",
              "      <td>5.8</td>\n",
              "      <td>60.9</td>\n",
              "      <td>11.8</td>\n",
              "      <td>18.1</td>\n",
              "      <td>4.1</td>\n",
              "      <td>5.1</td>\n",
              "      <td>81.2</td>\n",
              "      <td>7.2</td>\n",
              "      <td>3.8</td>\n",
              "      <td>1.0</td>\n",
              "      <td>1.1</td>\n",
              "      <td>5.7</td>\n",
              "      <td>30.9</td>\n",
              "      <td>167493</td>\n",
              "      <td>73.0</td>\n",
              "      <td>22.7</td>\n",
              "      <td>4.2</td>\n",
              "      <td>0.1</td>\n",
              "      <td>4.2</td>\n",
              "      <td>36116922120</td>\n",
              "    </tr>\n",
              "    <tr>\n",
              "      <th>2925</th>\n",
              "      <td>51610</td>\n",
              "      <td>Virginia</td>\n",
              "      <td>Falls Church city</td>\n",
              "      <td>13843</td>\n",
              "      <td>6801</td>\n",
              "      <td>7042</td>\n",
              "      <td>10.6</td>\n",
              "      <td>72.0</td>\n",
              "      <td>4.5</td>\n",
              "      <td>0.0</td>\n",
              "      <td>9.3</td>\n",
              "      <td>0.0</td>\n",
              "      <td>9598</td>\n",
              "      <td>114795</td>\n",
              "      <td>7917</td>\n",
              "      <td>65510</td>\n",
              "      <td>4014</td>\n",
              "      <td>2.9</td>\n",
              "      <td>2.4</td>\n",
              "      <td>67.3</td>\n",
              "      <td>11.7</td>\n",
              "      <td>16.0</td>\n",
              "      <td>2.1</td>\n",
              "      <td>2.9</td>\n",
              "      <td>60.4</td>\n",
              "      <td>7.6</td>\n",
              "      <td>20.1</td>\n",
              "      <td>2.4</td>\n",
              "      <td>2.8</td>\n",
              "      <td>6.7</td>\n",
              "      <td>28.9</td>\n",
              "      <td>7672</td>\n",
              "      <td>64.6</td>\n",
              "      <td>28.5</td>\n",
              "      <td>6.9</td>\n",
              "      <td>0.0</td>\n",
              "      <td>4.2</td>\n",
              "      <td>1589107185</td>\n",
              "    </tr>\n",
              "    <tr>\n",
              "      <th>2826</th>\n",
              "      <td>51013</td>\n",
              "      <td>Virginia</td>\n",
              "      <td>Arlington County</td>\n",
              "      <td>229534</td>\n",
              "      <td>114403</td>\n",
              "      <td>115131</td>\n",
              "      <td>15.5</td>\n",
              "      <td>62.3</td>\n",
              "      <td>8.5</td>\n",
              "      <td>0.3</td>\n",
              "      <td>10.2</td>\n",
              "      <td>0.1</td>\n",
              "      <td>162937</td>\n",
              "      <td>112138</td>\n",
              "      <td>2139</td>\n",
              "      <td>67061</td>\n",
              "      <td>879</td>\n",
              "      <td>8.2</td>\n",
              "      <td>10.0</td>\n",
              "      <td>69.0</td>\n",
              "      <td>10.5</td>\n",
              "      <td>13.8</td>\n",
              "      <td>4.1</td>\n",
              "      <td>2.7</td>\n",
              "      <td>53.4</td>\n",
              "      <td>6.2</td>\n",
              "      <td>26.0</td>\n",
              "      <td>5.0</td>\n",
              "      <td>2.8</td>\n",
              "      <td>6.6</td>\n",
              "      <td>28.6</td>\n",
              "      <td>143798</td>\n",
              "      <td>70.8</td>\n",
              "      <td>24.9</td>\n",
              "      <td>4.2</td>\n",
              "      <td>0.2</td>\n",
              "      <td>3.2</td>\n",
              "      <td>25739483692</td>\n",
              "    </tr>\n",
              "    <tr>\n",
              "      <th>262</th>\n",
              "      <td>8035</td>\n",
              "      <td>Colorado</td>\n",
              "      <td>Douglas County</td>\n",
              "      <td>320940</td>\n",
              "      <td>159804</td>\n",
              "      <td>161136</td>\n",
              "      <td>8.3</td>\n",
              "      <td>83.3</td>\n",
              "      <td>1.1</td>\n",
              "      <td>0.1</td>\n",
              "      <td>4.4</td>\n",
              "      <td>0.1</td>\n",
              "      <td>222455</td>\n",
              "      <td>111154</td>\n",
              "      <td>1484</td>\n",
              "      <td>48725</td>\n",
              "      <td>653</td>\n",
              "      <td>3.6</td>\n",
              "      <td>3.8</td>\n",
              "      <td>53.7</td>\n",
              "      <td>11.6</td>\n",
              "      <td>25.0</td>\n",
              "      <td>4.6</td>\n",
              "      <td>5.0</td>\n",
              "      <td>78.0</td>\n",
              "      <td>6.7</td>\n",
              "      <td>1.9</td>\n",
              "      <td>1.0</td>\n",
              "      <td>1.4</td>\n",
              "      <td>11.0</td>\n",
              "      <td>27.6</td>\n",
              "      <td>169625</td>\n",
              "      <td>83.3</td>\n",
              "      <td>11.6</td>\n",
              "      <td>5.1</td>\n",
              "      <td>0.1</td>\n",
              "      <td>3.3</td>\n",
              "      <td>35673764760</td>\n",
              "    </tr>\n",
              "    <tr>\n",
              "      <th>1783</th>\n",
              "      <td>34019</td>\n",
              "      <td>New Jersey</td>\n",
              "      <td>Hunterdon County</td>\n",
              "      <td>125717</td>\n",
              "      <td>62901</td>\n",
              "      <td>62816</td>\n",
              "      <td>6.2</td>\n",
              "      <td>86.3</td>\n",
              "      <td>2.5</td>\n",
              "      <td>0.1</td>\n",
              "      <td>3.8</td>\n",
              "      <td>0.0</td>\n",
              "      <td>95691</td>\n",
              "      <td>110969</td>\n",
              "      <td>2182</td>\n",
              "      <td>54200</td>\n",
              "      <td>1457</td>\n",
              "      <td>4.5</td>\n",
              "      <td>4.9</td>\n",
              "      <td>51.7</td>\n",
              "      <td>12.9</td>\n",
              "      <td>23.2</td>\n",
              "      <td>6.7</td>\n",
              "      <td>5.5</td>\n",
              "      <td>80.7</td>\n",
              "      <td>5.5</td>\n",
              "      <td>2.6</td>\n",
              "      <td>1.8</td>\n",
              "      <td>0.7</td>\n",
              "      <td>8.7</td>\n",
              "      <td>33.9</td>\n",
              "      <td>66382</td>\n",
              "      <td>79.5</td>\n",
              "      <td>13.7</td>\n",
              "      <td>6.6</td>\n",
              "      <td>0.1</td>\n",
              "      <td>4.4</td>\n",
              "      <td>13950689773</td>\n",
              "    </tr>\n",
              "    <tr>\n",
              "      <th>1810</th>\n",
              "      <td>35028</td>\n",
              "      <td>New Mexico</td>\n",
              "      <td>Los Alamos County</td>\n",
              "      <td>18031</td>\n",
              "      <td>9135</td>\n",
              "      <td>8896</td>\n",
              "      <td>17.2</td>\n",
              "      <td>72.9</td>\n",
              "      <td>0.3</td>\n",
              "      <td>1.0</td>\n",
              "      <td>6.0</td>\n",
              "      <td>0.0</td>\n",
              "      <td>13223</td>\n",
              "      <td>110190</td>\n",
              "      <td>6543</td>\n",
              "      <td>52125</td>\n",
              "      <td>2359</td>\n",
              "      <td>5.1</td>\n",
              "      <td>5.4</td>\n",
              "      <td>67.7</td>\n",
              "      <td>12.6</td>\n",
              "      <td>13.0</td>\n",
              "      <td>4.2</td>\n",
              "      <td>2.5</td>\n",
              "      <td>76.5</td>\n",
              "      <td>9.9</td>\n",
              "      <td>3.3</td>\n",
              "      <td>3.9</td>\n",
              "      <td>3.6</td>\n",
              "      <td>2.9</td>\n",
              "      <td>15.7</td>\n",
              "      <td>9122</td>\n",
              "      <td>61.6</td>\n",
              "      <td>34.3</td>\n",
              "      <td>3.8</td>\n",
              "      <td>0.3</td>\n",
              "      <td>3.7</td>\n",
              "      <td>1986835890</td>\n",
              "    </tr>\n",
              "    <tr>\n",
              "      <th>1787</th>\n",
              "      <td>34027</td>\n",
              "      <td>New Jersey</td>\n",
              "      <td>Morris County</td>\n",
              "      <td>498847</td>\n",
              "      <td>244480</td>\n",
              "      <td>254367</td>\n",
              "      <td>13.0</td>\n",
              "      <td>72.0</td>\n",
              "      <td>3.0</td>\n",
              "      <td>0.0</td>\n",
              "      <td>10.1</td>\n",
              "      <td>0.0</td>\n",
              "      <td>354414</td>\n",
              "      <td>107034</td>\n",
              "      <td>1215</td>\n",
              "      <td>53491</td>\n",
              "      <td>803</td>\n",
              "      <td>4.6</td>\n",
              "      <td>4.8</td>\n",
              "      <td>51.0</td>\n",
              "      <td>12.9</td>\n",
              "      <td>23.9</td>\n",
              "      <td>5.3</td>\n",
              "      <td>6.9</td>\n",
              "      <td>79.2</td>\n",
              "      <td>6.8</td>\n",
              "      <td>5.4</td>\n",
              "      <td>2.0</td>\n",
              "      <td>0.9</td>\n",
              "      <td>5.6</td>\n",
              "      <td>30.9</td>\n",
              "      <td>262461</td>\n",
              "      <td>82.9</td>\n",
              "      <td>11.6</td>\n",
              "      <td>5.4</td>\n",
              "      <td>0.1</td>\n",
              "      <td>5.2</td>\n",
              "      <td>53393589798</td>\n",
              "    </tr>\n",
              "    <tr>\n",
              "      <th>2924</th>\n",
              "      <td>51600</td>\n",
              "      <td>Virginia</td>\n",
              "      <td>Fairfax city</td>\n",
              "      <td>23580</td>\n",
              "      <td>11621</td>\n",
              "      <td>11959</td>\n",
              "      <td>16.9</td>\n",
              "      <td>57.9</td>\n",
              "      <td>4.9</td>\n",
              "      <td>0.1</td>\n",
              "      <td>16.0</td>\n",
              "      <td>0.1</td>\n",
              "      <td>15316</td>\n",
              "      <td>106870</td>\n",
              "      <td>5914</td>\n",
              "      <td>46489</td>\n",
              "      <td>2037</td>\n",
              "      <td>7.8</td>\n",
              "      <td>6.2</td>\n",
              "      <td>53.0</td>\n",
              "      <td>18.1</td>\n",
              "      <td>18.6</td>\n",
              "      <td>6.8</td>\n",
              "      <td>3.6</td>\n",
              "      <td>69.6</td>\n",
              "      <td>7.6</td>\n",
              "      <td>10.1</td>\n",
              "      <td>4.5</td>\n",
              "      <td>1.1</td>\n",
              "      <td>7.2</td>\n",
              "      <td>31.2</td>\n",
              "      <td>12834</td>\n",
              "      <td>74.7</td>\n",
              "      <td>20.8</td>\n",
              "      <td>4.3</td>\n",
              "      <td>0.1</td>\n",
              "      <td>4.1</td>\n",
              "      <td>2519994600</td>\n",
              "    </tr>\n",
              "  </tbody>\n",
              "</table>\n",
              "</div>"
            ],
            "text/plain": [
              "      CountyId       State  ... Unemployment  CountyIncome\n",
              "2872     51107    Virginia  ...          3.8   48538222104\n",
              "2848     51059    Virginia  ...          4.5  134202600060\n",
              "1205     24027    Maryland  ...          4.2   36116922120\n",
              "2925     51610    Virginia  ...          4.2    1589107185\n",
              "2826     51013    Virginia  ...          3.2   25739483692\n",
              "262       8035    Colorado  ...          3.3   35673764760\n",
              "1783     34019  New Jersey  ...          4.4   13950689773\n",
              "1810     35028  New Mexico  ...          3.7    1986835890\n",
              "1787     34027  New Jersey  ...          5.2   53393589798\n",
              "2924     51600    Virginia  ...          4.1    2519994600\n",
              "\n",
              "[10 rows x 38 columns]"
            ]
          },
          "metadata": {
            "tags": []
          },
          "execution_count": 198
        }
      ]
    },
    {
      "cell_type": "markdown",
      "metadata": {
        "deletable": false,
        "editable": false,
        "nbgrader": {
          "checksum": "26de33ddb04282963b6aeecfd2236300",
          "grade": false,
          "grade_id": "cell-1bdd8998489eac5d",
          "locked": true,
          "schema_version": 1,
          "solution": false
        },
        "id": "ag93pLkIgMwx"
      },
      "source": [
        "I wonder what's up with Virgina!  Perhaps patricians and plebeians live separately there?  No county in California is in the top 10. \n",
        "\n",
        "Let's now compute the top 10 counties according to the total incomes of their residents.  This gives us a measure of the \"purchasing power\" of each county. "
      ]
    },
    {
      "cell_type": "code",
      "metadata": {
        "deletable": false,
        "editable": false,
        "nbgrader": {
          "checksum": "fcac33d112b1677a272babd83c6425a2",
          "grade": false,
          "grade_id": "cell-76e8a4e156aae97d",
          "locked": true,
          "schema_version": 1,
          "solution": false
        },
        "id": "tUKe1ivRgMwy",
        "outputId": "6d99f980-fd49-43cc-8ac5-5feea22c8cfd",
        "colab": {
          "base_uri": "https://localhost:8080/",
          "height": 600
        }
      },
      "source": [
        "df.nlargest(10, \"CountyIncome\")\n"
      ],
      "execution_count": 199,
      "outputs": [
        {
          "output_type": "execute_result",
          "data": {
            "text/html": [
              "<div>\n",
              "<style scoped>\n",
              "    .dataframe tbody tr th:only-of-type {\n",
              "        vertical-align: middle;\n",
              "    }\n",
              "\n",
              "    .dataframe tbody tr th {\n",
              "        vertical-align: top;\n",
              "    }\n",
              "\n",
              "    .dataframe thead th {\n",
              "        text-align: right;\n",
              "    }\n",
              "</style>\n",
              "<table border=\"1\" class=\"dataframe\">\n",
              "  <thead>\n",
              "    <tr style=\"text-align: right;\">\n",
              "      <th></th>\n",
              "      <th>CountyId</th>\n",
              "      <th>State</th>\n",
              "      <th>County</th>\n",
              "      <th>TotalPop</th>\n",
              "      <th>Men</th>\n",
              "      <th>Women</th>\n",
              "      <th>Hispanic</th>\n",
              "      <th>White</th>\n",
              "      <th>Black</th>\n",
              "      <th>Native</th>\n",
              "      <th>Asian</th>\n",
              "      <th>Pacific</th>\n",
              "      <th>VotingAgeCitizen</th>\n",
              "      <th>Income</th>\n",
              "      <th>IncomeErr</th>\n",
              "      <th>IncomePerCap</th>\n",
              "      <th>IncomePerCapErr</th>\n",
              "      <th>Poverty</th>\n",
              "      <th>ChildPoverty</th>\n",
              "      <th>Professional</th>\n",
              "      <th>Service</th>\n",
              "      <th>Office</th>\n",
              "      <th>Construction</th>\n",
              "      <th>Production</th>\n",
              "      <th>Drive</th>\n",
              "      <th>Carpool</th>\n",
              "      <th>Transit</th>\n",
              "      <th>Walk</th>\n",
              "      <th>OtherTransp</th>\n",
              "      <th>WorkAtHome</th>\n",
              "      <th>MeanCommute</th>\n",
              "      <th>Employed</th>\n",
              "      <th>PrivateWork</th>\n",
              "      <th>PublicWork</th>\n",
              "      <th>SelfEmployed</th>\n",
              "      <th>FamilyWork</th>\n",
              "      <th>Unemployment</th>\n",
              "      <th>CountyIncome</th>\n",
              "    </tr>\n",
              "  </thead>\n",
              "  <tbody>\n",
              "    <tr>\n",
              "      <th>204</th>\n",
              "      <td>6037</td>\n",
              "      <td>California</td>\n",
              "      <td>Los Angeles County</td>\n",
              "      <td>10105722</td>\n",
              "      <td>4979641</td>\n",
              "      <td>5126081</td>\n",
              "      <td>48.4</td>\n",
              "      <td>26.5</td>\n",
              "      <td>7.9</td>\n",
              "      <td>0.2</td>\n",
              "      <td>14.3</td>\n",
              "      <td>0.2</td>\n",
              "      <td>6218279</td>\n",
              "      <td>61015</td>\n",
              "      <td>262</td>\n",
              "      <td>30798</td>\n",
              "      <td>129</td>\n",
              "      <td>17.0</td>\n",
              "      <td>24.0</td>\n",
              "      <td>36.4</td>\n",
              "      <td>19.0</td>\n",
              "      <td>24.1</td>\n",
              "      <td>7.6</td>\n",
              "      <td>12.8</td>\n",
              "      <td>73.7</td>\n",
              "      <td>9.6</td>\n",
              "      <td>6.3</td>\n",
              "      <td>2.7</td>\n",
              "      <td>2.3</td>\n",
              "      <td>5.3</td>\n",
              "      <td>30.9</td>\n",
              "      <td>4805817</td>\n",
              "      <td>79.3</td>\n",
              "      <td>11.2</td>\n",
              "      <td>9.3</td>\n",
              "      <td>0.2</td>\n",
              "      <td>7.8</td>\n",
              "      <td>616600627830</td>\n",
              "    </tr>\n",
              "    <tr>\n",
              "      <th>610</th>\n",
              "      <td>17031</td>\n",
              "      <td>Illinois</td>\n",
              "      <td>Cook County</td>\n",
              "      <td>5238541</td>\n",
              "      <td>2540704</td>\n",
              "      <td>2697837</td>\n",
              "      <td>25.1</td>\n",
              "      <td>42.7</td>\n",
              "      <td>23.4</td>\n",
              "      <td>0.1</td>\n",
              "      <td>6.9</td>\n",
              "      <td>0.0</td>\n",
              "      <td>3538445</td>\n",
              "      <td>59426</td>\n",
              "      <td>380</td>\n",
              "      <td>33722</td>\n",
              "      <td>200</td>\n",
              "      <td>15.9</td>\n",
              "      <td>23.0</td>\n",
              "      <td>39.3</td>\n",
              "      <td>17.9</td>\n",
              "      <td>23.6</td>\n",
              "      <td>6.0</td>\n",
              "      <td>13.1</td>\n",
              "      <td>61.7</td>\n",
              "      <td>8.1</td>\n",
              "      <td>18.9</td>\n",
              "      <td>4.4</td>\n",
              "      <td>2.4</td>\n",
              "      <td>4.5</td>\n",
              "      <td>32.9</td>\n",
              "      <td>2521437</td>\n",
              "      <td>84.2</td>\n",
              "      <td>11.1</td>\n",
              "      <td>4.6</td>\n",
              "      <td>0.1</td>\n",
              "      <td>8.7</td>\n",
              "      <td>311305537466</td>\n",
              "    </tr>\n",
              "    <tr>\n",
              "      <th>2623</th>\n",
              "      <td>48201</td>\n",
              "      <td>Texas</td>\n",
              "      <td>Harris County</td>\n",
              "      <td>4525519</td>\n",
              "      <td>2251060</td>\n",
              "      <td>2274459</td>\n",
              "      <td>42.2</td>\n",
              "      <td>30.6</td>\n",
              "      <td>18.5</td>\n",
              "      <td>0.2</td>\n",
              "      <td>6.8</td>\n",
              "      <td>0.1</td>\n",
              "      <td>2605043</td>\n",
              "      <td>57791</td>\n",
              "      <td>503</td>\n",
              "      <td>30856</td>\n",
              "      <td>222</td>\n",
              "      <td>16.8</td>\n",
              "      <td>25.0</td>\n",
              "      <td>35.4</td>\n",
              "      <td>17.4</td>\n",
              "      <td>22.9</td>\n",
              "      <td>11.5</td>\n",
              "      <td>12.8</td>\n",
              "      <td>79.3</td>\n",
              "      <td>10.9</td>\n",
              "      <td>2.7</td>\n",
              "      <td>1.5</td>\n",
              "      <td>1.9</td>\n",
              "      <td>3.7</td>\n",
              "      <td>28.9</td>\n",
              "      <td>2180392</td>\n",
              "      <td>83.4</td>\n",
              "      <td>9.8</td>\n",
              "      <td>6.6</td>\n",
              "      <td>0.2</td>\n",
              "      <td>6.4</td>\n",
              "      <td>261534268529</td>\n",
              "    </tr>\n",
              "    <tr>\n",
              "      <th>215</th>\n",
              "      <td>6059</td>\n",
              "      <td>California</td>\n",
              "      <td>Orange County</td>\n",
              "      <td>3155816</td>\n",
              "      <td>1558245</td>\n",
              "      <td>1597571</td>\n",
              "      <td>34.2</td>\n",
              "      <td>41.4</td>\n",
              "      <td>1.6</td>\n",
              "      <td>0.2</td>\n",
              "      <td>19.5</td>\n",
              "      <td>0.3</td>\n",
              "      <td>2021028</td>\n",
              "      <td>81851</td>\n",
              "      <td>570</td>\n",
              "      <td>37603</td>\n",
              "      <td>270</td>\n",
              "      <td>12.1</td>\n",
              "      <td>16.4</td>\n",
              "      <td>40.9</td>\n",
              "      <td>17.5</td>\n",
              "      <td>24.8</td>\n",
              "      <td>6.6</td>\n",
              "      <td>10.2</td>\n",
              "      <td>78.6</td>\n",
              "      <td>9.8</td>\n",
              "      <td>2.2</td>\n",
              "      <td>1.9</td>\n",
              "      <td>2.0</td>\n",
              "      <td>5.6</td>\n",
              "      <td>27.4</td>\n",
              "      <td>1560997</td>\n",
              "      <td>82.0</td>\n",
              "      <td>10.1</td>\n",
              "      <td>7.7</td>\n",
              "      <td>0.2</td>\n",
              "      <td>5.8</td>\n",
              "      <td>258306695416</td>\n",
              "    </tr>\n",
              "    <tr>\n",
              "      <th>103</th>\n",
              "      <td>4013</td>\n",
              "      <td>Arizona</td>\n",
              "      <td>Maricopa County</td>\n",
              "      <td>4155501</td>\n",
              "      <td>2055464</td>\n",
              "      <td>2100037</td>\n",
              "      <td>30.6</td>\n",
              "      <td>56.3</td>\n",
              "      <td>5.1</td>\n",
              "      <td>1.5</td>\n",
              "      <td>3.9</td>\n",
              "      <td>0.2</td>\n",
              "      <td>2778337</td>\n",
              "      <td>58580</td>\n",
              "      <td>350</td>\n",
              "      <td>30186</td>\n",
              "      <td>163</td>\n",
              "      <td>15.7</td>\n",
              "      <td>22.5</td>\n",
              "      <td>37.4</td>\n",
              "      <td>18.1</td>\n",
              "      <td>26.7</td>\n",
              "      <td>8.4</td>\n",
              "      <td>9.5</td>\n",
              "      <td>76.4</td>\n",
              "      <td>10.9</td>\n",
              "      <td>2.2</td>\n",
              "      <td>1.5</td>\n",
              "      <td>2.5</td>\n",
              "      <td>6.4</td>\n",
              "      <td>25.8</td>\n",
              "      <td>1929015</td>\n",
              "      <td>82.8</td>\n",
              "      <td>11.1</td>\n",
              "      <td>5.9</td>\n",
              "      <td>0.1</td>\n",
              "      <td>6.0</td>\n",
              "      <td>243429248580</td>\n",
              "    </tr>\n",
              "    <tr>\n",
              "      <th>222</th>\n",
              "      <td>6073</td>\n",
              "      <td>California</td>\n",
              "      <td>San Diego County</td>\n",
              "      <td>3283665</td>\n",
              "      <td>1651147</td>\n",
              "      <td>1632518</td>\n",
              "      <td>33.4</td>\n",
              "      <td>46.2</td>\n",
              "      <td>4.7</td>\n",
              "      <td>0.4</td>\n",
              "      <td>11.5</td>\n",
              "      <td>0.4</td>\n",
              "      <td>2207599</td>\n",
              "      <td>70588</td>\n",
              "      <td>617</td>\n",
              "      <td>34350</td>\n",
              "      <td>192</td>\n",
              "      <td>13.3</td>\n",
              "      <td>17.1</td>\n",
              "      <td>41.3</td>\n",
              "      <td>19.6</td>\n",
              "      <td>23.0</td>\n",
              "      <td>7.6</td>\n",
              "      <td>8.4</td>\n",
              "      <td>76.0</td>\n",
              "      <td>8.9</td>\n",
              "      <td>3.1</td>\n",
              "      <td>2.9</td>\n",
              "      <td>2.2</td>\n",
              "      <td>7.0</td>\n",
              "      <td>25.7</td>\n",
              "      <td>1536073</td>\n",
              "      <td>77.8</td>\n",
              "      <td>14.2</td>\n",
              "      <td>7.8</td>\n",
              "      <td>0.2</td>\n",
              "      <td>7.1</td>\n",
              "      <td>231787345020</td>\n",
              "    </tr>\n",
              "    <tr>\n",
              "      <th>228</th>\n",
              "      <td>6085</td>\n",
              "      <td>California</td>\n",
              "      <td>Santa Clara County</td>\n",
              "      <td>1911226</td>\n",
              "      <td>963317</td>\n",
              "      <td>947909</td>\n",
              "      <td>26.1</td>\n",
              "      <td>32.6</td>\n",
              "      <td>2.4</td>\n",
              "      <td>0.2</td>\n",
              "      <td>34.9</td>\n",
              "      <td>0.3</td>\n",
              "      <td>1162019</td>\n",
              "      <td>106761</td>\n",
              "      <td>858</td>\n",
              "      <td>48689</td>\n",
              "      <td>418</td>\n",
              "      <td>8.6</td>\n",
              "      <td>9.7</td>\n",
              "      <td>52.1</td>\n",
              "      <td>15.1</td>\n",
              "      <td>18.6</td>\n",
              "      <td>6.3</td>\n",
              "      <td>7.9</td>\n",
              "      <td>75.1</td>\n",
              "      <td>10.5</td>\n",
              "      <td>4.4</td>\n",
              "      <td>2.1</td>\n",
              "      <td>3.1</td>\n",
              "      <td>4.8</td>\n",
              "      <td>28.0</td>\n",
              "      <td>967294</td>\n",
              "      <td>84.7</td>\n",
              "      <td>9.3</td>\n",
              "      <td>5.9</td>\n",
              "      <td>0.1</td>\n",
              "      <td>5.7</td>\n",
              "      <td>204044398986</td>\n",
              "    </tr>\n",
              "    <tr>\n",
              "      <th>2969</th>\n",
              "      <td>53033</td>\n",
              "      <td>Washington</td>\n",
              "      <td>King County</td>\n",
              "      <td>2118119</td>\n",
              "      <td>1058695</td>\n",
              "      <td>1059424</td>\n",
              "      <td>9.5</td>\n",
              "      <td>61.4</td>\n",
              "      <td>6.0</td>\n",
              "      <td>0.5</td>\n",
              "      <td>16.5</td>\n",
              "      <td>0.8</td>\n",
              "      <td>1459791</td>\n",
              "      <td>83571</td>\n",
              "      <td>617</td>\n",
              "      <td>46316</td>\n",
              "      <td>363</td>\n",
              "      <td>10.2</td>\n",
              "      <td>12.3</td>\n",
              "      <td>51.0</td>\n",
              "      <td>15.0</td>\n",
              "      <td>19.9</td>\n",
              "      <td>5.5</td>\n",
              "      <td>8.5</td>\n",
              "      <td>63.0</td>\n",
              "      <td>9.6</td>\n",
              "      <td>13.1</td>\n",
              "      <td>5.1</td>\n",
              "      <td>2.7</td>\n",
              "      <td>6.5</td>\n",
              "      <td>29.1</td>\n",
              "      <td>1140353</td>\n",
              "      <td>82.0</td>\n",
              "      <td>12.0</td>\n",
              "      <td>5.8</td>\n",
              "      <td>0.2</td>\n",
              "      <td>5.0</td>\n",
              "      <td>177013322949</td>\n",
              "    </tr>\n",
              "    <tr>\n",
              "      <th>1225</th>\n",
              "      <td>25017</td>\n",
              "      <td>Massachusetts</td>\n",
              "      <td>Middlesex County</td>\n",
              "      <td>1582857</td>\n",
              "      <td>773112</td>\n",
              "      <td>809745</td>\n",
              "      <td>7.7</td>\n",
              "      <td>73.3</td>\n",
              "      <td>4.8</td>\n",
              "      <td>0.1</td>\n",
              "      <td>11.2</td>\n",
              "      <td>0.0</td>\n",
              "      <td>1110166</td>\n",
              "      <td>92878</td>\n",
              "      <td>735</td>\n",
              "      <td>47616</td>\n",
              "      <td>380</td>\n",
              "      <td>8.2</td>\n",
              "      <td>9.3</td>\n",
              "      <td>55.0</td>\n",
              "      <td>14.3</td>\n",
              "      <td>19.1</td>\n",
              "      <td>5.3</td>\n",
              "      <td>6.3</td>\n",
              "      <td>68.1</td>\n",
              "      <td>6.9</td>\n",
              "      <td>12.1</td>\n",
              "      <td>5.0</td>\n",
              "      <td>2.4</td>\n",
              "      <td>5.6</td>\n",
              "      <td>30.3</td>\n",
              "      <td>862873</td>\n",
              "      <td>82.9</td>\n",
              "      <td>10.7</td>\n",
              "      <td>6.2</td>\n",
              "      <td>0.1</td>\n",
              "      <td>4.8</td>\n",
              "      <td>147012592446</td>\n",
              "    </tr>\n",
              "    <tr>\n",
              "      <th>1868</th>\n",
              "      <td>36081</td>\n",
              "      <td>New York</td>\n",
              "      <td>Queens County</td>\n",
              "      <td>2339280</td>\n",
              "      <td>1134031</td>\n",
              "      <td>1205249</td>\n",
              "      <td>28.0</td>\n",
              "      <td>25.4</td>\n",
              "      <td>17.2</td>\n",
              "      <td>0.2</td>\n",
              "      <td>25.1</td>\n",
              "      <td>0.0</td>\n",
              "      <td>1413921</td>\n",
              "      <td>62008</td>\n",
              "      <td>471</td>\n",
              "      <td>28814</td>\n",
              "      <td>216</td>\n",
              "      <td>13.7</td>\n",
              "      <td>18.2</td>\n",
              "      <td>33.3</td>\n",
              "      <td>24.6</td>\n",
              "      <td>23.3</td>\n",
              "      <td>8.2</td>\n",
              "      <td>10.7</td>\n",
              "      <td>31.8</td>\n",
              "      <td>6.7</td>\n",
              "      <td>51.7</td>\n",
              "      <td>5.8</td>\n",
              "      <td>1.5</td>\n",
              "      <td>2.6</td>\n",
              "      <td>43.5</td>\n",
              "      <td>1142363</td>\n",
              "      <td>80.1</td>\n",
              "      <td>13.7</td>\n",
              "      <td>6.1</td>\n",
              "      <td>0.1</td>\n",
              "      <td>6.9</td>\n",
              "      <td>145054074240</td>\n",
              "    </tr>\n",
              "  </tbody>\n",
              "</table>\n",
              "</div>"
            ],
            "text/plain": [
              "      CountyId          State  ... Unemployment  CountyIncome\n",
              "204       6037     California  ...          7.8  616600627830\n",
              "610      17031       Illinois  ...          8.7  311305537466\n",
              "2623     48201          Texas  ...          6.4  261534268529\n",
              "215       6059     California  ...          5.8  258306695416\n",
              "103       4013        Arizona  ...          6.0  243429248580\n",
              "222       6073     California  ...          7.1  231787345020\n",
              "228       6085     California  ...          5.7  204044398986\n",
              "2969     53033     Washington  ...          5.0  177013322949\n",
              "1225     25017  Massachusetts  ...          4.8  147012592446\n",
              "1868     36081       New York  ...          6.9  145054074240\n",
              "\n",
              "[10 rows x 38 columns]"
            ]
          },
          "metadata": {
            "tags": []
          },
          "execution_count": 199
        }
      ]
    },
    {
      "cell_type": "markdown",
      "metadata": {
        "deletable": false,
        "editable": false,
        "nbgrader": {
          "checksum": "97ed5b099fcd9df81c4b2e7eee387395",
          "grade": false,
          "grade_id": "cell-a71fd60911dbbc30",
          "locked": true,
          "schema_version": 1,
          "solution": false
        },
        "id": "WDSuSNYDgMw2"
      },
      "source": [
        "Ah, this is more like it.  California regains top billing. But Maricopa County beating out Silicon Valley is anti-climatic.  "
      ]
    },
    {
      "cell_type": "markdown",
      "metadata": {
        "deletable": false,
        "editable": false,
        "nbgrader": {
          "checksum": "f73609ae0b370506e1212c23ad199f18",
          "grade": false,
          "grade_id": "cell-a203e146a2efbe0d",
          "locked": true,
          "schema_version": 1,
          "solution": false
        },
        "id": "cQ5mDp_xgMw3"
      },
      "source": [
        "What we want to do is make nothing less than a Pandas clone! "
      ]
    },
    {
      "cell_type": "markdown",
      "metadata": {
        "deletable": false,
        "editable": false,
        "nbgrader": {
          "checksum": "b38caee69b8d2fc889e7ec08f49a6fdb",
          "grade": false,
          "grade_id": "cell-8b3845542c78c4a8",
          "locked": true,
          "schema_version": 1,
          "solution": false
        },
        "id": "2pg8fDH1gMw4"
      },
      "source": [
        "## First step: identifying the main concepts\n",
        "\n",
        "The first step in the implementation consists in identifying the main concepts that need translating into \"objects with behavior\". In our case, this is easy: the concepts are the tables, with their rows and columns. "
      ]
    },
    {
      "cell_type": "markdown",
      "metadata": {
        "deletable": false,
        "editable": false,
        "nbgrader": {
          "checksum": "6b9428282c83e63b9f1af9218283e13c",
          "grade": false,
          "grade_id": "cell-601fc6b9e87e71f3",
          "locked": true,
          "schema_version": 1,
          "solution": false
        },
        "id": "k-mbaXfTgMw5"
      },
      "source": [
        "## Table Representation\n",
        "\n",
        "We can represent tables both in row-wise, or column-wise, fashion. \n",
        "In a row-wise fashion, the table is represented as a list of rows; each row is then (for instance) a dictionary mapping the column name to the column value in that row. \n",
        "In column-wise fashion, we represent the table as a dictionary mapping each column name to the column content; each column is then a list (or perhaps numpy array) of values. \n",
        "\n",
        "We prefer the column-wise representation, for three reasons. \n",
        "First, the representation is more efficient: it takes less space to have a dictionary of arrays than an array of dictionaries, since dictionaries are less efficient in representation than arrays. \n",
        "Second, the type of elements in a table column is homogeneous, opening the way to various optimizations both in storing, and in processing, the column elements. \n",
        "Third, it is often useful to do operations on columns, computing for instance a column as a function of two existing columns.  By using a column-wise organization, we can leverage numpy for implementing the column operations. \n",
        "\n",
        "The next choice consists in deciding whether we need a special object type for representing each column, or whether we can simply use a list, or perhaps a numpy array. \n",
        "We argue for representing columns as objects, for two reasons. \n",
        "First, a good principle is, in case of doubt, choose the most general representation. \n",
        "An object representation allows us to store the content of the column, alongside any additional metadata we may wish to associate with it. \n",
        "Second, an object representation allows us to implement operations on columns, by implementing the `__add__`, `__mul__`, and other [arithmetic methods](https://docs.python.org/3/reference/datamodel.html#emulating-numeric-types). "
      ]
    },
    {
      "cell_type": "markdown",
      "metadata": {
        "deletable": false,
        "editable": false,
        "nbgrader": {
          "checksum": "578aa9951756cf2aedba224d919d628c",
          "grade": false,
          "grade_id": "cell-250f1c2b92d4286c",
          "locked": true,
          "schema_version": 1,
          "solution": false
        },
        "id": "0VFANk8ygMw6"
      },
      "source": [
        "## Column Representation\n",
        "\n",
        "Let us thus focus first on how to represent a single column. \n",
        "The following are our design requirements: \n",
        "\n",
        "* Columns of numbers are very common, and we wish to implement them in such a way that we can easily serialize them (convert them to/from strings), and perform numerical operations on them.  \n",
        "* Aside from numerical columns, we wish to be able to store columns consisting of arbitrary types (such as strings, datetime objects, and more). \n",
        "* Many columns have missing values, and we want to be able to easily represent and correctly process such missing types. \n",
        "\n",
        "This suggests the following representation: \n",
        "\n",
        "* Numeric columns are represented via numpy, so that arithmetic operations on them are implemented efficiently.  Missing values are implemented via NaN (Not A Number, in the [IEEE Floating Point Standard](https://en.wikipedia.org/wiki/IEEE_754)).  This is a somewhat imprecise mapping: a missing value, and a NaN, have slightly different semantics (a missing value vs. the undetermined result of an operation), but it will do for our purposes, as missing values and NaNs propagate similarly in operations. \n",
        "* Other columns are represented as lists.  We do not use numpy for non-numeric types, because numpy has all sort of restrictions for non-numeric types (for instance, strings are fixed maximal length, so once we assigned values to a column of a table, we would not be able to update particular values with longer strings). \n",
        "\n",
        "### Initialization\n",
        "\n",
        "How do we initialize a column?  The most obvious ways is by passing a list of values.  In addition to the values, we will also pass a type hint, which is a tuple consisting of: \n",
        "\n",
        "* `None` (the python type, not a tuple): indicating that the type has to be inferred. \n",
        "* `('other',)` : indicating a non-numpy type,\n",
        "* `('numpy', 'd')` : indicating [numpy type](https://numpy.org/doc/stable/user/basics.types.html) 'd'. \n",
        "\n",
        "If the type is auto-inferred, we use the following algorithm: \n",
        "\n",
        "* If all the elements are either None or numeric, we use the float type of numpy; \n",
        "* otherwise, we use `('other',)`.\n",
        "\n",
        "The implementation is as follows."
      ]
    },
    {
      "cell_type": "code",
      "metadata": {
        "deletable": false,
        "editable": false,
        "nbgrader": {
          "checksum": "e4f6984173ac1130ad277cf2d20e1939",
          "grade": false,
          "grade_id": "cell-e0ef73920df5f57a",
          "locked": true,
          "schema_version": 1,
          "solution": false
        },
        "id": "f5QiWzSGgMw7"
      },
      "source": [
        "import numpy as np\n",
        "from numbers import Number\n",
        "\n",
        "class Column(object):\n",
        "\n",
        "    def __init__(self, element_list, type_hint=None):\n",
        "        \"\"\"Creates a column.\n",
        "        @param element_list: list of elements with which to initialize the column.\n",
        "            If a Column is passed in, then a copy of the Column is constructed.\n",
        "        @param type_hint: hint for the type of column elements.  The type hint\n",
        "        can be:\n",
        "         - 'other', in which case, a list is used;\n",
        "         - ('numpy', t), in which case, numpy is used for the column, and\n",
        "            the numpy type of column elements is t.\n",
        "         - None.  In this case, we try to use the best type; if all elements of\n",
        "            the list are None or an empty string or numbers, then a numpy array\n",
        "            is used, otherwise, a list.\n",
        "        Internally, a Column object has two important fields:\n",
        "        - d : this is the data.\n",
        "            You can tell the format of self.d by asking:\n",
        "            isinstance(self.d, np.ndarray) : True if it's a numpy array, false\n",
        "            otherwise.\n",
        "        \"\"\"\n",
        "        # Determines the type.\n",
        "        if isinstance(element_list, Column):\n",
        "            # We clone columns.  It's a good principle to always allow cloning by passing\n",
        "            # an element of the class to the initializer.\n",
        "            if isinstance(element_list.d, np.ndarray):\n",
        "                self.d = np.array(element_list.d)\n",
        "            else:\n",
        "                self.d = list(element_list.d)\n",
        "        elif isinstance(element_list, np.ndarray):\n",
        "            # If you are kind enough to give me an ndarray, I build a Column\n",
        "            # around it.\n",
        "            self.d = np.array(element_list) # Clone to prevent modifications.\n",
        "        # Otherwise, we must create the Column from a list-like type.\n",
        "        elif type_hint is None:\n",
        "            # We need to infer the type.\n",
        "            # If it's all numeric, then we use a numeric type.\n",
        "            if all([(x is None) or isinstance(x, Number) or x == '' for x in element_list]):\n",
        "                # If there are None, we have to convert them in np.NaN\n",
        "                self.d = np.array([(np.NaN if (x is None or x == '') else x) for x in element_list])\n",
        "            else:\n",
        "                # We use list() here both to create a copy of the list,\n",
        "                # and to ensure we really get a list.\n",
        "                self.d = list(element_list)\n",
        "        elif type_hint[0] == 'other':\n",
        "            self.d = list(element_list)\n",
        "        elif type_hint[0] == 'numpy':\n",
        "            self.d = np.array(element_list, dtype=type_hint[1])\n",
        "        else:\n",
        "            raise NotImplementedError()\n",
        "\n",
        "    def __repr__(self):\n",
        "        \"\"\"We produce an abbreviated representation, since a full one might be very large.\"\"\"\n",
        "        if len(self.d) < 21:\n",
        "            return \"Column: \" + repr(list(self.d))\n",
        "        else:\n",
        "            s = \"Column: [\"\n",
        "            for x in self.d[:10]:\n",
        "                s += repr(x) + ', '\n",
        "            s += '...'\n",
        "            for x in self.d[-10:]:\n",
        "                s += ', ' + repr(x)\n",
        "            s += ']'\n",
        "            return s\n",
        "\n",
        "    def __eq__(self, other):\n",
        "        \"\"\"Unless we define equality, object equality would be the notion of equality.\"\"\"\n",
        "        if isinstance(self.d, np.ndarray) and isinstance(other.d, np.ndarray):\n",
        "            return np.allclose(self.d, other.d, equal_nan=True)\n",
        "        else:\n",
        "            return self.d == other.d\n",
        "\n"
      ],
      "execution_count": 200,
      "outputs": []
    },
    {
      "cell_type": "markdown",
      "metadata": {
        "deletable": false,
        "editable": false,
        "nbgrader": {
          "checksum": "9dc6bc3a1d0c91ed7d8b3d8406b1b934",
          "grade": false,
          "grade_id": "cell-454134c9d8c1387d",
          "locked": true,
          "schema_version": 1,
          "solution": false
        },
        "id": "54BRI90CgMw_"
      },
      "source": [
        "Let's try our implementation. "
      ]
    },
    {
      "cell_type": "code",
      "metadata": {
        "deletable": false,
        "editable": false,
        "nbgrader": {
          "checksum": "8ce881cd6c46eeba2ac815d3adb957e6",
          "grade": false,
          "grade_id": "cell-84fcce1d1a76ad79",
          "locked": true,
          "schema_version": 1,
          "solution": false
        },
        "id": "bNqpkhPKgMw_",
        "outputId": "57970e8d-b513-4682-d605-5c200de6ca9f",
        "colab": {
          "base_uri": "https://localhost:8080/"
        }
      },
      "source": [
        "Column([1, 2, 3])\n"
      ],
      "execution_count": 201,
      "outputs": [
        {
          "output_type": "execute_result",
          "data": {
            "text/plain": [
              "Column: [1, 2, 3]"
            ]
          },
          "metadata": {
            "tags": []
          },
          "execution_count": 201
        }
      ]
    },
    {
      "cell_type": "code",
      "metadata": {
        "deletable": false,
        "editable": false,
        "nbgrader": {
          "checksum": "b5105f1ae295a961be31909c8a9a3abc",
          "grade": false,
          "grade_id": "cell-1a062f9be23c619e",
          "locked": true,
          "schema_version": 1,
          "solution": false
        },
        "id": "gj1oTWgogMxE",
        "outputId": "856f6f81-1a6b-4257-ee3c-0e28780c6e24",
        "colab": {
          "base_uri": "https://localhost:8080/"
        }
      },
      "source": [
        "Column(list(range(30)) + [None, 1])\n"
      ],
      "execution_count": 202,
      "outputs": [
        {
          "output_type": "execute_result",
          "data": {
            "text/plain": [
              "Column: [0.0, 1.0, 2.0, 3.0, 4.0, 5.0, 6.0, 7.0, 8.0, 9.0, ..., 22.0, 23.0, 24.0, 25.0, 26.0, 27.0, 28.0, 29.0, nan, 1.0]"
            ]
          },
          "metadata": {
            "tags": []
          },
          "execution_count": 202
        }
      ]
    },
    {
      "cell_type": "code",
      "metadata": {
        "deletable": false,
        "editable": false,
        "nbgrader": {
          "checksum": "25ca7232c8d1fe757137c7407b75657a",
          "grade": false,
          "grade_id": "cell-332a2a0e8c0d7a4f",
          "locked": true,
          "schema_version": 1,
          "solution": false
        },
        "id": "rIH31lW4gMxI",
        "outputId": "1bc5dd1b-a9db-4695-f54f-76b86695ef09",
        "colab": {
          "base_uri": "https://localhost:8080/"
        }
      },
      "source": [
        "a = Column(range(10))\n",
        "b = Column(a)\n",
        "a == b\n"
      ],
      "execution_count": 203,
      "outputs": [
        {
          "output_type": "execute_result",
          "data": {
            "text/plain": [
              "True"
            ]
          },
          "metadata": {
            "tags": []
          },
          "execution_count": 203
        }
      ]
    },
    {
      "cell_type": "code",
      "metadata": {
        "deletable": false,
        "editable": false,
        "nbgrader": {
          "checksum": "b44e3887290862fb8c22cc09c8b8cd49",
          "grade": false,
          "grade_id": "cell-f7a9aea813c61b3a",
          "locked": true,
          "schema_version": 1,
          "solution": false
        },
        "id": "-flVdtjSgMxM",
        "outputId": "78753ad2-d449-43fc-9a7d-61f89fa68edb",
        "colab": {
          "base_uri": "https://localhost:8080/"
        }
      },
      "source": [
        " Column(['I', 'Like', \"Bananas\"]) == Column(['I', 'Like', \"Bananas\"])\n"
      ],
      "execution_count": 204,
      "outputs": [
        {
          "output_type": "execute_result",
          "data": {
            "text/plain": [
              "True"
            ]
          },
          "metadata": {
            "tags": []
          },
          "execution_count": 204
        }
      ]
    },
    {
      "cell_type": "markdown",
      "metadata": {
        "deletable": false,
        "editable": false,
        "nbgrader": {
          "checksum": "a086740dad63d7799fc687cbe1e4e9c8",
          "grade": false,
          "grade_id": "cell-55b9d038a13eb987",
          "locked": true,
          "schema_version": 1,
          "solution": false
        },
        "id": "39XyOpvvgMxP"
      },
      "source": [
        "## Operations on Columns\n",
        "\n",
        "What are the fundamental operations on columns? For a column `c`:  \n",
        "\n",
        "* Get the length of a column via `len(c)`. \n",
        "* Get the `i`-th element of `c` via `c[i]`\n",
        "* Set the `i`-th element of `c` via `c[i] = ...`\n",
        "\n",
        "These are straightforward to implement, by just remanding to the corresponding methods of the internal data representation."
      ]
    },
    {
      "cell_type": "code",
      "metadata": {
        "deletable": false,
        "editable": false,
        "nbgrader": {
          "checksum": "21cb1f97264e9b0efe50346897a74957",
          "grade": false,
          "grade_id": "cell-6ad98bd4f258d36",
          "locked": true,
          "schema_version": 1,
          "solution": false
        },
        "id": "_PFc4GYbgMxQ"
      },
      "source": [
        "Column.__len__ = lambda self : len(self.d)\n",
        "\n",
        "Column.__getitem__ = lambda self, i : self.d[i]\n",
        "\n",
        "def column_setitem(self, i, x):\n",
        "    self.d[i] = x\n",
        "Column.__setitem__ = column_setitem\n"
      ],
      "execution_count": 205,
      "outputs": []
    },
    {
      "cell_type": "markdown",
      "metadata": {
        "deletable": false,
        "editable": false,
        "nbgrader": {
          "checksum": "fee173a74de02b5ced777805f8312091",
          "grade": false,
          "grade_id": "cell-6f6439ac5fcb0d3c",
          "locked": true,
          "schema_version": 1,
          "solution": false
        },
        "id": "EEqgBxJDgMxT"
      },
      "source": [
        "We would like also to implement iteration."
      ]
    },
    {
      "cell_type": "code",
      "metadata": {
        "deletable": false,
        "editable": false,
        "nbgrader": {
          "checksum": "3f2ebe4e4ebe90a6f6534d7a822fcb85",
          "grade": false,
          "grade_id": "cell-4ee8dca228cd5fe",
          "locked": true,
          "schema_version": 1,
          "solution": false
        },
        "id": "Mze9ZjIOgMxU"
      },
      "source": [
        "def column_iter(self):\n",
        "    for x in self.d:\n",
        "        yield x\n",
        "Column.__iter__ = column_iter\n"
      ],
      "execution_count": 206,
      "outputs": []
    },
    {
      "cell_type": "markdown",
      "metadata": {
        "deletable": false,
        "editable": false,
        "nbgrader": {
          "checksum": "e472949a9eff25b7719272bf9f217aa1",
          "grade": false,
          "grade_id": "cell-a6d3ebd51681f36c",
          "locked": true,
          "schema_version": 1,
          "solution": false
        },
        "id": "Yxrs6w7agMxW"
      },
      "source": [
        "### Exercise: Arithmetic operations between columns\n",
        "\n",
        "**Exercise:** Define numerical operations +, -, /, * for columns.  These work as the usual arithmetic operations for numpy types.  For other types, just use the operations +, -, /, * between elements, hoping that they are defined; if you get an error, you insert `None` for that value, so that the operation itself never breaks.  This is done so that if you add, for instance, a fist name to a last name to obtain a complete name, if the last name of a person is `None`, you get `None` for the full name of the person, rather than an error.  It is rather annoying to process a large amount of data and fail because a few pieces of information are missing."
      ]
    },
    {
      "cell_type": "code",
      "metadata": {
        "deletable": false,
        "nbgrader": {
          "checksum": "56e55816d3a92c895b2ce4f056d5df0c",
          "grade": false,
          "grade_id": "cell-c09f2fbf3f08dbb3",
          "locked": false,
          "schema_version": 1,
          "solution": true
        },
        "id": "zwOoixAPgMxX"
      },
      "source": [
        "### Question 1: Arithmetic operations\n",
        "\n",
        "class IncompatibleColumns(Exception):\n",
        "    \"\"\"We raise this exception if you try to combine columns that are incompatible,\n",
        "    e.g, they are of different length.\"\"\"\n",
        "    pass\n",
        "\n",
        "def column_binary_op(self, other, op):\n",
        "    if len(self) != len(other):\n",
        "        raise IncompatibleColumns()\n",
        "    # YOUR CODE HERE\n",
        "    r=[]\n",
        "    for i in range(len(self)):\n",
        "        r.append(op(self[i], other[i]))\n",
        "    return Column(r)\n",
        "\n",
        "\n",
        "\n",
        "def column_add(self, other):\n",
        "    return column_binary_op(self, other, lambda x, y: x + y)\n",
        "\n",
        "# Define similarly the other operators.  Think at what to do for __neg__,\n",
        "# which is a unary operator; there are many solutions, all ok.\n",
        "\n",
        "# YOUR CODE HERE\n",
        "def column_sub(self, other):\n",
        "    return column_binary_op(self, other, lambda x, y: x - y)\n",
        "def column_mul(self, other):\n",
        "    return column_binary_op(self, other, lambda x, y: x * y)\n",
        "def column_div(self, other):\n",
        "    return column_binary_op(self, other, lambda x, y: x / y)\n",
        "def column_neg(self, other):\n",
        "    df['r']=df['self'] +df['other']\n",
        "    return r\n",
        "\n",
        "\n",
        "Column.__add__ = column_add\n",
        "Column.__sub__ = column_sub\n",
        "Column.__mul__ = column_mul\n",
        "Column.__div__ = column_div\n",
        "Column.__neg__ = column_neg\n"
      ],
      "execution_count": 207,
      "outputs": []
    },
    {
      "cell_type": "code",
      "metadata": {
        "deletable": false,
        "editable": false,
        "nbgrader": {
          "checksum": "a97d5dc7565d426c30582282b4b767b5",
          "grade": false,
          "grade_id": "cell-7450039eb5374e0a",
          "locked": true,
          "schema_version": 1,
          "solution": false
        },
        "id": "MBdOy6z5gMxa"
      },
      "source": [
        "#@title Let's define a testing helper.\n",
        "\n",
        "def check_equal(x, y, msg=None):\n",
        "    if x != y:\n",
        "        if msg is None:\n",
        "            print(\"Error:\")\n",
        "        else:\n",
        "            print(\"Error in\", msg, \":\")\n",
        "        print(\"    Your answer was:\", x)\n",
        "        print(\"    Correct answer: \", y)\n",
        "    assert x == y, \"%r and %r are different\" % (x, y)\n",
        "    print(\"Success\")\n"
      ],
      "execution_count": 208,
      "outputs": []
    },
    {
      "cell_type": "code",
      "metadata": {
        "deletable": false,
        "editable": false,
        "nbgrader": {
          "checksum": "c5d3f1955bd9345c3dbd64aa4de54e44",
          "grade": true,
          "grade_id": "cell-5f75b69ac02a421a",
          "locked": true,
          "points": 10,
          "schema_version": 1,
          "solution": false
        },
        "id": "vrQ8ZFLpgMxd",
        "outputId": "8da37f9a-adb5-47b8-fbee-186316e80df0",
        "colab": {
          "base_uri": "https://localhost:8080/"
        }
      },
      "source": [
        "### Question 1: 10 points\n",
        "\n",
        "### Tests for operations between numpy columns.\n",
        "\n",
        "a = Column([1, 2, 3])\n",
        "b = Column(np.array([5, 6, 7]))\n",
        "check_equal(a + b, Column([6, 8, 10]))\n",
        "check_equal(a * b, Column([5, 12, 21]))\n",
        "\n"
      ],
      "execution_count": 209,
      "outputs": [
        {
          "output_type": "stream",
          "text": [
            "Success\n",
            "Success\n"
          ],
          "name": "stdout"
        }
      ]
    },
    {
      "cell_type": "code",
      "metadata": {
        "deletable": false,
        "editable": false,
        "nbgrader": {
          "checksum": "b5e8cdd1fa89754a8140ccd1c911e790",
          "grade": true,
          "grade_id": "cell-8126b23b8450f79e",
          "locked": true,
          "points": 10,
          "schema_version": 1,
          "solution": false
        },
        "id": "_lYe-XXYgMxg",
        "outputId": "84fb3ead-0597-4636-ea1a-0f0e206e7806",
        "colab": {
          "base_uri": "https://localhost:8080/"
        }
      },
      "source": [
        "### Question 1: 10 points\n",
        "\n",
        "### Tests for operations between generic columns.\n",
        "\n",
        "a = Column([\"a\", \"b\", \"c\"])\n",
        "b = Column([\"d\", \"e\", \"f\"])\n",
        "check_equal(a + b, Column(['ad', 'be', 'cf']))\n",
        "\n"
      ],
      "execution_count": 210,
      "outputs": [
        {
          "output_type": "stream",
          "text": [
            "Success\n"
          ],
          "name": "stdout"
        }
      ]
    },
    {
      "cell_type": "markdown",
      "metadata": {
        "deletable": false,
        "editable": false,
        "nbgrader": {
          "checksum": "dadfdb01fab7351f19575b34e9d8b695",
          "grade": false,
          "grade_id": "cell-ab358d4f31010efc",
          "locked": true,
          "schema_version": 1,
          "solution": false
        },
        "id": "8lgK1CQxgMxj"
      },
      "source": [
        "**Exercise:** Define an `apply` method, so that for a column c, and a function f on its elements, \n",
        "\n",
        "    c.apply(f)\n",
        "\n",
        "returns a new column where `f` has been applied to each element of the column.  For example, if we define \n",
        "\n",
        "def f(x):\n",
        "    return x + 1\n",
        "\n",
        "then \n",
        "\n",
        "    c.apply(f)\n",
        "\n",
        "would return a new column, where each element of the previous column has been incremented by 1.  This is similar (but better!) to the [`apply` function of Pandas](https://pandas.pydata.org/pandas-docs/stable/reference/api/pandas.DataFrame.apply.html); at least we don't need that confusing axis=1 argument every single time.  "
      ]
    },
    {
      "cell_type": "code",
      "metadata": {
        "deletable": false,
        "nbgrader": {
          "checksum": "aac5505f9989b16705f529f82c56adcf",
          "grade": false,
          "grade_id": "cell-61f110101250f1af",
          "locked": false,
          "schema_version": 1,
          "solution": true
        },
        "id": "UeU9n5kvgMxk"
      },
      "source": [
        "### Question 2: Define an apply function for columns.\n",
        "\n",
        "def column_apply(self, f):\n",
        "    # This is a one-liner.\n",
        "    # YOUR CODE HERE\n",
        "    return Column([f(x) for x in self.d])\n",
        "\n",
        "Column.apply = column_apply\n"
      ],
      "execution_count": 211,
      "outputs": []
    },
    {
      "cell_type": "code",
      "metadata": {
        "deletable": false,
        "editable": false,
        "nbgrader": {
          "checksum": "0081dbe5123e289b332f60e837846b49",
          "grade": true,
          "grade_id": "cell-d19f5a789550d42b",
          "locked": true,
          "points": 10,
          "schema_version": 1,
          "solution": false
        },
        "id": "K9i_vziXgMxm",
        "outputId": "f1099c68-d6ad-4c1a-df9c-3bdddf5b9f2e",
        "colab": {
          "base_uri": "https://localhost:8080/"
        }
      },
      "source": [
        "### Question 2, 10 points: Tests for apply function\n",
        "\n",
        "# It works for numbers...\n",
        "c = Column([1, 2, 3, 4])\n",
        "def f(x):\n",
        "    return x * x\n",
        "check_equal(c.apply(f), Column([1, 4, 9, 16]))\n",
        "\n",
        "# And it works for strings too!\n",
        "c = Column(\"i like to go to london\".split())\n",
        "def f(x):\n",
        "    return x.capitalize()\n",
        "c.apply(f)\n",
        "check_equal(c.apply(f), Column(['I', 'Like', 'To', 'Go', 'To', 'London']))\n"
      ],
      "execution_count": 212,
      "outputs": [
        {
          "output_type": "stream",
          "text": [
            "Success\n",
            "Success\n"
          ],
          "name": "stdout"
        }
      ]
    },
    {
      "cell_type": "markdown",
      "metadata": {
        "deletable": false,
        "editable": false,
        "nbgrader": {
          "checksum": "520cbe3c7c48f86fcb3eda135f0a035c",
          "grade": false,
          "grade_id": "cell-490e28010f90dec3",
          "locked": true,
          "schema_version": 1,
          "solution": false
        },
        "id": "wPcmXqtOgMxp"
      },
      "source": [
        "## Tables\n",
        "\n",
        "Our class Table will be a subclass of OrderedDict. \n",
        "[OrderedDict](https://docs.python.org/3.7/library/collections.html#collections.OrderedDict) is a Python dictionary that remembers the order in which items were inserted.  \n",
        "\n",
        "This is not an ideal implementation, and it would perhaps be better to keep the order of the columns in a separate list. \n",
        "But at least, when we read a csv file, we can preserve the column order. "
      ]
    },
    {
      "cell_type": "code",
      "metadata": {
        "deletable": false,
        "editable": false,
        "nbgrader": {
          "checksum": "418422199f7c0fe04530d1277bc9f29c",
          "grade": false,
          "grade_id": "cell-43cd63012f40ef6d",
          "locked": true,
          "schema_version": 1,
          "solution": false
        },
        "id": "MWEkEaGegMxq"
      },
      "source": [
        "from collections import OrderedDict as MyOrderedDictionary\n",
        "# If you have a good implementation of OrderedDictionary, you could import it via:\n",
        "# import OrderedDictionary as MyOrderedDictionary\n",
        "\n",
        "class Table(MyOrderedDictionary):\n",
        "\n",
        "    def __init__(self, *args, **kwargs):\n",
        "        # We initialize the ordered dictionary.\n",
        "        super().__init__(*args, **kwargs)\n",
        "        # And we check that column names and types have appropriate values.\n",
        "        # Remember: here, .items() are the (column_name, column) pairs.\n",
        "        for k, v in self.items():\n",
        "            if not isinstance(k, str):\n",
        "                raise TypeError(\"Column names must be of type str\")\n",
        "            if not isinstance(v, Column):\n",
        "                # Converts to column\n",
        "                self[k] = Column(v)\n",
        "        if len(self) > 0:\n",
        "            # Checks that all columns have the same length.\n",
        "            lens = [(k, len(v)) for k, v in self.items()]\n",
        "            for k, l in lens[1:]:\n",
        "                if l != lens[0][1]:\n",
        "                    raise TypeError(\"Column %s has length %d but column %s has length %d\" %\n",
        "                                    (lens[0][0], lens[0][1], k, l))\n",
        "\n",
        "    @property\n",
        "    def num_rows(self):\n",
        "        \"\"\"The number of rows of the table.  It would be nicer to redefine\n",
        "        __len__ to return the number of rows, but as Table is an extension of\n",
        "        a dictionary, we do not wish to subvert the normal meaning of __len__.\"\"\"\n",
        "        for v in self.values():\n",
        "            return len(v)\n"
      ],
      "execution_count": 213,
      "outputs": []
    },
    {
      "cell_type": "code",
      "metadata": {
        "deletable": false,
        "editable": false,
        "nbgrader": {
          "checksum": "29a0295a1cc5e911ecb4a522bc296ec9",
          "grade": false,
          "grade_id": "cell-4b2c81f7839bcac0",
          "locked": true,
          "schema_version": 1,
          "solution": false
        },
        "id": "o6qTdxSEgMxs",
        "outputId": "d6f1ad27-66b4-4736-962f-1ecf3c3c0ffb",
        "colab": {
          "base_uri": "https://localhost:8080/"
        }
      },
      "source": [
        "t = Table(city=['London', 'New York', 'San Francisco'], population=[8908081, 8398748, 883305], csa=[None, 22679948, 9666055])\n",
        "t\n"
      ],
      "execution_count": 214,
      "outputs": [
        {
          "output_type": "execute_result",
          "data": {
            "text/plain": [
              "Table([('city', Column: ['London', 'New York', 'San Francisco']),\n",
              "       ('population', Column: [8908081, 8398748, 883305]),\n",
              "       ('csa', Column: [nan, 22679948.0, 9666055.0])])"
            ]
          },
          "metadata": {
            "tags": []
          },
          "execution_count": 214
        }
      ]
    },
    {
      "cell_type": "markdown",
      "metadata": {
        "deletable": false,
        "editable": false,
        "nbgrader": {
          "checksum": "a5e0ccc3e0ea40a562a0bdc833607c2f",
          "grade": false,
          "grade_id": "cell-5cc37e55bb5a579d",
          "locked": true,
          "schema_version": 1,
          "solution": false
        },
        "id": "dTWKR1QUgMxv"
      },
      "source": [
        "### Table iteration\n",
        "\n",
        "Let's define a row iterator which yields at each iteration a row, represented as a dictionary mapping from column names to column values at that row.  We will let you do it. \n"
      ]
    },
    {
      "cell_type": "code",
      "metadata": {
        "deletable": false,
        "nbgrader": {
          "checksum": "477114ed738f55ca0fd6af322b4e4fa3",
          "grade": false,
          "grade_id": "cell-a9f2b387c5ad6b77",
          "locked": false,
          "schema_version": 1,
          "solution": true
        },
        "id": "Gk8YW-BLgMxw"
      },
      "source": [
        "### Question 3: Table iteration\n",
        "\n",
        "def iter_table(self):\n",
        "    # YOUR CODE HERE\n",
        "    for i in range(self.num_rows):\n",
        "        r={}\n",
        "        for n in self.keys():\n",
        "            r[n]=self[n][i]\n",
        "        yield r\n",
        "\n",
        "Table.__iter__ = iter_table\n"
      ],
      "execution_count": 215,
      "outputs": []
    },
    {
      "cell_type": "code",
      "metadata": {
        "deletable": false,
        "editable": false,
        "nbgrader": {
          "checksum": "9c1b75ffef4dccfa62a893b59d92f64c",
          "grade": false,
          "grade_id": "cell-17bf88ea35ba36c5",
          "locked": true,
          "schema_version": 1,
          "solution": false
        },
        "id": "buIlE0apgMxy",
        "outputId": "89bcee93-53ec-4c25-abe9-e585090fe82d",
        "colab": {
          "base_uri": "https://localhost:8080/"
        }
      },
      "source": [
        "t = Table(city=['London', 'New York', 'San Francisco'],\n",
        "          population=[8908081, 8398748, 883305],\n",
        "          csa=[None, 22679948, 9666055])\n",
        "for r in t:\n",
        "    print(r)\n"
      ],
      "execution_count": 216,
      "outputs": [
        {
          "output_type": "stream",
          "text": [
            "{'city': 'London', 'population': 8908081, 'csa': nan}\n",
            "{'city': 'New York', 'population': 8398748, 'csa': 22679948.0}\n",
            "{'city': 'San Francisco', 'population': 883305, 'csa': 9666055.0}\n"
          ],
          "name": "stdout"
        }
      ]
    },
    {
      "cell_type": "code",
      "metadata": {
        "deletable": false,
        "editable": false,
        "nbgrader": {
          "checksum": "a91623e9d06e2ddec4aa414f92517138",
          "grade": true,
          "grade_id": "cell-68e41033a042db53",
          "locked": true,
          "points": 10,
          "schema_version": 1,
          "solution": false
        },
        "id": "Gn9xl5V1gMx0",
        "outputId": "ac457f56-3d7c-42cb-8e29-c930741b9fef",
        "colab": {
          "base_uri": "https://localhost:8080/"
        }
      },
      "source": [
        "### Question 3, 10 points: Tests for table iteration\n",
        "\n",
        "t = Table(city=['London', 'New York', 'San Francisco'],\n",
        "          population=[8908081, 8398748, 883305],\n",
        "          csa=[34, 22679948, 9666055])\n",
        "rows = [r for r in t]\n",
        "check_equal(rows[0], {'city': 'London', 'population': 8908081, 'csa': 34})\n",
        "check_equal(rows[1], {'city': 'New York', 'population': 8398748, 'csa': 22679948.0})\n",
        "check_equal(rows[2], {'city': 'San Francisco', 'population': 883305, 'csa': 9666055.0})\n",
        "\n"
      ],
      "execution_count": 217,
      "outputs": [
        {
          "output_type": "stream",
          "text": [
            "Success\n",
            "Success\n",
            "Success\n"
          ],
          "name": "stdout"
        }
      ]
    },
    {
      "cell_type": "markdown",
      "metadata": {
        "deletable": false,
        "editable": false,
        "nbgrader": {
          "checksum": "ccf7f3f0acfce5a351fe5ebfbfdc02fd",
          "grade": false,
          "grade_id": "cell-2a689f304954ba80",
          "locked": true,
          "schema_version": 1,
          "solution": false
        },
        "id": "E8m27kAjgMx3"
      },
      "source": [
        "## Accessing and slicing rows\n",
        "\n",
        "Given a table, we are interested in _slicing_ some of its rows. \n",
        "\n",
        "If we have a list `l = ['a', 'b', 'c', 'd']`, we can slice the list via `l[2:]` and obtain only the elements starting at position 2, or `l[:3]` and obtain the first three elements of `l`, namely, `['a', 'b', 'c']`. \n",
        "In Python, slicing is customarily used with the `[]` notation, and therefore, with `__getitem__`.  But in our tables, the square-brackets `[]` and `__getitem__` are already used to access columns.  Thus, we define `loc` as a way to access rows by their index.  Given a table t, \n",
        "\n",
        "    t.loc[4]\n",
        "\n",
        "will give row 4 (as a dictionary mapping column names to column values, as for iteration), and \n",
        "\n",
        "    t.loc[:5]\n",
        "\n",
        "will give the first five rows, as a new table.  This behavior is dishomogeneous: the return type of `loc` depends on its input type.  However, it is natural to represent a single row as a dictionary, so that: \n",
        "\n",
        "    for row in t:\n",
        "        do_something(row)\n",
        "\n",
        "and \n",
        "\n",
        "    for i in range(t.num_rows):\n",
        "        do_something(t.loc[i])\n",
        "\n",
        "behave in the same way.  Slicing is often used to obtain smaller datasets from larger ones, and thus, it is natural to return a new Table as a result.\n",
        "\n",
        "How do we implement this?  The implementation is a little advanced, but also very instructive. \n",
        "Ranges such as `:5` in `[:5]` are [slice objects](https://docs.python.org/3/library/functions.html#slice) in Python. \n",
        "Such slice objects represent the set of indices in the slice.\n",
        "Now, we wish that we could write a method loc, that could take as input both an integer and a slice.  In this way, we could write \n",
        "\n",
        "    t.loc(3)\n",
        "\n",
        "and \n",
        "\n",
        "    t.loc(:6)\n",
        "\n",
        "The problem is that in Python, the only way of constructing a slice object using the nice `:` syntax is to use it in square brackets, such as `[:5]`, not as a function argument as in `(:5)`.  \n",
        "How can we make such square-bracket syntax work?  Remember that the square-bracket syntax is associated, in Python, with the `__getitem__` method.  Therefore, for `t.loc[:5]` to work, `t.loc` must be an object that supports `__getitem__`. \n",
        "So the implementation is as follows: \n",
        "\n",
        "* We define a `TableSlicer` class.  Its objects are initialized with a reference to the table, and they support the `__getitem__` method, so they can easily get a slice as argument.  The `__getitem__` method will check the type of its argument.  If it is an integer, it will return the given row.  If it is a [slice](https://docs.python.org/3/library/functions.html#slice), it will return a new table,  with the specified rows.\n",
        "\n",
        "* We define the `loc` _property_ to return a `TableSlicer` object for the class.  We let `loc` be a _property_, rather than a method, so we can write\n",
        "\n",
        "    t.loc[:5]\n",
        "\n",
        "rather than \n",
        "\n",
        "    t.loc()[:5]\n",
        "\n",
        "In summary, the expression `t.loc[:5]` can be read as follows:\n",
        "\n",
        "* `t.loc` returns a `TableSlicer` for `t`;\n",
        "* `[:5]` causes the `__getitem__` method of the `TableSlicer` object to be called with the slice `:5`, and will return the table consisting of the first five rows of the original table.\n",
        "\n",
        "This is a lot of words, but the code is actually quite concise.\n",
        "\n",
        "We note that there is a difference: \n",
        "\n",
        "    t.loc[4]\n",
        "\n",
        "returns a dictionary header to values of row 4. \n",
        "Instead, \n",
        "\n",
        "    t.loc[4:5]\n",
        "\n",
        "returns a table containing a single row, corresponding to row 4. \n",
        "\n",
        "We think this is a useful difference, and we keep this behavior."
      ]
    },
    {
      "cell_type": "code",
      "metadata": {
        "deletable": false,
        "editable": false,
        "nbgrader": {
          "checksum": "a2dd94c1228704c10230d17a4c91cb8f",
          "grade": false,
          "grade_id": "cell-bd55e0871cfb0693",
          "locked": true,
          "schema_version": 1,
          "solution": false
        },
        "id": "8SE8Gs_zgMx4"
      },
      "source": [
        "class TableSlicer(object):\n",
        "\n",
        "    def __init__(self, table):\n",
        "        \"\"\"Initializes a table slicer for the given table.\"\"\"\n",
        "        self.table = table\n",
        "\n",
        "    def __getitem__(self, i):\n",
        "        \"\"\"Returns either the row i of the table, as a dictionary\n",
        "        mapping column name to column content, or if i is a slice,\n",
        "        returns a new table corresponding to the slice of rows.\"\"\"\n",
        "        headers = list(self.table.keys())\n",
        "        if isinstance(i, int):\n",
        "            return {k: self.table[k][i] for k in headers}\n",
        "        elif isinstance(i, slice):\n",
        "            # Here we trust that both lists and np.arrays support slices,\n",
        "            # which they do.\n",
        "            return Table({k: self.table[k][i] for k in headers})\n",
        "        else:\n",
        "            raise TypeError(\"loc called with non-integer, non-slice argument\")\n",
        "\n",
        "def table_loc(self):\n",
        "    \"\"\"This returns a slicer object, so we can write something like t.loc[i] with the [i]\n",
        "    using the __getitem__ method of t.loc\"\"\"\n",
        "    return TableSlicer(self)\n",
        "\n",
        "# We use the property decorator here, so we can write t.loc[i] instead of t.loc()[i]\n",
        "Table.loc = property(table_loc)\n"
      ],
      "execution_count": 218,
      "outputs": []
    },
    {
      "cell_type": "markdown",
      "metadata": {
        "deletable": false,
        "editable": false,
        "nbgrader": {
          "checksum": "e099d7137f93f71cc5b5b25c0790805b",
          "grade": false,
          "grade_id": "cell-810d8dd6c9c68c42",
          "locked": true,
          "schema_version": 1,
          "solution": false
        },
        "id": "7QDgNDeOgMx6"
      },
      "source": [
        "### Displaying tables\n",
        "\n",
        "A table looks like a table only if we ... display it as a table!  Let us provide a visualization via the [`_repr_html_`](https://ipython.readthedocs.io/en/stable/config/integrating.html#rich-display) method of IPython."
      ]
    },
    {
      "cell_type": "code",
      "metadata": {
        "deletable": false,
        "editable": false,
        "nbgrader": {
          "checksum": "fbe497d709883f5fb9609cd33358deea",
          "grade": false,
          "grade_id": "cell-f558d5ed27affa58",
          "locked": true,
          "schema_version": 1,
          "solution": false
        },
        "id": "wuIP0tRbgMx7"
      },
      "source": [
        "from IPython.display import HTML, display\n",
        "import tabulate # See https://pypi.org/project/tabulate/\n",
        "\n",
        "def table_repr(self, max_rows=20):\n",
        "    \"\"\"Displays a table.  At most max_rows are displayed; if max_rows = 0, then\n",
        "    all rows are displayed.\"\"\"\n",
        "    headers = list(self.keys())\n",
        "    if max_rows == 0 or self.num_rows <= max_rows:\n",
        "        rows = [[r[k] for k in headers] for r in self]\n",
        "    else:\n",
        "        rows_first = [[r[k] for k in headers] for r in self.loc[:max_rows // 2]]\n",
        "        rows_last  = [[r[k] for k in headers] for r in self.loc[- max_rows // 2:]]\n",
        "        mid_row = ['...' for k in headers]\n",
        "        rows = rows_first + [mid_row] + rows_last\n",
        "    # Displays the table.\n",
        "    display(HTML(tabulate.tabulate(rows, headers=headers, tablefmt='html')))\n",
        "    return \"\" # __repr__ must return a string...\n",
        "\n",
        "# The _repr_html_ method is the method that is\n",
        "Table._repr_html_ = table_repr\n"
      ],
      "execution_count": 219,
      "outputs": []
    },
    {
      "cell_type": "code",
      "metadata": {
        "deletable": false,
        "editable": false,
        "nbgrader": {
          "checksum": "5f72e336e93cd6764b68ca68c899623d",
          "grade": false,
          "grade_id": "cell-e52a5af77865f5d0",
          "locked": true,
          "schema_version": 1,
          "solution": false
        },
        "id": "jGeNFGZugMx9",
        "outputId": "9193ba0b-7695-43ed-94de-1b37f108366b",
        "colab": {
          "base_uri": "https://localhost:8080/",
          "height": 103
        }
      },
      "source": [
        "Table(city=['London', 'New York', 'San Francisco'], population=[8908081, 8398748, 883305], csa=[None, 22679948, 9666055])\n"
      ],
      "execution_count": 220,
      "outputs": [
        {
          "output_type": "display_data",
          "data": {
            "text/html": [
              "<table>\n",
              "<thead>\n",
              "<tr><th>city         </th><th style=\"text-align: right;\">      population</th><th style=\"text-align: right;\">          csa</th></tr>\n",
              "</thead>\n",
              "<tbody>\n",
              "<tr><td>London       </td><td style=\"text-align: right;\">     8.90808e+06</td><td style=\"text-align: right;\">nan          </td></tr>\n",
              "<tr><td>New York     </td><td style=\"text-align: right;\">     8.39875e+06</td><td style=\"text-align: right;\">  2.26799e+07</td></tr>\n",
              "<tr><td>San Francisco</td><td style=\"text-align: right;\">883305          </td><td style=\"text-align: right;\">  9.66606e+06</td></tr>\n",
              "</tbody>\n",
              "</table>"
            ],
            "text/plain": [
              "<IPython.core.display.HTML object>"
            ]
          },
          "metadata": {
            "tags": []
          }
        },
        {
          "output_type": "execute_result",
          "data": {
            "text/html": [
              ""
            ],
            "text/plain": [
              "Table([('city', Column: ['London', 'New York', 'San Francisco']),\n",
              "       ('population', Column: [8908081, 8398748, 883305]),\n",
              "       ('csa', Column: [nan, 22679948.0, 9666055.0])])"
            ]
          },
          "metadata": {
            "tags": []
          },
          "execution_count": 220
        }
      ]
    },
    {
      "cell_type": "code",
      "metadata": {
        "deletable": false,
        "editable": false,
        "nbgrader": {
          "checksum": "e4793ea1a278baf2c22e7af074134607",
          "grade": false,
          "grade_id": "cell-f5bca1bb3811e63a",
          "locked": true,
          "schema_version": 1,
          "solution": false
        },
        "id": "0_KcNfTLgMyB",
        "outputId": "fe505183-add2-428c-922c-4fae3044826d",
        "colab": {
          "base_uri": "https://localhost:8080/",
          "height": 103
        }
      },
      "source": [
        "from IPython.display import HTML, display\n",
        "import tabulate # See https://pypi.org/project/tabulate/\n",
        "\n",
        "table = [[\"London\", 8908081],\n",
        "         [\"New York\", 8398748],\n",
        "         [\"San Francisco\", 883305]]\n",
        "display(HTML(tabulate.tabulate(table, headers=[\"City\", \"Population\"], tablefmt='html')))\n"
      ],
      "execution_count": 221,
      "outputs": [
        {
          "output_type": "display_data",
          "data": {
            "text/html": [
              "<table>\n",
              "<thead>\n",
              "<tr><th>City         </th><th style=\"text-align: right;\">  Population</th></tr>\n",
              "</thead>\n",
              "<tbody>\n",
              "<tr><td>London       </td><td style=\"text-align: right;\">     8908081</td></tr>\n",
              "<tr><td>New York     </td><td style=\"text-align: right;\">     8398748</td></tr>\n",
              "<tr><td>San Francisco</td><td style=\"text-align: right;\">      883305</td></tr>\n",
              "</tbody>\n",
              "</table>"
            ],
            "text/plain": [
              "<IPython.core.display.HTML object>"
            ]
          },
          "metadata": {
            "tags": []
          }
        }
      ]
    },
    {
      "cell_type": "code",
      "metadata": {
        "deletable": false,
        "editable": false,
        "nbgrader": {
          "checksum": "1a0903fd1e2547cf7a5297fb9d4cd1eb",
          "grade": false,
          "grade_id": "cell-6222803c2fdd2139",
          "locked": true,
          "schema_version": 1,
          "solution": false
        },
        "id": "LgQPdZg9gMyI",
        "outputId": "1c15cd50-667e-4eac-f91e-d574139a3ab6",
        "colab": {
          "base_uri": "https://localhost:8080/"
        }
      },
      "source": [
        "t = Table(city=['London', 'New York', 'San Francisco'], population=[8908081, 8398748, 883305], csa=[None, 22679948, 9666055])\n",
        "t.loc[2]\n"
      ],
      "execution_count": 222,
      "outputs": [
        {
          "output_type": "execute_result",
          "data": {
            "text/plain": [
              "{'city': 'San Francisco', 'csa': 9666055.0, 'population': 883305}"
            ]
          },
          "metadata": {
            "tags": []
          },
          "execution_count": 222
        }
      ]
    },
    {
      "cell_type": "markdown",
      "metadata": {
        "deletable": false,
        "editable": false,
        "nbgrader": {
          "checksum": "799b69fbd0843a05359702260e1a69ed",
          "grade": false,
          "grade_id": "cell-1ac4c8bcb34aa44d",
          "locked": true,
          "schema_version": 1,
          "solution": false
        },
        "id": "t8aZnRk9gMyL"
      },
      "source": [
        "**Exercise:** Write `head`, `tail`, `idx`, and `sample` methods:\n",
        "\n",
        "* `head(n)` should return a new table consisting of the first `n` rows of the table; \n",
        "* `tail(n)` should return a new table consisting of the last `n` rows of the table;\n",
        "* `idx(l)` should return a new table consisting of the rows whose indices are in the list `l`.  So if `l = [2, 4, 5]`, the new table should consist of rows 2, 4, 5 of the table. \n",
        "* `sample(n)` should return a new table consisting of `n` rows sampled at random among those of the table. \n",
        "\n",
        "_Hint:_ The head and tail methods are trivial to implement, using the above .loc one.  The one method slightly more difficult is `idx`.  Once you implement `idx`, it is easy to implement `sample` by looking at the documentation for [random.sample](https://docs.python.org/3/library/random.html#random.sample). "
      ]
    },
    {
      "cell_type": "code",
      "metadata": {
        "deletable": false,
        "nbgrader": {
          "checksum": "f2ca2714fb1587dce480492496793ff5",
          "grade": false,
          "grade_id": "cell-c9d2b89e95d9c18f",
          "locked": false,
          "schema_version": 1,
          "solution": true
        },
        "id": "EvqWx7OugMyM"
      },
      "source": [
        "### Question 4: Define head, tail, and sample methods.\n",
        "\n",
        "# This is used in the sample method.\n",
        "import random\n",
        "\n",
        "def table_head(self, n=5):\n",
        "    \"\"\"Returns the top n elements (or less, if the table is shorter) of the\n",
        "    table, as a new table.\"\"\"\n",
        "    # YOUR CODE HERE\n",
        "    return self.loc[:n]\n",
        "\n",
        "def table_tail(self, n=5):\n",
        "    \"\"\"Returns the bottom n elements of the table as a new table.\"\"\"\n",
        "    # YOUR CODE HERE\n",
        "    return self.loc[5-n:]\n",
        "\n",
        "def table_idx(self, indices):\n",
        "    \"\"\"Given a list of indices, returns a new table consisting of the\n",
        "    rows of the table with the specified indices.\"\"\"\n",
        "    # YOUR CODE HERE\n",
        "    r=Table(self)\n",
        "    for i in self.keys():\n",
        "        r[i]=[]\n",
        "        for n in indices:\n",
        "            r[i].append(self[i][n])\n",
        "    return r\n",
        "    \n",
        "\n",
        "def table_sample(self, n=5):\n",
        "    \"\"\"Returns a sample of length n of the table's rows, as a new table.\"\"\"\n",
        "    # YOUR CODE HERE\n",
        "    r=[]\n",
        "    f=[]\n",
        "    for i in range(self.num_rows):\n",
        "        r.append(i)\n",
        "    f=random.sample(r,n)\n",
        "    return table_idx(self,f)\n",
        "\n",
        "Table.head = table_head\n",
        "Table.tail = table_tail\n",
        "Table.idx = table_idx\n",
        "Table.sample = table_sample\n"
      ],
      "execution_count": 223,
      "outputs": []
    },
    {
      "cell_type": "markdown",
      "metadata": {
        "deletable": false,
        "editable": false,
        "nbgrader": {
          "checksum": "3b98bc40122097d38d109d6ecfadbe16",
          "grade": false,
          "grade_id": "cell-ba3462d0ea4a4f57",
          "locked": true,
          "schema_version": 1,
          "solution": false
        },
        "id": "I9l-ZCClgMyP"
      },
      "source": [
        "Let's test the methods. "
      ]
    },
    {
      "cell_type": "code",
      "metadata": {
        "deletable": false,
        "editable": false,
        "nbgrader": {
          "checksum": "ace9f732280fca855856d3a862a3c9ec",
          "grade": true,
          "grade_id": "cell-9768efebcfaf25e3",
          "locked": true,
          "points": 10,
          "schema_version": 1,
          "solution": false
        },
        "id": "9OGOKba4gMyP",
        "outputId": "5243c03d-6376-47a1-b4d1-341b970faa75",
        "colab": {
          "base_uri": "https://localhost:8080/"
        }
      },
      "source": [
        "### Question 4, 10 points: Tests for `head` and `tail`\n",
        "t = Table(city=['London', 'New York City', 'San Francisco', 'Santa Cruz', 'Mountain View'],\n",
        "          population=[8908081, 8398748, 883305, 82739, 65541],\n",
        "          area=[1572, 1212, 600, 31, 33])\n",
        "\n",
        "t1 = t.head()\n",
        "t2 = t.tail()\n",
        "check_equal(t1, t2)\n",
        "check_equal(t, t1)\n",
        "t1 = t.head(2)\n",
        "check_equal(t1.num_rows, 2)\n",
        "check_equal(t.loc[0], t1.loc[0])\n",
        "check_equal(t.loc[1], t1.loc[1])\n",
        "t2 = t.tail(2)\n",
        "check_equal(t.loc[3], t2.loc[0])\n",
        "check_equal(t.loc[4], t2.loc[1])\n",
        "\n"
      ],
      "execution_count": 224,
      "outputs": [
        {
          "output_type": "stream",
          "text": [
            "Success\n",
            "Success\n",
            "Success\n",
            "Success\n",
            "Success\n",
            "Success\n",
            "Success\n"
          ],
          "name": "stdout"
        }
      ]
    },
    {
      "cell_type": "code",
      "metadata": {
        "deletable": false,
        "editable": false,
        "nbgrader": {
          "checksum": "78f289b8987e39ec6234c3a54fa0c75f",
          "grade": true,
          "grade_id": "cell-c858f4f20898885",
          "locked": true,
          "points": 10,
          "schema_version": 1,
          "solution": false
        },
        "id": "fX00ScABgMyS",
        "outputId": "bdebc074-bc09-43d6-9032-2e7c1b7f91c7",
        "colab": {
          "base_uri": "https://localhost:8080/"
        }
      },
      "source": [
        "### Question 4, 10 points: Tests for `idx`\n",
        "\n",
        "t = Table(city=['London', 'New York City', 'San Francisco', 'Santa Cruz', 'Mountain View'],\n",
        "          population=[8908081, 8398748, 883305, 82739, 65541],\n",
        "          area=[1572, 1212, 600, 31, 33])\n",
        "\n",
        "idxs = [0, 1, 3]\n",
        "tt = t.idx(idxs)\n",
        "check_equal(tt.loc[0], {'city': 'London', 'population': 8908081, 'area': 1572})\n",
        "check_equal(tt.loc[1], {'city': 'New York City', 'population': 8398748, 'area': 1212})\n",
        "check_equal(tt.loc[2], {'city': 'Santa Cruz', 'population': 82739, 'area': 31})\n",
        "\n"
      ],
      "execution_count": 225,
      "outputs": [
        {
          "output_type": "stream",
          "text": [
            "Success\n",
            "Success\n",
            "Success\n"
          ],
          "name": "stdout"
        }
      ]
    },
    {
      "cell_type": "markdown",
      "metadata": {
        "deletable": false,
        "editable": false,
        "nbgrader": {
          "checksum": "021896a4fbdf03f1330136a388e8bba8",
          "grade": false,
          "grade_id": "cell-90ba7ee72238c446",
          "locked": true,
          "schema_version": 1,
          "solution": false
        },
        "id": "NBMFwOGOgMyT"
      },
      "source": [
        "### Implementing `nlargest`\n",
        "\n",
        "We are almost done with our reimplementation of Pandas.  We just need one more thing: tne `nlargest` method, so that \n",
        "\n",
        "    t.nlargest(10, \"column_name\")\n",
        "\n",
        "returns a new table containing the 10 rows of `t` that have the largest values in the column named `column_name`. \n",
        "The catch is that you have to do it _without_ modifying (e.g., sorting) the original table.  If you want to do it in a truly sophisticated way (and you should, if you can), you should use the [`heapq` module](https://docs.python.org/3/library/heapq.html).  \n",
        "\n",
        "_Hint:_ the solution consists of just a few lines of code, using the `idx` method defined previously, and `heapq.nlargest`. "
      ]
    },
    {
      "cell_type": "code",
      "metadata": {
        "deletable": false,
        "nbgrader": {
          "checksum": "99db90eabe3aac5161b18a5e3e479c86",
          "grade": false,
          "grade_id": "cell-2971dd0dd6a0e8b8",
          "locked": false,
          "schema_version": 1,
          "solution": true
        },
        "id": "92zy9WHegMyT"
      },
      "source": [
        "### Question 5: Implementing `nlargest`\n",
        "\n",
        "import heapq # In case you need it.\n",
        "\n",
        "def table_nlargest(self, n, column_name):\n",
        "    # YOUR CODE HERE\n",
        "    f=heapq.nlargest(n,enumerate(self[column_name]),key=lambda x:x[1])\n",
        "    r=[]\n",
        "    for i,n in f:\n",
        "        r.append(i)\n",
        "    g=self.idx(r)\n",
        "    return g\n",
        "\n",
        "Table.nlargest = table_nlargest\n"
      ],
      "execution_count": 226,
      "outputs": []
    },
    {
      "cell_type": "code",
      "metadata": {
        "deletable": false,
        "editable": false,
        "nbgrader": {
          "checksum": "c986ac7a3cccb2495d61e55ea4e9b2d9",
          "grade": true,
          "grade_id": "cell-bb22cbc42db736e5",
          "locked": true,
          "points": 10,
          "schema_version": 1,
          "solution": false
        },
        "id": "IwAviwmogMyV",
        "outputId": "7a32e57a-1c77-4fa7-c23a-02be74628a39",
        "colab": {
          "base_uri": "https://localhost:8080/"
        }
      },
      "source": [
        "### Question 5: 10 points: Tests for `nlargest`\n",
        "\n",
        "t = Table(city=['Milan', 'New York City', 'Napoli', 'San Francisco', 'Santa Cruz', 'Mountain View'],\n",
        "          population=[12, 8398748, 883305, 34, 82739, 65541],\n",
        "          area=[34, 1212, 600, 3100, 12, 33])\n",
        "tt = t.nlargest(2, 'population')\n",
        "check_equal(tt.loc[0], {'city': 'New York City', 'population': 8398748, 'area': 1212})\n",
        "check_equal(tt.loc[1], {'city': 'Napoli', 'population': 883305, 'area': 600})\n",
        "tt = t.nlargest(2, 'area')\n",
        "check_equal(tt.loc[0], {'city': 'San Francisco', 'population': 34, 'area': 3100})\n",
        "check_equal(tt.loc[1], {'city': 'New York City', 'population': 8398748, 'area': 1212})\n",
        "check_equal(t.loc[0], {'city': 'Milan', 'population': 12, 'area': 34})\n",
        "check_equal(tt.num_rows, 2)\n",
        "check_equal(t.num_rows, 6)\n",
        "\n"
      ],
      "execution_count": 227,
      "outputs": [
        {
          "output_type": "stream",
          "text": [
            "Success\n",
            "Success\n",
            "Success\n",
            "Success\n",
            "Success\n",
            "Success\n",
            "Success\n"
          ],
          "name": "stdout"
        }
      ]
    },
    {
      "cell_type": "markdown",
      "metadata": {
        "deletable": false,
        "editable": false,
        "nbgrader": {
          "checksum": "6486e068e8eebd42a38f6d428469fc5a",
          "grade": false,
          "grade_id": "cell-4e971d2712b11d37",
          "locked": true,
          "schema_version": 1,
          "solution": false
        },
        "id": "EQshGWz-gMyY"
      },
      "source": [
        "### Reading csv files into Tables\n",
        "\n",
        "Data for data science often comes in [csv](https://docs.python.org/3/library/csv.html) form.  We will write two constructors: \n",
        "\n",
        "* `from_csv`: creates a Table from a csv file, assuming that the first row contains the table names. \n",
        "* `from_csv_url`: creates a Table from a URL, from which a csv file can be downloaded. \n",
        "\n",
        "Obviously, the second constructor will be implemented in terms of the first one.  As the Table does not yet exist when these methods are called, the methods are static, constructed with the Python [`staticmethod`](https://docs.python.org/3/library/functions.html#staticmethod) decorator."
      ]
    },
    {
      "cell_type": "code",
      "metadata": {
        "deletable": false,
        "editable": false,
        "nbgrader": {
          "checksum": "04336646a414eae0d90cf506396a8f04",
          "grade": false,
          "grade_id": "cell-95c7e0e649585b4b",
          "locked": true,
          "schema_version": 1,
          "solution": false
        },
        "id": "bEDfhPiPgMyY"
      },
      "source": [
        "import csv, requests, codecs\n",
        "from contextlib import closing\n",
        "\n",
        "def csv_convert(x):\n",
        "    \"\"\"Tries to convert x to a number, if it can be converted.\n",
        "    This implementation is a bit naive; a better implementation would try to\n",
        "    also convert dates to date objects.\"\"\"\n",
        "    try:\n",
        "        return int(x)\n",
        "    except:\n",
        "        pass\n",
        "    try:\n",
        "        return float(x)\n",
        "    except:\n",
        "        return x\n",
        "\n",
        "def table_from_csv(csv_file):\n",
        "    \"\"\"Creates a table from a csv file.\"\"\"\n",
        "    d = MyOrderedDictionary()\n",
        "    headers = None\n",
        "    for row in csv.reader(csv_file):\n",
        "        if headers is None:\n",
        "            headers = list(row)\n",
        "            d = MyOrderedDictionary()\n",
        "            for k in headers:\n",
        "                d[k] = []\n",
        "        else:\n",
        "            # We pad the row, so we can read it all.\n",
        "            prow = list(row)\n",
        "            if len(row) < len(headers):\n",
        "                prow += [None] * (len(headers) - len(row))\n",
        "            prow = row[:len(headers)]\n",
        "            for i, k in enumerate(headers):\n",
        "                d[k].append(csv_convert(row[i]))\n",
        "    return Table(d)\n",
        "\n",
        "Table.from_csv = staticmethod(table_from_csv)\n",
        "\n",
        "def table_from_csv_url(url):\n",
        "    \"\"\"Returns a table from a given url.\"\"\"\n",
        "    with closing(requests.get(url, stream=True)) as r:\n",
        "        return Table.from_csv(codecs.iterdecode(r.iter_lines(), 'utf-8'))\n",
        "\n",
        "Table.from_csv_url = staticmethod(table_from_csv_url)\n"
      ],
      "execution_count": 228,
      "outputs": []
    },
    {
      "cell_type": "markdown",
      "metadata": {
        "deletable": false,
        "editable": false,
        "nbgrader": {
          "checksum": "db4fc0af49a4b3f52cffb7e5b7e6b974",
          "grade": false,
          "grade_id": "cell-120519472f910dcb",
          "locked": true,
          "schema_version": 1,
          "solution": false
        },
        "id": "DMU8CVysgMya"
      },
      "source": [
        "## Examining the demographics dataset with our Tables\n",
        "\n",
        "We can now carry out the same analysis we did with Pandas, using our own `Tables` class. \n",
        "Let's load and display the data. \n",
        "\n"
      ]
    },
    {
      "cell_type": "code",
      "metadata": {
        "deletable": false,
        "editable": false,
        "nbgrader": {
          "checksum": "f87eee55f1115b81cec3e16943661874",
          "grade": false,
          "grade_id": "cell-ab8f075b7cfea95d",
          "locked": true,
          "schema_version": 1,
          "solution": false
        },
        "id": "fTKfDVAigMyb",
        "outputId": "7203fde6-1ab5-426b-ef2c-de92d9bd7957",
        "colab": {
          "base_uri": "https://localhost:8080/",
          "height": 858
        }
      },
      "source": [
        "t = Table.from_csv_url(\"https://storage.googleapis.com/lucadealfaro-share/acs2017_county_data.csv\")\n",
        "t\n"
      ],
      "execution_count": 229,
      "outputs": [
        {
          "output_type": "display_data",
          "data": {
            "text/html": [
              "<table>\n",
              "<thead>\n",
              "<tr><th>CountyId  </th><th>State      </th><th>County                 </th><th>TotalPop  </th><th>Men  </th><th>Women  </th><th>Hispanic  </th><th>White  </th><th>Black  </th><th>Native  </th><th>Asian  </th><th>Pacific  </th><th>VotingAgeCitizen  </th><th>Income  </th><th>IncomeErr  </th><th>IncomePerCap  </th><th>IncomePerCapErr  </th><th>Poverty  </th><th>ChildPoverty  </th><th>Professional  </th><th>Service  </th><th>Office  </th><th>Construction  </th><th>Production  </th><th>Drive  </th><th>Carpool  </th><th>Transit  </th><th>Walk  </th><th>OtherTransp  </th><th>WorkAtHome  </th><th>MeanCommute  </th><th>Employed  </th><th>PrivateWork  </th><th>PublicWork  </th><th>SelfEmployed  </th><th>FamilyWork  </th><th>Unemployment  </th></tr>\n",
              "</thead>\n",
              "<tbody>\n",
              "<tr><td>1001      </td><td>Alabama    </td><td>Autauga County         </td><td>55036     </td><td>26899</td><td>28137  </td><td>2.7       </td><td>75.4   </td><td>18.9   </td><td>0.3     </td><td>0.9    </td><td>0.0      </td><td>41016             </td><td>55317   </td><td>2838       </td><td>27824         </td><td>2024             </td><td>13.7     </td><td>20.1          </td><td>35.3          </td><td>18.0     </td><td>23.2    </td><td>8.1           </td><td>15.4        </td><td>86.0   </td><td>9.6      </td><td>0.1      </td><td>0.6   </td><td>1.3          </td><td>2.5         </td><td>25.8         </td><td>24112     </td><td>74.1         </td><td>20.2        </td><td>5.6           </td><td>0.1         </td><td>5.2           </td></tr>\n",
              "<tr><td>1003      </td><td>Alabama    </td><td>Baldwin County         </td><td>203360    </td><td>99527</td><td>103833 </td><td>4.4       </td><td>83.1   </td><td>9.5    </td><td>0.8     </td><td>0.7    </td><td>0.0      </td><td>155376            </td><td>52562   </td><td>1348       </td><td>29364         </td><td>735              </td><td>11.8     </td><td>16.1          </td><td>35.7          </td><td>18.2     </td><td>25.6    </td><td>9.7           </td><td>10.8        </td><td>84.7   </td><td>7.6      </td><td>0.1      </td><td>0.8   </td><td>1.1          </td><td>5.6         </td><td>27.0         </td><td>89527     </td><td>80.7         </td><td>12.9        </td><td>6.3           </td><td>0.1         </td><td>5.5           </td></tr>\n",
              "<tr><td>1005      </td><td>Alabama    </td><td>Barbour County         </td><td>26201     </td><td>13976</td><td>12225  </td><td>4.2       </td><td>45.7   </td><td>47.8   </td><td>0.2     </td><td>0.6    </td><td>0.0      </td><td>20269             </td><td>33368   </td><td>2551       </td><td>17561         </td><td>798              </td><td>27.2     </td><td>44.9          </td><td>25.0          </td><td>16.8     </td><td>22.6    </td><td>11.5          </td><td>24.1        </td><td>83.4   </td><td>11.1     </td><td>0.3      </td><td>2.2   </td><td>1.7          </td><td>1.3         </td><td>23.4         </td><td>8878      </td><td>74.1         </td><td>19.1        </td><td>6.5           </td><td>0.3         </td><td>12.4          </td></tr>\n",
              "<tr><td>1007      </td><td>Alabama    </td><td>Bibb County            </td><td>22580     </td><td>12251</td><td>10329  </td><td>2.4       </td><td>74.6   </td><td>22.0   </td><td>0.4     </td><td>0.0    </td><td>0.0      </td><td>17662             </td><td>43404   </td><td>3431       </td><td>20911         </td><td>1889             </td><td>15.2     </td><td>26.6          </td><td>24.4          </td><td>17.6     </td><td>19.7    </td><td>15.9          </td><td>22.4        </td><td>86.4   </td><td>9.5      </td><td>0.7      </td><td>0.3   </td><td>1.7          </td><td>1.5         </td><td>30.0         </td><td>8171      </td><td>76.0         </td><td>17.4        </td><td>6.3           </td><td>0.3         </td><td>8.2           </td></tr>\n",
              "<tr><td>1009      </td><td>Alabama    </td><td>Blount County          </td><td>57667     </td><td>28490</td><td>29177  </td><td>9.0       </td><td>87.4   </td><td>1.5    </td><td>0.3     </td><td>0.1    </td><td>0.0      </td><td>42513             </td><td>47412   </td><td>2630       </td><td>22021         </td><td>850              </td><td>15.6     </td><td>25.4          </td><td>28.5          </td><td>12.9     </td><td>23.3    </td><td>15.8          </td><td>19.5        </td><td>86.8   </td><td>10.2     </td><td>0.1      </td><td>0.4   </td><td>0.4          </td><td>2.1         </td><td>35.0         </td><td>21380     </td><td>83.9         </td><td>11.9        </td><td>4.0           </td><td>0.1         </td><td>4.9           </td></tr>\n",
              "<tr><td>1011      </td><td>Alabama    </td><td>Bullock County         </td><td>10478     </td><td>5616 </td><td>4862   </td><td>0.3       </td><td>21.6   </td><td>75.6   </td><td>1.0     </td><td>0.7    </td><td>0.0      </td><td>8212              </td><td>29655   </td><td>5376       </td><td>20856         </td><td>2355             </td><td>28.5     </td><td>50.4          </td><td>19.7          </td><td>17.1     </td><td>18.6    </td><td>14.0          </td><td>30.6        </td><td>73.1   </td><td>15.7     </td><td>0.3      </td><td>6.2   </td><td>1.7          </td><td>3.0         </td><td>29.8         </td><td>4290      </td><td>81.4         </td><td>13.6        </td><td>5.0           </td><td>0.0         </td><td>12.1          </td></tr>\n",
              "<tr><td>1013      </td><td>Alabama    </td><td>Butler County          </td><td>20126     </td><td>9416 </td><td>10710  </td><td>0.3       </td><td>52.2   </td><td>44.7   </td><td>0.1     </td><td>1.1    </td><td>0.0      </td><td>15459             </td><td>36326   </td><td>2701       </td><td>19004         </td><td>943              </td><td>24.4     </td><td>34.8          </td><td>26.9          </td><td>17.3     </td><td>18.5    </td><td>11.6          </td><td>25.7        </td><td>83.6   </td><td>12.6     </td><td>0.0      </td><td>0.9   </td><td>0.9          </td><td>2.0         </td><td>23.2         </td><td>7727      </td><td>79.1         </td><td>15.3        </td><td>5.3           </td><td>0.3         </td><td>7.6           </td></tr>\n",
              "<tr><td>1015      </td><td>Alabama    </td><td>Calhoun County         </td><td>115527    </td><td>55593</td><td>59934  </td><td>3.6       </td><td>72.7   </td><td>20.4   </td><td>0.2     </td><td>1.0    </td><td>0.0      </td><td>88383             </td><td>43686   </td><td>1491       </td><td>23638         </td><td>793              </td><td>18.6     </td><td>26.6          </td><td>29.0          </td><td>17.5     </td><td>23.7    </td><td>10.4          </td><td>19.4        </td><td>85.0   </td><td>9.2      </td><td>0.2      </td><td>1.3   </td><td>1.1          </td><td>3.2         </td><td>24.8         </td><td>47392     </td><td>74.9         </td><td>19.9        </td><td>5.1           </td><td>0.1         </td><td>10.1          </td></tr>\n",
              "<tr><td>1017      </td><td>Alabama    </td><td>Chambers County        </td><td>33895     </td><td>16320</td><td>17575  </td><td>2.2       </td><td>56.2   </td><td>39.3   </td><td>0.3     </td><td>1.0    </td><td>0.0      </td><td>26259             </td><td>37342   </td><td>2011       </td><td>22002         </td><td>1205             </td><td>18.8     </td><td>29.1          </td><td>24.3          </td><td>13.5     </td><td>23.0    </td><td>11.6          </td><td>27.6        </td><td>87.1   </td><td>9.7      </td><td>0.2      </td><td>0.6   </td><td>0.5          </td><td>2.0         </td><td>23.6         </td><td>14527     </td><td>84.5         </td><td>11.8        </td><td>3.7           </td><td>0.0         </td><td>6.4           </td></tr>\n",
              "<tr><td>1019      </td><td>Alabama    </td><td>Cherokee County        </td><td>25855     </td><td>12862</td><td>12993  </td><td>1.6       </td><td>91.8   </td><td>5.0    </td><td>0.5     </td><td>0.1    </td><td>0.0      </td><td>20620             </td><td>40041   </td><td>2316       </td><td>23010         </td><td>1354             </td><td>16.1     </td><td>20.0          </td><td>28.8          </td><td>14.8     </td><td>18.1    </td><td>11.9          </td><td>26.5        </td><td>85.0   </td><td>12.1     </td><td>0.4      </td><td>0.3   </td><td>0.3          </td><td>2.0         </td><td>26.5         </td><td>9879      </td><td>74.8         </td><td>17.1        </td><td>8.1           </td><td>0.0         </td><td>5.3           </td></tr>\n",
              "<tr><td>...       </td><td>...        </td><td>...                    </td><td>...       </td><td>...  </td><td>...    </td><td>...       </td><td>...    </td><td>...    </td><td>...     </td><td>...    </td><td>...      </td><td>...               </td><td>...     </td><td>...        </td><td>...           </td><td>...              </td><td>...      </td><td>...           </td><td>...           </td><td>...      </td><td>...     </td><td>...           </td><td>...         </td><td>...    </td><td>...      </td><td>...      </td><td>...   </td><td>...          </td><td>...         </td><td>...          </td><td>...       </td><td>...          </td><td>...         </td><td>...           </td><td>...         </td><td>...           </td></tr>\n",
              "<tr><td>72135     </td><td>Puerto Rico</td><td>Toa Alta Municipio     </td><td>74169     </td><td>35682</td><td>38487  </td><td>99.1      </td><td>0.4    </td><td>0.1    </td><td>0.0     </td><td>0.4    </td><td>0.0      </td><td>56601             </td><td>29672   </td><td>1584       </td><td>14162         </td><td>698              </td><td>29.8     </td><td>33.7          </td><td>36.0          </td><td>14.7     </td><td>33.9    </td><td>6.7           </td><td>8.7         </td><td>85.1   </td><td>9.0      </td><td>1.3      </td><td>1.6   </td><td>1.2          </td><td>1.8         </td><td>41.4         </td><td>26619     </td><td>71.2         </td><td>20.5        </td><td>8.0           </td><td>0.3         </td><td>13.8          </td></tr>\n",
              "<tr><td>72137     </td><td>Puerto Rico</td><td>Toa Baja Municipio     </td><td>81905     </td><td>38453</td><td>43452  </td><td>99.3      </td><td>0.5    </td><td>0.1    </td><td>0.0     </td><td>0.0    </td><td>0.0      </td><td>63417             </td><td>24583   </td><td>1174       </td><td>12240         </td><td>403              </td><td>35.8     </td><td>44.2          </td><td>28.5          </td><td>21.0     </td><td>32.1    </td><td>8.7           </td><td>9.7         </td><td>78.4   </td><td>9.6      </td><td>3.0      </td><td>2.2   </td><td>3.9          </td><td>2.9         </td><td>34.8         </td><td>28598     </td><td>69.8         </td><td>22.6        </td><td>7.6           </td><td>0.1         </td><td>18.7          </td></tr>\n",
              "<tr><td>72139     </td><td>Puerto Rico</td><td>Trujillo Alto Municipio</td><td>69478     </td><td>32747</td><td>36731  </td><td>99.3      </td><td>0.6    </td><td>0.0    </td><td>0.0     </td><td>0.0    </td><td>0.0      </td><td>53545             </td><td>31202   </td><td>1312       </td><td>15703         </td><td>879              </td><td>30.4     </td><td>41.5          </td><td>36.7          </td><td>16.9     </td><td>30.9    </td><td>8.8           </td><td>6.6         </td><td>82.3   </td><td>10.6     </td><td>1.6      </td><td>1.8   </td><td>0.7          </td><td>3.1         </td><td>34.7         </td><td>27789     </td><td>69.6         </td><td>19.4        </td><td>11.0          </td><td>0.0         </td><td>7.3           </td></tr>\n",
              "<tr><td>72141     </td><td>Puerto Rico</td><td>Utuado Municipio       </td><td>30209     </td><td>14686</td><td>15523  </td><td>99.5      </td><td>0.4    </td><td>0.1    </td><td>0.0     </td><td>0.0    </td><td>0.0      </td><td>23755             </td><td>15931   </td><td>1104       </td><td>8140          </td><td>411              </td><td>53.0     </td><td>65.6          </td><td>24.7          </td><td>24.4     </td><td>30.2    </td><td>11.8          </td><td>9.0         </td><td>80.3   </td><td>8.1      </td><td>0.1      </td><td>8.5   </td><td>0.8          </td><td>2.2         </td><td>33.9         </td><td>6572      </td><td>58.9         </td><td>29.4        </td><td>11.6          </td><td>0.0         </td><td>30.0          </td></tr>\n",
              "<tr><td>72143     </td><td>Puerto Rico</td><td>Vega Alta Municipio    </td><td>38589     </td><td>18371</td><td>20218  </td><td>98.6      </td><td>0.9    </td><td>0.0    </td><td>0.0     </td><td>0.0    </td><td>0.0      </td><td>29549             </td><td>18053   </td><td>1218       </td><td>10492         </td><td>922              </td><td>50.6     </td><td>64.3          </td><td>31.4          </td><td>19.7     </td><td>28.3    </td><td>8.7           </td><td>11.8        </td><td>80.5   </td><td>8.4      </td><td>2.8      </td><td>5.2   </td><td>1.3          </td><td>1.8         </td><td>33.9         </td><td>9593      </td><td>77.0         </td><td>18.4        </td><td>4.6           </td><td>0.0         </td><td>21.5          </td></tr>\n",
              "<tr><td>72145     </td><td>Puerto Rico</td><td>Vega Baja Municipio    </td><td>54754     </td><td>26269</td><td>28485  </td><td>96.7      </td><td>3.1    </td><td>0.1    </td><td>0.0     </td><td>0.0    </td><td>0.0      </td><td>42838             </td><td>18900   </td><td>1219       </td><td>10197         </td><td>576              </td><td>43.8     </td><td>49.4          </td><td>28.6          </td><td>20.2     </td><td>25.9    </td><td>11.1          </td><td>14.2        </td><td>92.0   </td><td>4.2      </td><td>0.9      </td><td>1.4   </td><td>0.6          </td><td>0.9         </td><td>31.6         </td><td>14234     </td><td>76.2         </td><td>19.3        </td><td>4.3           </td><td>0.2         </td><td>16.8          </td></tr>\n",
              "<tr><td>72147     </td><td>Puerto Rico</td><td>Vieques Municipio      </td><td>8931      </td><td>4351 </td><td>4580   </td><td>95.7      </td><td>4.0    </td><td>0.0    </td><td>0.0     </td><td>0.0    </td><td>0.0      </td><td>7045              </td><td>16261   </td><td>2414       </td><td>11136         </td><td>1459             </td><td>36.8     </td><td>68.2          </td><td>20.9          </td><td>38.4     </td><td>16.4    </td><td>16.9          </td><td>7.3         </td><td>76.3   </td><td>16.9     </td><td>0.0      </td><td>5.0   </td><td>0.0          </td><td>1.7         </td><td>14.9         </td><td>2927      </td><td>40.7         </td><td>40.9        </td><td>18.4          </td><td>0.0         </td><td>12.8          </td></tr>\n",
              "<tr><td>72149     </td><td>Puerto Rico</td><td>Villalba Municipio     </td><td>23659     </td><td>11510</td><td>12149  </td><td>99.7      </td><td>0.2    </td><td>0.1    </td><td>0.0     </td><td>0.0    </td><td>0.0      </td><td>18053             </td><td>19893   </td><td>1935       </td><td>10449         </td><td>1619             </td><td>50.0     </td><td>67.9          </td><td>22.5          </td><td>21.2     </td><td>22.7    </td><td>14.1          </td><td>19.5        </td><td>83.1   </td><td>11.8     </td><td>0.1      </td><td>2.1   </td><td>0.0          </td><td>2.8         </td><td>28.4         </td><td>6873      </td><td>59.2         </td><td>30.2        </td><td>10.4          </td><td>0.2         </td><td>24.8          </td></tr>\n",
              "<tr><td>72151     </td><td>Puerto Rico</td><td>Yabucoa Municipio      </td><td>35025     </td><td>16984</td><td>18041  </td><td>99.9      </td><td>0.1    </td><td>0.0    </td><td>0.0     </td><td>0.0    </td><td>0.0      </td><td>27523             </td><td>15586   </td><td>1467       </td><td>8672          </td><td>702              </td><td>52.4     </td><td>62.1          </td><td>27.7          </td><td>26.0     </td><td>20.7    </td><td>9.5           </td><td>16.0        </td><td>87.6   </td><td>9.2      </td><td>0.0      </td><td>1.4   </td><td>1.8          </td><td>0.1         </td><td>30.5         </td><td>7878      </td><td>62.7         </td><td>30.9        </td><td>6.3           </td><td>0.0         </td><td>25.4          </td></tr>\n",
              "<tr><td>72153     </td><td>Puerto Rico</td><td>Yauco Municipio        </td><td>37585     </td><td>18052</td><td>19533  </td><td>99.8      </td><td>0.2    </td><td>0.0    </td><td>0.0     </td><td>0.0    </td><td>0.0      </td><td>29763             </td><td>14451   </td><td>1371       </td><td>8124          </td><td>445              </td><td>50.4     </td><td>58.2          </td><td>30.4          </td><td>20.2     </td><td>25.6    </td><td>12.6          </td><td>11.3        </td><td>82.8   </td><td>8.2      </td><td>2.2      </td><td>1.7   </td><td>0.1          </td><td>5.0         </td><td>24.4         </td><td>8995      </td><td>66.4         </td><td>28.7        </td><td>5.0           </td><td>0.0         </td><td>24.0          </td></tr>\n",
              "</tbody>\n",
              "</table>"
            ],
            "text/plain": [
              "<IPython.core.display.HTML object>"
            ]
          },
          "metadata": {
            "tags": []
          }
        },
        {
          "output_type": "execute_result",
          "data": {
            "text/html": [
              ""
            ],
            "text/plain": [
              "Table([('CountyId',\n",
              "        Column: [1001, 1003, 1005, 1007, 1009, 1011, 1013, 1015, 1017, 1019, ..., 72135, 72137, 72139, 72141, 72143, 72145, 72147, 72149, 72151, 72153]),\n",
              "       ('State',\n",
              "        Column: ['Alabama', 'Alabama', 'Alabama', 'Alabama', 'Alabama', 'Alabama', 'Alabama', 'Alabama', 'Alabama', 'Alabama', ..., 'Puerto Rico', 'Puerto Rico', 'Puerto Rico', 'Puerto Rico', 'Puerto Rico', 'Puerto Rico', 'Puerto Rico', 'Puerto Rico', 'Puerto Rico', 'Puerto Rico']),\n",
              "       ('County',\n",
              "        Column: ['Autauga County', 'Baldwin County', 'Barbour County', 'Bibb County', 'Blount County', 'Bullock County', 'Butler County', 'Calhoun County', 'Chambers County', 'Cherokee County', ..., 'Toa Alta Municipio', 'Toa Baja Municipio', 'Trujillo Alto Municipio', 'Utuado Municipio', 'Vega Alta Municipio', 'Vega Baja Municipio', 'Vieques Municipio', 'Villalba Municipio', 'Yabucoa Municipio', 'Yauco Municipio']),\n",
              "       ('TotalPop',\n",
              "        Column: [55036, 203360, 26201, 22580, 57667, 10478, 20126, 115527, 33895, 25855, ..., 74169, 81905, 69478, 30209, 38589, 54754, 8931, 23659, 35025, 37585]),\n",
              "       ('Men',\n",
              "        Column: [26899, 99527, 13976, 12251, 28490, 5616, 9416, 55593, 16320, 12862, ..., 35682, 38453, 32747, 14686, 18371, 26269, 4351, 11510, 16984, 18052]),\n",
              "       ('Women',\n",
              "        Column: [28137, 103833, 12225, 10329, 29177, 4862, 10710, 59934, 17575, 12993, ..., 38487, 43452, 36731, 15523, 20218, 28485, 4580, 12149, 18041, 19533]),\n",
              "       ('Hispanic',\n",
              "        Column: [2.7, 4.4, 4.2, 2.4, 9.0, 0.3, 0.3, 3.6, 2.2, 1.6, ..., 99.1, 99.3, 99.3, 99.5, 98.6, 96.7, 95.7, 99.7, 99.9, 99.8]),\n",
              "       ('White',\n",
              "        Column: [75.4, 83.1, 45.7, 74.6, 87.4, 21.6, 52.2, 72.7, 56.2, 91.8, ..., 0.4, 0.5, 0.6, 0.4, 0.9, 3.1, 4.0, 0.2, 0.1, 0.2]),\n",
              "       ('Black',\n",
              "        Column: [18.9, 9.5, 47.8, 22.0, 1.5, 75.6, 44.7, 20.4, 39.3, 5.0, ..., 0.1, 0.1, 0.0, 0.1, 0.0, 0.1, 0.0, 0.1, 0.0, 0.0]),\n",
              "       ('Native',\n",
              "        Column: [0.3, 0.8, 0.2, 0.4, 0.3, 1.0, 0.1, 0.2, 0.3, 0.5, ..., 0.0, 0.0, 0.0, 0.0, 0.0, 0.0, 0.0, 0.0, 0.0, 0.0]),\n",
              "       ('Asian',\n",
              "        Column: [0.9, 0.7, 0.6, 0.0, 0.1, 0.7, 1.1, 1.0, 1.0, 0.1, ..., 0.4, 0.0, 0.0, 0.0, 0.0, 0.0, 0.0, 0.0, 0.0, 0.0]),\n",
              "       ('Pacific',\n",
              "        Column: [0.0, 0.0, 0.0, 0.0, 0.0, 0.0, 0.0, 0.0, 0.0, 0.0, ..., 0.0, 0.0, 0.0, 0.0, 0.0, 0.0, 0.0, 0.0, 0.0, 0.0]),\n",
              "       ('VotingAgeCitizen',\n",
              "        Column: [41016, 155376, 20269, 17662, 42513, 8212, 15459, 88383, 26259, 20620, ..., 56601, 63417, 53545, 23755, 29549, 42838, 7045, 18053, 27523, 29763]),\n",
              "       ('Income',\n",
              "        Column: [55317, 52562, 33368, 43404, 47412, 29655, 36326, 43686, 37342, 40041, ..., 29672, 24583, 31202, 15931, 18053, 18900, 16261, 19893, 15586, 14451]),\n",
              "       ('IncomeErr',\n",
              "        Column: [2838, 1348, 2551, 3431, 2630, 5376, 2701, 1491, 2011, 2316, ..., 1584, 1174, 1312, 1104, 1218, 1219, 2414, 1935, 1467, 1371]),\n",
              "       ('IncomePerCap',\n",
              "        Column: [27824, 29364, 17561, 20911, 22021, 20856, 19004, 23638, 22002, 23010, ..., 14162, 12240, 15703, 8140, 10492, 10197, 11136, 10449, 8672, 8124]),\n",
              "       ('IncomePerCapErr',\n",
              "        Column: [2024, 735, 798, 1889, 850, 2355, 943, 793, 1205, 1354, ..., 698, 403, 879, 411, 922, 576, 1459, 1619, 702, 445]),\n",
              "       ('Poverty',\n",
              "        Column: [13.7, 11.8, 27.2, 15.2, 15.6, 28.5, 24.4, 18.6, 18.8, 16.1, ..., 29.8, 35.8, 30.4, 53.0, 50.6, 43.8, 36.8, 50.0, 52.4, 50.4]),\n",
              "       ('ChildPoverty',\n",
              "        Column: [20.1, 16.1, 44.9, 26.6, 25.4, 50.4, 34.8, 26.6, 29.1, 20.0, ..., 33.7, 44.2, 41.5, 65.6, 64.3, 49.4, 68.2, 67.9, 62.1, 58.2]),\n",
              "       ('Professional',\n",
              "        Column: [35.3, 35.7, 25.0, 24.4, 28.5, 19.7, 26.9, 29.0, 24.3, 28.8, ..., 36.0, 28.5, 36.7, 24.7, 31.4, 28.6, 20.9, 22.5, 27.7, 30.4]),\n",
              "       ('Service',\n",
              "        Column: [18.0, 18.2, 16.8, 17.6, 12.9, 17.1, 17.3, 17.5, 13.5, 14.8, ..., 14.7, 21.0, 16.9, 24.4, 19.7, 20.2, 38.4, 21.2, 26.0, 20.2]),\n",
              "       ('Office',\n",
              "        Column: [23.2, 25.6, 22.6, 19.7, 23.3, 18.6, 18.5, 23.7, 23.0, 18.1, ..., 33.9, 32.1, 30.9, 30.2, 28.3, 25.9, 16.4, 22.7, 20.7, 25.6]),\n",
              "       ('Construction',\n",
              "        Column: [8.1, 9.7, 11.5, 15.9, 15.8, 14.0, 11.6, 10.4, 11.6, 11.9, ..., 6.7, 8.7, 8.8, 11.8, 8.7, 11.1, 16.9, 14.1, 9.5, 12.6]),\n",
              "       ('Production',\n",
              "        Column: [15.4, 10.8, 24.1, 22.4, 19.5, 30.6, 25.7, 19.4, 27.6, 26.5, ..., 8.7, 9.7, 6.6, 9.0, 11.8, 14.2, 7.3, 19.5, 16.0, 11.3]),\n",
              "       ('Drive',\n",
              "        Column: [86.0, 84.7, 83.4, 86.4, 86.8, 73.1, 83.6, 85.0, 87.1, 85.0, ..., 85.1, 78.4, 82.3, 80.3, 80.5, 92.0, 76.3, 83.1, 87.6, 82.8]),\n",
              "       ('Carpool',\n",
              "        Column: [9.6, 7.6, 11.1, 9.5, 10.2, 15.7, 12.6, 9.2, 9.7, 12.1, ..., 9.0, 9.6, 10.6, 8.1, 8.4, 4.2, 16.9, 11.8, 9.2, 8.2]),\n",
              "       ('Transit',\n",
              "        Column: [0.1, 0.1, 0.3, 0.7, 0.1, 0.3, 0.0, 0.2, 0.2, 0.4, ..., 1.3, 3.0, 1.6, 0.1, 2.8, 0.9, 0.0, 0.1, 0.0, 2.2]),\n",
              "       ('Walk',\n",
              "        Column: [0.6, 0.8, 2.2, 0.3, 0.4, 6.2, 0.9, 1.3, 0.6, 0.3, ..., 1.6, 2.2, 1.8, 8.5, 5.2, 1.4, 5.0, 2.1, 1.4, 1.7]),\n",
              "       ('OtherTransp',\n",
              "        Column: [1.3, 1.1, 1.7, 1.7, 0.4, 1.7, 0.9, 1.1, 0.5, 0.3, ..., 1.2, 3.9, 0.7, 0.8, 1.3, 0.6, 0.0, 0.0, 1.8, 0.1]),\n",
              "       ('WorkAtHome',\n",
              "        Column: [2.5, 5.6, 1.3, 1.5, 2.1, 3.0, 2.0, 3.2, 2.0, 2.0, ..., 1.8, 2.9, 3.1, 2.2, 1.8, 0.9, 1.7, 2.8, 0.1, 5.0]),\n",
              "       ('MeanCommute',\n",
              "        Column: [25.8, 27.0, 23.4, 30.0, 35.0, 29.8, 23.2, 24.8, 23.6, 26.5, ..., 41.4, 34.8, 34.7, 33.9, 33.9, 31.6, 14.9, 28.4, 30.5, 24.4]),\n",
              "       ('Employed',\n",
              "        Column: [24112, 89527, 8878, 8171, 21380, 4290, 7727, 47392, 14527, 9879, ..., 26619, 28598, 27789, 6572, 9593, 14234, 2927, 6873, 7878, 8995]),\n",
              "       ('PrivateWork',\n",
              "        Column: [74.1, 80.7, 74.1, 76.0, 83.9, 81.4, 79.1, 74.9, 84.5, 74.8, ..., 71.2, 69.8, 69.6, 58.9, 77.0, 76.2, 40.7, 59.2, 62.7, 66.4]),\n",
              "       ('PublicWork',\n",
              "        Column: [20.2, 12.9, 19.1, 17.4, 11.9, 13.6, 15.3, 19.9, 11.8, 17.1, ..., 20.5, 22.6, 19.4, 29.4, 18.4, 19.3, 40.9, 30.2, 30.9, 28.7]),\n",
              "       ('SelfEmployed',\n",
              "        Column: [5.6, 6.3, 6.5, 6.3, 4.0, 5.0, 5.3, 5.1, 3.7, 8.1, ..., 8.0, 7.6, 11.0, 11.6, 4.6, 4.3, 18.4, 10.4, 6.3, 5.0]),\n",
              "       ('FamilyWork',\n",
              "        Column: [0.1, 0.1, 0.3, 0.3, 0.1, 0.0, 0.3, 0.1, 0.0, 0.0, ..., 0.3, 0.1, 0.0, 0.0, 0.0, 0.2, 0.0, 0.2, 0.0, 0.0]),\n",
              "       ('Unemployment',\n",
              "        Column: [5.2, 5.5, 12.4, 8.2, 4.9, 12.1, 7.6, 10.1, 6.4, 5.3, ..., 13.8, 18.7, 7.3, 30.0, 21.5, 16.8, 12.8, 24.8, 25.4, 24.0])])"
            ]
          },
          "metadata": {
            "tags": []
          },
          "execution_count": 229
        }
      ]
    },
    {
      "cell_type": "markdown",
      "metadata": {
        "deletable": false,
        "editable": false,
        "nbgrader": {
          "checksum": "8211b67f8d9cc83e106016f1c8477b1f",
          "grade": false,
          "grade_id": "cell-697ee933707d0978",
          "locked": true,
          "schema_version": 1,
          "solution": false
        },
        "id": "z--zax7kgMyd"
      },
      "source": [
        "Here is Virginia again, with its patrician counties: "
      ]
    },
    {
      "cell_type": "code",
      "metadata": {
        "deletable": false,
        "editable": false,
        "nbgrader": {
          "checksum": "78fbf424744d5da72e2859c488d6abff",
          "grade": false,
          "grade_id": "cell-3ca80167c7d333f3",
          "locked": true,
          "schema_version": 1,
          "solution": false
        },
        "id": "mrAEIKMygMyd",
        "outputId": "990e87f4-e86d-4ff9-edd2-3e082b89ec74",
        "colab": {
          "base_uri": "https://localhost:8080/",
          "height": 474
        }
      },
      "source": [
        "t.nlargest(10, \"Income\")\n"
      ],
      "execution_count": 230,
      "outputs": [
        {
          "output_type": "display_data",
          "data": {
            "text/html": [
              "<table>\n",
              "<thead>\n",
              "<tr><th style=\"text-align: right;\">  CountyId</th><th>State     </th><th>County           </th><th style=\"text-align: right;\">      TotalPop</th><th style=\"text-align: right;\">   Men</th><th style=\"text-align: right;\">  Women</th><th style=\"text-align: right;\">  Hispanic</th><th style=\"text-align: right;\">  White</th><th style=\"text-align: right;\">  Black</th><th style=\"text-align: right;\">  Native</th><th style=\"text-align: right;\">  Asian</th><th style=\"text-align: right;\">  Pacific</th><th style=\"text-align: right;\">  VotingAgeCitizen</th><th style=\"text-align: right;\">  Income</th><th style=\"text-align: right;\">  IncomeErr</th><th style=\"text-align: right;\">  IncomePerCap</th><th style=\"text-align: right;\">  IncomePerCapErr</th><th style=\"text-align: right;\">  Poverty</th><th style=\"text-align: right;\">  ChildPoverty</th><th style=\"text-align: right;\">  Professional</th><th style=\"text-align: right;\">  Service</th><th style=\"text-align: right;\">  Office</th><th style=\"text-align: right;\">  Construction</th><th style=\"text-align: right;\">  Production</th><th style=\"text-align: right;\">  Drive</th><th style=\"text-align: right;\">  Carpool</th><th style=\"text-align: right;\">  Transit</th><th style=\"text-align: right;\">  Walk</th><th style=\"text-align: right;\">  OtherTransp</th><th style=\"text-align: right;\">  WorkAtHome</th><th style=\"text-align: right;\">  MeanCommute</th><th style=\"text-align: right;\">  Employed</th><th style=\"text-align: right;\">  PrivateWork</th><th style=\"text-align: right;\">  PublicWork</th><th style=\"text-align: right;\">  SelfEmployed</th><th style=\"text-align: right;\">  FamilyWork</th><th style=\"text-align: right;\">  Unemployment</th></tr>\n",
              "</thead>\n",
              "<tbody>\n",
              "<tr><td style=\"text-align: right;\">     51107</td><td>Virginia  </td><td>Loudoun County   </td><td style=\"text-align: right;\">374558        </td><td style=\"text-align: right;\">185575</td><td style=\"text-align: right;\"> 188983</td><td style=\"text-align: right;\">      13.5</td><td style=\"text-align: right;\">   57.7</td><td style=\"text-align: right;\">    7.2</td><td style=\"text-align: right;\">     0.2</td><td style=\"text-align: right;\">   17.1</td><td style=\"text-align: right;\">      0.1</td><td style=\"text-align: right;\">            231130</td><td style=\"text-align: right;\">  129588</td><td style=\"text-align: right;\">       2111</td><td style=\"text-align: right;\">         50456</td><td style=\"text-align: right;\">              581</td><td style=\"text-align: right;\">      3.7</td><td style=\"text-align: right;\">           3.6</td><td style=\"text-align: right;\">          57.3</td><td style=\"text-align: right;\">     13.2</td><td style=\"text-align: right;\">    19.9</td><td style=\"text-align: right;\">           4.5</td><td style=\"text-align: right;\">         5.1</td><td style=\"text-align: right;\">   77.2</td><td style=\"text-align: right;\">      9.2</td><td style=\"text-align: right;\">      3.7</td><td style=\"text-align: right;\">   1.7</td><td style=\"text-align: right;\">          1.1</td><td style=\"text-align: right;\">         7  </td><td style=\"text-align: right;\">         33.7</td><td style=\"text-align: right;\">    201528</td><td style=\"text-align: right;\">         78.7</td><td style=\"text-align: right;\">        16.8</td><td style=\"text-align: right;\">           4.4</td><td style=\"text-align: right;\">         0.1</td><td style=\"text-align: right;\">           3.8</td></tr>\n",
              "<tr><td style=\"text-align: right;\">     51059</td><td>Virginia  </td><td>Fairfax County   </td><td style=\"text-align: right;\">     1.142e+06</td><td style=\"text-align: right;\">565593</td><td style=\"text-align: right;\"> 576411</td><td style=\"text-align: right;\">      16.2</td><td style=\"text-align: right;\">   51.7</td><td style=\"text-align: right;\">    9.3</td><td style=\"text-align: right;\">     0.1</td><td style=\"text-align: right;\">   18.8</td><td style=\"text-align: right;\">      0  </td><td style=\"text-align: right;\">            724787</td><td style=\"text-align: right;\">  117515</td><td style=\"text-align: right;\">       1314</td><td style=\"text-align: right;\">         52976</td><td style=\"text-align: right;\">              419</td><td style=\"text-align: right;\">      6.1</td><td style=\"text-align: right;\">           7.9</td><td style=\"text-align: right;\">          56.6</td><td style=\"text-align: right;\">     14.7</td><td style=\"text-align: right;\">    18.4</td><td style=\"text-align: right;\">           5.7</td><td style=\"text-align: right;\">         4.7</td><td style=\"text-align: right;\">   71.1</td><td style=\"text-align: right;\">      9.4</td><td style=\"text-align: right;\">      9.6</td><td style=\"text-align: right;\">   1.9</td><td style=\"text-align: right;\">          1.7</td><td style=\"text-align: right;\">         6.3</td><td style=\"text-align: right;\">         32.1</td><td style=\"text-align: right;\">    609859</td><td style=\"text-align: right;\">         73.6</td><td style=\"text-align: right;\">        20.8</td><td style=\"text-align: right;\">           5.5</td><td style=\"text-align: right;\">         0.1</td><td style=\"text-align: right;\">           4.5</td></tr>\n",
              "<tr><td style=\"text-align: right;\">     24027</td><td>Maryland  </td><td>Howard County    </td><td style=\"text-align: right;\">312495        </td><td style=\"text-align: right;\">152843</td><td style=\"text-align: right;\"> 159652</td><td style=\"text-align: right;\">       6.5</td><td style=\"text-align: right;\">   54.1</td><td style=\"text-align: right;\">   18.1</td><td style=\"text-align: right;\">     0.2</td><td style=\"text-align: right;\">   17.3</td><td style=\"text-align: right;\">      0  </td><td style=\"text-align: right;\">            212310</td><td style=\"text-align: right;\">  115576</td><td style=\"text-align: right;\">       1799</td><td style=\"text-align: right;\">         51045</td><td style=\"text-align: right;\">              772</td><td style=\"text-align: right;\">      5.2</td><td style=\"text-align: right;\">           5.8</td><td style=\"text-align: right;\">          60.9</td><td style=\"text-align: right;\">     11.8</td><td style=\"text-align: right;\">    18.1</td><td style=\"text-align: right;\">           4.1</td><td style=\"text-align: right;\">         5.1</td><td style=\"text-align: right;\">   81.2</td><td style=\"text-align: right;\">      7.2</td><td style=\"text-align: right;\">      3.8</td><td style=\"text-align: right;\">   1  </td><td style=\"text-align: right;\">          1.1</td><td style=\"text-align: right;\">         5.7</td><td style=\"text-align: right;\">         30.9</td><td style=\"text-align: right;\">    167493</td><td style=\"text-align: right;\">         73  </td><td style=\"text-align: right;\">        22.7</td><td style=\"text-align: right;\">           4.2</td><td style=\"text-align: right;\">         0.1</td><td style=\"text-align: right;\">           4.2</td></tr>\n",
              "<tr><td style=\"text-align: right;\">     51610</td><td>Virginia  </td><td>Falls Church city</td><td style=\"text-align: right;\"> 13843        </td><td style=\"text-align: right;\">  6801</td><td style=\"text-align: right;\">   7042</td><td style=\"text-align: right;\">      10.6</td><td style=\"text-align: right;\">   72  </td><td style=\"text-align: right;\">    4.5</td><td style=\"text-align: right;\">     0  </td><td style=\"text-align: right;\">    9.3</td><td style=\"text-align: right;\">      0  </td><td style=\"text-align: right;\">              9598</td><td style=\"text-align: right;\">  114795</td><td style=\"text-align: right;\">       7917</td><td style=\"text-align: right;\">         65510</td><td style=\"text-align: right;\">             4014</td><td style=\"text-align: right;\">      2.9</td><td style=\"text-align: right;\">           2.4</td><td style=\"text-align: right;\">          67.3</td><td style=\"text-align: right;\">     11.7</td><td style=\"text-align: right;\">    16  </td><td style=\"text-align: right;\">           2.1</td><td style=\"text-align: right;\">         2.9</td><td style=\"text-align: right;\">   60.4</td><td style=\"text-align: right;\">      7.6</td><td style=\"text-align: right;\">     20.1</td><td style=\"text-align: right;\">   2.4</td><td style=\"text-align: right;\">          2.8</td><td style=\"text-align: right;\">         6.7</td><td style=\"text-align: right;\">         28.9</td><td style=\"text-align: right;\">      7672</td><td style=\"text-align: right;\">         64.6</td><td style=\"text-align: right;\">        28.5</td><td style=\"text-align: right;\">           6.9</td><td style=\"text-align: right;\">         0  </td><td style=\"text-align: right;\">           4.2</td></tr>\n",
              "<tr><td style=\"text-align: right;\">     51013</td><td>Virginia  </td><td>Arlington County </td><td style=\"text-align: right;\">229534        </td><td style=\"text-align: right;\">114403</td><td style=\"text-align: right;\"> 115131</td><td style=\"text-align: right;\">      15.5</td><td style=\"text-align: right;\">   62.3</td><td style=\"text-align: right;\">    8.5</td><td style=\"text-align: right;\">     0.3</td><td style=\"text-align: right;\">   10.2</td><td style=\"text-align: right;\">      0.1</td><td style=\"text-align: right;\">            162937</td><td style=\"text-align: right;\">  112138</td><td style=\"text-align: right;\">       2139</td><td style=\"text-align: right;\">         67061</td><td style=\"text-align: right;\">              879</td><td style=\"text-align: right;\">      8.2</td><td style=\"text-align: right;\">          10  </td><td style=\"text-align: right;\">          69  </td><td style=\"text-align: right;\">     10.5</td><td style=\"text-align: right;\">    13.8</td><td style=\"text-align: right;\">           4.1</td><td style=\"text-align: right;\">         2.7</td><td style=\"text-align: right;\">   53.4</td><td style=\"text-align: right;\">      6.2</td><td style=\"text-align: right;\">     26  </td><td style=\"text-align: right;\">   5  </td><td style=\"text-align: right;\">          2.8</td><td style=\"text-align: right;\">         6.6</td><td style=\"text-align: right;\">         28.6</td><td style=\"text-align: right;\">    143798</td><td style=\"text-align: right;\">         70.8</td><td style=\"text-align: right;\">        24.9</td><td style=\"text-align: right;\">           4.2</td><td style=\"text-align: right;\">         0.2</td><td style=\"text-align: right;\">           3.2</td></tr>\n",
              "<tr><td style=\"text-align: right;\">      8035</td><td>Colorado  </td><td>Douglas County   </td><td style=\"text-align: right;\">320940        </td><td style=\"text-align: right;\">159804</td><td style=\"text-align: right;\"> 161136</td><td style=\"text-align: right;\">       8.3</td><td style=\"text-align: right;\">   83.3</td><td style=\"text-align: right;\">    1.1</td><td style=\"text-align: right;\">     0.1</td><td style=\"text-align: right;\">    4.4</td><td style=\"text-align: right;\">      0.1</td><td style=\"text-align: right;\">            222455</td><td style=\"text-align: right;\">  111154</td><td style=\"text-align: right;\">       1484</td><td style=\"text-align: right;\">         48725</td><td style=\"text-align: right;\">              653</td><td style=\"text-align: right;\">      3.6</td><td style=\"text-align: right;\">           3.8</td><td style=\"text-align: right;\">          53.7</td><td style=\"text-align: right;\">     11.6</td><td style=\"text-align: right;\">    25  </td><td style=\"text-align: right;\">           4.6</td><td style=\"text-align: right;\">         5  </td><td style=\"text-align: right;\">   78  </td><td style=\"text-align: right;\">      6.7</td><td style=\"text-align: right;\">      1.9</td><td style=\"text-align: right;\">   1  </td><td style=\"text-align: right;\">          1.4</td><td style=\"text-align: right;\">        11  </td><td style=\"text-align: right;\">         27.6</td><td style=\"text-align: right;\">    169625</td><td style=\"text-align: right;\">         83.3</td><td style=\"text-align: right;\">        11.6</td><td style=\"text-align: right;\">           5.1</td><td style=\"text-align: right;\">         0.1</td><td style=\"text-align: right;\">           3.3</td></tr>\n",
              "<tr><td style=\"text-align: right;\">     34019</td><td>New Jersey</td><td>Hunterdon County </td><td style=\"text-align: right;\">125717        </td><td style=\"text-align: right;\"> 62901</td><td style=\"text-align: right;\">  62816</td><td style=\"text-align: right;\">       6.2</td><td style=\"text-align: right;\">   86.3</td><td style=\"text-align: right;\">    2.5</td><td style=\"text-align: right;\">     0.1</td><td style=\"text-align: right;\">    3.8</td><td style=\"text-align: right;\">      0  </td><td style=\"text-align: right;\">             95691</td><td style=\"text-align: right;\">  110969</td><td style=\"text-align: right;\">       2182</td><td style=\"text-align: right;\">         54200</td><td style=\"text-align: right;\">             1457</td><td style=\"text-align: right;\">      4.5</td><td style=\"text-align: right;\">           4.9</td><td style=\"text-align: right;\">          51.7</td><td style=\"text-align: right;\">     12.9</td><td style=\"text-align: right;\">    23.2</td><td style=\"text-align: right;\">           6.7</td><td style=\"text-align: right;\">         5.5</td><td style=\"text-align: right;\">   80.7</td><td style=\"text-align: right;\">      5.5</td><td style=\"text-align: right;\">      2.6</td><td style=\"text-align: right;\">   1.8</td><td style=\"text-align: right;\">          0.7</td><td style=\"text-align: right;\">         8.7</td><td style=\"text-align: right;\">         33.9</td><td style=\"text-align: right;\">     66382</td><td style=\"text-align: right;\">         79.5</td><td style=\"text-align: right;\">        13.7</td><td style=\"text-align: right;\">           6.6</td><td style=\"text-align: right;\">         0.1</td><td style=\"text-align: right;\">           4.4</td></tr>\n",
              "<tr><td style=\"text-align: right;\">     35028</td><td>New Mexico</td><td>Los Alamos County</td><td style=\"text-align: right;\"> 18031        </td><td style=\"text-align: right;\">  9135</td><td style=\"text-align: right;\">   8896</td><td style=\"text-align: right;\">      17.2</td><td style=\"text-align: right;\">   72.9</td><td style=\"text-align: right;\">    0.3</td><td style=\"text-align: right;\">     1  </td><td style=\"text-align: right;\">    6  </td><td style=\"text-align: right;\">      0  </td><td style=\"text-align: right;\">             13223</td><td style=\"text-align: right;\">  110190</td><td style=\"text-align: right;\">       6543</td><td style=\"text-align: right;\">         52125</td><td style=\"text-align: right;\">             2359</td><td style=\"text-align: right;\">      5.1</td><td style=\"text-align: right;\">           5.4</td><td style=\"text-align: right;\">          67.7</td><td style=\"text-align: right;\">     12.6</td><td style=\"text-align: right;\">    13  </td><td style=\"text-align: right;\">           4.2</td><td style=\"text-align: right;\">         2.5</td><td style=\"text-align: right;\">   76.5</td><td style=\"text-align: right;\">      9.9</td><td style=\"text-align: right;\">      3.3</td><td style=\"text-align: right;\">   3.9</td><td style=\"text-align: right;\">          3.6</td><td style=\"text-align: right;\">         2.9</td><td style=\"text-align: right;\">         15.7</td><td style=\"text-align: right;\">      9122</td><td style=\"text-align: right;\">         61.6</td><td style=\"text-align: right;\">        34.3</td><td style=\"text-align: right;\">           3.8</td><td style=\"text-align: right;\">         0.3</td><td style=\"text-align: right;\">           3.7</td></tr>\n",
              "<tr><td style=\"text-align: right;\">     34027</td><td>New Jersey</td><td>Morris County    </td><td style=\"text-align: right;\">498847        </td><td style=\"text-align: right;\">244480</td><td style=\"text-align: right;\"> 254367</td><td style=\"text-align: right;\">      13  </td><td style=\"text-align: right;\">   72  </td><td style=\"text-align: right;\">    3  </td><td style=\"text-align: right;\">     0  </td><td style=\"text-align: right;\">   10.1</td><td style=\"text-align: right;\">      0  </td><td style=\"text-align: right;\">            354414</td><td style=\"text-align: right;\">  107034</td><td style=\"text-align: right;\">       1215</td><td style=\"text-align: right;\">         53491</td><td style=\"text-align: right;\">              803</td><td style=\"text-align: right;\">      4.6</td><td style=\"text-align: right;\">           4.8</td><td style=\"text-align: right;\">          51  </td><td style=\"text-align: right;\">     12.9</td><td style=\"text-align: right;\">    23.9</td><td style=\"text-align: right;\">           5.3</td><td style=\"text-align: right;\">         6.9</td><td style=\"text-align: right;\">   79.2</td><td style=\"text-align: right;\">      6.8</td><td style=\"text-align: right;\">      5.4</td><td style=\"text-align: right;\">   2  </td><td style=\"text-align: right;\">          0.9</td><td style=\"text-align: right;\">         5.6</td><td style=\"text-align: right;\">         30.9</td><td style=\"text-align: right;\">    262461</td><td style=\"text-align: right;\">         82.9</td><td style=\"text-align: right;\">        11.6</td><td style=\"text-align: right;\">           5.4</td><td style=\"text-align: right;\">         0.1</td><td style=\"text-align: right;\">           5.2</td></tr>\n",
              "<tr><td style=\"text-align: right;\">     51600</td><td>Virginia  </td><td>Fairfax city     </td><td style=\"text-align: right;\"> 23580        </td><td style=\"text-align: right;\"> 11621</td><td style=\"text-align: right;\">  11959</td><td style=\"text-align: right;\">      16.9</td><td style=\"text-align: right;\">   57.9</td><td style=\"text-align: right;\">    4.9</td><td style=\"text-align: right;\">     0.1</td><td style=\"text-align: right;\">   16  </td><td style=\"text-align: right;\">      0.1</td><td style=\"text-align: right;\">             15316</td><td style=\"text-align: right;\">  106870</td><td style=\"text-align: right;\">       5914</td><td style=\"text-align: right;\">         46489</td><td style=\"text-align: right;\">             2037</td><td style=\"text-align: right;\">      7.8</td><td style=\"text-align: right;\">           6.2</td><td style=\"text-align: right;\">          53  </td><td style=\"text-align: right;\">     18.1</td><td style=\"text-align: right;\">    18.6</td><td style=\"text-align: right;\">           6.8</td><td style=\"text-align: right;\">         3.6</td><td style=\"text-align: right;\">   69.6</td><td style=\"text-align: right;\">      7.6</td><td style=\"text-align: right;\">     10.1</td><td style=\"text-align: right;\">   4.5</td><td style=\"text-align: right;\">          1.1</td><td style=\"text-align: right;\">         7.2</td><td style=\"text-align: right;\">         31.2</td><td style=\"text-align: right;\">     12834</td><td style=\"text-align: right;\">         74.7</td><td style=\"text-align: right;\">        20.8</td><td style=\"text-align: right;\">           4.3</td><td style=\"text-align: right;\">         0.1</td><td style=\"text-align: right;\">           4.1</td></tr>\n",
              "</tbody>\n",
              "</table>"
            ],
            "text/plain": [
              "<IPython.core.display.HTML object>"
            ]
          },
          "metadata": {
            "tags": []
          }
        },
        {
          "output_type": "execute_result",
          "data": {
            "text/html": [
              ""
            ],
            "text/plain": [
              "Table([('CountyId',\n",
              "        [51107, 51059, 24027, 51610, 51013, 8035, 34019, 35028, 34027, 51600]),\n",
              "       ('State',\n",
              "        ['Virginia',\n",
              "         'Virginia',\n",
              "         'Maryland',\n",
              "         'Virginia',\n",
              "         'Virginia',\n",
              "         'Colorado',\n",
              "         'New Jersey',\n",
              "         'New Mexico',\n",
              "         'New Jersey',\n",
              "         'Virginia']),\n",
              "       ('County',\n",
              "        ['Loudoun County',\n",
              "         'Fairfax County',\n",
              "         'Howard County',\n",
              "         'Falls Church city',\n",
              "         'Arlington County',\n",
              "         'Douglas County',\n",
              "         'Hunterdon County',\n",
              "         'Los Alamos County',\n",
              "         'Morris County',\n",
              "         'Fairfax city']),\n",
              "       ('TotalPop',\n",
              "        [374558,\n",
              "         1142004,\n",
              "         312495,\n",
              "         13843,\n",
              "         229534,\n",
              "         320940,\n",
              "         125717,\n",
              "         18031,\n",
              "         498847,\n",
              "         23580]),\n",
              "       ('Men',\n",
              "        [185575,\n",
              "         565593,\n",
              "         152843,\n",
              "         6801,\n",
              "         114403,\n",
              "         159804,\n",
              "         62901,\n",
              "         9135,\n",
              "         244480,\n",
              "         11621]),\n",
              "       ('Women',\n",
              "        [188983,\n",
              "         576411,\n",
              "         159652,\n",
              "         7042,\n",
              "         115131,\n",
              "         161136,\n",
              "         62816,\n",
              "         8896,\n",
              "         254367,\n",
              "         11959]),\n",
              "       ('Hispanic', [13.5, 16.2, 6.5, 10.6, 15.5, 8.3, 6.2, 17.2, 13.0, 16.9]),\n",
              "       ('White', [57.7, 51.7, 54.1, 72.0, 62.3, 83.3, 86.3, 72.9, 72.0, 57.9]),\n",
              "       ('Black', [7.2, 9.3, 18.1, 4.5, 8.5, 1.1, 2.5, 0.3, 3.0, 4.9]),\n",
              "       ('Native', [0.2, 0.1, 0.2, 0.0, 0.3, 0.1, 0.1, 1.0, 0.0, 0.1]),\n",
              "       ('Asian', [17.1, 18.8, 17.3, 9.3, 10.2, 4.4, 3.8, 6.0, 10.1, 16.0]),\n",
              "       ('Pacific', [0.1, 0.0, 0.0, 0.0, 0.1, 0.1, 0.0, 0.0, 0.0, 0.1]),\n",
              "       ('VotingAgeCitizen',\n",
              "        [231130,\n",
              "         724787,\n",
              "         212310,\n",
              "         9598,\n",
              "         162937,\n",
              "         222455,\n",
              "         95691,\n",
              "         13223,\n",
              "         354414,\n",
              "         15316]),\n",
              "       ('Income',\n",
              "        [129588,\n",
              "         117515,\n",
              "         115576,\n",
              "         114795,\n",
              "         112138,\n",
              "         111154,\n",
              "         110969,\n",
              "         110190,\n",
              "         107034,\n",
              "         106870]),\n",
              "       ('IncomeErr',\n",
              "        [2111, 1314, 1799, 7917, 2139, 1484, 2182, 6543, 1215, 5914]),\n",
              "       ('IncomePerCap',\n",
              "        [50456,\n",
              "         52976,\n",
              "         51045,\n",
              "         65510,\n",
              "         67061,\n",
              "         48725,\n",
              "         54200,\n",
              "         52125,\n",
              "         53491,\n",
              "         46489]),\n",
              "       ('IncomePerCapErr',\n",
              "        [581, 419, 772, 4014, 879, 653, 1457, 2359, 803, 2037]),\n",
              "       ('Poverty', [3.7, 6.1, 5.2, 2.9, 8.2, 3.6, 4.5, 5.1, 4.6, 7.8]),\n",
              "       ('ChildPoverty', [3.6, 7.9, 5.8, 2.4, 10.0, 3.8, 4.9, 5.4, 4.8, 6.2]),\n",
              "       ('Professional',\n",
              "        [57.3, 56.6, 60.9, 67.3, 69.0, 53.7, 51.7, 67.7, 51.0, 53.0]),\n",
              "       ('Service',\n",
              "        [13.2, 14.7, 11.8, 11.7, 10.5, 11.6, 12.9, 12.6, 12.9, 18.1]),\n",
              "       ('Office',\n",
              "        [19.9, 18.4, 18.1, 16.0, 13.8, 25.0, 23.2, 13.0, 23.9, 18.6]),\n",
              "       ('Construction', [4.5, 5.7, 4.1, 2.1, 4.1, 4.6, 6.7, 4.2, 5.3, 6.8]),\n",
              "       ('Production', [5.1, 4.7, 5.1, 2.9, 2.7, 5.0, 5.5, 2.5, 6.9, 3.6]),\n",
              "       ('Drive', [77.2, 71.1, 81.2, 60.4, 53.4, 78.0, 80.7, 76.5, 79.2, 69.6]),\n",
              "       ('Carpool', [9.2, 9.4, 7.2, 7.6, 6.2, 6.7, 5.5, 9.9, 6.8, 7.6]),\n",
              "       ('Transit', [3.7, 9.6, 3.8, 20.1, 26.0, 1.9, 2.6, 3.3, 5.4, 10.1]),\n",
              "       ('Walk', [1.7, 1.9, 1.0, 2.4, 5.0, 1.0, 1.8, 3.9, 2.0, 4.5]),\n",
              "       ('OtherTransp', [1.1, 1.7, 1.1, 2.8, 2.8, 1.4, 0.7, 3.6, 0.9, 1.1]),\n",
              "       ('WorkAtHome', [7.0, 6.3, 5.7, 6.7, 6.6, 11.0, 8.7, 2.9, 5.6, 7.2]),\n",
              "       ('MeanCommute',\n",
              "        [33.7, 32.1, 30.9, 28.9, 28.6, 27.6, 33.9, 15.7, 30.9, 31.2]),\n",
              "       ('Employed',\n",
              "        [201528,\n",
              "         609859,\n",
              "         167493,\n",
              "         7672,\n",
              "         143798,\n",
              "         169625,\n",
              "         66382,\n",
              "         9122,\n",
              "         262461,\n",
              "         12834]),\n",
              "       ('PrivateWork',\n",
              "        [78.7, 73.6, 73.0, 64.6, 70.8, 83.3, 79.5, 61.6, 82.9, 74.7]),\n",
              "       ('PublicWork',\n",
              "        [16.8, 20.8, 22.7, 28.5, 24.9, 11.6, 13.7, 34.3, 11.6, 20.8]),\n",
              "       ('SelfEmployed', [4.4, 5.5, 4.2, 6.9, 4.2, 5.1, 6.6, 3.8, 5.4, 4.3]),\n",
              "       ('FamilyWork', [0.1, 0.1, 0.1, 0.0, 0.2, 0.1, 0.1, 0.3, 0.1, 0.1]),\n",
              "       ('Unemployment', [3.8, 4.5, 4.2, 4.2, 3.2, 3.3, 4.4, 3.7, 5.2, 4.1])])"
            ]
          },
          "metadata": {
            "tags": []
          },
          "execution_count": 230
        }
      ]
    },
    {
      "cell_type": "markdown",
      "metadata": {
        "deletable": false,
        "editable": false,
        "nbgrader": {
          "checksum": "98d103c195ec940eff21ed6fdf34d4f4",
          "grade": false,
          "grade_id": "cell-9085876043694eab",
          "locked": true,
          "schema_version": 1,
          "solution": false
        },
        "id": "V0WKKqmtgMyg"
      },
      "source": [
        "Let's compute a new column, giving each county's purchasing power. "
      ]
    },
    {
      "cell_type": "code",
      "metadata": {
        "deletable": false,
        "editable": false,
        "nbgrader": {
          "checksum": "1aac8bfc11f4f848ac7006681ddf90cc",
          "grade": false,
          "grade_id": "cell-d24d81d7e550c8be",
          "locked": true,
          "schema_version": 1,
          "solution": false
        },
        "id": "5jGqHEwBgMyg"
      },
      "source": [
        "t[\"PursePower\"] = t[\"TotalPop\"] * t[\"Income\"]\n"
      ],
      "execution_count": 231,
      "outputs": []
    },
    {
      "cell_type": "markdown",
      "metadata": {
        "deletable": false,
        "editable": false,
        "nbgrader": {
          "checksum": "775ff2a9940ba774e09b32ecbeefd64b",
          "grade": false,
          "grade_id": "cell-306a414687b7b3b9",
          "locked": true,
          "schema_version": 1,
          "solution": false
        },
        "id": "XhBg8PHygMyj"
      },
      "source": [
        "And here's again the role of California counties in purchasing power. "
      ]
    },
    {
      "cell_type": "code",
      "metadata": {
        "deletable": false,
        "editable": false,
        "nbgrader": {
          "checksum": "fcfc6dc0a016a44b7dd3a5bde20039fc",
          "grade": false,
          "grade_id": "cell-83241f75aacd76f9",
          "locked": true,
          "schema_version": 1,
          "solution": false
        },
        "id": "x_b9Rit-gMyj",
        "outputId": "cff739b4-4498-4c7d-e10e-ac59dc255764",
        "colab": {
          "base_uri": "https://localhost:8080/",
          "height": 491
        }
      },
      "source": [
        "t.nlargest(10, \"PursePower\")\n"
      ],
      "execution_count": 232,
      "outputs": [
        {
          "output_type": "display_data",
          "data": {
            "text/html": [
              "<table>\n",
              "<thead>\n",
              "<tr><th style=\"text-align: right;\">  CountyId</th><th>State        </th><th>County            </th><th style=\"text-align: right;\">   TotalPop</th><th style=\"text-align: right;\">             Men</th><th style=\"text-align: right;\">           Women</th><th style=\"text-align: right;\">  Hispanic</th><th style=\"text-align: right;\">  White</th><th style=\"text-align: right;\">  Black</th><th style=\"text-align: right;\">  Native</th><th style=\"text-align: right;\">  Asian</th><th style=\"text-align: right;\">  Pacific</th><th style=\"text-align: right;\">  VotingAgeCitizen</th><th style=\"text-align: right;\">  Income</th><th style=\"text-align: right;\">  IncomeErr</th><th style=\"text-align: right;\">  IncomePerCap</th><th style=\"text-align: right;\">  IncomePerCapErr</th><th style=\"text-align: right;\">  Poverty</th><th style=\"text-align: right;\">  ChildPoverty</th><th style=\"text-align: right;\">  Professional</th><th style=\"text-align: right;\">  Service</th><th style=\"text-align: right;\">  Office</th><th style=\"text-align: right;\">  Construction</th><th style=\"text-align: right;\">  Production</th><th style=\"text-align: right;\">  Drive</th><th style=\"text-align: right;\">  Carpool</th><th style=\"text-align: right;\">  Transit</th><th style=\"text-align: right;\">  Walk</th><th style=\"text-align: right;\">  OtherTransp</th><th style=\"text-align: right;\">  WorkAtHome</th><th style=\"text-align: right;\">  MeanCommute</th><th style=\"text-align: right;\">        Employed</th><th style=\"text-align: right;\">  PrivateWork</th><th style=\"text-align: right;\">  PublicWork</th><th style=\"text-align: right;\">  SelfEmployed</th><th style=\"text-align: right;\">  FamilyWork</th><th style=\"text-align: right;\">  Unemployment</th><th style=\"text-align: right;\">  PursePower</th></tr>\n",
              "</thead>\n",
              "<tbody>\n",
              "<tr><td style=\"text-align: right;\">      6037</td><td>California   </td><td>Los Angeles County</td><td style=\"text-align: right;\">1.01057e+07</td><td style=\"text-align: right;\">     4.97964e+06</td><td style=\"text-align: right;\">     5.12608e+06</td><td style=\"text-align: right;\">      48.4</td><td style=\"text-align: right;\">   26.5</td><td style=\"text-align: right;\">    7.9</td><td style=\"text-align: right;\">     0.2</td><td style=\"text-align: right;\">   14.3</td><td style=\"text-align: right;\">      0.2</td><td style=\"text-align: right;\">       6.21828e+06</td><td style=\"text-align: right;\">   61015</td><td style=\"text-align: right;\">        262</td><td style=\"text-align: right;\">         30798</td><td style=\"text-align: right;\">              129</td><td style=\"text-align: right;\">     17  </td><td style=\"text-align: right;\">          24  </td><td style=\"text-align: right;\">          36.4</td><td style=\"text-align: right;\">     19  </td><td style=\"text-align: right;\">    24.1</td><td style=\"text-align: right;\">           7.6</td><td style=\"text-align: right;\">        12.8</td><td style=\"text-align: right;\">   73.7</td><td style=\"text-align: right;\">      9.6</td><td style=\"text-align: right;\">      6.3</td><td style=\"text-align: right;\">   2.7</td><td style=\"text-align: right;\">          2.3</td><td style=\"text-align: right;\">         5.3</td><td style=\"text-align: right;\">         30.9</td><td style=\"text-align: right;\">     4.80582e+06</td><td style=\"text-align: right;\">         79.3</td><td style=\"text-align: right;\">        11.2</td><td style=\"text-align: right;\">           9.3</td><td style=\"text-align: right;\">         0.2</td><td style=\"text-align: right;\">           7.8</td><td style=\"text-align: right;\"> 6.16601e+11</td></tr>\n",
              "<tr><td style=\"text-align: right;\">     17031</td><td>Illinois     </td><td>Cook County       </td><td style=\"text-align: right;\">5.23854e+06</td><td style=\"text-align: right;\">     2.5407e+06 </td><td style=\"text-align: right;\">     2.69784e+06</td><td style=\"text-align: right;\">      25.1</td><td style=\"text-align: right;\">   42.7</td><td style=\"text-align: right;\">   23.4</td><td style=\"text-align: right;\">     0.1</td><td style=\"text-align: right;\">    6.9</td><td style=\"text-align: right;\">      0  </td><td style=\"text-align: right;\">       3.53844e+06</td><td style=\"text-align: right;\">   59426</td><td style=\"text-align: right;\">        380</td><td style=\"text-align: right;\">         33722</td><td style=\"text-align: right;\">              200</td><td style=\"text-align: right;\">     15.9</td><td style=\"text-align: right;\">          23  </td><td style=\"text-align: right;\">          39.3</td><td style=\"text-align: right;\">     17.9</td><td style=\"text-align: right;\">    23.6</td><td style=\"text-align: right;\">           6  </td><td style=\"text-align: right;\">        13.1</td><td style=\"text-align: right;\">   61.7</td><td style=\"text-align: right;\">      8.1</td><td style=\"text-align: right;\">     18.9</td><td style=\"text-align: right;\">   4.4</td><td style=\"text-align: right;\">          2.4</td><td style=\"text-align: right;\">         4.5</td><td style=\"text-align: right;\">         32.9</td><td style=\"text-align: right;\">     2.52144e+06</td><td style=\"text-align: right;\">         84.2</td><td style=\"text-align: right;\">        11.1</td><td style=\"text-align: right;\">           4.6</td><td style=\"text-align: right;\">         0.1</td><td style=\"text-align: right;\">           8.7</td><td style=\"text-align: right;\"> 3.11306e+11</td></tr>\n",
              "<tr><td style=\"text-align: right;\">     48201</td><td>Texas        </td><td>Harris County     </td><td style=\"text-align: right;\">4.52552e+06</td><td style=\"text-align: right;\">     2.25106e+06</td><td style=\"text-align: right;\">     2.27446e+06</td><td style=\"text-align: right;\">      42.2</td><td style=\"text-align: right;\">   30.6</td><td style=\"text-align: right;\">   18.5</td><td style=\"text-align: right;\">     0.2</td><td style=\"text-align: right;\">    6.8</td><td style=\"text-align: right;\">      0.1</td><td style=\"text-align: right;\">       2.60504e+06</td><td style=\"text-align: right;\">   57791</td><td style=\"text-align: right;\">        503</td><td style=\"text-align: right;\">         30856</td><td style=\"text-align: right;\">              222</td><td style=\"text-align: right;\">     16.8</td><td style=\"text-align: right;\">          25  </td><td style=\"text-align: right;\">          35.4</td><td style=\"text-align: right;\">     17.4</td><td style=\"text-align: right;\">    22.9</td><td style=\"text-align: right;\">          11.5</td><td style=\"text-align: right;\">        12.8</td><td style=\"text-align: right;\">   79.3</td><td style=\"text-align: right;\">     10.9</td><td style=\"text-align: right;\">      2.7</td><td style=\"text-align: right;\">   1.5</td><td style=\"text-align: right;\">          1.9</td><td style=\"text-align: right;\">         3.7</td><td style=\"text-align: right;\">         28.9</td><td style=\"text-align: right;\">     2.18039e+06</td><td style=\"text-align: right;\">         83.4</td><td style=\"text-align: right;\">         9.8</td><td style=\"text-align: right;\">           6.6</td><td style=\"text-align: right;\">         0.2</td><td style=\"text-align: right;\">           6.4</td><td style=\"text-align: right;\"> 2.61534e+11</td></tr>\n",
              "<tr><td style=\"text-align: right;\">      6059</td><td>California   </td><td>Orange County     </td><td style=\"text-align: right;\">3.15582e+06</td><td style=\"text-align: right;\">     1.55824e+06</td><td style=\"text-align: right;\">     1.59757e+06</td><td style=\"text-align: right;\">      34.2</td><td style=\"text-align: right;\">   41.4</td><td style=\"text-align: right;\">    1.6</td><td style=\"text-align: right;\">     0.2</td><td style=\"text-align: right;\">   19.5</td><td style=\"text-align: right;\">      0.3</td><td style=\"text-align: right;\">       2.02103e+06</td><td style=\"text-align: right;\">   81851</td><td style=\"text-align: right;\">        570</td><td style=\"text-align: right;\">         37603</td><td style=\"text-align: right;\">              270</td><td style=\"text-align: right;\">     12.1</td><td style=\"text-align: right;\">          16.4</td><td style=\"text-align: right;\">          40.9</td><td style=\"text-align: right;\">     17.5</td><td style=\"text-align: right;\">    24.8</td><td style=\"text-align: right;\">           6.6</td><td style=\"text-align: right;\">        10.2</td><td style=\"text-align: right;\">   78.6</td><td style=\"text-align: right;\">      9.8</td><td style=\"text-align: right;\">      2.2</td><td style=\"text-align: right;\">   1.9</td><td style=\"text-align: right;\">          2  </td><td style=\"text-align: right;\">         5.6</td><td style=\"text-align: right;\">         27.4</td><td style=\"text-align: right;\">     1.561e+06  </td><td style=\"text-align: right;\">         82  </td><td style=\"text-align: right;\">        10.1</td><td style=\"text-align: right;\">           7.7</td><td style=\"text-align: right;\">         0.2</td><td style=\"text-align: right;\">           5.8</td><td style=\"text-align: right;\"> 2.58307e+11</td></tr>\n",
              "<tr><td style=\"text-align: right;\">      4013</td><td>Arizona      </td><td>Maricopa County   </td><td style=\"text-align: right;\">4.1555e+06 </td><td style=\"text-align: right;\">     2.05546e+06</td><td style=\"text-align: right;\">     2.10004e+06</td><td style=\"text-align: right;\">      30.6</td><td style=\"text-align: right;\">   56.3</td><td style=\"text-align: right;\">    5.1</td><td style=\"text-align: right;\">     1.5</td><td style=\"text-align: right;\">    3.9</td><td style=\"text-align: right;\">      0.2</td><td style=\"text-align: right;\">       2.77834e+06</td><td style=\"text-align: right;\">   58580</td><td style=\"text-align: right;\">        350</td><td style=\"text-align: right;\">         30186</td><td style=\"text-align: right;\">              163</td><td style=\"text-align: right;\">     15.7</td><td style=\"text-align: right;\">          22.5</td><td style=\"text-align: right;\">          37.4</td><td style=\"text-align: right;\">     18.1</td><td style=\"text-align: right;\">    26.7</td><td style=\"text-align: right;\">           8.4</td><td style=\"text-align: right;\">         9.5</td><td style=\"text-align: right;\">   76.4</td><td style=\"text-align: right;\">     10.9</td><td style=\"text-align: right;\">      2.2</td><td style=\"text-align: right;\">   1.5</td><td style=\"text-align: right;\">          2.5</td><td style=\"text-align: right;\">         6.4</td><td style=\"text-align: right;\">         25.8</td><td style=\"text-align: right;\">     1.92902e+06</td><td style=\"text-align: right;\">         82.8</td><td style=\"text-align: right;\">        11.1</td><td style=\"text-align: right;\">           5.9</td><td style=\"text-align: right;\">         0.1</td><td style=\"text-align: right;\">           6  </td><td style=\"text-align: right;\"> 2.43429e+11</td></tr>\n",
              "<tr><td style=\"text-align: right;\">      6073</td><td>California   </td><td>San Diego County  </td><td style=\"text-align: right;\">3.28366e+06</td><td style=\"text-align: right;\">     1.65115e+06</td><td style=\"text-align: right;\">     1.63252e+06</td><td style=\"text-align: right;\">      33.4</td><td style=\"text-align: right;\">   46.2</td><td style=\"text-align: right;\">    4.7</td><td style=\"text-align: right;\">     0.4</td><td style=\"text-align: right;\">   11.5</td><td style=\"text-align: right;\">      0.4</td><td style=\"text-align: right;\">       2.2076e+06 </td><td style=\"text-align: right;\">   70588</td><td style=\"text-align: right;\">        617</td><td style=\"text-align: right;\">         34350</td><td style=\"text-align: right;\">              192</td><td style=\"text-align: right;\">     13.3</td><td style=\"text-align: right;\">          17.1</td><td style=\"text-align: right;\">          41.3</td><td style=\"text-align: right;\">     19.6</td><td style=\"text-align: right;\">    23  </td><td style=\"text-align: right;\">           7.6</td><td style=\"text-align: right;\">         8.4</td><td style=\"text-align: right;\">   76  </td><td style=\"text-align: right;\">      8.9</td><td style=\"text-align: right;\">      3.1</td><td style=\"text-align: right;\">   2.9</td><td style=\"text-align: right;\">          2.2</td><td style=\"text-align: right;\">         7  </td><td style=\"text-align: right;\">         25.7</td><td style=\"text-align: right;\">     1.53607e+06</td><td style=\"text-align: right;\">         77.8</td><td style=\"text-align: right;\">        14.2</td><td style=\"text-align: right;\">           7.8</td><td style=\"text-align: right;\">         0.2</td><td style=\"text-align: right;\">           7.1</td><td style=\"text-align: right;\"> 2.31787e+11</td></tr>\n",
              "<tr><td style=\"text-align: right;\">      6085</td><td>California   </td><td>Santa Clara County</td><td style=\"text-align: right;\">1.91123e+06</td><td style=\"text-align: right;\">963317          </td><td style=\"text-align: right;\">947909          </td><td style=\"text-align: right;\">      26.1</td><td style=\"text-align: right;\">   32.6</td><td style=\"text-align: right;\">    2.4</td><td style=\"text-align: right;\">     0.2</td><td style=\"text-align: right;\">   34.9</td><td style=\"text-align: right;\">      0.3</td><td style=\"text-align: right;\">       1.16202e+06</td><td style=\"text-align: right;\">  106761</td><td style=\"text-align: right;\">        858</td><td style=\"text-align: right;\">         48689</td><td style=\"text-align: right;\">              418</td><td style=\"text-align: right;\">      8.6</td><td style=\"text-align: right;\">           9.7</td><td style=\"text-align: right;\">          52.1</td><td style=\"text-align: right;\">     15.1</td><td style=\"text-align: right;\">    18.6</td><td style=\"text-align: right;\">           6.3</td><td style=\"text-align: right;\">         7.9</td><td style=\"text-align: right;\">   75.1</td><td style=\"text-align: right;\">     10.5</td><td style=\"text-align: right;\">      4.4</td><td style=\"text-align: right;\">   2.1</td><td style=\"text-align: right;\">          3.1</td><td style=\"text-align: right;\">         4.8</td><td style=\"text-align: right;\">         28  </td><td style=\"text-align: right;\">967294          </td><td style=\"text-align: right;\">         84.7</td><td style=\"text-align: right;\">         9.3</td><td style=\"text-align: right;\">           5.9</td><td style=\"text-align: right;\">         0.1</td><td style=\"text-align: right;\">           5.7</td><td style=\"text-align: right;\"> 2.04044e+11</td></tr>\n",
              "<tr><td style=\"text-align: right;\">     53033</td><td>Washington   </td><td>King County       </td><td style=\"text-align: right;\">2.11812e+06</td><td style=\"text-align: right;\">     1.0587e+06 </td><td style=\"text-align: right;\">     1.05942e+06</td><td style=\"text-align: right;\">       9.5</td><td style=\"text-align: right;\">   61.4</td><td style=\"text-align: right;\">    6  </td><td style=\"text-align: right;\">     0.5</td><td style=\"text-align: right;\">   16.5</td><td style=\"text-align: right;\">      0.8</td><td style=\"text-align: right;\">       1.45979e+06</td><td style=\"text-align: right;\">   83571</td><td style=\"text-align: right;\">        617</td><td style=\"text-align: right;\">         46316</td><td style=\"text-align: right;\">              363</td><td style=\"text-align: right;\">     10.2</td><td style=\"text-align: right;\">          12.3</td><td style=\"text-align: right;\">          51  </td><td style=\"text-align: right;\">     15  </td><td style=\"text-align: right;\">    19.9</td><td style=\"text-align: right;\">           5.5</td><td style=\"text-align: right;\">         8.5</td><td style=\"text-align: right;\">   63  </td><td style=\"text-align: right;\">      9.6</td><td style=\"text-align: right;\">     13.1</td><td style=\"text-align: right;\">   5.1</td><td style=\"text-align: right;\">          2.7</td><td style=\"text-align: right;\">         6.5</td><td style=\"text-align: right;\">         29.1</td><td style=\"text-align: right;\">     1.14035e+06</td><td style=\"text-align: right;\">         82  </td><td style=\"text-align: right;\">        12  </td><td style=\"text-align: right;\">           5.8</td><td style=\"text-align: right;\">         0.2</td><td style=\"text-align: right;\">           5  </td><td style=\"text-align: right;\"> 1.77013e+11</td></tr>\n",
              "<tr><td style=\"text-align: right;\">     25017</td><td>Massachusetts</td><td>Middlesex County  </td><td style=\"text-align: right;\">1.58286e+06</td><td style=\"text-align: right;\">773112          </td><td style=\"text-align: right;\">809745          </td><td style=\"text-align: right;\">       7.7</td><td style=\"text-align: right;\">   73.3</td><td style=\"text-align: right;\">    4.8</td><td style=\"text-align: right;\">     0.1</td><td style=\"text-align: right;\">   11.2</td><td style=\"text-align: right;\">      0  </td><td style=\"text-align: right;\">       1.11017e+06</td><td style=\"text-align: right;\">   92878</td><td style=\"text-align: right;\">        735</td><td style=\"text-align: right;\">         47616</td><td style=\"text-align: right;\">              380</td><td style=\"text-align: right;\">      8.2</td><td style=\"text-align: right;\">           9.3</td><td style=\"text-align: right;\">          55  </td><td style=\"text-align: right;\">     14.3</td><td style=\"text-align: right;\">    19.1</td><td style=\"text-align: right;\">           5.3</td><td style=\"text-align: right;\">         6.3</td><td style=\"text-align: right;\">   68.1</td><td style=\"text-align: right;\">      6.9</td><td style=\"text-align: right;\">     12.1</td><td style=\"text-align: right;\">   5  </td><td style=\"text-align: right;\">          2.4</td><td style=\"text-align: right;\">         5.6</td><td style=\"text-align: right;\">         30.3</td><td style=\"text-align: right;\">862873          </td><td style=\"text-align: right;\">         82.9</td><td style=\"text-align: right;\">        10.7</td><td style=\"text-align: right;\">           6.2</td><td style=\"text-align: right;\">         0.1</td><td style=\"text-align: right;\">           4.8</td><td style=\"text-align: right;\"> 1.47013e+11</td></tr>\n",
              "<tr><td style=\"text-align: right;\">     36081</td><td>New York     </td><td>Queens County     </td><td style=\"text-align: right;\">2.33928e+06</td><td style=\"text-align: right;\">     1.13403e+06</td><td style=\"text-align: right;\">     1.20525e+06</td><td style=\"text-align: right;\">      28  </td><td style=\"text-align: right;\">   25.4</td><td style=\"text-align: right;\">   17.2</td><td style=\"text-align: right;\">     0.2</td><td style=\"text-align: right;\">   25.1</td><td style=\"text-align: right;\">      0  </td><td style=\"text-align: right;\">       1.41392e+06</td><td style=\"text-align: right;\">   62008</td><td style=\"text-align: right;\">        471</td><td style=\"text-align: right;\">         28814</td><td style=\"text-align: right;\">              216</td><td style=\"text-align: right;\">     13.7</td><td style=\"text-align: right;\">          18.2</td><td style=\"text-align: right;\">          33.3</td><td style=\"text-align: right;\">     24.6</td><td style=\"text-align: right;\">    23.3</td><td style=\"text-align: right;\">           8.2</td><td style=\"text-align: right;\">        10.7</td><td style=\"text-align: right;\">   31.8</td><td style=\"text-align: right;\">      6.7</td><td style=\"text-align: right;\">     51.7</td><td style=\"text-align: right;\">   5.8</td><td style=\"text-align: right;\">          1.5</td><td style=\"text-align: right;\">         2.6</td><td style=\"text-align: right;\">         43.5</td><td style=\"text-align: right;\">     1.14236e+06</td><td style=\"text-align: right;\">         80.1</td><td style=\"text-align: right;\">        13.7</td><td style=\"text-align: right;\">           6.1</td><td style=\"text-align: right;\">         0.1</td><td style=\"text-align: right;\">           6.9</td><td style=\"text-align: right;\"> 1.45054e+11</td></tr>\n",
              "</tbody>\n",
              "</table>"
            ],
            "text/plain": [
              "<IPython.core.display.HTML object>"
            ]
          },
          "metadata": {
            "tags": []
          }
        },
        {
          "output_type": "execute_result",
          "data": {
            "text/html": [
              ""
            ],
            "text/plain": [
              "Table([('CountyId',\n",
              "        [6037, 17031, 48201, 6059, 4013, 6073, 6085, 53033, 25017, 36081]),\n",
              "       ('State',\n",
              "        ['California',\n",
              "         'Illinois',\n",
              "         'Texas',\n",
              "         'California',\n",
              "         'Arizona',\n",
              "         'California',\n",
              "         'California',\n",
              "         'Washington',\n",
              "         'Massachusetts',\n",
              "         'New York']),\n",
              "       ('County',\n",
              "        ['Los Angeles County',\n",
              "         'Cook County',\n",
              "         'Harris County',\n",
              "         'Orange County',\n",
              "         'Maricopa County',\n",
              "         'San Diego County',\n",
              "         'Santa Clara County',\n",
              "         'King County',\n",
              "         'Middlesex County',\n",
              "         'Queens County']),\n",
              "       ('TotalPop',\n",
              "        [10105722,\n",
              "         5238541,\n",
              "         4525519,\n",
              "         3155816,\n",
              "         4155501,\n",
              "         3283665,\n",
              "         1911226,\n",
              "         2118119,\n",
              "         1582857,\n",
              "         2339280]),\n",
              "       ('Men',\n",
              "        [4979641,\n",
              "         2540704,\n",
              "         2251060,\n",
              "         1558245,\n",
              "         2055464,\n",
              "         1651147,\n",
              "         963317,\n",
              "         1058695,\n",
              "         773112,\n",
              "         1134031]),\n",
              "       ('Women',\n",
              "        [5126081,\n",
              "         2697837,\n",
              "         2274459,\n",
              "         1597571,\n",
              "         2100037,\n",
              "         1632518,\n",
              "         947909,\n",
              "         1059424,\n",
              "         809745,\n",
              "         1205249]),\n",
              "       ('Hispanic',\n",
              "        [48.4, 25.1, 42.2, 34.2, 30.6, 33.4, 26.1, 9.5, 7.7, 28.0]),\n",
              "       ('White', [26.5, 42.7, 30.6, 41.4, 56.3, 46.2, 32.6, 61.4, 73.3, 25.4]),\n",
              "       ('Black', [7.9, 23.4, 18.5, 1.6, 5.1, 4.7, 2.4, 6.0, 4.8, 17.2]),\n",
              "       ('Native', [0.2, 0.1, 0.2, 0.2, 1.5, 0.4, 0.2, 0.5, 0.1, 0.2]),\n",
              "       ('Asian', [14.3, 6.9, 6.8, 19.5, 3.9, 11.5, 34.9, 16.5, 11.2, 25.1]),\n",
              "       ('Pacific', [0.2, 0.0, 0.1, 0.3, 0.2, 0.4, 0.3, 0.8, 0.0, 0.0]),\n",
              "       ('VotingAgeCitizen',\n",
              "        [6218279,\n",
              "         3538445,\n",
              "         2605043,\n",
              "         2021028,\n",
              "         2778337,\n",
              "         2207599,\n",
              "         1162019,\n",
              "         1459791,\n",
              "         1110166,\n",
              "         1413921]),\n",
              "       ('Income',\n",
              "        [61015,\n",
              "         59426,\n",
              "         57791,\n",
              "         81851,\n",
              "         58580,\n",
              "         70588,\n",
              "         106761,\n",
              "         83571,\n",
              "         92878,\n",
              "         62008]),\n",
              "       ('IncomeErr', [262, 380, 503, 570, 350, 617, 858, 617, 735, 471]),\n",
              "       ('IncomePerCap',\n",
              "        [30798,\n",
              "         33722,\n",
              "         30856,\n",
              "         37603,\n",
              "         30186,\n",
              "         34350,\n",
              "         48689,\n",
              "         46316,\n",
              "         47616,\n",
              "         28814]),\n",
              "       ('IncomePerCapErr', [129, 200, 222, 270, 163, 192, 418, 363, 380, 216]),\n",
              "       ('Poverty', [17.0, 15.9, 16.8, 12.1, 15.7, 13.3, 8.6, 10.2, 8.2, 13.7]),\n",
              "       ('ChildPoverty',\n",
              "        [24.0, 23.0, 25.0, 16.4, 22.5, 17.1, 9.7, 12.3, 9.3, 18.2]),\n",
              "       ('Professional',\n",
              "        [36.4, 39.3, 35.4, 40.9, 37.4, 41.3, 52.1, 51.0, 55.0, 33.3]),\n",
              "       ('Service',\n",
              "        [19.0, 17.9, 17.4, 17.5, 18.1, 19.6, 15.1, 15.0, 14.3, 24.6]),\n",
              "       ('Office',\n",
              "        [24.1, 23.6, 22.9, 24.8, 26.7, 23.0, 18.6, 19.9, 19.1, 23.3]),\n",
              "       ('Construction', [7.6, 6.0, 11.5, 6.6, 8.4, 7.6, 6.3, 5.5, 5.3, 8.2]),\n",
              "       ('Production', [12.8, 13.1, 12.8, 10.2, 9.5, 8.4, 7.9, 8.5, 6.3, 10.7]),\n",
              "       ('Drive', [73.7, 61.7, 79.3, 78.6, 76.4, 76.0, 75.1, 63.0, 68.1, 31.8]),\n",
              "       ('Carpool', [9.6, 8.1, 10.9, 9.8, 10.9, 8.9, 10.5, 9.6, 6.9, 6.7]),\n",
              "       ('Transit', [6.3, 18.9, 2.7, 2.2, 2.2, 3.1, 4.4, 13.1, 12.1, 51.7]),\n",
              "       ('Walk', [2.7, 4.4, 1.5, 1.9, 1.5, 2.9, 2.1, 5.1, 5.0, 5.8]),\n",
              "       ('OtherTransp', [2.3, 2.4, 1.9, 2.0, 2.5, 2.2, 3.1, 2.7, 2.4, 1.5]),\n",
              "       ('WorkAtHome', [5.3, 4.5, 3.7, 5.6, 6.4, 7.0, 4.8, 6.5, 5.6, 2.6]),\n",
              "       ('MeanCommute',\n",
              "        [30.9, 32.9, 28.9, 27.4, 25.8, 25.7, 28.0, 29.1, 30.3, 43.5]),\n",
              "       ('Employed',\n",
              "        [4805817,\n",
              "         2521437,\n",
              "         2180392,\n",
              "         1560997,\n",
              "         1929015,\n",
              "         1536073,\n",
              "         967294,\n",
              "         1140353,\n",
              "         862873,\n",
              "         1142363]),\n",
              "       ('PrivateWork',\n",
              "        [79.3, 84.2, 83.4, 82.0, 82.8, 77.8, 84.7, 82.0, 82.9, 80.1]),\n",
              "       ('PublicWork',\n",
              "        [11.2, 11.1, 9.8, 10.1, 11.1, 14.2, 9.3, 12.0, 10.7, 13.7]),\n",
              "       ('SelfEmployed', [9.3, 4.6, 6.6, 7.7, 5.9, 7.8, 5.9, 5.8, 6.2, 6.1]),\n",
              "       ('FamilyWork', [0.2, 0.1, 0.2, 0.2, 0.1, 0.2, 0.1, 0.2, 0.1, 0.1]),\n",
              "       ('Unemployment', [7.8, 8.7, 6.4, 5.8, 6.0, 7.1, 5.7, 5.0, 4.8, 6.9]),\n",
              "       ('PursePower',\n",
              "        [616600627830,\n",
              "         311305537466,\n",
              "         261534268529,\n",
              "         258306695416,\n",
              "         243429248580,\n",
              "         231787345020,\n",
              "         204044398986,\n",
              "         177013322949,\n",
              "         147012592446,\n",
              "         145054074240])])"
            ]
          },
          "metadata": {
            "tags": []
          },
          "execution_count": 232
        }
      ]
    },
    {
      "cell_type": "markdown",
      "metadata": {
        "deletable": false,
        "editable": false,
        "nbgrader": {
          "checksum": "a563f15c675fcb89142598eadf8cc08b",
          "grade": false,
          "grade_id": "cell-34b7f62d0be4b9d4",
          "locked": true,
          "schema_version": 1,
          "solution": false
        },
        "id": "bjV0j56vgMym"
      },
      "source": [
        "See that it is not hard, after all, to produce a clone of Pandas in a few well-chosen hundred lines of code? "
      ]
    }
  ]
}