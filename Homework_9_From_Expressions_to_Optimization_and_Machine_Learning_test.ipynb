{
  "nbformat": 4,
  "nbformat_minor": 0,
  "metadata": {
    "colab": {
      "name": "Homework_9_From_Expressions_to_Optimization_and_Machine_Learning_test.ipynb",
      "provenance": [],
      "collapsed_sections": []
    },
    "kernelspec": {
      "display_name": "Python 3",
      "language": "python",
      "name": "python3"
    },
    "language_info": {
      "codemirror_mode": {
        "name": "ipython",
        "version": 3
      },
      "file_extension": ".py",
      "mimetype": "text/x-python",
      "name": "python",
      "nbconvert_exporter": "python",
      "pygments_lexer": "ipython3",
      "version": "3.7.3"
    },
    "test_info": {
      "id": "e2eea3a2b6179b40daf798ea76f45f5d6b722267"
    }
  },
  "cells": [
    {
      "cell_type": "markdown",
      "metadata": {
        "id": "udd2_qrJe6Wh"
      },
      "source": [
        "Before you turn this problem in, make sure everything runs as expected. First, **restart the kernel** (in the menubar, select Kernel$\\rightarrow$Restart) and then **run all cells** (in the menubar, select Cell$\\rightarrow$Run All).\n",
        "\n",
        "Make sure you fill in any place that says `YOUR CODE HERE` or \"YOUR ANSWER HERE\", as well as your name and collaborators below:"
      ]
    },
    {
      "cell_type": "code",
      "metadata": {
        "id": "WWFqNl1De6Wi"
      },
      "source": [
        "NAME = \"Zhiqi Chen\"\n",
        "COLLABORATORS = \"\""
      ],
      "execution_count": 85,
      "outputs": []
    },
    {
      "cell_type": "markdown",
      "metadata": {
        "id": "sUdQiA97e6Wi"
      },
      "source": [
        "---"
      ]
    },
    {
      "cell_type": "markdown",
      "metadata": {
        "deletable": false,
        "editable": false,
        "nbgrader": {
          "checksum": "63ab1fa9b6548ab3e3083741a0cdcddf",
          "grade": false,
          "grade_id": "cell-c2546ad8aa448250",
          "locked": true,
          "schema_version": 1,
          "solution": false
        },
        "id": "3S9Twyx6e6Wj"
      },
      "source": [
        "# Homework 9: From Expressions to Optimization and Machine Learning\n",
        "\n",
        "Copyright Luca de Alfaro, 2019-2020. \n",
        "License: [CC-BY-NC-ND](https://creativecommons.org/licenses/by-nc-nd/4.0/).\n"
      ]
    },
    {
      "cell_type": "markdown",
      "metadata": {
        "deletable": false,
        "editable": false,
        "nbgrader": {
          "checksum": "91626c449f859e681933f439fd6f4f1f",
          "grade": false,
          "grade_id": "cell-5f3c38b7a6291dac",
          "locked": true,
          "schema_version": 1,
          "solution": false
        },
        "id": "FtRhxI9we6Wj"
      },
      "source": [
        "## Submission\n",
        "\n",
        "[Please submit to this Google Form](https://docs.google.com/forms/d/e/1FAIpQLSdYG6YhWxV5MIgd3yINEOcr2n4wsRv5F1UF2n6PVAIW6J-r9Q/viewform?usp=sf_link).\n",
        "\n",
        "Deadline: Thursday November 19, 11pm (check on Canvas for updated information)."
      ]
    },
    {
      "cell_type": "markdown",
      "metadata": {
        "deletable": false,
        "editable": false,
        "nbgrader": {
          "checksum": "18f1a1706e1fc95532f0f0681a4720f5",
          "grade": false,
          "grade_id": "cell-dca15f51d39533b6",
          "locked": true,
          "schema_version": 1,
          "solution": false
        },
        "id": "6cfgf0xHe6Wj"
      },
      "source": [
        "## Test Format\n",
        "\n",
        "The test contains 5 questions, for a total of 70 points. "
      ]
    },
    {
      "cell_type": "markdown",
      "metadata": {
        "deletable": false,
        "editable": false,
        "nbgrader": {
          "checksum": "a63b30f8d6cde2dad94f9a1d461fdd9e",
          "grade": false,
          "grade_id": "cell-9b6e16513f2274bb",
          "locked": true,
          "schema_version": 1,
          "solution": false
        },
        "id": "bwrza4N5e6Wj"
      },
      "source": [
        "## ML in a nutshell\n",
        "\n",
        "Optimization, and machine learning, are intimately connected.  At a very coarse level, ML works as follows. \n",
        "\n",
        "First, you come up somehow with a very complicated model $\\vec{y} = M(\\vec{x}, \\vec{\\theta})$, which computes an output $\\vec{y}$ as a function of an input $\\vec{x}$ and of a vector of parameters $\\vec{\\theta}$.   In general, $\\vec{x}$, $\\vec{y}$, and $\\vec{\\theta}$ are vectors, as the model has multiple inputs, multiple outputs, and several parameters.  The model $M$ needs to be complicated, because only complicated models can represent complicated phenomena; for instance, $M$ can be a multi-layer neural net with parameters $\\vec{\\theta} = [\\theta_1, \\ldots, \\theta_k]$, where $k$ is the number of parameters of the model. \n",
        "\n",
        "Second, you come up with a notion of _loss_ $L$, that is, how badly the model is doing.  For instance, if you have a list of inputs $\\vec{x}_1, \\ldots, \\vec{x}_n$, and a set of desired outputs $\\vec{y}_1, \\ldots, \\vec{y}_m$, you can use as loss: \n",
        "\n",
        "$$\n",
        "L(\\vec{\\theta}) = \\sum_{i=1}^n |\\!|\\vec{y}_i - M(\\vec{x}_i, \\vec{\\theta})|\\!| \\; .\n",
        "$$\n",
        "\n",
        "Here, we wrote $L(\\vec{\\theta})$ because, once the inputs $\\vec{x}_1, \\ldots, \\vec{x}_n$ and the desired outputs $\\vec{y}_1, \\ldots, \\vec{y}_n$ are chosen, the loss $L$ depends on $\\vec{\\theta}$. \n",
        "\n",
        "Once the loss is chosen, you decrease it, by computing its _gradient_ with respect to $\\vec{\\theta}$.  Remembering that $\\vec{\\theta} = [\\theta_1, \\ldots, \\theta_k]$,\n",
        "\n",
        "$$\n",
        "\\nabla_\\vec{\\theta} L = \\left[ \\frac{\\partial L}{\\partial \\theta_1}, \\ldots, \n",
        "    \\frac{\\partial L}{\\partial \\theta_k} \\right] \\; .\n",
        "$$\n",
        "\n",
        "The gradient is a vector that indicates how to tweak $\\vec{\\theta}$ to decrease the loss.  You then choose a small _step size_ $\\delta$, and you update $\\vec{\\theta}$ via $\\vec{\\theta} := \\vec{\\theta} - \\delta \\nabla_\\vec{\\theta} L$.  This makes the loss a little bit smaller, and the model a little bit better.  If you repeat this step many times, the model will hopefully get (a good bit) better. \n",
        "\n",
        "## Autogradient\n",
        "\n",
        "The key to _pleasant_ ML is to focus on building the model $M$ in a way that is sufficiently expressive, and on choosing a loss $L$ that is helpful in guiding the optimization.  The computation of the gradient is done automatically for you.  This capability, called _autogradient_, is implemented in ML frameworks such as [Tensorflow](https://www.tensorflow.com), [Keras](https://keras.io), and [PyTorch](https://pytorch.org).  \n",
        "\n",
        "It is possible to use these advanced ML libraries without ever knowing what is under the hood, and how autogradient works.  Here, we will insted dive in, and implement autogradient.  \n",
        "\n",
        "Building a model $M$ corresponds to building an expression with inputs $\\vec{x}$, $\\vec{\\theta}$.  We will provide a representaton for expressions that enables both the calculation of the expression value, and the differentiation with respect to any of the inputs.  This will enable us to implement autogradient.  On the basis of this, we will be able to implement a simple ML framework. \n",
        "\n",
        "We say we, but we mean you.  _You_ will implement it; we will just provide guidance."
      ]
    },
    {
      "cell_type": "markdown",
      "metadata": {
        "deletable": false,
        "editable": false,
        "nbgrader": {
          "checksum": "3cc78b9f5abc2f78826438d7f57a22f7",
          "grade": false,
          "grade_id": "cell-2a72086b83ae1784",
          "locked": true,
          "schema_version": 1,
          "solution": false
        },
        "id": "_ziQUH7ge6Wj"
      },
      "source": [
        "## Expressions with autogradient\n",
        "\n",
        "Our main task will be to implement a class `Expr` that represents expressions with autogradient.  \n",
        "\n",
        "### Implementing expressions\n",
        "\n",
        "We will have `Expr` be the abstract class of a generic expression, and `Plus`, `Multiply`, and so on, be derived classes representing expression with given top-level operators.  The constructor takes the children node.  The code for the constructor, and the code to create addition expressions, is as follows. \n",
        "\n"
      ]
    },
    {
      "cell_type": "code",
      "metadata": {
        "deletable": false,
        "editable": false,
        "nbgrader": {
          "checksum": "56716e3515f384375c85c413a6276bc1",
          "grade": false,
          "grade_id": "cell-64a6e1036e3a8a8d",
          "locked": true,
          "schema_version": 1,
          "solution": false
        },
        "id": "HJMdP9toe6Wj"
      },
      "source": [
        "class Expr(object):\n",
        "\n",
        "    def __init__(self, *args):\n",
        "        \"\"\"Initializes an expression node, with a given list of children\n",
        "        expressions.\"\"\"\n",
        "        self.children = args\n",
        "        self.value = None # The value of the expression.\n",
        "        self.values = None # The values of the child expressions.\n",
        "\n",
        "    def __add__(self, other):\n",
        "        \"\"\"Constructs the sum of two expressions.\"\"\"\n",
        "        return Plus(self, other)\n"
      ],
      "execution_count": 86,
      "outputs": []
    },
    {
      "cell_type": "markdown",
      "metadata": {
        "deletable": false,
        "editable": false,
        "nbgrader": {
          "checksum": "96695aebd0b3794e8953533ba6f59042",
          "grade": false,
          "grade_id": "cell-d90eb0fa9962559c",
          "locked": true,
          "schema_version": 1,
          "solution": false
        },
        "id": "OTTvZrO0e6Wj"
      },
      "source": [
        "The code for the `Plus` class, initially, is empty; no `Expr` methods are over-ridden."
      ]
    },
    {
      "cell_type": "code",
      "metadata": {
        "deletable": false,
        "editable": false,
        "nbgrader": {
          "checksum": "b9965ff93dc4824f9a9ce11d1e532aa8",
          "grade": false,
          "grade_id": "cell-80283830e855ede9",
          "locked": true,
          "schema_version": 1,
          "solution": false
        },
        "id": "DXRAw7mne6Wj"
      },
      "source": [
        "class Plus(Expr):\n",
        "    \"\"\"An addition expression.\"\"\"\n",
        "\n",
        "    pass\n"
      ],
      "execution_count": 87,
      "outputs": []
    },
    {
      "cell_type": "markdown",
      "metadata": {
        "deletable": false,
        "editable": false,
        "nbgrader": {
          "checksum": "1af38fcf3d243ce198cc784bd8a9ffcb",
          "grade": false,
          "grade_id": "cell-9bb6b7656beaec0d",
          "locked": true,
          "schema_version": 1,
          "solution": false
        },
        "id": "OLi-RDLAe6Wj"
      },
      "source": [
        "To construct expressions, we need one more thing.  So far, if we write things like `2 + 3`, Python will just consider these as expressions involving numbers, and compute their value.  To write _symbolic_ expressions, we need symbols, or variables.  A variable is a type of expression that just contains a value as child, and that has an `assign` method to assign a value to the variable.  The `assign` method can be used to modify the variable's content (without `assign`, our variables would be constants!). "
      ]
    },
    {
      "cell_type": "code",
      "metadata": {
        "deletable": false,
        "editable": false,
        "nbgrader": {
          "checksum": "77f8abba50f1e93af8a73de7bd4ce946",
          "grade": false,
          "grade_id": "cell-96c9be270a7105fd",
          "locked": true,
          "schema_version": 1,
          "solution": false
        },
        "id": "NK-1l1Cne6Wj"
      },
      "source": [
        "class V(Expr):\n",
        "    \"\"\"This class represents a variable.  The derivative rule corresponds\n",
        "    to d/dx x = 1, but note that it will not be called, since the children\n",
        "    of a variable are just numbers.\"\"\"\n",
        "\n",
        "    def assign(self, v):\n",
        "        \"\"\"Assigns a value to the variable.\"\"\"\n",
        "        self.children = [v]\n"
      ],
      "execution_count": 88,
      "outputs": []
    },
    {
      "cell_type": "markdown",
      "metadata": {
        "deletable": false,
        "editable": false,
        "nbgrader": {
          "checksum": "ad85ededb82da77030dbc0e4d60f57ed",
          "grade": false,
          "grade_id": "cell-47c1ead7e575e743",
          "locked": true,
          "schema_version": 1,
          "solution": false
        },
        "id": "M2PWhQEpe6Wj"
      },
      "source": [
        "This suffices for creating expressions.  Let's create one."
      ]
    },
    {
      "cell_type": "code",
      "metadata": {
        "deletable": false,
        "editable": false,
        "nbgrader": {
          "checksum": "9d611721b84b2da96ae0825eebdab99c",
          "grade": false,
          "grade_id": "cell-2c74422d022963de",
          "locked": true,
          "schema_version": 1,
          "solution": false
        },
        "colab": {
          "base_uri": "https://localhost:8080/"
        },
        "id": "BhI6l4tXe6Wk",
        "outputId": "819cf7f9-8b66-41c3-c3b8-b014a1bbdcc7"
      },
      "source": [
        "e = V(3) + 4\n",
        "e\n"
      ],
      "execution_count": 89,
      "outputs": [
        {
          "output_type": "execute_result",
          "data": {
            "text/plain": [
              "<__main__.Plus at 0x7fbbba0753c8>"
            ]
          },
          "metadata": {
            "tags": []
          },
          "execution_count": 89
        }
      ]
    },
    {
      "cell_type": "markdown",
      "metadata": {
        "deletable": false,
        "editable": false,
        "nbgrader": {
          "checksum": "f0025404593b37c016edd0487024821b",
          "grade": false,
          "grade_id": "cell-804c6ca38cd4f41e",
          "locked": true,
          "schema_version": 1,
          "solution": false
        },
        "id": "LitjAMExe6Wk"
      },
      "source": [
        "## Computing the value of expressions\n",
        "\n",
        "We now have our first expression.  To compute the expression value, we endow each expression with a method `op`, whose task is to compute the value `self.value` of the expression from the list of values `self.values` of the children.  "
      ]
    },
    {
      "cell_type": "markdown",
      "metadata": {
        "deletable": false,
        "editable": false,
        "nbgrader": {
          "checksum": "8bd87d4a757b18bfb06f5f2f054d6b58",
          "grade": false,
          "grade_id": "cell-b6aaba31539c892c",
          "locked": true,
          "schema_version": 1,
          "solution": false
        },
        "id": "vnp5Fb85e6Wk"
      },
      "source": [
        "Let's implement the `compute` method for an expression.  This method will: \n",
        "\n",
        "1. Loop over the children, and computes the list `self.values` of children values as follows: \n",
        "    * If the child is an expression (an instance of `Expr`), obtain its value by calling `compute` on it. \n",
        "    * If the child is not an instance of `Expr`, then the child must be a number, and we can use its value directly. \n",
        "2. Call the method `op` of the expression, to compute `self.value` from `self.values`. \n",
        "3. Return `self.value`. "
      ]
    },
    {
      "cell_type": "code",
      "metadata": {
        "deletable": false,
        "editable": false,
        "nbgrader": {
          "checksum": "445dae83548d8dbfbc688778c08c25c8",
          "grade": false,
          "grade_id": "cell-cd6e1cd62e23ccd6",
          "locked": true,
          "schema_version": 1,
          "solution": false
        },
        "id": "F_EYkCgbe6Wk"
      },
      "source": [
        "class Expr(object):\n",
        "\n",
        "    def __init__(self, *args):\n",
        "        \"\"\"Initializes an expression node, with a given list of children\n",
        "        expressions.\"\"\"\n",
        "        self.children = args\n",
        "        self.value = None # The value of the expression.\n",
        "        self.values = None # The values of the child expressions.\n",
        "        self.gradient = 0 # The value of the gradient.\n",
        "\n",
        "    def op(self):\n",
        "        \"\"\"This operator must be implemented in subclasses; it should\n",
        "        compute self.value from self.values, thus implementing the\n",
        "        operator at the expression node.\"\"\"\n",
        "        raise NotImplementedError()\n",
        "\n",
        "    def compute(self):\n",
        "        \"\"\"This method computes the value of the expression.\n",
        "        It first computes the value of the children expressions,\n",
        "        and then uses self.op to compute the value of the expression.\"\"\"\n",
        "        self.values = [e.compute() if isinstance(e, Expr) else e\n",
        "                        for e in self.children]\n",
        "        # This computes self.value\n",
        "        self.op()\n",
        "        return self.value\n",
        "\n",
        "    def __repr__(self):\n",
        "        return (\"%s:%r %r (g: %r)\" % (\n",
        "            self.__class__.__name__, self.children, self.value, self.gradient))\n",
        "\n",
        "    # Expression constructors\n",
        "\n",
        "    def __add__(self, other):\n",
        "        return Plus(self, other)\n",
        "\n",
        "    def __radd__(self, other):\n",
        "        return Plus(self, other)\n",
        "\n",
        "    def __sub__(self, other):\n",
        "        return Minus(self, other)\n",
        "\n",
        "    def __rsub__(self, other):\n",
        "        return Minus(other, self)\n",
        "\n",
        "    def __mul__(self, other):\n",
        "        return Multiply(self, other)\n",
        "\n",
        "    def __rmul__(self, other):\n",
        "        return Multiply(other, self)\n",
        "\n",
        "    def __truediv__(self, other):\n",
        "        return Divide(self, other)\n",
        "\n",
        "    def __rtruediv__(self, other):\n",
        "        return Divide(other, self)\n",
        "\n",
        "    def __pow__(self, other):\n",
        "        return Power(self, other)\n",
        "\n",
        "    def __rpow__(self, other):\n",
        "        return Power(other, self)\n",
        "\n",
        "    def __neg__(self):\n",
        "        return Negative(self)\n"
      ],
      "execution_count": 90,
      "outputs": []
    },
    {
      "cell_type": "markdown",
      "metadata": {
        "deletable": false,
        "editable": false,
        "nbgrader": {
          "checksum": "3abcdb3ca5f0df789c6427e08a56383d",
          "grade": false,
          "grade_id": "cell-97de33b3461556ef",
          "locked": true,
          "schema_version": 1,
          "solution": false
        },
        "id": "Idpd0w3ze6Wk"
      },
      "source": [
        "Let us give `op` for `Plus`, `Multiply`, and for variables via `V`, so you can see how it works."
      ]
    },
    {
      "cell_type": "code",
      "metadata": {
        "deletable": false,
        "editable": false,
        "nbgrader": {
          "checksum": "113dbe6e85da910fe6131731eb9fd7ff",
          "grade": false,
          "grade_id": "cell-1a1ed551215fcd72",
          "locked": true,
          "schema_version": 1,
          "solution": false
        },
        "id": "iDywys3he6Wk"
      },
      "source": [
        "class V(Expr):\n",
        "    \"\"\"This class represents a variable.\"\"\"\n",
        "\n",
        "    def assign(self, v):\n",
        "        \"\"\"Assigns a value to the variable.  Used to fit a model, so we\n",
        "        can assign the various input values to the variable.\"\"\"\n",
        "        self.children = [v]\n",
        "\n",
        "    def op(self):\n",
        "        self.value = self.values[0]\n",
        "\n",
        "    def __repr__(self):\n",
        "        return \"Variable: \" + str(self.children[0])\n",
        "\n",
        "\n",
        "class Plus(Expr):\n",
        "\n",
        "    def op(self):\n",
        "        self.value = self.values[0] + self.values[1]\n",
        "\n",
        "class Multiply(Expr):\n",
        "\n",
        "    def op(self):\n",
        "        self.value = self.values[0] * self.values[1]\n"
      ],
      "execution_count": 91,
      "outputs": []
    },
    {
      "cell_type": "code",
      "metadata": {
        "deletable": false,
        "editable": false,
        "nbgrader": {
          "checksum": "8ea2d3688e9f4369e1a47f11bb6b6a9f",
          "grade": false,
          "grade_id": "cell-7ef052946f3ba4c5",
          "locked": true,
          "schema_version": 1,
          "solution": false
        },
        "id": "_lZGtZJoe6Wl"
      },
      "source": [
        "#@title Let's define testing helpers.\n",
        "\n",
        "def check_equal(x, y, msg=None):\n",
        "    if x != y:\n",
        "        if msg is None:\n",
        "            print(\"Error:\")\n",
        "        else:\n",
        "            print(\"Error in\", msg, \":\")\n",
        "        print(\"    Your answer was:\", x)\n",
        "        print(\"    Correct answer: \", y)\n",
        "    assert x == y, \"%r and %r are different\" % (x, y)\n",
        "\n",
        "def check_almost_equal(x, y, tolerance=0.001, msg=None):\n",
        "    if abs(x - y) > tolerance:\n",
        "        if msg is None:\n",
        "            print(\"Error:\")\n",
        "        else:\n",
        "            print(\"Error in\", msg, \":\")\n",
        "        print(\"    Your answer was:\", x)\n",
        "        print(\"    Correct answer: \", y)\n",
        "    assert abs(x - y) < tolerance, \"%r and %r are different\" % (x, y)\n",
        "\n",
        "def check_true(x, msg=None):\n",
        "    if not x:\n",
        "        if msg is None:\n",
        "            print(\"Error: assertion is false\")\n",
        "        else:\n",
        "            print(\"Error in\", msg, \": false\")\n",
        "    assert x\n"
      ],
      "execution_count": 92,
      "outputs": []
    },
    {
      "cell_type": "markdown",
      "metadata": {
        "deletable": false,
        "editable": false,
        "nbgrader": {
          "checksum": "0f81d6675a8de84e364059372e7d04cc",
          "grade": false,
          "grade_id": "cell-e3f69f9e4683f9ca",
          "locked": true,
          "schema_version": 1,
          "solution": false
        },
        "id": "29ZPvhNne6Wl"
      },
      "source": [
        "## Question 1\n",
        "\n",
        "We will have you implement also multiplication."
      ]
    },
    {
      "cell_type": "code",
      "metadata": {
        "deletable": false,
        "nbgrader": {
          "checksum": "993abefb34333857c1c822ffbd00284f",
          "grade": false,
          "grade_id": "cell-3ee82ba0eb0fd073",
          "locked": false,
          "schema_version": 1,
          "solution": true
        },
        "id": "LEFoePUqe6Wl"
      },
      "source": [
        "### Exercise: Implement `Multiply`\n",
        "\n",
        "class Multiply(Expr):\n",
        "    \"\"\"A multiplication expression.\"\"\"\n",
        "\n",
        "    def op(self):\n",
        "        # YOUR CODE HERE\n",
        "        self.value=self.values[0]*self.values[1]\n"
      ],
      "execution_count": 93,
      "outputs": []
    },
    {
      "cell_type": "code",
      "metadata": {
        "deletable": false,
        "nbgrader": {
          "checksum": "b6ce9c1e6fb8f3e3462f2b2621a35b4f",
          "grade": false,
          "grade_id": "cell-a68bf3e6ca6b9d7d",
          "locked": false,
          "schema_version": 1,
          "solution": true
        },
        "id": "r6_4h90ke6Wl"
      },
      "source": [
        "# Here you can write additional tests, to help debugging your code.\n",
        "\n",
        "# YOUR CODE HERE"
      ],
      "execution_count": 94,
      "outputs": []
    },
    {
      "cell_type": "code",
      "metadata": {
        "deletable": false,
        "editable": false,
        "nbgrader": {
          "checksum": "c9e41e7030f6df0654ee03356eebc85f",
          "grade": true,
          "grade_id": "cell-65a16e57033790e7",
          "locked": true,
          "points": 5,
          "schema_version": 1,
          "solution": false
        },
        "id": "Qy_GJSYFe6Wl"
      },
      "source": [
        "### 5 points: Tests for `Multiply`\n",
        "\n",
        "e = V(2) * 3\n",
        "check_equal(e.compute(), 6)\n",
        "\n",
        "e = (V(2) + 3) * V(4)\n",
        "check_equal(e.compute(), 20)\n",
        "\n"
      ],
      "execution_count": 95,
      "outputs": []
    },
    {
      "cell_type": "markdown",
      "metadata": {
        "deletable": false,
        "editable": false,
        "nbgrader": {
          "checksum": "5b1e8ffba32aad3a851858059acb1727",
          "grade": false,
          "grade_id": "cell-5bd20aa6ea61312a",
          "locked": true,
          "schema_version": 1,
          "solution": false
        },
        "id": "6GU3B4wEe6Wl"
      },
      "source": [
        "## Implementing autogradient\n",
        "\n",
        "The next step consists in implementing autogradient.  Consider an expression $e = E(x_0, \\ldots, x_n)$, computed as function of its children expressions $x_0, \\ldots, x_n$.  \n",
        "\n",
        "The goal of the autogradient computation is to accumulate, in each node of the expression, the gradient of the loss with respect to the node's value.  For instance, if the gradient is $2$, we know that if we increase the value of the expression by $\\Delta$, then the value of the loss is increased by $2 \\Delta$. We accumulate the gradient in the field `self.gradient` of the expression. \n",
        "\n",
        "We say _accumulate_ the gradient, because we don't really do:\n",
        "\n",
        "    self.gradient = ...\n",
        "\n",
        "Rather, we have a method `e.zero_gradient()` that sets all gradients to 0, and we then _add_ the gradient to this initial value of 0: \n",
        "\n",
        "    self.gradient += ... \n",
        "\n",
        "We will explain later in detail why we do so; for the moment, just accept it. \n",
        "\n",
        "### Computaton of the gradient\n",
        "\n",
        "In the computation of the autogradient, the expression will receive as input the value $\\partial L / \\partial e$, where $L$ is the loss, and $e$ the value of the expression.  The quantity $\\partial L / \\partial e$ is the gradient of the loss with respect to the expression value. \n",
        "\n",
        "With this input, the method `compute_gradient` of an Expr $e$ must do the following:\n",
        "\n",
        "* It must _add_ $\\partial L / \\partial e$ to the gradient `self.gradient` of the expression. \n",
        "* It must call the method `derivate`.  If the expression node has children $c_1, \\ldots, c_n$, the method `derivate` must return the list of derivatives of $e$ with respect to its children $x_1, \\ldots, x_n$:\n",
        "\n",
        "  $$\n",
        "  \\left[ \\frac{\\partial e}{\\partial x_1}, \\ldots, \n",
        "    \\frac{\\partial e}{\\partial x_n} \\right]\n",
        "  $$\n",
        "\n",
        "  The method `derivate` is implemented not directly in the class `Expr`, but for each specific operator, such as `Plus`, `Multiply`, etc: each operator knows how to compute the derivative of its output value with respect to its children (its arguments).\n",
        "* It must propagate to each child $x_i$ the gradient \n",
        "\n",
        "  $$\n",
        "  \\frac{\\partial L}{\\partial e} \\cdot \\frac{\\partial e}{\\partial x_i} \\; , \n",
        "  $$\n",
        "\n",
        "  by calling the method `compute_gradient` of the child with argument $\\frac{\\partial L}{\\partial e} \\cdot \\frac{\\partial e}{\\partial x_i}$. "
      ]
    },
    {
      "cell_type": "code",
      "metadata": {
        "deletable": false,
        "editable": false,
        "nbgrader": {
          "checksum": "d00aa523cacd07917d62cf725e98b347",
          "grade": false,
          "grade_id": "cell-6bbf652e5e782827",
          "locked": true,
          "schema_version": 1,
          "solution": false
        },
        "id": "uBZeLSkPe6Wl"
      },
      "source": [
        "def expr_derivate(self):\n",
        "    \"\"\"This method computes the derivative of the operator at the expression\n",
        "    node.  It needs to be implemented in derived classes, such as Plus,\n",
        "    Multiply, etc.\"\"\"\n",
        "    raise NotImplementedError()\n",
        "\n",
        "Expr.derivate = expr_derivate\n",
        "\n",
        "def expr_zero_gradient(self):\n",
        "    \"\"\"Sets the gradient to 0, recursively for this expression\n",
        "    and all its children.\"\"\"\n",
        "    self.gradient = 0\n",
        "    for e in self.children:\n",
        "        if isinstance(e, Expr):\n",
        "            e.zero_gradient()\n",
        "\n",
        "Expr.zero_gradient = expr_zero_gradient\n",
        "\n",
        "def expr_compute_gradient(self, de_loss_over_de_e=1):\n",
        "    \"\"\"Computes the gradient.\n",
        "    de_loss_over_de_e is the gradient of the output.\n",
        "    de_loss_over_de_e will be added to the gradient, and then\n",
        "    we call for each child the method compute_gradient,\n",
        "    with argument de_loss_over_de_e * d expression / d child.\n",
        "    The value d expression / d child is computed by self.derivate. \"\"\"\n",
        "    pass # We will write this later.\n",
        "\n",
        "Expr.compute_gradient = expr_compute_gradient\n"
      ],
      "execution_count": 96,
      "outputs": []
    },
    {
      "cell_type": "markdown",
      "metadata": {
        "deletable": false,
        "editable": false,
        "nbgrader": {
          "checksum": "3567a882d8279c93321e42cc8f559097",
          "grade": false,
          "grade_id": "cell-400c0a653dac915c",
          "locked": true,
          "schema_version": 1,
          "solution": false
        },
        "id": "lwixrWbDe6Wl"
      },
      "source": [
        "Let us endow our operators `V`, `Plus`, `Multiply` with the `derivate` method, so you can see how it works in practice."
      ]
    },
    {
      "cell_type": "code",
      "metadata": {
        "deletable": false,
        "editable": false,
        "nbgrader": {
          "checksum": "3ecd9ed5eb25cfafe4476dddc06e6287",
          "grade": false,
          "grade_id": "cell-9ce4f7e12b25abca",
          "locked": true,
          "schema_version": 1,
          "solution": false
        },
        "id": "h3JHuwPQe6Wl"
      },
      "source": [
        "class V(Expr):\n",
        "    \"\"\"This class represents a variable.  The derivative rule corresponds\n",
        "    to d/dx x = 1, but note that it will not be called, since the children\n",
        "    of a variable are just numbers.\"\"\"\n",
        "\n",
        "    def assign(self, v):\n",
        "        \"\"\"Assigns a value to the variable.  Used to fit a model, so we\n",
        "        can assign the various input values to the variable.\"\"\"\n",
        "        self.children = [v]\n",
        "\n",
        "    def op(self):\n",
        "        self.value = self.values[0]\n",
        "\n",
        "    def derivate(self):\n",
        "        return [1.] # This is not really used.\n",
        "\n",
        "\n",
        "class Plus(Expr):\n",
        "    \"\"\"An addition expression.  The derivative rule corresponds to\n",
        "    d/dx (x+y) = 1, d/dy (x+y) = 1\"\"\"\n",
        "\n",
        "    def op(self):\n",
        "        self.value = self.values[0] + self.values[1]\n",
        "\n",
        "    def derivate(self):\n",
        "        return [1., 1.]\n",
        "\n",
        "\n",
        "class Multiply(Expr):\n",
        "    \"\"\"A multiplication expression. The derivative rule corresponds to\n",
        "    d/dx (xy) = y, d/dy(xy) = x\"\"\"\n",
        "\n",
        "    def op(self):\n",
        "        self.value = self.values[0] * self.values[1]\n",
        "\n",
        "    def derivate(self):\n",
        "        return [self.values[1], self.values[0]]\n"
      ],
      "execution_count": 97,
      "outputs": []
    },
    {
      "cell_type": "markdown",
      "metadata": {
        "deletable": false,
        "editable": false,
        "nbgrader": {
          "checksum": "57b4643288f6727e88a0f4c0e3056921",
          "grade": false,
          "grade_id": "cell-f0b4b32cdd79b712",
          "locked": true,
          "schema_version": 1,
          "solution": false
        },
        "id": "FRa5a7fme6Wl"
      },
      "source": [
        "Let us comment on some subtle points, before you get to work at implementing `compute_gradient`.  \n",
        "\n",
        "**`zero_gradient`:** First, notice how in the implementation of `zero_gradient`, when we loop over the children, we check whether each children is an `Expr` via isinstance(e, Expr).  In general, we have to remember that children can be either `Expr`, or simply numbers, and of course numbers do not have methods such as `zero_gradient` or `compute_gradient` implemented for them. \n",
        "\n",
        "**`derivate`:** Second, notice how `derivate` is not implemented in `Expr` directly, but rather, only in the derived classes such as `Plus`.  The derivative of the expression with respect to its arguments depends on which function it is, obviously.  \n",
        "\n",
        "For `Plus`, we have $e = x_0 + x_1$, and so: \n",
        "\n",
        "$$\n",
        "\\frac{\\partial e}{\\partial x_0} = 1 \\qquad \\frac{\\partial e}{\\partial x_1} = 1 \\; ,\n",
        "$$\n",
        "\n",
        "because $d(x+y)/dx = 1$.  Hence, the `derivate` method of `Plus` returns\n",
        "\n",
        "$$\n",
        "\\left[ \\frac{\\partial e}{\\partial x_0}, \\: \\frac{\\partial e}{\\partial x_1}\\right] \\; = \\; [1, 1] \\; .\n",
        "$$\n",
        "\n",
        "For `Multiply`, we have $e = x_0 \\cdot x_1$, and so:\n",
        "\n",
        "$$\n",
        "\\frac{\\partial e}{\\partial x_0} = x_1 \\qquad \\frac{\\partial e}{\\partial x_1} = x_0 \\; ,\n",
        "$$\n",
        "\n",
        "because $d(xy)/dx = y$.  Hence, the `derivate` method of `Plus` returns\n",
        "\n",
        "$$\n",
        "\\left[ \\frac{\\partial e}{\\partial x_0}, \\: \\frac{\\partial e}{\\partial x_1}\\right] \\; = \\; [x_1, x_0] \\; .\n",
        "$$\n",
        "\n",
        "\n",
        "**Calling `compute` before `compute_gradient`:** Lastly, a very important point: when calling `compute_gradient`, we will assume that `compute` has _already_ been called.  In this way, the value of the expression, and its children, are available for the computation of the gradient.  Note how in `Multiply.derivate` we use these values in order to compute the partial derivatives. "
      ]
    },
    {
      "cell_type": "markdown",
      "metadata": {
        "deletable": false,
        "editable": false,
        "nbgrader": {
          "checksum": "09b5f28a099687b50f4cb3a545264b4c",
          "grade": false,
          "grade_id": "cell-91edc38c6cf81c7a",
          "locked": true,
          "schema_version": 1,
          "solution": false
        },
        "id": "3zg7AIBoe6Wl"
      },
      "source": [
        "## Question 2: Implementation of `compute_gradient`\n",
        "\n",
        "With these clarifications, we ask you to implement the `compute_gradient` method, which again must:\n",
        "\n",
        "* _add_ $\\partial L / \\partial e$ to the gradient `self.gradient` of the expression; \n",
        "* compute $\\frac{\\partial e}{\\partial x_i}$ for each child $x_i$ by calling the method `derivate` of itself; \n",
        "* propagate to each child $x_i$ the gradient $\\frac{\\partial L}{\\partial e} \\cdot \\frac{\\partial e}{\\partial x_i}$, by calling the method `compute_gradient` of the child $i$ with argument $\\frac{\\partial L}{\\partial e} \\cdot \\frac{\\partial e}{\\partial x_i}$.\n",
        "\n",
        "Note that you do not need to implement the method `derivate`.  You just need to do the above. "
      ]
    },
    {
      "cell_type": "code",
      "metadata": {
        "deletable": false,
        "nbgrader": {
          "checksum": "1035da9869ba6a4f2ee15a24c2594a1c",
          "grade": false,
          "grade_id": "cell-a283df46be3d85aa",
          "locked": false,
          "schema_version": 1,
          "solution": true
        },
        "id": "zAChRgd3e6Wl"
      },
      "source": [
        "### Exercise: Implementation of `compute_gradient`\n",
        "\n",
        "def expr_compute_gradient(self, de_loss_over_de_e=1):\n",
        "    \"\"\"Computes the gradient.\n",
        "    de_loss_over_de_e is the gradient of the output.\n",
        "    de_loss_over_de_e will be added to the gradient, and then\n",
        "    we call for each child the method compute_gradient,\n",
        "    with argument de_loss_over_de_e * d expression / d child.\n",
        "    The value d expression / d child is computed by self.derivate. \"\"\"\n",
        "    # YOUR CODE HERE\n",
        "    self.gradient+=de_loss_over_de_e\n",
        "    for child, derivate in zip(self.children, self.derivate()):\n",
        "        if isinstance(child, Expr):\n",
        "            child.compute_gradient(de_loss_over_de_e=derivate*de_loss_over_de_e)\n",
        "\n",
        "\n",
        "Expr.compute_gradient = expr_compute_gradient\n"
      ],
      "execution_count": 98,
      "outputs": []
    },
    {
      "cell_type": "code",
      "metadata": {
        "deletable": false,
        "nbgrader": {
          "checksum": "3a6b7e80d91473bd04c655136f6e067a",
          "grade": false,
          "grade_id": "cell-51b917c41b68398a",
          "locked": false,
          "schema_version": 1,
          "solution": true
        },
        "id": "TMC4lO57e6Wl"
      },
      "source": [
        "# Here you can write additional tests, to help debugging your code.\n",
        "\n",
        "# YOUR CODE HERE"
      ],
      "execution_count": 99,
      "outputs": []
    },
    {
      "cell_type": "code",
      "metadata": {
        "deletable": false,
        "editable": false,
        "nbgrader": {
          "checksum": "98156e6ccc7f5c33ec28b884e2ca5a3a",
          "grade": true,
          "grade_id": "cell-7ac723567f722e2a",
          "locked": true,
          "points": 5,
          "schema_version": 1,
          "solution": false
        },
        "id": "J6ZwGP8Ne6Wl"
      },
      "source": [
        "### 5 Points: Tests for `compute_gradient` for a sum\n",
        "\n",
        "# First, the gradient of a sum.\n",
        "vx = V(3)\n",
        "vz = V(4)\n",
        "y = vx + vz\n",
        "check_equal(y.compute(), 7)\n",
        "y.zero_gradient()\n",
        "y.compute_gradient()\n",
        "check_equal(vx.gradient, 1.)\n"
      ],
      "execution_count": 100,
      "outputs": []
    },
    {
      "cell_type": "code",
      "metadata": {
        "deletable": false,
        "editable": false,
        "nbgrader": {
          "checksum": "19d4cb9ec38d590f0d6aafeb17f52dde",
          "grade": true,
          "grade_id": "cell-873f98ae9dc4f480",
          "locked": true,
          "points": 5,
          "schema_version": 1,
          "solution": false
        },
        "id": "o4byan9Be6Wl"
      },
      "source": [
        "### 5 Points: Tests for `compute gradient`, with a product. \n",
        "\n",
        "vx = V(3)\n",
        "vz = V(4)\n",
        "y = vx * vz\n",
        "check_equal(y.compute(), 12)\n",
        "y.zero_gradient()\n",
        "y.compute_gradient()\n",
        "check_equal(vx.gradient, 4)\n",
        "check_equal(vz.gradient, 3)\n"
      ],
      "execution_count": 101,
      "outputs": []
    },
    {
      "cell_type": "code",
      "metadata": {
        "deletable": false,
        "editable": false,
        "nbgrader": {
          "checksum": "ed75b51f18e0fcc44ea6d7c371d5f7a2",
          "grade": true,
          "grade_id": "cell-dad3fca5247074aa",
          "locked": true,
          "points": 10,
          "schema_version": 1,
          "solution": false
        },
        "id": "9AXUZ7IXe6Wm"
      },
      "source": [
        "### 10 points: Finally, the gradient of a function consisting of both sums and products. \n",
        "\n",
        "vx = V(1)\n",
        "vw = V(3)\n",
        "vz = V(4)\n",
        "y = (vx + vw) * (vz + 3)\n",
        "check_equal(y.compute(), 28)\n",
        "y.zero_gradient()\n",
        "y.compute_gradient()\n",
        "check_equal(vx.gradient, 7)\n",
        "check_equal(vz.gradient, 4)\n",
        "\n",
        "# And now with a repeated variable. \n",
        "vx = V(3)\n",
        "vw = V(2)\n",
        "vz = V(5)\n",
        "y = (vx + vw) * (vz + vx)\n",
        "check_equal(y.compute(), 40)\n",
        "y.zero_gradient()\n",
        "y.compute_gradient()\n",
        "check_equal(vx.gradient, 13)\n",
        "check_equal(vz.gradient, 5)\n"
      ],
      "execution_count": 102,
      "outputs": []
    },
    {
      "cell_type": "markdown",
      "metadata": {
        "deletable": false,
        "editable": false,
        "nbgrader": {
          "checksum": "7f85ef26564ede25895c897a4487bb9e",
          "grade": false,
          "grade_id": "cell-7e85131260b3a631",
          "locked": true,
          "schema_version": 1,
          "solution": false
        },
        "id": "pmQ19LJHe6Wm"
      },
      "source": [
        "## Why do we accumulate gradients?\n",
        "\n",
        "We are now in the position of answering the question of why we accumulate gradients.  There are two reasons. \n",
        "\n",
        "### Multiple variable occurrence\n",
        "\n",
        "The most important reason why we need to _add_ to the gradient of each node is that nodes, and in particular, variable nodes, can occur in multiple places in an expression tree.  To compute the total influence of the variable on the expression, we need to _sum_ the influence of each occurrence.  Let's see this with a simple example.  Consider the expression $y = x \\cdot x$.  We can code it as follows: \n"
      ]
    },
    {
      "cell_type": "code",
      "metadata": {
        "deletable": false,
        "editable": false,
        "nbgrader": {
          "checksum": "ccb777d5373ed28eb3a5f93942f63525",
          "grade": false,
          "grade_id": "cell-8a6f60ce5542948f",
          "locked": true,
          "schema_version": 1,
          "solution": false
        },
        "id": "P8knJaIue6Wm"
      },
      "source": [
        "vx = V(2.) # Creates a variable vx and initializes it to 2.\n",
        "y = vx * vx\n"
      ],
      "execution_count": 103,
      "outputs": []
    },
    {
      "cell_type": "markdown",
      "metadata": {
        "deletable": false,
        "editable": false,
        "nbgrader": {
          "checksum": "e0bb527d7e53678a346742adb6513b61",
          "grade": false,
          "grade_id": "cell-d1b4d1fbe6dc3c64",
          "locked": true,
          "schema_version": 1,
          "solution": false
        },
        "id": "WMHWAc9Ue6Wm"
      },
      "source": [
        "For $y = x^2$, we have $dy / dx = 2x = 4$, given that $x=2$.  How is this reflected in our code? \n",
        "\n",
        "Our code considers separately the left and right occurrences of `vx` in the expression; let us denote them with $vx_l$ and $vx_r$.  The expression can be written as $y = vx_l \\cdot vx_r$, and we have that $\\partial y / \\partial \\, vx_l = vx_r = 2$, as $vx_r = 2$.  Similarly, $\\partial y / \\partial \\, vx_r = 2$.  These two gradients are added to `vx.gradient` by the method `compute_gradient`, and we get that the total gradient is 4, as desired."
      ]
    },
    {
      "cell_type": "code",
      "metadata": {
        "deletable": false,
        "editable": false,
        "nbgrader": {
          "checksum": "d3941cca6e9ac2277e79182edeff2385",
          "grade": false,
          "grade_id": "cell-ae238a24e331b8c7",
          "locked": true,
          "schema_version": 1,
          "solution": false
        },
        "colab": {
          "base_uri": "https://localhost:8080/"
        },
        "id": "CZV24YXze6Wm",
        "outputId": "1fdacd93-04ec-4b6c-cfa9-40bf2418c2c5"
      },
      "source": [
        "y.compute() # We have to call compute() before compute_gradient()\n",
        "y.zero_gradient()\n",
        "y.compute_gradient()\n",
        "print(\"gradient of vx:\", vx.gradient)\n",
        "check_equal(vx.gradient, 4)\n"
      ],
      "execution_count": 104,
      "outputs": [
        {
          "output_type": "stream",
          "text": [
            "gradient of vx: 4.0\n"
          ],
          "name": "stdout"
        }
      ]
    },
    {
      "cell_type": "markdown",
      "metadata": {
        "deletable": false,
        "editable": false,
        "nbgrader": {
          "checksum": "6e2f552b35072ab3b2e0e9a6eaff62f5",
          "grade": false,
          "grade_id": "cell-84f7e9dfea13be6f",
          "locked": true,
          "schema_version": 1,
          "solution": false
        },
        "id": "H2rs5ruxe6Wm"
      },
      "source": [
        "### Multiple data to fit\n",
        "\n",
        "The other reason why we need to tally up the gradient is that in general, we need to fit a function to more than one data point.  Assume that we are given a set of inputs $x_1, x_2, \\ldots, x_n$ and desired outputs $y_1, y_2, \\ldots, y_n$. Our goal is to approximate the desired ouputs via an expression \n",
        "\n",
        "$$\n",
        "y = e(x, \\theta)\n",
        "$$\n",
        "\n",
        "of the input, according to some parameters $\\theta$.  Our goal is to choose the parameters $\\theta$ to minimize the sum of the square errors for the points: \n",
        "\n",
        "$$\n",
        "L_{tot}(\\theta)\n",
        "= \\sum_{i=1}^n L_i(\\theta) \n",
        "= \\sum_{i=1}^n (e(x_i, \\theta) - y_i)^2 \n",
        "\\; ,\n",
        "$$\n",
        "\n",
        "where $L_i(\\theta) = (e(x_i, \\theta) - y_i)^2$ is the loss for a single data point.  The gradient $L_{tot}(\\theta)$ with respect to $\\theta$ can be computed by adding up the gradients for the individual points:\n",
        "\n",
        "$$\n",
        "\\frac{\\partial}{\\partial \\theta} L_{tot}(\\theta) \\;=\\;\n",
        "\\sum_{i=1}^n \\frac{\\partial}{\\partial \\theta} L_i(\\theta) \\; .\n",
        "$$\n",
        "\n",
        "To translate this into code, we will build an expression $e(x, \\theta)$ involving the input $x$ and the parameters $\\theta$, and an expression \n",
        "\n",
        "$$\n",
        "L = (e(x, \\theta) - y)^2\n",
        "$$\n",
        "\n",
        "for the loss, involving $x, y$ and $\\theta$.  We will then zero all gradients via `zero_gradient`. Once this is done, we compute the loss $L$ for each point $(x_i, y_i)$, and then the gradient $\\partial L / \\partial \\theta$ via a call to `compute_gradient`.  \n",
        "The gradients for all the points will be added, yielding the gradient for minimizing the total loss over all the points. "
      ]
    },
    {
      "cell_type": "markdown",
      "metadata": {
        "deletable": false,
        "editable": false,
        "nbgrader": {
          "checksum": "4d0424d5f2836912e8e433639a7f1866",
          "grade": false,
          "grade_id": "cell-9f82f327730e738f",
          "locked": true,
          "schema_version": 1,
          "solution": false
        },
        "id": "qXUjMFEqe6Wm"
      },
      "source": [
        "## Question 3: Rounding up the implementation\n",
        "\n",
        "Now that we have implemented autogradient, as well as the operators `Plus` and `Multiply`, it is time to implement the remaining operators: \n",
        "\n",
        "* `Minus`\n",
        "* `Divide` (no need to worry about division by zero)\n",
        "* `Power`, representing exponentiation (the `**` operator of Python)\n",
        "* and the unary minus `Negative`. "
      ]
    },
    {
      "cell_type": "code",
      "metadata": {
        "deletable": false,
        "nbgrader": {
          "checksum": "18dfefb497bd012e922d949f29e192af",
          "grade": false,
          "grade_id": "cell-9b3db1e99bb952a9",
          "locked": false,
          "schema_version": 1,
          "solution": true
        },
        "id": "qFkhUcIOe6Wm"
      },
      "source": [
        "### Exercise: Implementation of `Minus`, `Divide`, `Power`, and `Negative`\n",
        "\n",
        "import math\n",
        "\n",
        "class Minus(Expr):\n",
        "    \"\"\"Operator for x - y\"\"\"\n",
        "\n",
        "    def op(self):\n",
        "        # YOUR CODE HERE\n",
        "        self.value=self.values[0]-self.values[1]\n",
        "\n",
        "    def derivate(self):\n",
        "        # YOUR CODE HERE\n",
        "        return[1.,-1.]\n",
        "\n",
        "class Divide(Expr):\n",
        "    \"\"\"Operator for x / y\"\"\"\n",
        "\n",
        "    def op(self):\n",
        "        # YOUR CODE HERE\n",
        "         self.value=self.values[0]/self.values[1]\n",
        "\n",
        "    def derivate(self):\n",
        "        # YOUR CODE HERE\n",
        "        return [1./self.values[1], -self.values[0]*(self.values[1])**(-2)]\n",
        "\n",
        "class Power(Expr):\n",
        "    \"\"\"Operator for x ** y\"\"\"\n",
        "\n",
        "    def op(self):\n",
        "        # YOUR CODE HERE\n",
        "        self.value=self.values[0]**self.values[1]\n",
        "\n",
        "    def derivate(self):\n",
        "        # YOUR CODE HERE\n",
        "        return [self.values[1]*(self.values[0]**(self.values[1]-1.)), self.values[0]**self.values[1]*math.log(self.values[0])]\n",
        "\n",
        "class Negative(Expr):\n",
        "    \"\"\"Operator for -x\"\"\"\n",
        "\n",
        "    def op(self):\n",
        "        # YOUR CODE HERE\n",
        "        self.value=-self.values[0]\n",
        "\n",
        "    def derivate(self):\n",
        "        # YOUR CODE HERE\n",
        "        return[-1.]\n"
      ],
      "execution_count": 105,
      "outputs": []
    },
    {
      "cell_type": "code",
      "metadata": {
        "deletable": false,
        "nbgrader": {
          "checksum": "c826d1c33134f0a613ac70c9873fbf03",
          "grade": false,
          "grade_id": "cell-f79907e216423935",
          "locked": false,
          "schema_version": 1,
          "solution": true
        },
        "id": "SuMi9qTSe6Wm"
      },
      "source": [
        "# Here you can write additional tests, to help debugging your code.\n",
        "\n",
        "# YOUR CODE HERE"
      ],
      "execution_count": 106,
      "outputs": []
    },
    {
      "cell_type": "code",
      "metadata": {
        "deletable": false,
        "editable": false,
        "nbgrader": {
          "checksum": "61cd31cbd20abfd17cc66cf8b5376673",
          "grade": true,
          "grade_id": "cell-e0c729deadf89035",
          "locked": true,
          "points": 5,
          "schema_version": 1,
          "solution": false
        },
        "id": "UjZcamE9e6Wm"
      },
      "source": [
        "### 5 points: Tests for `Minus`\n",
        "\n",
        "# Minus.\n",
        "vx = V(3)\n",
        "vy = V(2)\n",
        "e = vx - vy\n",
        "check_equal(e.compute(), 1.)\n",
        "e.zero_gradient()\n",
        "e.compute_gradient()\n",
        "check_equal(vx.gradient, 1)\n",
        "check_equal(vy.gradient, -1)\n",
        "\n"
      ],
      "execution_count": 107,
      "outputs": []
    },
    {
      "cell_type": "code",
      "metadata": {
        "deletable": false,
        "editable": false,
        "nbgrader": {
          "checksum": "fe94249adc22a15fe09d35d767ad3b8d",
          "grade": true,
          "grade_id": "cell-65f188cd5faa52bf",
          "locked": true,
          "points": 5,
          "schema_version": 1,
          "solution": false
        },
        "id": "brnOwIaAe6Wm"
      },
      "source": [
        "### 10 points: Tests for `Divide`\n",
        "\n",
        "# Divide.\n",
        "vx = V(6)\n",
        "vy = V(2)\n",
        "e = vx / vy\n",
        "check_equal(e.compute(), 3.)\n",
        "e.zero_gradient()\n",
        "e.compute_gradient()\n",
        "check_equal(vx.gradient, 0.5)\n",
        "check_equal(vy.gradient, -1.5)\n",
        "\n"
      ],
      "execution_count": 108,
      "outputs": []
    },
    {
      "cell_type": "code",
      "metadata": {
        "deletable": false,
        "editable": false,
        "nbgrader": {
          "checksum": "43065a8b799d90b37fb8cd1a19eabce8",
          "grade": true,
          "grade_id": "cell-758edaca9ce1cc6c",
          "locked": true,
          "points": 10,
          "schema_version": 1,
          "solution": false
        },
        "id": "pBZ1vWgne6Wm"
      },
      "source": [
        "### 10 points: Tests for `Power`\n",
        "\n",
        "# Power.\n",
        "vx = V(2)\n",
        "vy = V(3)\n",
        "e = vx ** vy\n",
        "check_equal(e.compute(), 8.)\n",
        "e.zero_gradient()\n",
        "e.compute_gradient()\n",
        "check_equal(vx.gradient, 12.)\n",
        "check_almost_equal(vy.gradient, math.log(2.) * 8.)\n",
        "\n"
      ],
      "execution_count": 109,
      "outputs": []
    },
    {
      "cell_type": "code",
      "metadata": {
        "deletable": false,
        "editable": false,
        "nbgrader": {
          "checksum": "bfdcbdf6364db1b6c1133d85ae6a1709",
          "grade": true,
          "grade_id": "cell-eed13ec6a2f21959",
          "locked": true,
          "points": 5,
          "schema_version": 1,
          "solution": false
        },
        "id": "uXmPB7SKe6Wm"
      },
      "source": [
        "### 5 points: Tests for `Negative`\n",
        "\n",
        "# Negative\n",
        "vx = V(6)\n",
        "e = - vx\n",
        "check_equal(e.compute(), -6.)\n",
        "e.zero_gradient()\n",
        "e.compute_gradient()\n",
        "check_equal(vx.gradient, -1.)\n",
        "\n"
      ],
      "execution_count": 110,
      "outputs": []
    },
    {
      "cell_type": "markdown",
      "metadata": {
        "deletable": false,
        "editable": false,
        "nbgrader": {
          "checksum": "8a4122343e0c73caf564596dc9c3ede8",
          "grade": false,
          "grade_id": "cell-e48e2691a6c78e3a",
          "locked": true,
          "schema_version": 1,
          "solution": false
        },
        "id": "WYg67CtZe6Wm"
      },
      "source": [
        "## Optimization\n",
        "\n",
        "Let us use our ML framework to fit a parabola to a given set of points.  Here is our set of points:"
      ]
    },
    {
      "cell_type": "code",
      "metadata": {
        "deletable": false,
        "editable": false,
        "nbgrader": {
          "checksum": "d69ec2ad95e5b2a82a1d13bc70a8d0e0",
          "grade": false,
          "grade_id": "cell-2db71cfc30785512",
          "locked": true,
          "schema_version": 1,
          "solution": false
        },
        "id": "HaQ6VE1Xe6Wn"
      },
      "source": [
        "points = [\n",
        "    (-2, 2.7),\n",
        "    (-1, 3),\n",
        "    (0, 1.3),\n",
        "    (1, 2.4),\n",
        "    (3, 5.5),\n",
        "    (4, 6.2),\n",
        "    (5, 9.1),\n",
        "]\n"
      ],
      "execution_count": 111,
      "outputs": []
    },
    {
      "cell_type": "markdown",
      "metadata": {
        "deletable": false,
        "editable": false,
        "nbgrader": {
          "checksum": "094a731f70708d72de1a35834b66381b",
          "grade": false,
          "grade_id": "cell-b3d0d0307685b60e",
          "locked": true,
          "schema_version": 1,
          "solution": false
        },
        "id": "BQ4Oy3Yee6Wn"
      },
      "source": [
        "Let us display these points."
      ]
    },
    {
      "cell_type": "code",
      "metadata": {
        "deletable": false,
        "editable": false,
        "nbgrader": {
          "checksum": "2893f2725ede75fb6a28d349545dce10",
          "grade": false,
          "grade_id": "cell-be75e290dc4c93a1",
          "locked": true,
          "schema_version": 1,
          "solution": false
        },
        "id": "HjJA4tnae6Wn"
      },
      "source": [
        "import matplotlib\n",
        "import matplotlib.pyplot as plt\n",
        "\n",
        "matplotlib.rcParams['figure.figsize'] = (8.0, 3.)\n",
        "params = {'legend.fontsize': 'large',\n",
        "          'axes.labelsize': 'large',\n",
        "          'axes.titlesize':'large',\n",
        "          'xtick.labelsize':'large',\n",
        "          'ytick.labelsize':'large'}\n",
        "matplotlib.rcParams.update(params)\n",
        "\n",
        "def plot_points(points):\n",
        "    fig, ax = plt.subplots()\n",
        "    xs, ys = zip(*points)\n",
        "    ax.plot(xs, ys, 'r+')\n",
        "    plt.xlabel('x')\n",
        "    plt.ylabel('y')\n",
        "    plt.show()\n"
      ],
      "execution_count": 112,
      "outputs": []
    },
    {
      "cell_type": "code",
      "metadata": {
        "deletable": false,
        "editable": false,
        "nbgrader": {
          "checksum": "e6c2b156cee511cd1ce5c9fc41d79bc3",
          "grade": false,
          "grade_id": "cell-3ff9bf3c117baff3",
          "locked": true,
          "schema_version": 1,
          "solution": false
        },
        "colab": {
          "base_uri": "https://localhost:8080/",
          "height": 231
        },
        "id": "4lSRtBY6e6Wn",
        "outputId": "b7c7eea4-7132-4a04-cc1c-4d08abd91358"
      },
      "source": [
        "plot_points(points)\n"
      ],
      "execution_count": 113,
      "outputs": [
        {
          "output_type": "display_data",
          "data": {
            "image/png": "[encoded data removed]",
            "text/plain": [
              "<Figure size 576x216 with 1 Axes>"
            ]
          },
          "metadata": {
            "tags": [],
            "needs_background": "light"
          }
        }
      ]
    },
    {
      "cell_type": "markdown",
      "metadata": {
        "deletable": false,
        "editable": false,
        "nbgrader": {
          "checksum": "ec246fb30ae5c2627a399be2480e0dea",
          "grade": false,
          "grade_id": "cell-d5fa83ab05c5d519",
          "locked": true,
          "schema_version": 1,
          "solution": false
        },
        "id": "VTa_MOwhe6Wn"
      },
      "source": [
        "To fit a parabola to these points, we will build an `Expr` that represents the equation $\\hat{y} = ax^2 + bx + c$, where $\\hat{y}$ is the value of $y$ predicted by our parabola. \n",
        "If $\\hat{y}$ is the predicted value, and $y$ is the observed value, to obtain a better prediction of the observations, we minimize the loss $L = (\\hat{y} - y)^2$, that is, the square prediction error. \n",
        "Written out in detail, our loss is:\n",
        "\n",
        "$$\n",
        "    L \\;=\\; \\left( y - \\hat{y}\\right)^ 2 \\;=\\; \\left( y - (ax^2 + bx + c) \\right)^2 \\; .\n",
        "$$\n",
        "\n",
        "Here, $a, b, c$ are parameters that we need to tune to minimize the loss, and obtain a good fit between the parabola and the points. \n",
        "This tuning, or training, is done by repeating the following process many times:\n",
        "\n",
        "* Zero the gradient\n",
        "* For each point:\n",
        "    * Set the values of x, y to the value of the point.\n",
        "    * Compute the expression giving the loss.\n",
        "    * Backpropagate.  This computes all gradients with respect to the loss, and in particular, the gradients of the coefficients $a, b, c$. \n",
        "* Update the coefficients $a, b, c$ by taking a small step in the direction of the negative gradient (negative, so that the loss decreases)."
      ]
    },
    {
      "cell_type": "code",
      "metadata": {
        "deletable": false,
        "editable": false,
        "nbgrader": {
          "checksum": "255f5516377b06edb96b040557e893cc",
          "grade": false,
          "grade_id": "cell-13b53c77d902e602",
          "locked": true,
          "schema_version": 1,
          "solution": false
        },
        "id": "PgBHHmp8e6Wn"
      },
      "source": [
        "### Cell A (see later for why this cell is named)\n",
        "\n",
        "va = V(0.)\n",
        "vb = V(0.)\n",
        "vc = V(0.)\n",
        "vx = V(0.)\n",
        "vy = V(0.)\n",
        "\n",
        "oy = va * vx * vx + vb * vx + vc\n",
        "\n",
        "loss = (vy - oy) * (vy - oy)\n"
      ],
      "execution_count": 114,
      "outputs": []
    },
    {
      "cell_type": "markdown",
      "metadata": {
        "deletable": false,
        "editable": false,
        "nbgrader": {
          "checksum": "07771881bafa3848e5ccfc202d0a9fa3",
          "grade": false,
          "grade_id": "cell-3a28c15cda4fcb5f",
          "locked": true,
          "schema_version": 1,
          "solution": false
        },
        "id": "dq_GPUgCe6Wn"
      },
      "source": [
        "## Question 4: Implementing learning: the `fit` function.\n",
        "\n",
        "The `fit` function minimizes the loss of fitting a series of $(x, y)$ points with a function.  Precisely, the `fit` function takes as input: \n",
        "\n",
        "* An expression `loss`, which gives the loss as a function of the values of two variables, `vx` and `vy`, as well as a list of parameters `params`.  In the above example, `params = [va, vb, vc]`. \n",
        "* A list `points` of $(x, y)$-pairs, such as `[(2, 3), (3.2, 4.1)]`. \n",
        "* A list `params` of parameters to be optimized.  In the above example, `params = [va, vb, vc]`. \n",
        "* A learning-step size `delta`. \n",
        "* A number of iterations `num_iterations`.\n",
        "\n",
        "Below, implement the \"for each point\" part of the above informal description.  Hint: this takes about 4-5 lines of code.  As a reminder, these are the operations you need to use: \n",
        "\n",
        "* For a variable `v`, you can assign it a value `x` by saying `v.assign(x)`.  If you want to assign it a `4`, you do `v.assign(4)`, and so forth (look also at the example at line 13). \n",
        "* Forward propagation: for the loss `loss`, you can compute its value via `loss.compute()`. \n",
        "* Backward propagation: for the loss `loss`, you can perform gradient backpropagation via `loss.compute_gradient()`. "
      ]
    },
    {
      "cell_type": "code",
      "metadata": {
        "deletable": false,
        "nbgrader": {
          "checksum": "7e932f936fa220d4292913654db36d4e",
          "grade": false,
          "grade_id": "cell-9abece6f7836dbac",
          "locked": false,
          "schema_version": 1,
          "solution": true
        },
        "id": "YOQ-ThVje6Wn"
      },
      "source": [
        "### Exercise: Implementation of `fit`\n",
        "### Cell B\n",
        "\n",
        "def fit(loss, points, params, delta=0.0001, num_iterations=4000):\n",
        "    \"\"\"\n",
        "    @param loss: expression giving the loss as a function of variables and parameters.\n",
        "    @param points: list of (x, y) values to which we have to fit the expression.\n",
        "    @param params: list of parameters whose value we can tune.\n",
        "    @param delta: learning step size.\n",
        "    @param num_iterations: number of learning iterations.\n",
        "    \"\"\"\n",
        "\n",
        "    for iteration_idx in range(num_iterations):\n",
        "        loss.zero_gradient()\n",
        "        total_loss = 0.\n",
        "        for x, y in points:\n",
        "            # Here, you have to assign values to vx and vy, forward propagate,\n",
        "            # then backpropagate the gradient.  4 lines are enough; it is not \n",
        "            # a trick question.\n",
        "            # YOUR CODE HERE          \n",
        "            vx.assign(x)\n",
        "            vy.assign(y)\n",
        "            loss.compute()\n",
        "            loss.compute_gradient()\n",
        "\n",
        "            total_loss += loss.value\n",
        "        if (iteration_idx + 1) % 100 == 0:\n",
        "            print(\"Loss:\", total_loss)\n",
        "        for vv in params:\n",
        "            vv.assign(vv.value - delta * vv.gradient)\n",
        "    return total_loss\n"
      ],
      "execution_count": 115,
      "outputs": []
    },
    {
      "cell_type": "code",
      "metadata": {
        "deletable": false,
        "nbgrader": {
          "checksum": "8854e5219f49695a600a6205fc372aa4",
          "grade": false,
          "grade_id": "cell-4d6c423a1ec6cd89",
          "locked": false,
          "schema_version": 1,
          "solution": true
        },
        "id": "yZOKtXKHe6Wn"
      },
      "source": [
        "# Here you can write additional tests, to help debugging your code.\n",
        "\n",
        "# YOUR CODE HERE"
      ],
      "execution_count": 116,
      "outputs": []
    },
    {
      "cell_type": "markdown",
      "metadata": {
        "deletable": false,
        "editable": false,
        "nbgrader": {
          "checksum": "0905bdc2a53eca58d0f50f075132168b",
          "grade": false,
          "grade_id": "cell-b1cae9e897d728a4",
          "locked": true,
          "schema_version": 1,
          "solution": false
        },
        "id": "AcJ6nz0Ie6Wn"
      },
      "source": [
        "Let's train the coefficients `va`, `vb`, `vc`.  Remember!  Run the cell below after running Cell A and Cell B above.  If you run code below, you need to redefine things by rerunning Cell A and Cell B.  If you find this confusing, reset the kernel and rerun from start to here.  "
      ]
    },
    {
      "cell_type": "code",
      "metadata": {
        "deletable": false,
        "editable": false,
        "nbgrader": {
          "checksum": "cefc05eaab597fdcd10adb08b25b180f",
          "grade": true,
          "grade_id": "cell-8ad5e5d94df53408",
          "locked": true,
          "points": 10,
          "schema_version": 1,
          "solution": false
        },
        "colab": {
          "base_uri": "https://localhost:8080/"
        },
        "id": "GizWlNDGe6Wn",
        "outputId": "8d756d3b-8ea7-4470-b810-b191810d0915"
      },
      "source": [
        "### 10 points: if you defined fit correctly, this will converge to less than 2.5 loss. \n",
        "\n",
        "final_loss = fit(loss, points, [va, vb, vc])\n",
        "check_true(final_loss < 2.5)"
      ],
      "execution_count": 117,
      "outputs": [
        {
          "output_type": "stream",
          "text": [
            "Loss: 15.691480263172831\n",
            "Loss: 13.628854145973717\n",
            "Loss: 11.95710461470721\n",
            "Loss: 10.577288435238483\n",
            "Loss: 9.421709915417068\n",
            "Loss: 8.442894724380599\n",
            "Loss: 7.606627717852742\n",
            "Loss: 6.887533665385938\n",
            "Loss: 6.266252079473012\n",
            "Loss: 5.727613949776414\n",
            "Loss: 5.259450432876111\n",
            "Loss: 4.851802101057622\n",
            "Loss: 4.4963837663728965\n",
            "Loss: 4.18621382152429\n",
            "Loss: 3.9153507183966223\n",
            "Loss: 3.6787002636071753\n",
            "Loss: 3.471870598609928\n",
            "Loss: 3.2910600093895632\n",
            "Loss: 3.13296792199636\n",
            "Loss: 2.9947227347465053\n",
            "Loss: 2.8738222326925422\n",
            "Loss: 2.768083672161589\n",
            "Loss: 2.6756014919475786\n",
            "Loss: 2.594711177586694\n",
            "Loss: 2.523958185206276\n",
            "Loss: 2.462071090153853\n",
            "Loss: 2.4079383059994615\n",
            "Loss: 2.360587848696134\n",
            "Loss: 2.3191697158813342\n",
            "Loss: 2.28294052348259\n",
            "Loss: 2.251250098021605\n",
            "Loss: 2.2235297678961032\n",
            "Loss: 2.199282133501638\n",
            "Loss: 2.1780721263873506\n",
            "Loss: 2.1595191931327227\n",
            "Loss: 2.1432904612844434\n",
            "Loss: 2.1290947632296184\n",
            "Loss: 2.1166774098449848\n",
            "Loss: 2.105815619569577\n",
            "Loss: 2.096314520528721\n"
          ],
          "name": "stdout"
        }
      ]
    },
    {
      "cell_type": "markdown",
      "metadata": {
        "deletable": false,
        "editable": false,
        "nbgrader": {
          "checksum": "6cd9dc52a8011aa129045a1daf8e9fb5",
          "grade": false,
          "grade_id": "cell-bc4f129e20b8305a",
          "locked": true,
          "schema_version": 1,
          "solution": false
        },
        "id": "QSQl9M2Ze6Wn"
      },
      "source": [
        "Let's display the parameter values after the training:"
      ]
    },
    {
      "cell_type": "code",
      "metadata": {
        "deletable": false,
        "editable": false,
        "nbgrader": {
          "checksum": "79094953ce648102a5a75d90e5ca9e0e",
          "grade": false,
          "grade_id": "cell-6b6fe721e718d4fa",
          "locked": true,
          "schema_version": 1,
          "solution": false
        },
        "colab": {
          "base_uri": "https://localhost:8080/"
        },
        "id": "qq4wSfxTe6Wn",
        "outputId": "1d81f833-830b-4797-8413-e4296718068a"
      },
      "source": [
        "print(\"a:\", va.value, \"b:\", vb.value, \"c:\", vc.value)\n"
      ],
      "execution_count": 118,
      "outputs": [
        {
          "output_type": "stream",
          "text": [
            "a: 0.2676897030023671 b: 0.09446139849938508 c: 1.9725828646266883\n"
          ],
          "name": "stdout"
        }
      ]
    },
    {
      "cell_type": "markdown",
      "metadata": {
        "deletable": false,
        "editable": false,
        "nbgrader": {
          "checksum": "084c98e0ac3046ed0c357f6c764fdb8f",
          "grade": false,
          "grade_id": "cell-f60c7a7440293da4",
          "locked": true,
          "schema_version": 1,
          "solution": false
        },
        "id": "D2yZpx2ie6Wn"
      },
      "source": [
        "Let's display the points, along with the fitted parabola."
      ]
    },
    {
      "cell_type": "code",
      "metadata": {
        "deletable": false,
        "editable": false,
        "nbgrader": {
          "checksum": "27d7c71d98be0edab6f26b49d5fc54df",
          "grade": false,
          "grade_id": "cell-731aa03cfbe6a7f5",
          "locked": true,
          "schema_version": 1,
          "solution": false
        },
        "id": "iriP_GaEe6Wn"
      },
      "source": [
        "import numpy as np\n",
        "\n",
        "def plot_points_and_y(points, vx, oy):\n",
        "    fig, ax = plt.subplots()\n",
        "    xs, ys = zip(*points)\n",
        "    ax.plot(xs, ys, 'r+')\n",
        "    x_min, x_max = np.min(xs), np.max(xs)\n",
        "    step = (x_max - x_min) / 100\n",
        "    x_list = list(np.arange(x_min, x_max + step, step))\n",
        "    y_list = []\n",
        "    for x in x_list:\n",
        "        vx.assign(x)\n",
        "        oy.compute()\n",
        "        y_list.append(oy.value)\n",
        "    ax.plot(x_list, y_list)\n",
        "    plt.xlabel('x')\n",
        "    plt.ylabel('y')\n",
        "    plt.show()\n"
      ],
      "execution_count": 119,
      "outputs": []
    },
    {
      "cell_type": "code",
      "metadata": {
        "deletable": false,
        "editable": false,
        "nbgrader": {
          "checksum": "f7349bbcbcdbcea7008b86d3c53dede4",
          "grade": false,
          "grade_id": "cell-11c8797f95bdb923",
          "locked": true,
          "schema_version": 1,
          "solution": false
        },
        "colab": {
          "base_uri": "https://localhost:8080/",
          "height": 231
        },
        "id": "8kP3d0S_e6Wo",
        "outputId": "3d7c9ccc-03a7-4110-81ed-d80b59f0ac5c"
      },
      "source": [
        "plot_points_and_y(points, vx, oy)\n"
      ],
      "execution_count": 120,
      "outputs": [
        {
          "output_type": "display_data",
          "data": {
            "image/png": "[encoded data removed]",
            "text/plain": [
              "<Figure size 576x216 with 1 Axes>"
            ]
          },
          "metadata": {
            "tags": [],
            "needs_background": "light"
          }
        }
      ]
    },
    {
      "cell_type": "markdown",
      "metadata": {
        "deletable": false,
        "editable": false,
        "nbgrader": {
          "checksum": "dfa6639afca14eb1c87baa53370511b4",
          "grade": false,
          "grade_id": "cell-7961c00914163f71",
          "locked": true,
          "schema_version": 1,
          "solution": false
        },
        "id": "_ufRXSnPe6Wo"
      },
      "source": [
        "This looks like a good fit!"
      ]
    },
    {
      "cell_type": "markdown",
      "metadata": {
        "deletable": false,
        "editable": false,
        "nbgrader": {
          "checksum": "15d5d9162d30996f54546c6f02a3e9d8",
          "grade": false,
          "grade_id": "cell-2ceba8bf90f491d6",
          "locked": true,
          "schema_version": 1,
          "solution": false
        },
        "id": "JoKtmcF4e6Wo"
      },
      "source": [
        "Let us now show you how to fit a simple linear regression: $y = ax + b$, so $L = (y - (ax + b))^2$. "
      ]
    },
    {
      "cell_type": "code",
      "metadata": {
        "deletable": false,
        "editable": false,
        "nbgrader": {
          "checksum": "76d2db900ab0b7aaf5947f475e59d3d3",
          "grade": false,
          "grade_id": "cell-1444b121389b0ed2",
          "locked": true,
          "schema_version": 1,
          "solution": false
        },
        "id": "NgAgO2S1e6Wo"
      },
      "source": [
        "# Parameters\n",
        "# Sometimes you have to be careful about initial values.\n",
        "va = V(1.)\n",
        "vb = V(1.)\n",
        "\n",
        "# x and y\n",
        "vx = V(0.)\n",
        "vy = V(0.)\n",
        "\n",
        "# Predicted y\n",
        "oy = va * vx + vb\n",
        "\n",
        "# Loss\n",
        "loss = (vy - oy) * (vy - oy)\n"
      ],
      "execution_count": 121,
      "outputs": []
    },
    {
      "cell_type": "code",
      "metadata": {
        "deletable": false,
        "editable": false,
        "nbgrader": {
          "checksum": "7819e16ec0f629103495c386d38ae211",
          "grade": false,
          "grade_id": "cell-18f5be0cec961402",
          "locked": true,
          "schema_version": 1,
          "solution": false
        },
        "colab": {
          "base_uri": "https://localhost:8080/"
        },
        "id": "o2Z0S7zAe6Wo",
        "outputId": "08ec77d8-e670-4ab2-f1b1-901e30846460"
      },
      "source": [
        "fit(loss, points, [va, vb])\n"
      ],
      "execution_count": 122,
      "outputs": [
        {
          "output_type": "stream",
          "text": [
            "Loss: 28.04911931725314\n",
            "Loss: 24.56807140584221\n",
            "Loss: 22.04737547646302\n",
            "Loss: 20.018461554483544\n",
            "Loss: 18.363064879989466\n",
            "Loss: 17.010221159926804\n",
            "Loss: 15.904419410376471\n",
            "Loss: 15.000526654509262\n",
            "Loss: 14.261674191105309\n",
            "Loss: 13.657727388420048\n",
            "Loss: 13.164054060381849\n",
            "Loss: 12.760519585409948\n",
            "Loss: 12.43066568540981\n",
            "Loss: 12.161039167477448\n",
            "Loss: 11.940643231055738\n",
            "Loss: 11.760488960015408\n",
            "Loss: 11.613228706940784\n",
            "Loss: 11.492856417067383\n",
            "Loss: 11.394462669488892\n",
            "Loss: 11.314034444913947\n",
            "Loss: 11.248291453438622\n",
            "Loss: 11.194552346912685\n",
            "Loss: 11.150625359329684\n",
            "Loss: 11.114718914975501\n",
            "Loss: 11.085368558461209\n",
            "Loss: 11.061377226459106\n",
            "Loss: 11.041766425106331\n",
            "Loss: 11.025736321831346\n",
            "Loss: 11.012633123936265\n",
            "Loss: 11.00192241346032\n",
            "Loss: 10.99316735077883\n",
            "Loss: 10.986010857964564\n",
            "Loss: 10.980161055254529\n",
            "Loss: 10.975379356643991\n",
            "Loss: 10.971470739082786\n",
            "Loss: 10.968275788400177\n",
            "Loss: 10.965664197548818\n",
            "Loss: 10.963529451991706\n",
            "Loss: 10.96178448547398\n",
            "Loss: 10.960358128998926\n"
          ],
          "name": "stdout"
        },
        {
          "output_type": "execute_result",
          "data": {
            "text/plain": [
              "10.960358128998926"
            ]
          },
          "metadata": {
            "tags": []
          },
          "execution_count": 122
        }
      ]
    },
    {
      "cell_type": "code",
      "metadata": {
        "deletable": false,
        "editable": false,
        "nbgrader": {
          "checksum": "8c9a26f59d06e3bda37d2616d858f87a",
          "grade": false,
          "grade_id": "cell-604d36a27521926b",
          "locked": true,
          "schema_version": 1,
          "solution": false
        },
        "colab": {
          "base_uri": "https://localhost:8080/",
          "height": 231
        },
        "id": "gnoP6hqKe6Wo",
        "outputId": "76b7c53c-1574-4f40-e8af-bb091172f40d"
      },
      "source": [
        "plot_points_and_y(points, vx, oy)\n"
      ],
      "execution_count": 123,
      "outputs": [
        {
          "output_type": "display_data",
          "data": {
            "image/png": "[encoded data removed]",
            "text/plain": [
              "<Figure size 576x216 with 1 Axes>"
            ]
          },
          "metadata": {
            "tags": [],
            "needs_background": "light"
          }
        }
      ]
    },
    {
      "cell_type": "markdown",
      "metadata": {
        "deletable": false,
        "editable": false,
        "nbgrader": {
          "checksum": "5ce567b964bc12d651f560584cd53024",
          "grade": false,
          "grade_id": "cell-c28baa9b991e0eed",
          "locked": true,
          "schema_version": 1,
          "solution": false
        },
        "id": "BtLyZUB1e6Wo"
      },
      "source": [
        "## Question 5: Fitting a 3-rd degree function. \n",
        "\n",
        "Using the method illustrated above, fit the following equations to our set of points.  Use `vx`, `xy` for $x$, $y$, and `va`, `vb`, `vc`, `vd` for the parameters.  This is important, or the tests won't pass.\n",
        "\n",
        "$$\n",
        "y = a x^3 + b x^2 + c x + d\n",
        "$$"
      ]
    },
    {
      "cell_type": "code",
      "metadata": {
        "deletable": false,
        "nbgrader": {
          "checksum": "4b2c9c10879b38ec4b6ff855f7d9a26e",
          "grade": false,
          "grade_id": "cell-ccd0130788eed077",
          "locked": false,
          "schema_version": 1,
          "solution": true
        },
        "colab": {
          "base_uri": "https://localhost:8080/"
        },
        "id": "N9IC08rIe6Wo",
        "outputId": "d50e710b-a2ad-4750-afe0-54bd2a7f6c5b"
      },
      "source": [
        "### Exercise: fit of y = a^x + bx + c\n",
        "\n",
        "# Some random initializations.\n",
        "vx = V(0.)\n",
        "vy = V(0.)\n",
        "va = V(-0.1)\n",
        "vb = V(0.2)\n",
        "vc = V(-0.3)\n",
        "vd = V(0.4)\n",
        "# Define below what is the prediction oy and loss.\n",
        "# oy = ...\n",
        "# loss = ...\n",
        "# YOUR CODE HERE\n",
        "oy=va*vx*vx*vx+vb*vx*vx+vc*vx+vd\n",
        "loss=(vy-oy)*(vy-oy)\n",
        "final_loss = fit(loss, points, [va, vb, vc, vd], delta=2e-5, num_iterations=10000)"
      ],
      "execution_count": 82,
      "outputs": [
        {
          "output_type": "stream",
          "text": [
            "Loss: 15.67115837754249\n",
            "Loss: 13.15257837841636\n",
            "Loss: 11.446516239726813\n",
            "Loss: 10.271877721258853\n",
            "Loss: 9.445750688870097\n",
            "Loss: 8.849053573907797\n",
            "Loss: 8.404206557198073\n",
            "Loss: 8.060617357140313\n",
            "Loss: 7.785246421554386\n",
            "Loss: 7.556473692336477\n",
            "Loss: 7.360111383560495\n",
            "Loss: 7.186811678233116\n",
            "Loss: 7.030381143195155\n",
            "Loss: 6.886684538028584\n",
            "Loss: 6.7529317603433645\n",
            "Loss: 6.627213861090008\n",
            "Loss: 6.508200986657826\n",
            "Loss: 6.394945603812967\n",
            "Loss: 6.286754187651567\n",
            "Loss: 6.183103438199668\n",
            "Loss: 6.083585466740213\n",
            "Loss: 5.987871836969429\n",
            "Loss: 5.895689884726538\n",
            "Loss: 5.806807040213465\n",
            "Loss: 5.721020371804584\n",
            "Loss: 5.638149542494436\n",
            "Loss: 5.558032001878895\n",
            "Loss: 5.480519647347063\n",
            "Loss: 5.405476455248225\n",
            "Loss: 5.3327767564800235\n",
            "Loss: 5.2623039439087975\n",
            "Loss: 5.193949472527677\n",
            "Loss: 5.12761206109277\n",
            "Loss: 5.063197035129431\n",
            "Loss: 5.000615771504852\n",
            "Loss: 4.9397852180120925\n",
            "Loss: 4.880627470070795\n",
            "Loss: 4.823069392323445\n",
            "Loss: 4.767042276635421\n",
            "Loss: 4.712481530470108\n",
            "Loss: 4.659326391246892\n",
            "Loss: 4.607519663387421\n",
            "Loss: 4.557007475499704\n",
            "Loss: 4.50773905566236\n",
            "Loss: 4.45966652313156\n",
            "Loss: 4.4127446950519404\n",
            "Loss: 4.366930906944661\n",
            "Loss: 4.32218484589143\n",
            "Loss: 4.278468395448643\n",
            "Loss: 4.235745491418874\n",
            "Loss: 4.193981987684977\n",
            "Loss: 4.153145531378784\n",
            "Loss: 4.11320544671476\n",
            "Loss: 4.074132626870656\n",
            "Loss: 4.0358994333438245\n",
            "Loss: 3.998479602254112\n",
            "Loss: 3.9618481571027515\n",
            "Loss: 3.92598132753228\n",
            "Loss: 3.8908564736649107\n",
            "Loss: 3.856452015627289\n",
            "Loss: 3.822747367897096\n",
            "Loss: 3.7897228781331416\n",
            "Loss: 3.7573597701743777\n",
            "Loss: 3.7256400909156238\n",
            "Loss: 3.6945466607883675\n",
            "Loss: 3.6640630275943193\n",
            "Loss: 3.6341734234570553\n",
            "Loss: 3.604862724673814\n",
            "Loss: 3.576116414264739\n",
            "Loss: 3.547920547031291\n",
            "Loss: 3.5202617169486854\n",
            "Loss: 3.4931270267297467\n",
            "Loss: 3.4665040594088183\n",
            "Loss: 3.4403808518051924\n",
            "Loss: 3.414745869735362\n",
            "Loss: 3.389587984852651\n",
            "Loss: 3.3648964530011876\n",
            "Loss: 3.3406608939793663\n",
            "Loss: 3.3168712726151166\n",
            "Loss: 3.2935178810623116\n",
            "Loss: 3.2705913222339134\n",
            "Loss: 3.2480824942935156\n",
            "Loss: 3.22598257613233\n",
            "Loss: 3.2042830137638263\n",
            "Loss: 3.1829755075730692\n",
            "Loss: 3.1620520003621047\n",
            "Loss: 3.141504666136911\n",
            "Loss: 3.121325899585317\n",
            "Loss: 3.101508306198679\n",
            "Loss: 3.082044692993622\n",
            "Loss: 3.062928059793013\n",
            "Loss: 3.044151591028356\n",
            "Loss: 3.025708648028304\n",
            "Loss: 3.0075927617605713\n",
            "Loss: 2.9897976259967347\n",
            "Loss: 2.972317090871586\n",
            "Loss: 2.955145156810651\n",
            "Loss: 2.9382759688013556\n",
            "Loss: 2.9217038109849827\n",
            "Loss: 2.9054231015482324\n"
          ],
          "name": "stdout"
        }
      ]
    },
    {
      "cell_type": "code",
      "metadata": {
        "deletable": false,
        "editable": false,
        "nbgrader": {
          "checksum": "f588e19e1eba6503507b92abab3850a6",
          "grade": false,
          "grade_id": "cell-46246ae4328b20e3",
          "locked": true,
          "schema_version": 1,
          "solution": false
        },
        "colab": {
          "base_uri": "https://localhost:8080/",
          "height": 231
        },
        "id": "ESpgp7PIe6Wo",
        "outputId": "415b20fe-c11d-43a0-a4d0-4e906e776fb2"
      },
      "source": [
        "plot_points_and_y(points, vx, oy)"
      ],
      "execution_count": 83,
      "outputs": [
        {
          "output_type": "display_data",
          "data": {
            "image/png": "[encoded data removed]",
            "text/plain": [
              "<Figure size 576x216 with 1 Axes>"
            ]
          },
          "metadata": {
            "tags": [],
            "needs_background": "light"
          }
        }
      ]
    },
    {
      "cell_type": "markdown",
      "metadata": {
        "deletable": false,
        "editable": false,
        "nbgrader": {
          "checksum": "e6b045aa5ba8d65624f99f998c4b5b3b",
          "grade": false,
          "grade_id": "cell-0496d48df2d313c7",
          "locked": true,
          "schema_version": 1,
          "solution": false
        },
        "id": "7nto5Mmle6Wo"
      },
      "source": [
        "This is a bit underwhelming: we use a 3rd degree polynomial instead of a 2nd degree one, and yet, the fit is not any better, because the training takes longer and we stopped.  "
      ]
    },
    {
      "cell_type": "code",
      "metadata": {
        "deletable": false,
        "editable": false,
        "nbgrader": {
          "checksum": "a371917ae32c6c9b4b8caf943d379a44",
          "grade": true,
          "grade_id": "cell-39f3a0282f16f185",
          "locked": true,
          "points": 10,
          "schema_version": 1,
          "solution": false
        },
        "id": "inLUWOcce6Wo"
      },
      "source": [
        "### 10 points: convergence, and some sanity checks. \n",
        "\n",
        "check_true(final_loss < 3.)\n",
        "check_almost_equal(va.value, 0, tolerance=0.1)\n",
        "check_almost_equal(vb.value, 0.43, tolerance=0.1)\n",
        "check_almost_equal(vc.value, 0.15, tolerance=0.1)\n",
        "check_almost_equal(vd.value, 1.38, tolerance=0.1)\n"
      ],
      "execution_count": 84,
      "outputs": []
    },
    {
      "cell_type": "markdown",
      "metadata": {
        "deletable": false,
        "editable": false,
        "nbgrader": {
          "checksum": "e73aa8113328b4bf35e9cb277bf4cacf",
          "grade": false,
          "grade_id": "cell-87f0ed0ac99a633b",
          "locked": true,
          "schema_version": 1,
          "solution": false
        },
        "id": "szD6h8Fme6Wo"
      },
      "source": [
        "We see from the small value of `va` that a 3rd degree polynomial, in this case, is not much more useful than a 2nd degree one. "
      ]
    },
    {
      "cell_type": "markdown",
      "metadata": {
        "deletable": false,
        "editable": false,
        "nbgrader": {
          "checksum": "2fdfb0935d0df3fdaf46f02ee177c96c",
          "grade": false,
          "grade_id": "cell-ebe0d5ba32b82a",
          "locked": true,
          "schema_version": 1,
          "solution": false
        },
        "id": "CP8gJp0fe6Wo"
      },
      "source": [
        "## Conclusion\n",
        "\n",
        "Congratulations, you have now implemented the core of [PyTorch](https://pytorch.org)!  Pytorch is build on the ability to write expressions, of which the gradient is computed and automatically propagated; the core constructs, such as `zero_gradient`, `compute_gradient`, and `compute`, are essentially similar.  It is true; Pytorch does add a few things:\n",
        "\n",
        "* Ability to deal with $n$-dimensional tensors, to represent vectors of inputs and outputs. \n",
        "* Optimized backends, using both parallelism and GPUs. \n",
        "* Sophisticated mechanisms to deal with large datasets.\n",
        "* A wide array of operations available on tensors, of which autograd can be computed. \n",
        "* Many implemented heuristics to deal with step size.\n",
        "* Implemented neural layers (sigmoids, ReLU, etc).\n",
        "* Convolutional nets for images.\n",
        "* Recurrent nets and LSTMs of streams of data.\n",
        "\n",
        "And more! But [aside from tensors, backends, GPUs, parallelism, operations, heuristics, neural layers including convolutions and LSTMs, and good output](https://www.youtube.com/watch?v=Y7tvauOJMHo), PyTorch is really nothing more than what you have already implemented."
      ]
    }
  ]
}