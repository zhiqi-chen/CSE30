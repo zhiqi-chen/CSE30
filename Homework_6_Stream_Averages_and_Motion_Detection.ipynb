{
  "nbformat": 4,
  "nbformat_minor": 0,
  "metadata": {
    "colab": {
      "name": "Homework_6_Stream_Averages_and_Motion_Detection.ipynb",
      "provenance": [],
      "collapsed_sections": []
    },
    "kernelspec": {
      "display_name": "Python 3",
      "language": "python",
      "name": "python3"
    },
    "language_info": {
      "codemirror_mode": {
        "name": "ipython",
        "version": 3
      },
      "file_extension": ".py",
      "mimetype": "text/x-python",
      "name": "python",
      "nbconvert_exporter": "python",
      "pygments_lexer": "ipython3",
      "version": "3.7.3"
    },
    "test_info": {
      "id": "e2eea3a2b6179b40daf798ea76f45f5d6b722267"
    }
  },
  "cells": [
    {
      "cell_type": "markdown",
      "metadata": {
        "id": "P72LFAVaI7Qi"
      },
      "source": [
        "Before you turn this problem in, make sure everything runs as expected. First, **restart the kernel** (in the menubar, select Kernel$\\rightarrow$Restart) and then **run all cells** (in the menubar, select Cell$\\rightarrow$Run All).\n",
        "\n",
        "Make sure you fill in any place that says `YOUR CODE HERE` or \"YOUR ANSWER HERE\", as well as your name and collaborators below:"
      ]
    },
    {
      "cell_type": "code",
      "metadata": {
        "id": "Z8O99DzYI7Qq"
      },
      "source": [
        "NAME = \"Zhiqi Chen\"\n",
        "COLLABORATORS = \"\""
      ],
      "execution_count": 491,
      "outputs": []
    },
    {
      "cell_type": "markdown",
      "metadata": {
        "id": "35uJPtrhI7RU"
      },
      "source": [
        "---"
      ]
    },
    {
      "cell_type": "markdown",
      "metadata": {
        "id": "NtTyOFA_I7Ra"
      },
      "source": [
        "# Homework 6: Stream Averages and Motion Detection\n",
        "\n",
        "## CSE 30 Fall 2020\n",
        "\n",
        "Copyright Luca de Alfaro, 2019-20. \n",
        "License: [CC-BY-NC-ND](https://creativecommons.org/licenses/by-nc-nd/4.0/)."
      ]
    },
    {
      "cell_type": "markdown",
      "metadata": {
        "id": "UBfpxx-sI7Ri"
      },
      "source": [
        "For how to work on this homework assignment, please refer to the instructions posted on Canvas. \n",
        "\n",
        "## Submission\n",
        "\n",
        "* **First, remove the output, or the notebook will be too large:**\n",
        "\n",
        "    Edit > Clear all outputs\n",
        "    \n",
        "  \n",
        "* Then, download the .ipynb file:\n",
        "\n",
        "    File > Download .ipynb\n",
        "    \n",
        "    \n",
        "* Finally, [submit the .ipynb to this Google Form](https://docs.google.com/forms/d/e/1FAIpQLSfUqr_ibrn1NKW8hKVT3eoomMogY6Q4kOJ7z2HfL0takEvrVw/viewform?usp=sf_link).\n",
        "\n",
        "Deadline: Wednesday November 4, 11pm (check on Canvas for updated information)."
      ]
    },
    {
      "cell_type": "markdown",
      "metadata": {
        "id": "1mqgCtc7I7Rm"
      },
      "source": [
        "## About this homework\n",
        "\n",
        "This homework notebook has many cells, as it is derived from the chapter, but there are only three questions. \n",
        "Each question is marked\n",
        "\n",
        "    ### Question n:\n",
        "    \n",
        "for $n = 1, 2, 3$. \n",
        "The questions are: \n",
        "\n",
        "* Implementing a sliding window averagerator\n",
        "* Implementing a class to clean data streams\n",
        "* Implementing a class to perform motion detection."
      ]
    },
    {
      "cell_type": "markdown",
      "metadata": {
        "id": "tOg3nLOaI7Rt"
      },
      "source": [
        "Suppose you have a series of numbers, and you need to compute their average and standard deviation.  What is a good way for doing this? \n",
        "The obvious way is to use the [numpy library](https://www.numpy.org), which offers a wealth of functions to operate on matrices, arrays, and much more. \n",
        "Numpy is one of the fundamental packages of Python, and you would be well advised to browse its documentation and familiarize yourself with what it can do. \n",
        "With numpy, we can compute average and standard deviation of a list of numbers very simply: \n"
      ]
    },
    {
      "cell_type": "code",
      "metadata": {
        "id": "la992xA3I7Ry",
        "outputId": "61e531e4-2227-4d55-b4f2-066b128ea4ba",
        "colab": {
          "base_uri": "https://localhost:8080/"
        }
      },
      "source": [
        "import numpy as np\n",
        "\n",
        "s = [1., 2., 3., 3., 2., 4., 3.]\n",
        "print(\"avg:\", np.average(s))\n",
        "print(\"std:\", np.std(s))\n"
      ],
      "execution_count": 492,
      "outputs": [
        {
          "output_type": "stream",
          "text": [
            "avg: 2.5714285714285716\n",
            "std: 0.9035079029052513\n"
          ],
          "name": "stdout"
        }
      ]
    },
    {
      "cell_type": "markdown",
      "metadata": {
        "id": "7E7ZAJerI7SP"
      },
      "source": [
        "## Stream statistics\n",
        "\n",
        "Assume now that the numbers do not form a fixed length sequence, but rather, a stream of numbers, with new numbers always arriving.  The numbers could represent real-time temperature measurements, or water pressure, or electricity usage, or percentages of utilized CPU cycles, and so forth. \n",
        "What do we do in order to compute their average and standard deviation? \n",
        "\n",
        "There are various choices, and the way one does it depends on the application. \n",
        "It is certainly possible to accummulate all numbers, and then compute their overall average and standard deviation; this allows the computation of statistics that apply to the entire time range for which the data was available. \n",
        "More commonly, one is interested in knowing the _recent_ aveage and standard deviation, so that one can compare the most recent data with the average of the last day. "
      ]
    },
    {
      "cell_type": "markdown",
      "metadata": {
        "id": "A_y3peezI7ST"
      },
      "source": [
        "## Stream Averagerators\n",
        "\n",
        "One could implement the code that computes the average of a stream in the same portion of code where one reads the stream, as follows:"
      ]
    },
    {
      "cell_type": "code",
      "metadata": {
        "id": "FawCNqd5I7SX"
      },
      "source": [
        "import random # We use random to simulate a stream.\n",
        "\n",
        "def read_stream():\n",
        "    \"\"\"Reads and returns one number from the stream.\"\"\"\n",
        "    return random.random()\n",
        "\n",
        "def use(x):\n",
        "    \"\"\"Code to do something with x\"\"\"\n",
        "    pass\n",
        "\n",
        "# Here we accummulate the sequence, so we can average it.\n",
        "seq = []\n",
        "\n",
        "while True:\n",
        "    x = read_stream()\n",
        "\n",
        "    # We add x to the average\n",
        "    seq.append(x)\n",
        "    print(\"avg:\", np.average(seq))\n",
        "    use(x)\n",
        "\n",
        "    # This is an example, and I don't what the code to run forever.\n",
        "    if len(seq) == 10:\n",
        "        break\n"
      ],
      "execution_count": null,
      "outputs": []
    },
    {
      "cell_type": "markdown",
      "metadata": {
        "id": "urNf3_kEI7Su"
      },
      "source": [
        "However, this approach is horrible in two different ways.  One way is that the implementation is horribly inefficient; our sequence seq will have to hold all the data we read from the stream.  This is bad, and we will fix it later. \n",
        "\n",
        "The other way in which this is horrible is that the code to compute the average is intermingled with the code that reads the sequence and passes it to the code that uses it.  It would be much better to separate out the code, for two related reasons. \n",
        "\n",
        "**Separation of concerns.** Separating the code makes it easier both to read and to write, because we separate the concerns: when we write the code to compute the average, we can focus on that, disregarding the details of how the stream is read or used; when we write the code that processes the stream, we can focus on that, simply calling a method to compute the average, but disregarding how the average is computed. \n",
        "Separating the concerns, or dividing the overall coding task into smaller, independent units, is key.  Each person, at any given time, can keep in mind only a fairly small set of facts; indeed, several studies on software verification point out to the fact that in order to write correct code, programmers usually use no more than a dozen facts about the previous code and input, reflecting what likely is an underlying limitation of our brains.  \n",
        "By focusing on one task at a time, we can apply our full mental powers to that particular task, making it much easier to write its code. \n",
        "The same goes for reading code: it is much easier to understand code that does one specific thing, than code that mixes multiple goals at a time. \n",
        "\n",
        "**Ease of modification.** As we mentioned, there are various ways of computing a stream average: there are more and less efficient implementations, and we can consider the entirety of the data read from the stream, or only the most recent one.  It will be easier to change the implementation if the code for computing the stream average is all in the same place, rather than sprinkled in multiple places that must be tracked and updated. \n",
        "\n",
        "For these reasons, we introduce _averagerator_ classes that comput  running averages and standard deviations. \n",
        "The first we write, _FullAveragerator_, is for computing the statistics of complete sequences.\n",
        "\n",
        "The class has one method, _add_, used to add data to it, and two properties, _avg_ and _std_, which return the average and standard deviation so far. \n",
        "\n"
      ]
    },
    {
      "cell_type": "code",
      "metadata": {
        "id": "5ieu3ZHHI7Sx"
      },
      "source": [
        "class FullAveragerator(object):\n",
        "\n",
        "    def __init__(self):\n",
        "        self.seq = []\n",
        "\n",
        "    def add(self, x):\n",
        "        self.seq.append(x)\n",
        "\n",
        "    @property\n",
        "    def avg(self):\n",
        "        return np.average(self.seq)\n",
        "\n",
        "    @property\n",
        "    def std(self):\n",
        "        return np.std(self.seq)\n"
      ],
      "execution_count": 494,
      "outputs": []
    },
    {
      "cell_type": "markdown",
      "metadata": {
        "id": "fEYqtCr4I7S-"
      },
      "source": [
        "The previous code can be rewritten like this:"
      ]
    },
    {
      "cell_type": "code",
      "metadata": {
        "id": "Cd3ziw9KI7TA"
      },
      "source": [
        "averagerator = FullAveragerator()\n",
        "\n",
        "for _ in range(10):\n",
        "    x = read_stream()\n",
        "\n",
        "    # We add x to the average\n",
        "    averagerator.add(x)\n",
        "    print(\"avg:\", averagerator.avg)\n",
        "    use(x)\n",
        "\n"
      ],
      "execution_count": null,
      "outputs": []
    },
    {
      "cell_type": "markdown",
      "metadata": {
        "id": "rFMStvMyI7TP"
      },
      "source": [
        "The improvement seems minor, but this is only because our averagerator, as written is very simple. \n",
        "Very simple, and very inefficient, as remarked.   Let us write it more efficiently."
      ]
    },
    {
      "cell_type": "markdown",
      "metadata": {
        "id": "n9NZd792I7TR"
      },
      "source": [
        "A picture is worth a thousand words, so let's draw one."
      ]
    },
    {
      "cell_type": "code",
      "metadata": {
        "id": "XB2ICjfUI7TT"
      },
      "source": [
        "import matplotlib.pyplot as plt\n",
        "\n",
        "averagerator = FullAveragerator()\n",
        "\n",
        "xs = []\n",
        "smooth_xs = []\n",
        "for _ in range(200):\n",
        "    x = read_stream()\n",
        "    xs.append(x)\n",
        "    averagerator.add(x)\n",
        "    smooth_xs.append(averagerator.avg)\n",
        "plt.plot(xs, label=\"xs\")\n",
        "plt.plot(smooth_xs, label=\"smooth xs\")\n",
        "plt.legend()\n",
        "plt.show()\n"
      ],
      "execution_count": null,
      "outputs": []
    },
    {
      "cell_type": "markdown",
      "metadata": {
        "id": "WGINvmQcI7Te"
      },
      "source": [
        "### Efficient Stream Averagerator\n",
        "\n",
        "The idea in computing a more efficient implementation is to avoid storing the entire sequence, summarizing it instead by aggregate statistics.  The average $E[X]$ of a sequence of $n$ numbers $x_1, x_2, \\ldots, x_n$ can be computed as $S_n / n$, where \n",
        "$$\n",
        "S_n = \\sum_{i=1}^n x_i \\; .\n",
        "$$\n",
        "When $x_{n+1}$ arrives, all we need to do is compute \n",
        "$S_{n+1} = x_{n+1} + S_n$, and return the average $S_{n+1} / (n+1)$.\n",
        "\n",
        "Thus, we do not need to store the complete sequence to compute the average: we need to store only the sequence length ($n$ above), and the sequence sum ($S_n$ above). \n"
      ]
    },
    {
      "cell_type": "code",
      "metadata": {
        "id": "-yPah3xtI7Tg"
      },
      "source": [
        "class EfficientFullAveragerator(object):\n",
        "\n",
        "    def __init__(self):\n",
        "        self.sum_x = 0.\n",
        "        self.n = 0\n",
        "\n",
        "    def add(self, x):\n",
        "        self.sum_x += x\n",
        "        self.n += 1\n",
        "\n",
        "    @property\n",
        "    def avg(self):\n",
        "        return self.sum_x / self.n\n"
      ],
      "execution_count": 497,
      "outputs": []
    },
    {
      "cell_type": "markdown",
      "metadata": {
        "id": "KhDqdAoSI7Tt"
      },
      "source": [
        "This works, but what about the standard deviation?  \n",
        "\n",
        "The standard deviation is the square root of the variance, and for a series $X = x_1, x_2, \\ldots, x_n$ of numbers, the variance is \n",
        "$$\n",
        "E[(X - E[X])^2] = E[(X - \\mu)^2]\n",
        "$$\n",
        "where $\\mu = E[X]$ is the average.\n",
        "This equation does not tell us directly what to store.  We cannot compute the average of $x_1 - \\mu, x_2 - \\mu, \\ldots, x_n - \\mu$, because $\\mu$ is not known when $x_1$ arrives: $\\mu$ depends on the _entire_ sequence, so when its first element $x_1$ arrives, $\\mu$ is not known yet! \n",
        "\n",
        "To obtain a form that we can compute on the fly, we need to develop the above equation.\n",
        "\n",
        "$$\n",
        "E[(X - \\mu)^2] = E[X^2 - 2\\mu X + \\mu^2] = E[X^2] - 2 \\mu E[X] + \\mu^2 \n",
        "= E[X^2] - \\mu^2 \\; ,\n",
        "$$\n",
        "\n",
        "where we have used that $E[X] = \\mu$. \n",
        "The relation\n",
        "\n",
        "$$\n",
        "E[(X - \\mu)^2] = E[X^2] - \\mu^2 \\; ,\n",
        "$$\n",
        "\n",
        "_is_ suitable to be computed on the fly. \n",
        "It is just the average of the sequence of squares $x_1^2, x_2^2, \\ldots$ (and we already know how to compute sequence averages), minus $\\mu^2$, which we also already know how to compute.\n",
        "\n",
        "Using these ideas, here is the complete implementation of our efficient averagerator class."
      ]
    },
    {
      "cell_type": "code",
      "metadata": {
        "id": "zvDdWeKoI7Tu"
      },
      "source": [
        "class EfficientFullAveragerator(object):\n",
        "\n",
        "    def __init__(self):\n",
        "        self.sum_x = 0.\n",
        "        self.sum_x_sq = 0.\n",
        "        self.n = 0\n",
        "\n",
        "    def add(self, x):\n",
        "        # We compute the sum of the x, to compute their average.\n",
        "        self.sum_x += x\n",
        "        # Sum of the x^2, so we can later compute the average of the x^2.\n",
        "        self.sum_x_sq += x * x\n",
        "        self.n += 1\n",
        "\n",
        "    @property\n",
        "    def avg(self):\n",
        "        return self.sum_x / self.n\n",
        "\n",
        "    @property\n",
        "    def std(self):\n",
        "        mu = self.avg # To avoid calling self.avg twice.\n",
        "        return np.sqrt(self.sum_x_sq / self.n - mu * mu)\n"
      ],
      "execution_count": 498,
      "outputs": []
    },
    {
      "cell_type": "markdown",
      "metadata": {
        "id": "9CSKP4EcI7T3"
      },
      "source": [
        "Let us play with this implementation."
      ]
    },
    {
      "cell_type": "code",
      "metadata": {
        "id": "hoDh_D7aI7T5"
      },
      "source": [
        "averagerator = EfficientFullAveragerator()\n",
        "\n",
        "xs = []\n",
        "smooth_xs = []\n",
        "stdevs = []\n",
        "for _ in range(200):\n",
        "    x = read_stream()\n",
        "    xs.append(x)\n",
        "    averagerator.add(x)\n",
        "    smooth_xs.append(averagerator.avg)\n",
        "    stdevs.append(averagerator.std)\n",
        "plt.plot(xs, label=\"xs\")\n",
        "plt.plot(smooth_xs, label=\"smooth xs\")\n",
        "plt.plot(stdevs, label=\"std\")\n",
        "plt.legend()\n",
        "plt.show()\n"
      ],
      "execution_count": null,
      "outputs": []
    },
    {
      "cell_type": "markdown",
      "metadata": {
        "id": "Ttfwu14BI7UC"
      },
      "source": [
        "This works, and we can see that the average tends to $0.5$, and the standard deviation tends to $1/\\sqrt{12}$. \n",
        "This because the input numbers are uniformy distributed between 0 and 1, and:\n",
        "$$\n",
        "\\int_0^1 x \\: dx = \\frac{1}{2} \\; , \\qquad \\int_0^1 \\left(x - \\frac{1}{2}\\right)^2 \\: dx = \\frac{1}{12} \\; .\n",
        "$$\n"
      ]
    },
    {
      "cell_type": "markdown",
      "metadata": {
        "id": "wqsoAti4I7UE"
      },
      "source": [
        "### Sliding Windows Averagerators\n",
        "\n",
        "Often, we are more interested in the recent average than in the average since the start of a stream. \n",
        "This is especially true if we plan to use the average and standard deviation to identify outliers (possibly incorrect data) in a data stream. \n",
        "\n",
        "Consider, for instance, a temperature sensor giving us readings of outside air temperature once per minute. \n",
        "If one considers statistics that span more than one year, a location might have an average temperature of 15 (Celsius; all temperatures in the following are in Celsius), and a standard deviation of 15, accommodating Winter temperatures slightly above freezing and Summer ones around 30C. \n",
        "\n",
        "Yet, if we saw input data: \n",
        "$$\n",
        "      12.3, 12.3, 12.4, 12.3, 12.4, 12.4, 23.3, 17.5, 12.4, 12.5, 12.6 \n",
        "$$\n",
        "we should be suspicious: outside air temperature does not change by more than 10C in a minute. \n",
        "We do not know what happened --- someone touched the temperature sensor with a finger, perhaps --- but we know that the data is probably not reflective of air temperature. \n"
      ]
    },
    {
      "cell_type": "markdown",
      "metadata": {
        "id": "Wc5yOlJdI7UG"
      },
      "source": [
        "As a concrete example, let us simulate a sensor that senses air temperature.  Air temperature varies between 5C and 25C, as a sine wave (just to make it easy to draw); the sensor has a noise of $\\pm 1C$ on each measurement. "
      ]
    },
    {
      "cell_type": "code",
      "metadata": {
        "id": "3SgsmdTJI7UI"
      },
      "source": [
        "def noisy_temp(noise=1., d=0.05):\n",
        "    t = -d # time\n",
        "    while True:\n",
        "        t += d # We increment time.\n",
        "        yield 15. + 10. * np.sin(t) + noise * 2.  * (random.random() - 0.5)\n",
        "\n",
        "# Let's show how this looks.\n",
        "xs = []\n",
        "for x in noisy_temp():\n",
        "    xs.append(x)\n",
        "    if len(xs) == 400:\n",
        "        break\n",
        "plt.plot(xs)\n",
        "plt.show()\n",
        "\n"
      ],
      "execution_count": null,
      "outputs": []
    },
    {
      "cell_type": "markdown",
      "metadata": {
        "id": "lQF0T2F7I7US"
      },
      "source": [
        "Let us construct a version of this signal with outliers, where once in 50 readings, about, the sensor has an error that can be up to 10C. "
      ]
    },
    {
      "cell_type": "code",
      "metadata": {
        "id": "We9h7f3sI7UU"
      },
      "source": [
        "def noisy_temp_with_outliers(noise=1., d=0.05, outlier_prob=0.02, outlier_size=10.):\n",
        "    t = -d # time\n",
        "    while True:\n",
        "        t += d # We increment time.\n",
        "        x = 15. + 10. * np.sin(t) + noise * 2.  * (random.random() - 0.5)\n",
        "        # Adds the outlier, with a certain probability.\n",
        "        if random.random() < outlier_prob:\n",
        "            x += outlier_size * 2. * (random.random() - 0.5)\n",
        "        yield x\n",
        "\n",
        "# Let's show how this looks.\n",
        "xs = []\n",
        "for x in noisy_temp_with_outliers():\n",
        "    xs.append(x)\n",
        "    if len(xs) == 400:\n",
        "        break\n",
        "plt.plot(xs)\n",
        "plt.show()\n",
        "\n"
      ],
      "execution_count": null,
      "outputs": []
    },
    {
      "cell_type": "markdown",
      "metadata": {
        "id": "GxuHTCrNI7Ue"
      },
      "source": [
        "Let us compare these outliers, with the average and standard deviation of the whole series. "
      ]
    },
    {
      "cell_type": "code",
      "metadata": {
        "id": "gnCYNsbTI7Ug"
      },
      "source": [
        "xs = []\n",
        "avgs = []\n",
        "stds = []\n",
        "a = EfficientFullAveragerator()\n",
        "for x in noisy_temp_with_outliers():\n",
        "    xs.append(x)\n",
        "    a.add(x)\n",
        "    avgs.append(a.avg)\n",
        "    stds.append(a.std)\n",
        "    if len(xs) == 400:\n",
        "        break\n",
        "plt.plot(xs, label='x')\n",
        "plt.plot(avgs, label='average')\n",
        "# Let's move to numpy to compute average plus and minus standard deviation.\n",
        "a_avg = np.array(avgs)\n",
        "a_std = np.array(stds)\n",
        "plt.plot(a_avg + a_std, label='avg + std', color='g')\n",
        "plt.plot(a_avg - a_std, label='avg - std', color='g')\n",
        "plt.legend()\n",
        "plt.show()\n"
      ],
      "execution_count": null,
      "outputs": []
    },
    {
      "cell_type": "markdown",
      "metadata": {
        "id": "0GeDXRdRI7Up"
      },
      "source": [
        "As we see: \n",
        "* The temperature, even when read without outliers, often differs from the average by more than the overall standard deviation, and this simply due to the daily temperature variations. \n",
        "* The outlier themselves, even though quite visible to our eye, often differ from the average by _less_ than the standard deviation, just because the standard deviation is really rather large, as it is influenced not only by sensor noise, but also by the daily temperature cycle. "
      ]
    },
    {
      "cell_type": "markdown",
      "metadata": {
        "id": "KjNOdBBtI7Ur"
      },
      "source": [
        "To detect these outliers, and change in conditions, it is far more useful to have the average and standard deviation of _recent_ data only, rather than computed over the whole series. \n",
        "A _sliding window averagerator_ considers, in the computation of averages and standard deviations, only the most recent $N$ data values, for a specified $N$."
      ]
    },
    {
      "cell_type": "markdown",
      "metadata": {
        "id": "FkrB2JG3I7Ut"
      },
      "source": [
        "**Exercise:** Complete the code below, defining a sliding window averagerator.  The class should have methods:\n",
        "\n",
        "* `__init__(self, window_size)` to initialize;\n",
        "* `add(self, x)`, to add a value\n",
        "\n",
        "as well as properties `avg` and `std`, as in the previous averagerator classes. "
      ]
    },
    {
      "cell_type": "code",
      "metadata": {
        "id": "LBADyvMKI7Uw"
      },
      "source": [
        "### Question 1: Implement a `SlidingWindowAveragerator`\n",
        "\n",
        "class SlidingWindowAveragerator(object):\n",
        "\n",
        "    # YOUR CODE HERE\n",
        "    def __init__(self,window_size):\n",
        "        self.window_size=window_size\n",
        "        self.values=[]\n",
        "\n",
        "    def add(self, x):\n",
        "        self.values.append(x)\n",
        "\n",
        "    @property\n",
        "    def avg(self):\n",
        "        if len(self.values)<self.window_size:\n",
        "            values=self.values\n",
        "        else:\n",
        "            values=self.values[-self.window_size:]\n",
        "        return sum(values) / len(values)\n",
        "\n",
        "    @property\n",
        "    def std(self):\n",
        "        if len(self.values)<self.window_size:\n",
        "            values=self.values\n",
        "        else:\n",
        "            values=self.values[-self.window_size:]\n",
        "        mu = self.avg\n",
        "        x=0\n",
        "        for i in values:\n",
        "            x+=(i-mu)**2\n",
        "        x/=len(values)\n",
        "        return np.sqrt(x)\n"
      ],
      "execution_count": 503,
      "outputs": []
    },
    {
      "cell_type": "code",
      "metadata": {
        "id": "eKau1vfrI7U5"
      },
      "source": [
        "### 5 points: Tests for `SlidingWindowAveragerator`\n",
        "\n",
        "# First some simple cases.\n",
        "sa = SlidingWindowAveragerator(20)\n",
        "for _ in range(10):\n",
        "    sa.add(10)\n",
        "    assert sa.avg == 10\n",
        "    assert sa.std == 0\n",
        "\n",
        "sa = SlidingWindowAveragerator(10)\n",
        "for _ in range(10):\n",
        "    sa.add(4)\n",
        "assert sa.avg == 4\n",
        "for _ in range(10):\n",
        "    sa.add(8)\n",
        "assert sa.avg == 8\n",
        "assert sa.std == 0\n",
        "\n"
      ],
      "execution_count": 504,
      "outputs": []
    },
    {
      "cell_type": "code",
      "metadata": {
        "id": "y2IHNtS1I7VB"
      },
      "source": [
        "### 10 points: Now for slightly more complex tests.\n",
        "\n",
        "sa = SlidingWindowAveragerator(10)\n",
        "for i in range(10):\n",
        "    sa.add(i)\n",
        "assert sa.avg == 4.5\n",
        "assert abs(sa.std - 2.87) < 0.1\n",
        "for i in range(10):\n",
        "    sa.add(i)\n",
        "assert sa.avg == 4.5\n",
        "assert abs(sa.std - 2.87) < 0.1\n",
        "for _ in range(10):\n",
        "    sa.add(1)\n",
        "assert sa.avg == 1\n",
        "assert sa.std == 0\n",
        "\n"
      ],
      "execution_count": 505,
      "outputs": []
    },
    {
      "cell_type": "markdown",
      "metadata": {
        "id": "2Na_gPBTI7VK"
      },
      "source": [
        "### Duck Typing\n",
        "\n",
        "You may wonder: should we have not defined an abstract _Averagerator_ class, and make all these classes, such as _FullAveragaerator_, _EfficientFullAveragerator_, _SlidingWindowAveragerator_, subclasses of the superclass? \n",
        "\n",
        "If we were in a strongly typed language, such as Java, the answer would be a resounding Yes.  In Java, a superclass serves as the common type of all objects belonging to the more specialized classes.  One can then define a method accepting a superclass, say, an _Averagerator_, and then pass to it objects of any of its subclasses. \n",
        "\n",
        "In Python, objects are rarely tested for the class to which they belong.  The more common pattern in Python is simply the one of calling methods of objects, assuming the methods do the proper thing.  This approach to type checking (or the lack of it) is sometimes called _duck typing:_ [if it quacks like a duck, and it waddles  like a duck](https://www.youtube.com/watch?v=R6kizqah-Po), it is a duck --- meaning, if the object's methods do the right thing, that suffices for us. \n",
        "\n",
        "Thus, in Python, except in special cases, the subclass relationship is useful especially if there is non-trivial shared code between a subclass and its superclass.  This not being the case for the Averagerator classes we have defined so far, we have preferred the simpler approach of defining each class individually, which has the advantage of keeping all the class code in the same place."
      ]
    },
    {
      "cell_type": "markdown",
      "metadata": {
        "id": "BCf5if2rI7VM"
      },
      "source": [
        "### Discounting Averagerators"
      ]
    },
    {
      "cell_type": "markdown",
      "metadata": {
        "id": "kmx64P3eI7VO"
      },
      "source": [
        "A sliding window abruptly truncates the past: the stream values go from being considered fully considered as part of the average, to being disregarded, in one step. \n",
        "A consequence of this is that to implement a sliding window average of size $N$, we actually need to store $N$ values: otherwise, we would not know how to remove a value from the sliding window when the value \"falls off\" the window. \n",
        "Can we do better?  Can we obtain something similar to a sliding window average, but that forgets past values in a smoother way, rather than with an abrupt threshold, and such that the amount of data to remember is independent on window size? \n",
        "\n",
        "The answer is Yes.  Given a data stream $x_0, x_1, \\ldots, x_n$, the idea is to give to the most recent value $x_n$ a weight of 1, to $x_{n-1}$ a weight of $\\alpha$ for $\\alpha < 1$, to $x_{n-2}$ weight $\\alpha^2$, and so forth: a value that ocurred $k$ \"times\" ago has weight $\\alpha^k$. \n",
        "This approach is known as _discounting:_ it is as if the value of the past accumulated experience decreased by a factor of $\\alpha$ upon the arrival of a new data value. \n",
        "\n",
        "Aside from being a smoother way to average (the effect of past values slowly decays, rather than abruptly dropping out of a fixed size window), discounted averages are also far more efficient to implement. \n",
        "The idea, for the average, consists in keeping the running sum of values $S$, and the running sum of weights $W$.  \n",
        "The average is simply the sum divided by the total weight, or $S/W$. \n",
        "When a new value $x$ arrives, $S$ and $W$ are updated by first discounting their current values by $\\alpha$, and then adding the contribution of the last value:\n",
        "\n",
        "$$\n",
        "  S := \\alpha S + x \\qquad W := \\alpha W + 1 \\; .\n",
        "$$\n",
        "\n",
        "For the computation of the variance, we proceed in similar fashion.\n",
        "The implementation is below.\n"
      ]
    },
    {
      "cell_type": "code",
      "metadata": {
        "id": "ivdtoqv1I7VQ"
      },
      "source": [
        "class DiscountedAveragerator:\n",
        "\n",
        "    def __init__(self, alpha):\n",
        "        \"\"\"Creates an averagerator with a specified discounting factor alpha.\"\"\"\n",
        "        self.alpha = alpha\n",
        "        self.w = 0.\n",
        "        self.sum_x = 0.\n",
        "        self.sum_x_sq = 0.\n",
        "\n",
        "    def add(self, x):\n",
        "        self.w = self.alpha * self.w + 1.\n",
        "        self.sum_x = self.alpha * self.sum_x + x\n",
        "        self.sum_x_sq = self.alpha * self.sum_x_sq + x * x\n",
        "\n",
        "    @property\n",
        "    def avg(self):\n",
        "        return self.sum_x / self.w\n",
        "\n",
        "    @property\n",
        "    def std(self):\n",
        "        mu = self.avg\n",
        "        # The np.maximum is purely for safety.\n",
        "        return np.sqrt(np.maximum(0., self.sum_x_sq / self.w - mu * mu))\n"
      ],
      "execution_count": 506,
      "outputs": []
    },
    {
      "cell_type": "markdown",
      "metadata": {
        "id": "7z1PQO1uI7VY"
      },
      "source": [
        "### Data Smoothing\n",
        "\n",
        "Running averages can be used for smoothing data. \n",
        "If you have some background in digital signal theory, a discounted average is a digital filtering operation, whose behavior in the frequency domain can be modeled also with the help of its [_z-transform_](https://en.wikipedia.org/wiki/Z-transform) $1/(1-\\alpha/z)$. \n",
        "We will be content here with watching it at work. \n",
        "Let's build a stream where there is a sinusoidal signal, with superimposed noise.  Here, an iterator comes in handy."
      ]
    },
    {
      "cell_type": "code",
      "metadata": {
        "id": "7152rxalI7Va"
      },
      "source": [
        "def noisy_sin(noise=1.):\n",
        "    d = 0.05 # Time increment.\n",
        "    t = -d # time\n",
        "    while True:\n",
        "        t += d # We increment time.\n",
        "        yield np.sin(t) + noise * (random.random() - 0.5)\n",
        "\n",
        "\n",
        "# Let's display it.\n",
        "xs = []\n",
        "for x in noisy_sin():\n",
        "    xs.append(x)\n",
        "    if len(xs) == 200:\n",
        "        break\n",
        "import matplotlib.pyplot as plt\n",
        "plt.plot(xs)\n",
        "plt.show()\n"
      ],
      "execution_count": null,
      "outputs": []
    },
    {
      "cell_type": "markdown",
      "metadata": {
        "id": "l4bEaCS4I7Vj"
      },
      "source": [
        "Let's apply now our smoothing average with $\\alpha=0.9$, and compare raw and smoothed data."
      ]
    },
    {
      "cell_type": "code",
      "metadata": {
        "id": "lgVOwaReI7Vk"
      },
      "source": [
        "xs = []\n",
        "smooth_xs = []\n",
        "a = DiscountedAveragerator(0.9)\n",
        "for x in noisy_sin():\n",
        "    xs.append(x)\n",
        "    a.add(x)\n",
        "    smooth_xs.append(a.avg)\n",
        "    if len(xs) == 200:\n",
        "        break\n",
        "import matplotlib.pyplot as plt\n",
        "plt.plot(xs)\n",
        "plt.plot(smooth_xs)\n",
        "plt.show()\n"
      ],
      "execution_count": null,
      "outputs": []
    },
    {
      "cell_type": "markdown",
      "metadata": {
        "id": "wYCUf3ZbI7Vv"
      },
      "source": [
        "We see that the output is a smoother, time-delayed, and somewhat contracted (multiplied by a factor smaller than 1) verson of the input.  The time delay and contraction are due to the fact that the average mixes present with past of the sine wave, and would be present even in absence of noise. "
      ]
    },
    {
      "cell_type": "code",
      "metadata": {
        "id": "HlA8XVdyI7Vw"
      },
      "source": [
        "xs = []\n",
        "smooth_xs = []\n",
        "a = DiscountedAveragerator(0.9)\n",
        "for x in noisy_sin(noise=0.):\n",
        "    xs.append(x)\n",
        "    a.add(x)\n",
        "    smooth_xs.append(a.avg)\n",
        "    if len(xs) == 200:\n",
        "        break\n",
        "import matplotlib.pyplot as plt\n",
        "plt.plot(xs)\n",
        "plt.plot(smooth_xs)\n",
        "plt.show()\n"
      ],
      "execution_count": null,
      "outputs": []
    },
    {
      "cell_type": "markdown",
      "metadata": {
        "id": "sBBdRFt_I7V4"
      },
      "source": [
        "### Outlier Detection\n",
        "\n",
        "Let us return to our noisy temperature sensor.  How can we detect the outlier errors? \n",
        "One simple idea consists in calling an outlier any point that differs from the average by more than, say, two standard deviations. \n",
        "Let us see how this approach would work. "
      ]
    },
    {
      "cell_type": "code",
      "metadata": {
        "id": "fIS9hFNdI7V5"
      },
      "source": [
        "a = DiscountedAveragerator(0.9)\n",
        "\n",
        "xs = []\n",
        "avgs = []\n",
        "stds = []\n",
        "for x in noisy_temp_with_outliers(d=0.02):\n",
        "    xs.append(x)\n",
        "    a.add(x)\n",
        "    avgs.append(a.avg)\n",
        "    stds.append(a.std)\n",
        "    if len(xs) == 400:\n",
        "        break\n",
        "plt.plot(xs, label='x')\n",
        "plt.plot(avgs, label='average')\n",
        "# Let's move to numpy to compute average plus and minus standard deviation.\n",
        "a_avg = np.array(avgs)\n",
        "a_std = np.array(stds)\n",
        "plt.plot(a_avg + 2. * a_std, label='avg + 2 std', color='g')\n",
        "plt.plot(a_avg - 2. * a_std, label='avg - 2 std', color='g')\n",
        "plt.legend()\n",
        "plt.show()\n"
      ],
      "execution_count": null,
      "outputs": []
    },
    {
      "cell_type": "markdown",
      "metadata": {
        "id": "B8KAgKpVI7WA"
      },
      "source": [
        "Indeed, this approach would be able to detect most of the large outliers. We can use this idea to define a cleaned version of the data: when a reading is further away than two standard deviations from the average, we replace the reading with the last valid data.  Let us define a _CleanData_ class that does it for us."
      ]
    },
    {
      "cell_type": "markdown",
      "metadata": {
        "id": "6y8yID0pI7WC"
      },
      "source": [
        "**Exercise:** Use the averagerator to write a class that counts how many spikes there are in the last `n` time units, where `n` is a parameter."
      ]
    },
    {
      "cell_type": "markdown",
      "metadata": {
        "id": "esnhr-IJI7WE"
      },
      "source": [
        "**Exercise:** Complete the following implementation, in which an averagerator is used in order to replace values that are more than num_stds away from the average, with the average itself.\n",
        "\n",
        "The `CleanData` class is initialized by passing a discount factor for its averagerator.  \n",
        "Every piece `x` of data is then filtered via a call to `filter(x, num_stdevs)`; this call returns:\n",
        "\n",
        "*  `x` if the value of `x` is closer than `num_stdevs` standard deviations from the running average,\n",
        "* the running average if the value of `x` differs from the running average by more than `num_stdevs` standard deviations."
      ]
    },
    {
      "cell_type": "code",
      "metadata": {
        "id": "6chlfRe_I7WF"
      },
      "source": [
        "### Question 2: Implement the `CleanData` class\n",
        "\n",
        "class CleanData(object):\n",
        "\n",
        "    def __init__(self, discount_factor):\n",
        "        \"\"\"\n",
        "        @param discount_factor: discount factor for the averagerator.\n",
        "        \"\"\"\n",
        "        # YOUR CODE HERE\n",
        "        self.a=DiscountedAveragerator(discount_factor)\n",
        "\n",
        "    def filter(self, x, num_stdevs=2.):\n",
        "        \"\"\"Returns a filtered value for x.\n",
        "        @param x: the value to be filtered.\n",
        "        @param num_stdevs: number of standard deviations from the average\n",
        "           beyond which data is rejected.\n",
        "        It can be done in 5 lines of code.\n",
        "        \"\"\"\n",
        "        # YOUR CODE HERE\n",
        "        self.a.add(x)\n",
        "        if abs(x-num_stdevs*self.a.std)>num_stdevs*self.a.std:\n",
        "            return x\n",
        "        else:\n",
        "            return self.a.avg\n"
      ],
      "execution_count": 511,
      "outputs": []
    },
    {
      "cell_type": "markdown",
      "metadata": {
        "id": "vJRbA1r3I7WM"
      },
      "source": [
        "Let us see how it works, visually:"
      ]
    },
    {
      "cell_type": "code",
      "metadata": {
        "id": "QA-BOaJQI7WO"
      },
      "source": [
        "a = DiscountedAveragerator(0.9)\n",
        "xs = []\n",
        "clean_xs = []\n",
        "avgs = []\n",
        "stds = []\n",
        "cleaner = CleanData(0.9)\n",
        "for x in noisy_temp_with_outliers(d=0.02):\n",
        "    xs.append(x)\n",
        "    a.add(x)\n",
        "    avgs.append(a.avg)\n",
        "    stds.append(a.std)\n",
        "    clean_xs.append(cleaner.filter(x, num_stdevs=2))\n",
        "    if len(xs) == 400:\n",
        "        break\n",
        "plt.plot(xs, label='noisy x')\n",
        "plt.plot(clean_xs, label='clean x')\n",
        "# Let's move to numpy to compute average plus and minus standard deviation.\n",
        "a_avg = np.array(avgs)\n",
        "a_std = np.array(stds)\n",
        "plt.plot(a_avg + 2. * a_std, label='avg + 2 std', color='g')\n",
        "plt.plot(a_avg - 2. * a_std, label='avg - 2 std', color='g')\n",
        "plt.legend()\n",
        "plt.show()\n"
      ],
      "execution_count": null,
      "outputs": []
    },
    {
      "cell_type": "markdown",
      "metadata": {
        "id": "vfW1degjI7WZ"
      },
      "source": [
        "And let us put it through some tests."
      ]
    },
    {
      "cell_type": "code",
      "metadata": {
        "id": "uIonLSKMI7Wb"
      },
      "source": [
        "### 10 points: Tests for `CleanData`\n",
        "\n",
        "a = np.zeros(10)\n",
        "a[3] = 1\n",
        "a[8] = 10\n",
        "c = CleanData(0.9)\n",
        "aa = [c.filter(x) for x in a]\n",
        "assert max(aa) < 2.\n",
        "\n"
      ],
      "execution_count": 513,
      "outputs": []
    },
    {
      "cell_type": "markdown",
      "metadata": {
        "id": "e_SUh8NXI7Wh"
      },
      "source": [
        "An alternative idea that seems promising at first thought is to include in the computation of the running average and standard deviation only points that are not outliers.  Let us play with the approach."
      ]
    },
    {
      "cell_type": "code",
      "metadata": {
        "id": "e0GSrBHKI7Wi"
      },
      "source": [
        "a = DiscountedAveragerator(0.9)\n",
        "\n",
        "xs = []\n",
        "avgs = []\n",
        "stds = []\n",
        "for x in noisy_temp_with_outliers(d=0.02):\n",
        "    xs.append(x)\n",
        "    if len(xs) >= 20:\n",
        "        # We need enough data to be able to rely on the statistics.\n",
        "        a_avg, a_std = a.avg, a.std\n",
        "        x_min, x_max = a_avg - 2 * a_std, a_avg + 2. * a_std\n",
        "        if x_min < x < x_max:\n",
        "            # The data is good.\n",
        "            a.add(x)\n",
        "    else:\n",
        "        # We add all data until we have reliable statistics.\n",
        "        a.add(x)\n",
        "    avgs.append(a.avg)\n",
        "    stds.append(a.std)\n",
        "    if len(xs) == 400:\n",
        "        break\n",
        "\n",
        "plt.plot(xs, label='x')\n",
        "plt.plot(avgs, label='average')\n",
        "# Let's move to numpy to compute average plus and minus standard deviation.\n",
        "a_avg = np.array(avgs)\n",
        "a_std = np.array(stds)\n",
        "plt.plot(a_avg + 2. * a_std, label='avg + 2 std', color='g')\n",
        "plt.plot(a_avg - 2. * a_std, label='avg - 2 std', color='g')\n",
        "plt.legend()\n",
        "plt.show()\n"
      ],
      "execution_count": null,
      "outputs": []
    },
    {
      "cell_type": "markdown",
      "metadata": {
        "id": "ANKqJtraI7Wr"
      },
      "source": [
        "We see that the problem with this approach is that, should the signal change behavior or become more noisy, or drift from its previous range, we risk disregarding all future data.  Better play it safe and include in the statistics all input, in case what we think of as an outlier is really the first in a series of data with higher noise or drift in them.\n",
        "\n",
        "This is one more case in point supporting the author's motto: _when in doubt, be stupid._ \n",
        "\n",
        "It is often better to take a simpler, more robust approach (in this case, averaging all data) than to try to be smart without understanding all the facets of a problem (in this case, trusting our simple outlier detection to the point of letting it screen even the data we feed to it)."
      ]
    },
    {
      "cell_type": "markdown",
      "metadata": {
        "id": "GZ8spnBxI7Wt"
      },
      "source": [
        "## Motion Detection"
      ]
    },
    {
      "cell_type": "markdown",
      "metadata": {
        "id": "amV4AEEUI7Wu"
      },
      "source": [
        "We can use our averagerators to perform motion detection in a sequence of images captured by a webcam. \n",
        "The idea is this.  Each image will be represented as a H x W x 3 3-d array; H and W are the image height and width, respectively, and 3 is the number of color channels of a RGB image. \n",
        "\n",
        "We will compute the discounted average and standard deviations of _every single color pixel_ in the image.  If a pixel has a value that is outside the interval $[\\mu - k\\sigma, \\mu + k\\sigma]$, where $\\mu$ is the pixel average $\\sigma$ is the pixel standard deviation, we detect motion. \n",
        "Here, $k$ is a sensitivity threshold that specifies how many standard deviations must separate the value of a pixel from its average for us to detect motion. "
      ]
    },
    {
      "cell_type": "markdown",
      "metadata": {
        "id": "gzq4YthrI7Wv"
      },
      "source": [
        "Computing mean and standard deviation of every pixel sounds like a crazy idea, until we realize that our DiscountedAveragerator essentially does it for us already.  \n",
        "So far, we have used the DiscountedAveragerator by passing to it a scalar, that is, a floating point number. \n",
        "If we pass to it a value of _x_ which is a Numpy array, everything works: Numpy will re-interpret our $+$, $-$, $*$ operators as operators betwen arrays, and compute mean and standard deviation as _arrays_, one entry per color pixel, rather than scalars. "
      ]
    },
    {
      "cell_type": "markdown",
      "metadata": {
        "id": "fSHfUcYUI7Ww"
      },
      "source": [
        "To experiment with motion detection, let us get a series of images captured by a webcam, and convert each image to a numpy matrix.  \n",
        "We will obtain a list of numpy matrices. "
      ]
    },
    {
      "cell_type": "code",
      "metadata": {
        "id": "bGIIxTbgI7Wx"
      },
      "source": [
        "from PIL import Image\n",
        "import requests\n",
        "from zipfile import ZipFile\n",
        "from io import BytesIO\n"
      ],
      "execution_count": 515,
      "outputs": []
    },
    {
      "cell_type": "code",
      "metadata": {
        "id": "LW-Hvp4eI7W0"
      },
      "source": [
        "# Gets the zip file.\n",
        "ZIP_URL = \"https://storage.googleapis.com/lucadealfaro-share/GardenSequence.zip\"\n",
        "r = requests.get(ZIP_URL)\n",
        "# List of images, represented as numpy arrays.\n",
        "images_as_arrays = []\n",
        "# Makes a file object of the result.\n",
        "with ZipFile(BytesIO(r.content)) as myzip:\n",
        "    for fn in myzip.namelist():\n",
        "        with myzip.open(fn) as my_image_file:\n",
        "            img = Image.open(my_image_file)\n",
        "            # Converts the image to a numpy matrix, and adds it to the list.\n",
        "            images_as_arrays.append(np.array(img).astype(np.float32))\n"
      ],
      "execution_count": 516,
      "outputs": []
    },
    {
      "cell_type": "markdown",
      "metadata": {
        "id": "jFXOj5HzI7W5"
      },
      "source": [
        "Each numpy 3-d array has shape (Y, X, 3), where Y and X are the dimensions of the image (480 x 640 in our case), and 3 correspons to the three color channels."
      ]
    },
    {
      "cell_type": "code",
      "metadata": {
        "id": "UtNfISlgI7W5",
        "outputId": "6fdd4366-fc21-4513-f383-afe66ca0cb90",
        "colab": {
          "base_uri": "https://localhost:8080/"
        }
      },
      "source": [
        "print(images_as_arrays[0].shape)\n"
      ],
      "execution_count": 517,
      "outputs": [
        {
          "output_type": "stream",
          "text": [
            "(480, 640, 3)\n"
          ],
          "name": "stdout"
        }
      ]
    },
    {
      "cell_type": "code",
      "metadata": {
        "id": "34k1guKkI7W-",
        "outputId": "a4ce62b9-38a0-44c2-db06-84bf68da99b5",
        "colab": {
          "base_uri": "https://localhost:8080/"
        }
      },
      "source": [
        "print(images_as_arrays[0][10, 20, 2])\n"
      ],
      "execution_count": 518,
      "outputs": [
        {
          "output_type": "stream",
          "text": [
            "255.0\n"
          ],
          "name": "stdout"
        }
      ]
    },
    {
      "cell_type": "markdown",
      "metadata": {
        "id": "Nss71H0zI7XE"
      },
      "source": [
        "We can then construct a `MotionDetection` class. \n",
        "Internally, it will initialize a discounted averagerator. \n",
        "\n",
        "We will feed images to `MotionDetection`, one by one; the images will be of size $h \\times w \\times c$, where $h$ is the height, $w$ the width, and $c$ the color depth: in our case, $480 \\times 640 \\times 3$ (but please, write you class without hardcoding $h$ and $w$). \n",
        "\n",
        "As we feed each image, `MotionDetection` computes which pixels of the image have one of the 3 color channels that are outside the $\\mu \\pm \\kappa \\sigma$ interval, where $\\mu$ is the average, $\\sigma$ is the standard deviation, and $\\kappa$ is a parameter; we will use $\\kappa = 4$ in our experiments, thus detecting motion if values deviate from the average by more than 4 standard deviations.  The result is a $h \\times w \\times c$ boolean matrix filled with True/False values. \n",
        "\n",
        "To perform the above check, you can use a trick: if `a` and `b` are Numpy arrays of the same size, then `a > b` returns an array of the same size, filled with True and False:\n",
        "\n"
      ]
    },
    {
      "cell_type": "code",
      "metadata": {
        "id": "u6BIhkvDI7XG"
      },
      "source": [
        "a = np.random.random((4, 5, 3))\n",
        "b = np.random.random((4, 5, 3))\n",
        "print(\"a:\", a)\n",
        "print(\"b:\", b)\n",
        "print(\"a > b:\", a > b)\n"
      ],
      "execution_count": null,
      "outputs": []
    },
    {
      "cell_type": "markdown",
      "metadata": {
        "id": "nHZ31JBPI7XM"
      },
      "source": [
        "Moreover, if you have two arrays of the same size, you can compute their _or_ via `np.logical_or`: "
      ]
    },
    {
      "cell_type": "code",
      "metadata": {
        "id": "ZwZN773uI7XN"
      },
      "source": [
        "a = np.random.random((4, 5)) > 0.7\n",
        "b = np.random.random((4, 5)) > 0.7\n",
        "np.logical_or(a, b)\n"
      ],
      "execution_count": null,
      "outputs": []
    },
    {
      "cell_type": "markdown",
      "metadata": {
        "id": "qr4AgPKQI7XS"
      },
      "source": [
        "Finally, we take the union of the motion detections over the three color channels, obtaining a boolean 2-d array of size $h \\times w$. \n",
        "This array will contain the motion detection for each image. \n",
        "To take the union, you can use `np.max`, specifying the max to be taken over axis 2, which is the one for color: \n"
      ]
    },
    {
      "cell_type": "code",
      "metadata": {
        "id": "CmCR5V4yI7XT"
      },
      "source": [
        "a = np.random.random((4, 5, 3))\n",
        "aa = a > 0.8\n",
        "print(\"aa shape:\", aa.shape)\n",
        "b = np.max(aa, axis=2)\n",
        "print(\"b shape:\", b.shape)\n",
        "print(\"b:\", b)\n"
      ],
      "execution_count": null,
      "outputs": []
    },
    {
      "cell_type": "markdown",
      "metadata": {
        "id": "2pBQmXloI7XZ"
      },
      "source": [
        "We let you build the class `MotionDetection`."
      ]
    },
    {
      "cell_type": "code",
      "metadata": {
        "id": "B1q5C74nI7Xa"
      },
      "source": [
        "### Question 3: Implement the `MotionDetection` class\n",
        "\n",
        "class MotionDetection(object):\n",
        "\n",
        "    def __init__(self, num_sigmas=4., discount=0.96):\n",
        "        \"\"\"Motion detection implemented via averagerator.\n",
        "        @param num_sigmas: by how many standard deviations should a pixel\n",
        "            differ from the average for motion to be detected.  This is\n",
        "            the \\kappa of the above explanation.\n",
        "        @param discount: discount factor for the averagerator.\n",
        "        \"\"\"\n",
        "        # YOUR CODE HERE\n",
        "        self.a=DiscountedAveragerator(discount)\n",
        "        self.num_sigmas=num_sigmas\n",
        "\n",
        "\n",
        "    def detect_motion(self, img):\n",
        "        \"\"\"Detects motion.\n",
        "        @param img: an h x w x 3 image.\n",
        "        @returns: an h x w boolean matrix, indicating where motion occurred.\n",
        "        A pixel is considered a motion pixel if one of its color bands deviates\n",
        "        by more than num_sigmas standard deviations from the average.\"\"\"\n",
        "        # YOUR CODE HERE\n",
        "        self.a.add(img)\n",
        "        graph1=(img<self.a.avg-self.num_sigmas*self.a.std)\n",
        "        graph2=(img>self.a.avg+self.num_sigmas*self.a.std)\n",
        "        graph=np.logical_or(graph1, graph2)\n",
        "        final_graph=np.max(graph, axis=2)\n",
        "        return final_graph\n",
        "\n",
        "        \n"
      ],
      "execution_count": 522,
      "outputs": []
    },
    {
      "cell_type": "markdown",
      "metadata": {
        "id": "SRrQy9uJI7Xf"
      },
      "source": [
        "Let's write a `detect_motion` function to facilitate our experiments.  It will take a list of images, and compute the motion detection of each.  If the motion detection contains more than 500 motion pixels, it puts the detection, and the index of the image, into a list of results. "
      ]
    },
    {
      "cell_type": "code",
      "metadata": {
        "id": "MWLcGdVFI7Xg"
      },
      "source": [
        "def detect_motion(image_list, num_sigmas=4., discount=0.96):\n",
        "    \"\"\"Takes as input:\n",
        "    @param image_list: a list of images, all of the same size.\n",
        "    @param num_sigmas: a parameter specifying how many standard deviations a\n",
        "        pixel should be to count as detected motion.\n",
        "    @param discount: the discount factor for the averagerator.\n",
        "    \"\"\"\n",
        "    detector = MotionDetection(num_sigmas=num_sigmas, discount=discount)\n",
        "    detected_motion = []\n",
        "    for i, img in enumerate(image_list):\n",
        "        motion = detector.detect_motion(img)\n",
        "        if np.sum(motion) > 500:\n",
        "            detected_motion.append((i, motion))\n",
        "    return detected_motion\n"
      ],
      "execution_count": 523,
      "outputs": []
    },
    {
      "cell_type": "code",
      "metadata": {
        "id": "Xx0Z2FFRI7Xm"
      },
      "source": [
        "# Compute the motion detections.\n",
        "motions = detect_motion(images_as_arrays[:60])\n"
      ],
      "execution_count": 524,
      "outputs": []
    },
    {
      "cell_type": "markdown",
      "metadata": {
        "id": "ZbGXXjbfI7Xs"
      },
      "source": [
        "We can finally visualize the detected motions. "
      ]
    },
    {
      "cell_type": "code",
      "metadata": {
        "id": "n04gpnltI7Xt"
      },
      "source": [
        "import matplotlib.pyplot as plt\n",
        "for i, m in motions:\n",
        "    # We only print images where there are at least 500 pixels of motion.\n",
        "    if np.sum(m) > 500:\n",
        "        print(\"Motion at image\", i, \":\", np.sum(m), \"------------------------------------\")\n",
        "        # We first show the image, for reference.\n",
        "        plt.imshow(images_as_arrays[i] / 255)\n",
        "        plt.show()\n",
        "        # And then the motion detection.\n",
        "        plt.imshow(m)\n",
        "        plt.show()\n"
      ],
      "execution_count": null,
      "outputs": []
    },
    {
      "cell_type": "markdown",
      "metadata": {
        "id": "T718N9-0I7Xz"
      },
      "source": [
        "Here are some final tests.\n",
        "\n"
      ]
    },
    {
      "cell_type": "code",
      "metadata": {
        "id": "qiiUUhmkI7X0"
      },
      "source": [
        "### 15 points: Tests for motion detection\n",
        "\n",
        "motions = detect_motion(images_as_arrays[:60])\n",
        "motion_idxs = [i for i, _ in motions]\n",
        "assert motion_idxs == [1, 10, 47, 48, 49, 57, 58, 59]\n",
        "assert np.sum(motions[6][1]) == 1199\n",
        "\n"
      ],
      "execution_count": 526,
      "outputs": []
    },
    {
      "cell_type": "markdown",
      "metadata": {
        "id": "lJnmNs6-I7X_"
      },
      "source": [
        "We can see that the motion detection does a very reasonable job of detecting the passing cars and bycicle, while almost entirely suppressing the tree that is shaking in the wind.  As the tree shaking is constant, its pixels have very high standard deviation. \n",
        "If we plot the standard deviation of each pixel, we get a very good impression of how much noise or regular motion took place at that pixel."
      ]
    },
    {
      "cell_type": "code",
      "metadata": {
        "id": "2PjbqDjyI7YB"
      },
      "source": [
        "a = DiscountedAveragerator(0.96)\n",
        "for i, img in enumerate(images_as_arrays):\n",
        "    a.add(img)\n",
        "# We display the final sigma.\n",
        "sigma = np.max(a.std, axis=2)\n",
        "plt.imshow(sigma, cmap='gnuplot')\n",
        "plt.colorbar()\n",
        "plt.show()\n",
        "# Let's compare with the last image.\n",
        "plt.imshow(images_as_arrays[-1] / 255)\n",
        "plt.show()\n"
      ],
      "execution_count": null,
      "outputs": []
    },
    {
      "cell_type": "markdown",
      "metadata": {
        "id": "CFZG6QEVI7YG"
      },
      "source": [
        "We see how the constantly-shaking trees give rise by far to the greatest pixel standard deviation."
      ]
    }
  ]
}