{
  "nbformat": 4,
  "nbformat_minor": 0,
  "metadata": {
    "colab": {
      "name": "Homework_12_Sudoku.ipynb",
      "provenance": [],
      "collapsed_sections": []
    },
    "kernelspec": {
      "display_name": "Python 3",
      "language": "python",
      "name": "python3"
    },
    "language_info": {
      "codemirror_mode": {
        "name": "ipython",
        "version": 3
      },
      "file_extension": ".py",
      "mimetype": "text/x-python",
      "name": "python",
      "nbconvert_exporter": "python",
      "pygments_lexer": "ipython3",
      "version": "3.7.3"
    },
    "test_info": {
      "id": "e2eea3a2b6179b40daf798ea76f45f5d6b722267"
    }
  },
  "cells": [
    {
      "cell_type": "markdown",
      "metadata": {
        "id": "JAi-yebZM32B"
      },
      "source": [
        "Before you turn this problem in, make sure everything runs as expected. First, **restart the kernel** (in the menubar, select Kernel$\\rightarrow$Restart) and then **run all cells** (in the menubar, select Cell$\\rightarrow$Run All).\n",
        "\n",
        "Make sure you fill in any place that says `YOUR CODE HERE` or \"YOUR ANSWER HERE\", as well as your name and collaborators below:"
      ]
    },
    {
      "cell_type": "code",
      "metadata": {
        "id": "ks68sc91M32C"
      },
      "source": [
        "NAME = \"Zhiqi Chen\"\n",
        "COLLABORATORS = \"\""
      ],
      "execution_count": 347,
      "outputs": []
    },
    {
      "cell_type": "markdown",
      "metadata": {
        "id": "FrMuYCUcM32C"
      },
      "source": [
        "---"
      ]
    },
    {
      "cell_type": "markdown",
      "metadata": {
        "deletable": false,
        "editable": false,
        "nbgrader": {
          "checksum": "1bb3015d73460b9454dcf7bf22d8febc",
          "grade": false,
          "grade_id": "cell-52aae20f6abaae07",
          "locked": true,
          "schema_version": 1,
          "solution": false
        },
        "id": "5RBEbDT_M32C"
      },
      "source": [
        "# Homework 12: Sudoku\n",
        "\n",
        "Copyright Luca de Alfaro, 2019-20. \n",
        "License: [CC-BY-NC-ND](https://creativecommons.org/licenses/by-nc-nd/4.0/)."
      ]
    },
    {
      "cell_type": "markdown",
      "metadata": {
        "deletable": false,
        "editable": false,
        "nbgrader": {
          "checksum": "52019f046baf0aebbacf0834ec20d544",
          "grade": false,
          "grade_id": "cell-e4a664f6b6259f37",
          "locked": true,
          "schema_version": 1,
          "solution": false
        },
        "id": "dwni2quLM32D"
      },
      "source": [
        "## Submission\n",
        "\n",
        "[Please submit to this Google Form](https://docs.google.com/forms/d/e/1FAIpQLSf0r9gB2y6Wcf4pWM9aqpzyZfQOvNqFJol36NtS4Msdvd3VXA/viewform?usp=sf_link).\n",
        "\n",
        "Deadline: Tuesday December 8, 11pm (check on Canvas for updated information)."
      ]
    },
    {
      "cell_type": "markdown",
      "metadata": {
        "deletable": false,
        "editable": false,
        "nbgrader": {
          "checksum": "242c69b30ed9c8bc2f876409c18fdee4",
          "grade": false,
          "grade_id": "cell-900f0605b35de62e",
          "locked": true,
          "schema_version": 1,
          "solution": false
        },
        "id": "Uxx75XXiM32D"
      },
      "source": [
        "## Test Format\n",
        "\n",
        "There are 6 questions, but not all of them require you to write code: \n",
        "* Question 1 asks you to complete the code for propagating a single cell.\n",
        "* Question 2 asks you to write the code to propagate all cells. \n",
        "* For Question 3, you just need to copy your solution to Question 2 in another place. \n",
        "* Question 4 asks you to implement a helper function that detects elements that occur in only one of a list of sets. \n",
        "* Question 5 asks you to implement the _where can it go_ heuristic. \n",
        "* Question 6 simply checks that your code is efficient; you don't need to write any code. \n",
        "\n",
        "There are a total of 70 points. "
      ]
    },
    {
      "cell_type": "markdown",
      "metadata": {
        "deletable": false,
        "editable": false,
        "nbgrader": {
          "checksum": "c27cbed28b99b8aa403972904798d81c",
          "grade": false,
          "grade_id": "cell-4bba7c934801db1",
          "locked": true,
          "schema_version": 1,
          "solution": false
        },
        "id": "acL_oZlEM32D"
      },
      "source": [
        "Let us write a [Sudoku](https://en.wikipedia.org/wiki/Sudoku) solver.  We want to get as input a Sudoku with some cells filled with values, and we want to get as output a solution, if one exists, and otherwise a notice that the input Sudoku puzzle has no solutions. \n",
        "\n",
        "You will wonder, why spend so much time on Sudoku? \n",
        "\n",
        "For two reasons. \n",
        "\n",
        "First, the way we go about solving Sudoku is prototypical of a very large number of problems in computer science.  In these problems, the solution is attained through a mix of search (we attempt to fill a square with a number and see if it works out), and constraint propagation (if we fill a square with, say, a 1, then there can be no 1's in the same row, column, and 3x3 square).\n",
        "\n",
        "Second, and related, the way we go about solving Sudoku puzzles is closely related to how [SAT solvers](https://en.wikipedia.org/wiki/Boolean_satisfiability_problem#Algorithms_for_solving_SAT) work.  So closely related, in fact, that while _we_ describe for you how a Sudoku solver works, _you_ will have to write a SAT solver as exercise. \n"
      ]
    },
    {
      "cell_type": "markdown",
      "metadata": {
        "deletable": false,
        "editable": false,
        "nbgrader": {
          "checksum": "496163a260419b914fa200f192914121",
          "grade": false,
          "grade_id": "cell-c285b4ebc76bbc97",
          "locked": true,
          "schema_version": 1,
          "solution": false
        },
        "id": "17TkXSoSM32D"
      },
      "source": [
        "## Sudoku representation\n",
        "\n",
        "First, let us do some grunt work and define a representation for a Sudoku problem. \n",
        "\n",
        "One initial idea would be to represent a Sudoku problem via a $9 \\times 9$ matrix, where each entry can be either a digit from 1 to 9, or 0 to signify \"blank\".  This would work in some sense, but it would not be a very useful representation.  If you have solved Sudoku by hand (and if you have not, please go and solve a couple; it will teach you a lot about what we need to do), you will know that the following strategy works: \n",
        "\n",
        "Repeat: \n",
        "* Look at all blank spaces.  Can you find one where only one digit fits? If so, write the digit there. \n",
        "* If you cannot find any blank space as above, try to find one where only a couple or so digits can fit.  Try putting in one of those digits, and see if you can solve the puzzle with that choice.  If not, backtrack, and try another digit. \n",
        "\n",
        "Thus, it will be very useful to us to remember not only the known digits, but also, which digits can fit into any blank space. \n",
        "Hence, we represent a Sudoku problem via a $9 \\times 9$ matrix of _sets_: each set contains the digits that can fit in a given space. \n",
        "Of course, a known digit is just a set containing only one element. \n",
        "We will solve a Sudoku problem by progressively \"shrinking\" these sets of possibilities, until they all contain exactly one element. \n",
        "\n",
        "Let us write some code that enables us to define a Sudoku problem, and display it for us; this will be very useful both for our fun and for debugging. \n"
      ]
    },
    {
      "cell_type": "markdown",
      "metadata": {
        "deletable": false,
        "editable": false,
        "nbgrader": {
          "checksum": "9e5d7d22fdc7a5a7a07a27c11a52790e",
          "grade": false,
          "grade_id": "cell-151003cf8fc7620a",
          "locked": true,
          "schema_version": 1,
          "solution": false
        },
        "id": "Jvj4Db4PM32D"
      },
      "source": [
        "First, though, let's write a tiny helper function that returns the only element from a singleton set."
      ]
    },
    {
      "cell_type": "code",
      "metadata": {
        "deletable": false,
        "editable": false,
        "nbgrader": {
          "checksum": "c50389c94bd5aa15b8730458d324e27a",
          "grade": false,
          "grade_id": "cell-827ad7be0aa4e5c4",
          "locked": true,
          "schema_version": 1,
          "solution": false
        },
        "id": "3Wwd2PXDM32D"
      },
      "source": [
        "def getel(s):\n",
        "    \"\"\"Returns the unique element in a singleton set (or list).\"\"\"\n",
        "    assert len(s) == 1\n",
        "    return list(s)[0]\n"
      ],
      "execution_count": 348,
      "outputs": []
    },
    {
      "cell_type": "code",
      "metadata": {
        "deletable": false,
        "editable": false,
        "nbgrader": {
          "checksum": "55b54074dab77e5220faf45a5cf60dba",
          "grade": false,
          "grade_id": "cell-2263b8e9a5ec13ce",
          "locked": true,
          "schema_version": 1,
          "solution": false
        },
        "id": "uPyXlqKNM32D"
      },
      "source": [
        "import json\n",
        "\n",
        "class Sudoku(object):\n",
        "\n",
        "    def __init__(self, elements):\n",
        "        \"\"\"Elements can be one of:\n",
        "        Case 1: a list of 9 strings of length 9 each.\n",
        "        Each string represents a row of the initial Sudoku puzzle,\n",
        "        with either a digit 1..9 in it, or with a blank or _ to signify\n",
        "        a blank cell.\n",
        "        Case 2: an instance of Sudoku.  In that case, we initialize an\n",
        "        object to be equal (a copy) of the one in elements.\n",
        "        Case 3: a list of list of sets, used to initialize the problem.\"\"\"\n",
        "        if isinstance(elements, Sudoku):\n",
        "            # We let self.m consist of copies of each set in elements.m\n",
        "            self.m = [[x.copy() for x in row] for row in elements.m]\n",
        "        else:\n",
        "            assert len(elements) == 9\n",
        "            for s in elements:\n",
        "                assert len(s) == 9\n",
        "            # We let self.m be our Sudoku problem, a 9x9 matrix of sets.\n",
        "            self.m = []\n",
        "            for s in elements:\n",
        "                row = []\n",
        "                for c in s:\n",
        "                    if isinstance(c, str):\n",
        "                        if c.isdigit():\n",
        "                            row.append({int(c)})\n",
        "                        else:\n",
        "                            row.append({1, 2, 3, 4, 5, 6, 7, 8, 9})\n",
        "                    else:\n",
        "                        assert isinstance(c, set)\n",
        "                        row.append(c)\n",
        "                self.m.append(row)\n",
        "\n",
        "\n",
        "    def show(self, details=False):\n",
        "        \"\"\"Prints out the Sudoku matrix.  If details=False, we print out\n",
        "        the digits only for cells that have singleton sets (where only\n",
        "        one digit can fit).  If details=True, for each cell, we display the\n",
        "        sets associated with the cell.\"\"\"\n",
        "        if details:\n",
        "            print(\"+-----------------------------+-----------------------------+-----------------------------+\")\n",
        "            for i in range(9):\n",
        "                r = '|'\n",
        "                for j in range(9):\n",
        "                    # We represent the set {2, 3, 5} via _23_5____\n",
        "                    s = ''\n",
        "                    for k in range(1, 10):\n",
        "                        s += str(k) if k in self.m[i][j] else '_'\n",
        "                    r += s\n",
        "                    r += '|' if (j + 1) % 3 == 0 else ' '\n",
        "                print(r)\n",
        "                if (i + 1) % 3 == 0:\n",
        "                    print(\"+-----------------------------+-----------------------------+-----------------------------+\")\n",
        "        else:\n",
        "            print(\"+---+---+---+\")\n",
        "            for i in range(9):\n",
        "                r = '|'\n",
        "                for j in range(9):\n",
        "                    if len(self.m[i][j]) == 1:\n",
        "                        r += str(getel(self.m[i][j]))\n",
        "                    else:\n",
        "                        r += \".\"\n",
        "                    if (j + 1) % 3 == 0:\n",
        "                        r += \"|\"\n",
        "                print(r)\n",
        "                if (i + 1) % 3 == 0:\n",
        "                    print(\"+---+---+---+\")\n",
        "\n",
        "\n",
        "    def to_string(self):\n",
        "        \"\"\"This method is useful for producing a representation that\n",
        "        can be used in testing.\"\"\"\n",
        "        as_lists = [[list(self.m[i][j]) for j in range(9)] for i in range(9)]\n",
        "        return json.dumps(as_lists)\n",
        "\n",
        "\n",
        "    @staticmethod\n",
        "    def from_string(s):\n",
        "        \"\"\"Inverse of above.\"\"\"\n",
        "        as_lists = json.loads(s)\n",
        "        as_sets = [[set(el) for el in row] for row in as_lists]\n",
        "        return Sudoku(as_sets)\n",
        "\n",
        "\n",
        "    def __eq__(self, other):\n",
        "        \"\"\"Useful for testing.\"\"\"\n",
        "        return self.m == other.m\n"
      ],
      "execution_count": 349,
      "outputs": []
    },
    {
      "cell_type": "markdown",
      "metadata": {
        "deletable": false,
        "editable": false,
        "nbgrader": {
          "checksum": "b82ad66ac4c34a8cb00a34e3b29b535a",
          "grade": false,
          "grade_id": "cell-cb1a30c2763d5d2",
          "locked": true,
          "schema_version": 1,
          "solution": false
        },
        "id": "eCCPm9a2M32D"
      },
      "source": [
        "Let us input a problem (the Sudoku example found on [this Wikipedia page](https://en.wikipedia.org/wiki/Sudoku)) and check that our serialization and deserialization works."
      ]
    },
    {
      "cell_type": "code",
      "metadata": {
        "deletable": false,
        "editable": false,
        "nbgrader": {
          "checksum": "d019c9b4fcd041d57ff1e843e26713d6",
          "grade": false,
          "grade_id": "cell-1f083f349fe0572b",
          "locked": true,
          "schema_version": 1,
          "solution": false
        },
        "id": "wwIPcSWSM32E"
      },
      "source": [
        "# Let us ensure that nose is installed.\n",
        "try:\n",
        "    from nose.tools import assert_equal, assert_true\n",
        "    from nose.tools import assert_false, assert_almost_equal\n",
        "except:\n",
        "    !pip install nose\n",
        "    from nose.tools import assert_equal, assert_true\n",
        "    from nose.tools import assert_false, assert_almost_equal\n"
      ],
      "execution_count": 350,
      "outputs": []
    },
    {
      "cell_type": "code",
      "metadata": {
        "deletable": false,
        "editable": false,
        "nbgrader": {
          "checksum": "27b98c191045f976b457b3be6c1d6a96",
          "grade": false,
          "grade_id": "cell-abc219725ab90761",
          "locked": true,
          "schema_version": 1,
          "solution": false
        },
        "colab": {
          "base_uri": "https://localhost:8080/"
        },
        "id": "Vz6UMsLhM32E",
        "outputId": "36f6fbc7-4447-4d1c-a36e-a871b6382704"
      },
      "source": [
        "from nose.tools import assert_equal\n",
        "\n",
        "sd = Sudoku([\n",
        "    '53__7____',\n",
        "    '6__195___',\n",
        "    '_98____6_',\n",
        "    '8___6___3',\n",
        "    '4__8_3__1',\n",
        "    '7___2___6',\n",
        "    '_6____28_',\n",
        "    '___419__5',\n",
        "    '____8__79'\n",
        "])\n",
        "sd.show()\n",
        "sd.show(details=True)\n",
        "s = sd.to_string()\n",
        "sdd = Sudoku.from_string(s)\n",
        "sdd.show(details=True)\n",
        "assert_equal(sd, sdd)\n"
      ],
      "execution_count": 351,
      "outputs": [
        {
          "output_type": "stream",
          "text": [
            "+---+---+---+\n",
            "|53.|.7.|...|\n",
            "|6..|195|...|\n",
            "|.98|...|.6.|\n",
            "+---+---+---+\n",
            "|8..|.6.|..3|\n",
            "|4..|8.3|..1|\n",
            "|7..|.2.|..6|\n",
            "+---+---+---+\n",
            "|.6.|...|28.|\n",
            "|...|419|..5|\n",
            "|...|.8.|.79|\n",
            "+---+---+---+\n",
            "+-----------------------------+-----------------------------+-----------------------------+\n",
            "|____5____ __3______ 123456789|123456789 ______7__ 123456789|123456789 123456789 123456789|\n",
            "|_____6___ 123456789 123456789|1________ ________9 ____5____|123456789 123456789 123456789|\n",
            "|123456789 ________9 _______8_|123456789 123456789 123456789|123456789 _____6___ 123456789|\n",
            "+-----------------------------+-----------------------------+-----------------------------+\n",
            "|_______8_ 123456789 123456789|123456789 _____6___ 123456789|123456789 123456789 __3______|\n",
            "|___4_____ 123456789 123456789|_______8_ 123456789 __3______|123456789 123456789 1________|\n",
            "|______7__ 123456789 123456789|123456789 _2_______ 123456789|123456789 123456789 _____6___|\n",
            "+-----------------------------+-----------------------------+-----------------------------+\n",
            "|123456789 _____6___ 123456789|123456789 123456789 123456789|_2_______ _______8_ 123456789|\n",
            "|123456789 123456789 123456789|___4_____ 1________ ________9|123456789 123456789 ____5____|\n",
            "|123456789 123456789 123456789|123456789 _______8_ 123456789|123456789 ______7__ ________9|\n",
            "+-----------------------------+-----------------------------+-----------------------------+\n",
            "+-----------------------------+-----------------------------+-----------------------------+\n",
            "|____5____ __3______ 123456789|123456789 ______7__ 123456789|123456789 123456789 123456789|\n",
            "|_____6___ 123456789 123456789|1________ ________9 ____5____|123456789 123456789 123456789|\n",
            "|123456789 ________9 _______8_|123456789 123456789 123456789|123456789 _____6___ 123456789|\n",
            "+-----------------------------+-----------------------------+-----------------------------+\n",
            "|_______8_ 123456789 123456789|123456789 _____6___ 123456789|123456789 123456789 __3______|\n",
            "|___4_____ 123456789 123456789|_______8_ 123456789 __3______|123456789 123456789 1________|\n",
            "|______7__ 123456789 123456789|123456789 _2_______ 123456789|123456789 123456789 _____6___|\n",
            "+-----------------------------+-----------------------------+-----------------------------+\n",
            "|123456789 _____6___ 123456789|123456789 123456789 123456789|_2_______ _______8_ 123456789|\n",
            "|123456789 123456789 123456789|___4_____ 1________ ________9|123456789 123456789 ____5____|\n",
            "|123456789 123456789 123456789|123456789 _______8_ 123456789|123456789 ______7__ ________9|\n",
            "+-----------------------------+-----------------------------+-----------------------------+\n"
          ],
          "name": "stdout"
        }
      ]
    },
    {
      "cell_type": "markdown",
      "metadata": {
        "deletable": false,
        "editable": false,
        "nbgrader": {
          "checksum": "baa6de1989b3ab4080826bf41eeb615c",
          "grade": false,
          "grade_id": "cell-a7cb264a1f0dac69",
          "locked": true,
          "schema_version": 1,
          "solution": false
        },
        "id": "S8rPN_I5M32E"
      },
      "source": [
        "Let's test our constructor statement when passed a Sudoku instance."
      ]
    },
    {
      "cell_type": "code",
      "metadata": {
        "deletable": false,
        "editable": false,
        "nbgrader": {
          "checksum": "7098be01aa745b1eef29a845fba0e40b",
          "grade": false,
          "grade_id": "cell-dfde422d5915c737",
          "locked": true,
          "schema_version": 1,
          "solution": false
        },
        "id": "WskFbL14M32E"
      },
      "source": [
        "sd1 = Sudoku(sd)\n",
        "assert_equal(sd, sd1)\n"
      ],
      "execution_count": 352,
      "outputs": []
    },
    {
      "cell_type": "markdown",
      "metadata": {
        "deletable": false,
        "editable": false,
        "nbgrader": {
          "checksum": "b3097e98b475306462250c74ee623b15",
          "grade": false,
          "grade_id": "cell-d7b56fa5387da0b5",
          "locked": true,
          "schema_version": 1,
          "solution": false
        },
        "id": "oGe99O2BM32E"
      },
      "source": [
        "## Constraint propagation\n",
        "\n",
        "When the set in a Sudoku cell contains only one element, this means that the digit at that cell is known. \n",
        "We can then propagate the knowledge, ruling out that digit in the same row, in the same column, and in the same 3x3 cell. \n",
        "\n",
        "We first write a method that propagates the constraint from a single cell.  The method will return the list of newly-determined cells, that is, the list of cells who also now (but not before) are associated with a 1-element set.  This is useful, because we can then propagate the constraints from those cells in turn.  Further, if an empty set is ever generated, we raise the exception Unsolvable: this means that there is no solution to the proposed Sudoku puzzle. \n",
        "\n",
        "We don't want to steal all the fun from you; thus, we will give you the main pieces of the implemenetation, but we ask you to fill in the blanks.  We provide tests so you can catch any errors right away."
      ]
    },
    {
      "cell_type": "markdown",
      "metadata": {
        "deletable": false,
        "editable": false,
        "nbgrader": {
          "checksum": "c98b50917fa005145dc40c7f82d4fb5d",
          "grade": false,
          "grade_id": "cell-b0ec846f8a365d79",
          "locked": true,
          "schema_version": 1,
          "solution": false
        },
        "id": "pimgyFbeM32E"
      },
      "source": [
        "## Question 1: Propagating a single cell"
      ]
    },
    {
      "cell_type": "code",
      "metadata": {
        "deletable": false,
        "editable": false,
        "nbgrader": {
          "checksum": "7a884c4167806587e806224a15063749",
          "grade": false,
          "grade_id": "cell-fc9a968448c5cc79",
          "locked": true,
          "schema_version": 1,
          "solution": false
        },
        "id": "BOFll_3ZM32E"
      },
      "source": [
        "class Unsolvable(Exception):\n",
        "    pass\n",
        "\n",
        "\n",
        "def sudoku_ruleout(self, i, j, x):\n",
        "    \"\"\"The input consists in a cell (i, j), and a value x.\n",
        "    The function removes x from the set self.m[i][j] at the cell, if present, and:\n",
        "    - if the result is empty, raises Unsolvable;\n",
        "    - if the cell used to be a non-singleton cell and is now a singleton\n",
        "      cell, then returns the set {(i, j)};\n",
        "    - otherwise, returns the empty set.\"\"\"\n",
        "    c = self.m[i][j]\n",
        "    n = len(c)\n",
        "    c.discard(x)\n",
        "    self.m[i][j] = c\n",
        "    if len(c) == 0:\n",
        "        raise Unsolvable()\n",
        "    return {(i, j)} if 1 == len(c) < n else set()\n",
        "\n",
        "Sudoku.ruleout = sudoku_ruleout\n"
      ],
      "execution_count": 353,
      "outputs": []
    },
    {
      "cell_type": "markdown",
      "metadata": {
        "deletable": false,
        "editable": false,
        "nbgrader": {
          "checksum": "2140d3f1ccf2fcf45b6b99d653070802",
          "grade": false,
          "grade_id": "cell-644ba08a6176522a",
          "locked": true,
          "schema_version": 1,
          "solution": false
        },
        "id": "af-C1TcOM32F"
      },
      "source": [
        "The method `propagate_cell(ij)` takes as input a pair `ij` of coordinates.  If the set of possible digits `self.m[i][j]` for cell i,j contains more than one digit, then no propagation is done.  If the set contains a single digit `x`, then we: \n",
        "\n",
        "* Remove `x` from the sets of all other cells on the same row, column, and 3x3 block. \n",
        "* Collect all the newly singleton cells that are formed, due to the digit `x` being removed, and we return them as a set. \n",
        "\n",
        "We give you an implementation that takes care of removing `x` from the same row, and we ask you to complete the implementation to take care of the column and 3x3 block as well."
      ]
    },
    {
      "cell_type": "code",
      "metadata": {
        "deletable": false,
        "nbgrader": {
          "checksum": "238b2993e7002fe89ef7d9ea1e86388e",
          "grade": false,
          "grade_id": "cell-cb8846ecfc06e4a8",
          "locked": false,
          "schema_version": 1,
          "solution": true
        },
        "id": "ckhDpuT6M32F"
      },
      "source": [
        "### Exercise: define cell propagation\n",
        "\n",
        "def sudoku_propagate_cell(self, ij):\n",
        "    \"\"\"Propagates the singleton value at cell (i, j), returning the list\n",
        "    of newly-singleton cells.\"\"\"\n",
        "    i, j = ij\n",
        "    if len(self.m[i][j]) > 1:\n",
        "        # Nothing to propagate from cell (i,j).\n",
        "        return set()\n",
        "    # We keep track of the newly-singleton cells.\n",
        "    newly_singleton = set()\n",
        "    x = getel(self.m[i][j]) # Value at (i, j).\n",
        "    # Same row.\n",
        "    for jj in range(9):\n",
        "        if jj!=j: # Do not propagate to the element itself.\n",
        "            newly_singleton.update(self.ruleout(i, jj, x))\n",
        "    # Same column.\n",
        "    # YOUR CODE HERE\n",
        "    for ii in range(9):\n",
        "        if ii!=i:\n",
        "            newly_singleton.update(self.ruleout(ii, j, x))\n",
        "    # Same block of 3x3 cells.\n",
        "    # YOUR CODE HERE\n",
        "    i0=(i//3)*3\n",
        "    j0=(j//3)*3\n",
        "    for ii in range(0,3):\n",
        "        for jj in range(0,3):\n",
        "            if i0+ii!=i and j0+jj!=j:\n",
        "                newly_singleton.update(self.ruleout(i0+ii, j0+jj, x))\n",
        "\n",
        "\n",
        "\n",
        "    # Returns the list of newly-singleton cells.\n",
        "    return newly_singleton\n",
        "\n",
        "Sudoku.propagate_cell = sudoku_propagate_cell\n"
      ],
      "execution_count": 354,
      "outputs": []
    },
    {
      "cell_type": "code",
      "metadata": {
        "deletable": false,
        "nbgrader": {
          "checksum": "6cd195cd2104c42b331eeaa641745991",
          "grade": false,
          "grade_id": "cell-aaf8944cfc81c6dd",
          "locked": false,
          "schema_version": 1,
          "solution": true
        },
        "id": "MpUHgp3JM32F"
      },
      "source": [
        "# Here you can write your own tests if you like. \n",
        "\n",
        "# YOUR CODE HERE"
      ],
      "execution_count": 355,
      "outputs": []
    },
    {
      "cell_type": "code",
      "metadata": {
        "deletable": false,
        "editable": false,
        "nbgrader": {
          "checksum": "1d320009a9aff66baf1be3c34c9aa091",
          "grade": true,
          "grade_id": "cell-518cff90ecab53c2",
          "locked": true,
          "points": 10,
          "schema_version": 1,
          "solution": false
        },
        "colab": {
          "base_uri": "https://localhost:8080/"
        },
        "id": "NZmMwyxhM32F",
        "outputId": "87d022a0-dcb0-4890-cdfe-afb502c588bd"
      },
      "source": [
        "### 10 points: Tests for cell propagation\n",
        "\n",
        "tsd = Sudoku.from_string('[[[5], [3], [2], [6], [7], [8], [9], [1, 2, 4], [2]], [[6], [7], [1, 2, 4, 7], [1, 2, 3], [9], [5], [3], [1, 2, 4], [8]], [[1, 2], [9], [8], [3], [4], [1, 2], [5], [6], [7]], [[8], [5], [9], [1, 9, 7], [6], [1, 4, 9, 7], [4], [2], [3]], [[4], [2], [6], [8], [5], [3], [7], [9], [1]], [[7], [1], [3], [9], [2], [4], [8], [5], [6]], [[1, 9], [6], [1, 5, 9, 7], [9, 5, 7], [3], [9, 7], [2], [8], [4]], [[9, 2], [8], [9, 2, 7], [4], [1], [9, 2, 7], [6], [3], [5]], [[3], [4], [2, 3, 4, 5], [2, 5, 6], [8], [6], [1], [7], [9]]]')\n",
        "tsd.show(details=True)\n",
        "try:\n",
        "    tsd.propagate_cell((0, 2))\n",
        "except Unsolvable:\n",
        "    print(\"Good! It was unsolvable.\")\n",
        "else:\n",
        "    raise Exception(\"Hey, it was unsolvable\")\n",
        "\n",
        "tsd = Sudoku.from_string('[[[5], [3], [2], [6], [7], [8], [9], [1, 2, 4], [2, 3]], [[6], [7], [1, 2, 4, 7], [1, 2, 3], [9], [5], [3], [1, 2, 4], [8]], [[1, 2], [9], [8], [3], [4], [1, 2], [5], [6], [7]], [[8], [5], [9], [1, 9, 7], [6], [1, 4, 9, 7], [4], [2], [3]], [[4], [2], [6], [8], [5], [3], [7], [9], [1]], [[7], [1], [3], [9], [2], [4], [8], [5], [6]], [[1, 9], [6], [1, 5, 9, 7], [9, 5, 7], [3], [9, 7], [2], [8], [4]], [[9, 2], [8], [9, 2, 7], [4], [1], [9, 2, 7], [6], [3], [5]], [[3], [4], [2, 3, 4, 5], [2, 5, 6], [8], [6], [1], [7], [9]]]')\n",
        "tsd.show(details=True)\n",
        "assert_equal(tsd.propagate_cell((0, 2)), {(0, 8), (2, 0)})\n",
        "\n"
      ],
      "execution_count": 356,
      "outputs": [
        {
          "output_type": "stream",
          "text": [
            "+-----------------------------+-----------------------------+-----------------------------+\n",
            "|____5____ __3______ _2_______|_____6___ ______7__ _______8_|________9 12_4_____ _2_______|\n",
            "|_____6___ ______7__ 12_4__7__|123______ ________9 ____5____|__3______ 12_4_____ _______8_|\n",
            "|12_______ ________9 _______8_|__3______ ___4_____ 12_______|____5____ _____6___ ______7__|\n",
            "+-----------------------------+-----------------------------+-----------------------------+\n",
            "|_______8_ ____5____ ________9|1_____7_9 _____6___ 1__4__7_9|___4_____ _2_______ __3______|\n",
            "|___4_____ _2_______ _____6___|_______8_ ____5____ __3______|______7__ ________9 1________|\n",
            "|______7__ 1________ __3______|________9 _2_______ ___4_____|_______8_ ____5____ _____6___|\n",
            "+-----------------------------+-----------------------------+-----------------------------+\n",
            "|1_______9 _____6___ 1___5_7_9|____5_7_9 __3______ ______7_9|_2_______ _______8_ ___4_____|\n",
            "|_2______9 _______8_ _2____7_9|___4_____ 1________ _2____7_9|_____6___ __3______ ____5____|\n",
            "|__3______ ___4_____ _2345____|_2__56___ _______8_ _____6___|1________ ______7__ ________9|\n",
            "+-----------------------------+-----------------------------+-----------------------------+\n",
            "Good! It was unsolvable.\n",
            "+-----------------------------+-----------------------------+-----------------------------+\n",
            "|____5____ __3______ _2_______|_____6___ ______7__ _______8_|________9 12_4_____ _23______|\n",
            "|_____6___ ______7__ 12_4__7__|123______ ________9 ____5____|__3______ 12_4_____ _______8_|\n",
            "|12_______ ________9 _______8_|__3______ ___4_____ 12_______|____5____ _____6___ ______7__|\n",
            "+-----------------------------+-----------------------------+-----------------------------+\n",
            "|_______8_ ____5____ ________9|1_____7_9 _____6___ 1__4__7_9|___4_____ _2_______ __3______|\n",
            "|___4_____ _2_______ _____6___|_______8_ ____5____ __3______|______7__ ________9 1________|\n",
            "|______7__ 1________ __3______|________9 _2_______ ___4_____|_______8_ ____5____ _____6___|\n",
            "+-----------------------------+-----------------------------+-----------------------------+\n",
            "|1_______9 _____6___ 1___5_7_9|____5_7_9 __3______ ______7_9|_2_______ _______8_ ___4_____|\n",
            "|_2______9 _______8_ _2____7_9|___4_____ 1________ _2____7_9|_____6___ __3______ ____5____|\n",
            "|__3______ ___4_____ _2345____|_2__56___ _______8_ _____6___|1________ ______7__ ________9|\n",
            "+-----------------------------+-----------------------------+-----------------------------+\n"
          ],
          "name": "stdout"
        }
      ]
    },
    {
      "cell_type": "markdown",
      "metadata": {
        "deletable": false,
        "editable": false,
        "nbgrader": {
          "checksum": "e5ed2a3a7c5ee13c35949e28b4549ce4",
          "grade": false,
          "grade_id": "cell-6bdb89884ff9de73",
          "locked": true,
          "schema_version": 1,
          "solution": false
        },
        "id": "4q1DgFsEM32F"
      },
      "source": [
        "### Propagating all cells, once\n",
        "\n",
        "The simplest thing we can do is propagate each cell, once. "
      ]
    },
    {
      "cell_type": "code",
      "metadata": {
        "deletable": false,
        "editable": false,
        "nbgrader": {
          "checksum": "cf75628fec88e4a7eb1336f87733579d",
          "grade": false,
          "grade_id": "cell-f01c09cb45f93a07",
          "locked": true,
          "schema_version": 1,
          "solution": false
        },
        "id": "Sk7C7XUcM32F"
      },
      "source": [
        "def sudoku_propagate_all_cells_once(self):\n",
        "    \"\"\"This function propagates the constraints from all singletons.\"\"\"\n",
        "    for i in range(9):\n",
        "        for j in range(9):\n",
        "            self.propagate_cell((i, j))\n",
        "\n",
        "Sudoku.propagate_all_cells_once = sudoku_propagate_all_cells_once\n"
      ],
      "execution_count": 357,
      "outputs": []
    },
    {
      "cell_type": "code",
      "metadata": {
        "deletable": false,
        "editable": false,
        "nbgrader": {
          "checksum": "ea85d958be7c22389daa6d8b5319089e",
          "grade": false,
          "grade_id": "cell-544f2797149c7f48",
          "locked": true,
          "schema_version": 1,
          "solution": false
        },
        "colab": {
          "base_uri": "https://localhost:8080/"
        },
        "id": "UumZgTzSM32F",
        "outputId": "94e84751-3770-49a2-ca78-91b6e65da7e3"
      },
      "source": [
        "sd = Sudoku([\n",
        "    '53__7____',\n",
        "    '6__195___',\n",
        "    '_98____6_',\n",
        "    '8___6___3',\n",
        "    '4__8_3__1',\n",
        "    '7___2___6',\n",
        "    '_6____28_',\n",
        "    '___419__5',\n",
        "    '____8__79'\n",
        "])\n",
        "sd.show()\n",
        "sd.propagate_all_cells_once()\n",
        "sd.show()\n",
        "sd.show(details=True)\n"
      ],
      "execution_count": 358,
      "outputs": [
        {
          "output_type": "stream",
          "text": [
            "+---+---+---+\n",
            "|53.|.7.|...|\n",
            "|6..|195|...|\n",
            "|.98|...|.6.|\n",
            "+---+---+---+\n",
            "|8..|.6.|..3|\n",
            "|4..|8.3|..1|\n",
            "|7..|.2.|..6|\n",
            "+---+---+---+\n",
            "|.6.|...|28.|\n",
            "|...|419|..5|\n",
            "|...|.8.|.79|\n",
            "+---+---+---+\n",
            "+---+---+---+\n",
            "|53.|.7.|...|\n",
            "|6..|195|...|\n",
            "|.98|...|.6.|\n",
            "+---+---+---+\n",
            "|8..|.6.|..3|\n",
            "|4..|853|..1|\n",
            "|7..|.2.|..6|\n",
            "+---+---+---+\n",
            "|.6.|..7|284|\n",
            "|...|419|.35|\n",
            "|...|.8.|.79|\n",
            "+---+---+---+\n",
            "+-----------------------------+-----------------------------+-----------------------------+\n",
            "|____5____ __3______ 12_4_____|_2___6___ ______7__ _2_4_6_8_|1__4___89 12_4____9 _2_4___8_|\n",
            "|_____6___ _2_4__7__ _2_4__7__|1________ ________9 ____5____|__34__78_ _234_____ _2_4__78_|\n",
            "|12_______ ________9 _______8_|_23______ __34_____ _2_4_____|1_345_7__ _____6___ _2_4__7__|\n",
            "+-----------------------------+-----------------------------+-----------------------------+\n",
            "|_______8_ 12__5____ 12__5___9|____5_7_9 _____6___ 1__4__7__|___45_7_9 _2_45___9 __3______|\n",
            "|___4_____ _2__5____ _2__56__9|_______8_ ____5____ __3______|____5_7_9 _2__5___9 1________|\n",
            "|______7__ 1___5____ 1_3_5___9|____5___9 _2_______ 1__4_____|___45__89 ___45___9 _____6___|\n",
            "+-----------------------------+-----------------------------+-----------------------------+\n",
            "|1_3_____9 _____6___ 1_345_7_9|__3_5_7__ __3_5____ ______7__|_2_______ _______8_ ___4_____|\n",
            "|_23______ _2____78_ _23___7__|___4_____ 1________ ________9|__3__6___ __3______ ____5____|\n",
            "|123______ 12_45____ 12345____|_23_56___ _______8_ _2___6___|1_34_6___ ______7__ ________9|\n",
            "+-----------------------------+-----------------------------+-----------------------------+\n"
          ],
          "name": "stdout"
        }
      ]
    },
    {
      "cell_type": "markdown",
      "metadata": {
        "deletable": false,
        "editable": false,
        "nbgrader": {
          "checksum": "c3998f1c5401444444d92ca72de4e24e",
          "grade": false,
          "grade_id": "cell-29a0e911623d5ef4",
          "locked": true,
          "schema_version": 1,
          "solution": false
        },
        "id": "3e-gajx9M32F"
      },
      "source": [
        "## Question 2: Propagating all cells, repeatedly\n",
        "\n",
        "This is a good beginning, but it's not quite enough. \n",
        "As we propagate the constraints, cells that did not use to be singletons may have become singletons.  For eample, in the above example, the center cell has become known to be a 5: we need to make sure that also these singletons are propagated. \n",
        "\n",
        "This is why we have written propagate_cell so that it returns the set of newly-singleton cells.  \n",
        "We need now to write a method `full_propagation` that at the beginning starts with a set of `to_propagate` cells (if it is not specified, then we just take it to consist of all singleton cells).  Then, it picks a cell from the to_propagate set, and propagates from it, adding any newly singleton cell to to_propagate.  Once there are no more cells to be propagated, the method returns. \n",
        "If this sounds similar to graph reachability, it is ... because it is!  It is once again the algorithmic pattern of keeping a list of work to be done, then iteratively picking an element from the list, doing it, possibly updating the list of work to be done with new work that has to be done as a result of what we just did, and continuing in this fashion until there is nothing left to do. \n",
        "We will let you write this function.  The portion you have to write can be done in three lines of code."
      ]
    },
    {
      "cell_type": "code",
      "metadata": {
        "deletable": false,
        "nbgrader": {
          "checksum": "6c1cc36c7e13cb95174ad15ccafde5fc",
          "grade": false,
          "grade_id": "cell-28cd5047394e6887",
          "locked": false,
          "schema_version": 1,
          "solution": true
        },
        "id": "hUzndUDxM32F"
      },
      "source": [
        "### Exercise: define full propagation\n",
        "\n",
        "def sudoku_full_propagation(self, to_propagate=None):\n",
        "    \"\"\"Iteratively propagates from all singleton cells, and from all\n",
        "    newly discovered singleton cells, until no more propagation is possible.\n",
        "    @param to_propagate: sets of cells from where to propagate.  If None, propagates\n",
        "        from all singleton cells. \n",
        "    @return: nothing.\n",
        "    \"\"\"\n",
        "    if to_propagate is None:\n",
        "        to_propagate = {(i, j) for i in range(9) for j in range(9)}\n",
        "    # This code is the (A) code; will be referenced later.\n",
        "    # YOUR CODE HERE\n",
        "    while len(to_propagate)>0:\n",
        "        cells=to_propagate.pop()\n",
        "        propagated_cells=self.propagate_cell(cells)\n",
        "        to_propagate=to_propagate|propagated_cells\n",
        "\n",
        "\n",
        "\n",
        "Sudoku.full_propagation = sudoku_full_propagation\n"
      ],
      "execution_count": 359,
      "outputs": []
    },
    {
      "cell_type": "code",
      "metadata": {
        "deletable": false,
        "nbgrader": {
          "checksum": "af46d0b76cf950f662c3cf238f6d257a",
          "grade": false,
          "grade_id": "cell-1c1f40d813c5b7c6",
          "locked": false,
          "schema_version": 1,
          "solution": true
        },
        "id": "5MycU8ZWM32F"
      },
      "source": [
        "# Here you can write your own tests if you like. \n",
        "\n",
        "# YOUR CODE HERE"
      ],
      "execution_count": 360,
      "outputs": []
    },
    {
      "cell_type": "code",
      "metadata": {
        "deletable": false,
        "editable": false,
        "nbgrader": {
          "checksum": "5976e0d70cdef616598acf87335d4e9a",
          "grade": true,
          "grade_id": "cell-743ea60f3db12c64",
          "locked": true,
          "points": 10,
          "schema_version": 1,
          "solution": false
        },
        "colab": {
          "base_uri": "https://localhost:8080/"
        },
        "id": "-7saRy0bM32F",
        "outputId": "4b2d9ff8-f82f-4ed9-ca29-ddf6c6b2e551"
      },
      "source": [
        "### 10 points: Tests for full propagation\n",
        "\n",
        "sd = Sudoku([\n",
        "    '53__7____',\n",
        "    '6__195___',\n",
        "    '_98____6_',\n",
        "    '8___6___3',\n",
        "    '4__8_3__1',\n",
        "    '7___2___6',\n",
        "    '_6____28_',\n",
        "    '___419__5',\n",
        "    '____8__79'\n",
        "])\n",
        "sd.full_propagation()\n",
        "sd.show(details=True)\n",
        "sdd = Sudoku.from_string('[[[5], [3], [4], [6], [7], [8], [9], [1], [2]], [[6], [7], [2], [1], [9], [5], [3], [4], [8]], [[1], [9], [8], [3], [4], [2], [5], [6], [7]], [[8], [5], [9], [7], [6], [1], [4], [2], [3]], [[4], [2], [6], [8], [5], [3], [7], [9], [1]], [[7], [1], [3], [9], [2], [4], [8], [5], [6]], [[9], [6], [1], [5], [3], [7], [2], [8], [4]], [[2], [8], [7], [4], [1], [9], [6], [3], [5]], [[3], [4], [5], [2], [8], [6], [1], [7], [9]]]')\n",
        "assert_equal(sd, sdd)\n",
        "\n"
      ],
      "execution_count": 361,
      "outputs": [
        {
          "output_type": "stream",
          "text": [
            "+-----------------------------+-----------------------------+-----------------------------+\n",
            "|____5____ __3______ ___4_____|_____6___ ______7__ _______8_|________9 1________ _2_______|\n",
            "|_____6___ ______7__ _2_______|1________ ________9 ____5____|__3______ ___4_____ _______8_|\n",
            "|1________ ________9 _______8_|__3______ ___4_____ _2_______|____5____ _____6___ ______7__|\n",
            "+-----------------------------+-----------------------------+-----------------------------+\n",
            "|_______8_ ____5____ ________9|______7__ _____6___ 1________|___4_____ _2_______ __3______|\n",
            "|___4_____ _2_______ _____6___|_______8_ ____5____ __3______|______7__ ________9 1________|\n",
            "|______7__ 1________ __3______|________9 _2_______ ___4_____|_______8_ ____5____ _____6___|\n",
            "+-----------------------------+-----------------------------+-----------------------------+\n",
            "|________9 _____6___ 1________|____5____ __3______ ______7__|_2_______ _______8_ ___4_____|\n",
            "|_2_______ _______8_ ______7__|___4_____ 1________ ________9|_____6___ __3______ ____5____|\n",
            "|__3______ ___4_____ ____5____|_2_______ _______8_ _____6___|1________ ______7__ ________9|\n",
            "+-----------------------------+-----------------------------+-----------------------------+\n"
          ],
          "name": "stdout"
        }
      ]
    },
    {
      "cell_type": "markdown",
      "metadata": {
        "deletable": false,
        "editable": false,
        "nbgrader": {
          "checksum": "c13e9dce0c0539a0e60e0c4392c36835",
          "grade": false,
          "grade_id": "cell-d2f32439294eff83",
          "locked": true,
          "schema_version": 1,
          "solution": false
        },
        "id": "R7qiSpzbM32G"
      },
      "source": [
        "We solved our example problem!  Constraint propagation, iterated, led us to the solution!"
      ]
    },
    {
      "cell_type": "markdown",
      "metadata": {
        "deletable": false,
        "editable": false,
        "nbgrader": {
          "checksum": "f32e1d44d901e052886bccd11640735c",
          "grade": false,
          "grade_id": "cell-4f554f6df1d012c1",
          "locked": true,
          "schema_version": 1,
          "solution": false
        },
        "id": "L9EBBfsoM32G"
      },
      "source": [
        "## Searching for a solution\n",
        "\n",
        "Many Sudoku problems can be solved entirely by constraint propagation.  \n",
        "They are designed to be so: they are designed to be relatively easy, so that humans can solve them while on a lounge chair at the beach -- I know this from personal experience! \n",
        "\n",
        "But it is by no means necessary that this is true. \n",
        "If we create more complex problems, or less determined problems, constraint propagation no longer suffices. \n",
        "As a simple example, let's just blank some cells in the previous problem, and run full propagation again:"
      ]
    },
    {
      "cell_type": "code",
      "metadata": {
        "deletable": false,
        "editable": false,
        "nbgrader": {
          "checksum": "f8080f8293dd697aac0827f751fa4646",
          "grade": false,
          "grade_id": "cell-1c464a49a54fa9be",
          "locked": true,
          "schema_version": 1,
          "solution": false
        },
        "colab": {
          "base_uri": "https://localhost:8080/"
        },
        "id": "J0nFbxVCM32G",
        "outputId": "a17209a9-b4fe-4bae-bfa0-42143664d9ea"
      },
      "source": [
        "sd = Sudoku([\n",
        "    '53__7____',\n",
        "    '6___95___',\n",
        "    '_98____6_',\n",
        "    '8___6___3',\n",
        "    '4__8_3__1',\n",
        "    '7___2___6',\n",
        "    '_6____28_',\n",
        "    '___41___5',\n",
        "    '____8__79'\n",
        "])\n",
        "sd.show()\n",
        "sd.full_propagation()\n",
        "sd.show(details=True)\n"
      ],
      "execution_count": 362,
      "outputs": [
        {
          "output_type": "stream",
          "text": [
            "+---+---+---+\n",
            "|53.|.7.|...|\n",
            "|6..|.95|...|\n",
            "|.98|...|.6.|\n",
            "+---+---+---+\n",
            "|8..|.6.|..3|\n",
            "|4..|8.3|..1|\n",
            "|7..|.2.|..6|\n",
            "+---+---+---+\n",
            "|.6.|...|28.|\n",
            "|...|41.|..5|\n",
            "|...|.8.|.79|\n",
            "+---+---+---+\n",
            "+-----------------------------+-----------------------------+-----------------------------+\n",
            "|____5____ __3______ 12_4_____|12___6___ ______7__ 12___6_8_|___4___89 12_4_____ _2_____8_|\n",
            "|_____6___ 1__4__7__ 12_4__7__|123______ ________9 ____5____|__34___8_ 12_4_____ _2____78_|\n",
            "|12_______ ________9 _______8_|123______ ___4_____ 12_______|__3_5____ _____6___ _2____7__|\n",
            "+-----------------------------+-----------------------------+-----------------------------+\n",
            "|_______8_ 1___5____ 1___5___9|1_____7_9 _____6___ 1__4__7_9|___45____ _2_45____ __3______|\n",
            "|___4_____ _2_______ _____6___|_______8_ ____5____ __3______|______7__ ________9 1________|\n",
            "|______7__ 1___5____ 1_3_5___9|1_______9 _2_______ 1__4____9|___45__8_ ___45____ _____6___|\n",
            "+-----------------------------+-----------------------------+-----------------------------+\n",
            "|1_______9 _____6___ 1___5_7_9|____5_7_9 __3______ ______7_9|_2_______ _______8_ ___4_____|\n",
            "|_2______9 ______78_ _2____7_9|___4_____ 1________ _2____7_9|_____6___ __3______ ____5____|\n",
            "|_23______ ___45____ _2345____|_2__56___ _______8_ _2___6___|1________ ______7__ ________9|\n",
            "+-----------------------------+-----------------------------+-----------------------------+\n"
          ],
          "name": "stdout"
        }
      ]
    },
    {
      "cell_type": "markdown",
      "metadata": {
        "deletable": false,
        "editable": false,
        "nbgrader": {
          "checksum": "88d8da4bf5c1484fbe6de4e342e4a749",
          "grade": false,
          "grade_id": "cell-b8ce2acb10ed8713",
          "locked": true,
          "schema_version": 1,
          "solution": false
        },
        "id": "rbI4Tj4sM32G"
      },
      "source": [
        "As we see, there are still undetermined values.  We can peek into the detailed state of the solution:\n"
      ]
    },
    {
      "cell_type": "code",
      "metadata": {
        "deletable": false,
        "editable": false,
        "nbgrader": {
          "checksum": "8f07c61cc249f249ab2824772d0f0c55",
          "grade": false,
          "grade_id": "cell-7fbd34dc04f6fc3b",
          "locked": true,
          "schema_version": 1,
          "solution": false
        },
        "colab": {
          "base_uri": "https://localhost:8080/"
        },
        "id": "nf-eI4rhM32G",
        "outputId": "f06ee8f0-5e79-4513-8d8f-3cfb12568eed"
      },
      "source": [
        "sd.show(details=True)\n",
        "# Let's save this Sudoku for later.\n",
        "sd_partially_solved = Sudoku(sd)\n"
      ],
      "execution_count": 363,
      "outputs": [
        {
          "output_type": "stream",
          "text": [
            "+-----------------------------+-----------------------------+-----------------------------+\n",
            "|____5____ __3______ 12_4_____|12___6___ ______7__ 12___6_8_|___4___89 12_4_____ _2_____8_|\n",
            "|_____6___ 1__4__7__ 12_4__7__|123______ ________9 ____5____|__34___8_ 12_4_____ _2____78_|\n",
            "|12_______ ________9 _______8_|123______ ___4_____ 12_______|__3_5____ _____6___ _2____7__|\n",
            "+-----------------------------+-----------------------------+-----------------------------+\n",
            "|_______8_ 1___5____ 1___5___9|1_____7_9 _____6___ 1__4__7_9|___45____ _2_45____ __3______|\n",
            "|___4_____ _2_______ _____6___|_______8_ ____5____ __3______|______7__ ________9 1________|\n",
            "|______7__ 1___5____ 1_3_5___9|1_______9 _2_______ 1__4____9|___45__8_ ___45____ _____6___|\n",
            "+-----------------------------+-----------------------------+-----------------------------+\n",
            "|1_______9 _____6___ 1___5_7_9|____5_7_9 __3______ ______7_9|_2_______ _______8_ ___4_____|\n",
            "|_2______9 ______78_ _2____7_9|___4_____ 1________ _2____7_9|_____6___ __3______ ____5____|\n",
            "|_23______ ___45____ _2345____|_2__56___ _______8_ _2___6___|1________ ______7__ ________9|\n",
            "+-----------------------------+-----------------------------+-----------------------------+\n"
          ],
          "name": "stdout"
        }
      ]
    },
    {
      "cell_type": "markdown",
      "metadata": {
        "deletable": false,
        "editable": false,
        "nbgrader": {
          "checksum": "d1d2768a8211864a55aac41d6126f7f2",
          "grade": false,
          "grade_id": "cell-6e73a9f7f41e1ec3",
          "locked": true,
          "schema_version": 1,
          "solution": false
        },
        "id": "-2rDoJE_M32G"
      },
      "source": [
        "What can we do when constraint propagation fails? \n",
        "The only thing we can do is make a guess.  We can take one of the cells whose set contains multiple digits, such as cell (2, 0) (starting counting at 0, as in Python), which contains $\\{1, 2\\}$, and try one of the values, for instance $1$.  \n",
        "We can see whether assigning to the cell the singleton set $\\{1\\}$ leads to the solution. \n",
        "If not, we try the value $\\{2\\}$ instead. \n",
        "If the Sudoku problem has a solution, one of these two values must work. \n",
        "\n",
        "Classically, this way of searching for a solution has been called search with _backtracking._\n",
        "The backtracking is because we can choose a value, say $1$, and then do a lot of work, propagating the new constraint, making further guesses, and so on and so forth.  If that does not pan out, we must \"backtrack\" and return to our guess, choosing (in our example) $2$ instead. \n",
        "\n",
        "Let us implement search with backtracking.  What we need to do is something like this: \n",
        "\n",
        "search():\n",
        "1. propagate constraints.\n",
        "1. if solved, hoorrayy!\n",
        "1. if impossible, raise Unsolvable()\n",
        "1. if not fully solved, pick a cell with multiple digits possible, and iteratively:\n",
        " * Assign one of the possible values to the cell. \n",
        " * Call search() with that value for the cell.\n",
        " * If Unsolvable is raised by the search() call, move on to the next value.\n",
        " * If all values returned Unsolvable (if we tried them all), then we raise Unsolvable.\n",
        "\n",
        "So we see that search() is a recursive function.  \n",
        "From the pseudo-code above, we see that it might be better to pick a cell with few values possible at step 4 above, so as to make our chances of success as good as possible.  For instance, it is much better to choose a cell with set $\\{1, 2\\}$ than one with set $\\{1, 3, 5, 6, 7, 9\\}$, as the probability of success is $1/2$ in the first case and $1/6$ in the second case. \n",
        "Of course, it may be possible to come up with much better heuristics to guide our search, but this will have to do so far. \n",
        "\n",
        "One fine point with the search above is the following.  So far, an object has a self.m matrix, which contains the status of the Sudoku solution. \n",
        "We cannot simply pass self.m recursively to search(), because in the course of the search and constraint propagation, self.m will be modified, and there is no easy way to keep track of these modifications. \n",
        "Rather, we will write search() as a method, and when we call it, we will:\n",
        "\n",
        "* First, create a copy of the current object via the Sudoku constructor, so we have a copy we can modify. \n",
        "* Second, we assign one of the values to the cell, as above; \n",
        "* Third, we will call the search() method of that object. \n",
        "\n",
        "Furthermore, when a solution is found, as in the hoorraay! above, we need to somehow return the solution. \n",
        "There are two ways of doing this: via standard returns, or by raising an exception. \n"
      ]
    },
    {
      "cell_type": "code",
      "metadata": {
        "deletable": false,
        "editable": false,
        "nbgrader": {
          "checksum": "457600b6d3f42a8b3bc735a077c133b9",
          "grade": false,
          "grade_id": "cell-dc3ac1138a7ebe73",
          "locked": true,
          "schema_version": 1,
          "solution": false
        },
        "id": "_AhU4-HLM32G"
      },
      "source": [
        "def sudoku_done(self):\n",
        "    \"\"\"Checks whether an instance of Sudoku is solved.\"\"\"\n",
        "    for i in range(9):\n",
        "        for j in range(9):\n",
        "            if len(self.m[i][j]) > 1:\n",
        "                return False\n",
        "    return True\n",
        "\n",
        "Sudoku.done = sudoku_done\n",
        "\n",
        "\n",
        "def sudoku_search(self, new_cell=None):\n",
        "    \"\"\"Tries to solve a Sudoku instance.\"\"\"\n",
        "    to_propagate = None if new_cell is None else {new_cell}\n",
        "    self.full_propagation(to_propagate=to_propagate)\n",
        "    if self.done():\n",
        "        return self # We are a solution\n",
        "    # We need to search.  Picks a cell with as few candidates as possible.\n",
        "    candidates = [(len(self.m[i][j]), i, j)\n",
        "                   for i in range(9) for j in range(9) if len(self.m[i][j]) > 1]\n",
        "    _, i, j = min(candidates)\n",
        "    values = self.m[i][j]\n",
        "    # values contains the list of values we need to try for cell i, j.\n",
        "    # print(\"Searching values\", values, \"for cell\", i, j)\n",
        "    for x in values:\n",
        "        # print(\"Trying value\", x)\n",
        "        sd = Sudoku(self)\n",
        "        sd.m[i][j] = {x}\n",
        "        try:\n",
        "            # If we find a solution, we return it.\n",
        "            return sd.search(new_cell=(i, j))\n",
        "        except Unsolvable:\n",
        "            # Go to next value.\n",
        "            pass\n",
        "    # All values have been tried, apparently with no success.\n",
        "    raise Unsolvable()\n",
        "\n",
        "Sudoku.search = sudoku_search\n",
        "\n",
        "\n",
        "def sudoku_solve(self, do_print=True):\n",
        "    \"\"\"Wrapper function, calls self and shows the solution if any.\"\"\"\n",
        "    try:\n",
        "        r = self.search()\n",
        "        if do_print:\n",
        "            print(\"We found a solution:\")\n",
        "            r.show()\n",
        "            return r\n",
        "    except Unsolvable:\n",
        "        if do_print:\n",
        "            print(\"The problem has no solutions\")\n",
        "\n",
        "Sudoku.solve = sudoku_solve\n"
      ],
      "execution_count": 364,
      "outputs": []
    },
    {
      "cell_type": "markdown",
      "metadata": {
        "deletable": false,
        "editable": false,
        "nbgrader": {
          "checksum": "9351ba119a2f3cf1a8071371bd095f6e",
          "grade": false,
          "grade_id": "cell-be62d73741d83d3f",
          "locked": true,
          "schema_version": 1,
          "solution": false
        },
        "id": "EKBEIbVaM32G"
      },
      "source": [
        "Let us try this on our previous Sudoku problem that was not solvable via constraint propagation alone."
      ]
    },
    {
      "cell_type": "code",
      "metadata": {
        "deletable": false,
        "editable": false,
        "nbgrader": {
          "checksum": "1340ea18a5b422d4d4ead9d3ea40fc84",
          "grade": false,
          "grade_id": "cell-7c95749068623e30",
          "locked": true,
          "schema_version": 1,
          "solution": false
        },
        "colab": {
          "base_uri": "https://localhost:8080/"
        },
        "id": "KtII1d6AM32G",
        "outputId": "c4bca84d-baf4-4a43-c3a1-c50e256bbf3c"
      },
      "source": [
        "sd = Sudoku([\n",
        "    '53__7____',\n",
        "    '6___95___',\n",
        "    '_98____6_',\n",
        "    '8___6___3',\n",
        "    '4__8_3__1',\n",
        "    '7___2___6',\n",
        "    '_6____28_',\n",
        "    '___41___5',\n",
        "    '____8__79'\n",
        "])\n",
        "sd.solve()\n"
      ],
      "execution_count": 365,
      "outputs": [
        {
          "output_type": "stream",
          "text": [
            "We found a solution:\n",
            "+---+---+---+\n",
            "|531|678|942|\n",
            "|674|295|318|\n",
            "|298|341|567|\n",
            "+---+---+---+\n",
            "|859|167|423|\n",
            "|426|853|791|\n",
            "|713|924|856|\n",
            "+---+---+---+\n",
            "|165|739|284|\n",
            "|987|412|635|\n",
            "|342|586|179|\n",
            "+---+---+---+\n"
          ],
          "name": "stdout"
        },
        {
          "output_type": "execute_result",
          "data": {
            "text/plain": [
              "<__main__.Sudoku at 0x7f078098fac8>"
            ]
          },
          "metadata": {
            "tags": []
          },
          "execution_count": 365
        }
      ]
    },
    {
      "cell_type": "markdown",
      "metadata": {
        "deletable": false,
        "editable": false,
        "nbgrader": {
          "checksum": "54e26fd3d76ba578da64a4906ebd3f4e",
          "grade": false,
          "grade_id": "cell-f9c27508bc89948b",
          "locked": true,
          "schema_version": 1,
          "solution": false
        },
        "id": "vl5SXYPqM32G"
      },
      "source": [
        "It works, search with constraint propagation solved the Sudoku puzzle!"
      ]
    },
    {
      "cell_type": "markdown",
      "metadata": {
        "deletable": false,
        "editable": false,
        "nbgrader": {
          "checksum": "dda96ccd35ab4a58fba0d83813db759b",
          "grade": false,
          "grade_id": "cell-305aace5d016910e",
          "locked": true,
          "schema_version": 1,
          "solution": false
        },
        "id": "K8vJwH6lM32G"
      },
      "source": [
        "## The choice - constraint propagation - recursion paradigm.\n",
        "\n",
        "We have learned a general strategy for solving difficult problems.  The strategy can be summarized thus: **choice - constraint propagation - recursion.** \n",
        "\n",
        "In the _choice_ step, we make one guess from a set of possible guesses.  If we want our search for a solution to be exhaustive, as in the above Sudoku example, we ensure that we try iteratively all choices from a set of choices chosen so that at least one of them must succeed.  In the above example, we know that at least one of the digit values must be the true one, hence our search is exhaustive.  In other cases, we can trade off exhaustiveness for efficiency, and we may try only a few choices, guided perhaps by an heuristic. \n",
        "\n",
        "The _constraint propagation_ step propagates the consequences of the choice to the problem.  Each choice thus gives rise to a new problem, which is a little bit simpler than the original one as some of the possible choices, that is, some of its complexity, has been removed.  In the Sudoku case, the new problem has less indetermination, as at least one more of its cells has a known digit in it. \n",
        "\n",
        "The problems resulting from _constraint propagation_, while simpler, may not be solved yet.  Hence, we _recur_, calling the solution procedure on them as well.  As these problems are simpler (they contain fewer choices), eventually the recursion must reach a point where no more choice is possible, and whether constraint propagation should yield a completely defined problem, one of which it is possible to say whether it is solvable or not with a trivial test.  This forms the base case for the recursion. \n",
        "\n",
        "This solution strategy applies very generally, to problems well beyond Sudoku."
      ]
    },
    {
      "cell_type": "markdown",
      "metadata": {
        "deletable": false,
        "editable": false,
        "nbgrader": {
          "checksum": "ab9008993ab1e424c3b47988a4b71826",
          "grade": false,
          "grade_id": "cell-a8df5611e2e85163",
          "locked": true,
          "schema_version": 1,
          "solution": false
        },
        "id": "7SyUsqAqM32H"
      },
      "source": [
        "## Part 2: Digits must go somewhere\n",
        "\n",
        "If you have played Sudoku before, you might have found the way we solved Sudoku puzzles a bit odd. \n",
        "The constraint we encoded is: \n",
        "\n",
        "> If a digit appears in a cell, it cannot appear anywhere else on the same row, column, or 3x3 block as the cell. \n",
        "\n",
        "This _is_ a rule of Sudoku.  Normally, however, we hear Sudoku described in a different way:\n",
        "\n",
        "> Every column, row, and 3x3 block should contain all the 1...9 digits exactly once.\n",
        "\n",
        "There are two questions.  The first is: are the two definitions equivalent? \n",
        "Well, no; the first definition does not say what the digits are (e.g., does not rule out 0).  But in our Sudoku representation, we _start_ by saying that every cell can contain only one of 1...9.  If every row (or column, or 3x3 block) cannot contain more than one repetition of each digit, and if there are 9 digits and 9 cells in the row (or column, or block), then clearly every digit must appear exactly once in the row (or column, or block).  So once the set of digits is specified, the two definitions are equivalent. \n",
        "\n",
        "The second question is: but still, what happens to the method we usually employ to solve Sudoku? \n",
        "I generally don't solve Sudoku puzzles by focusing on one cell at a time, and thinking: is it the case that this call can contain only one digit? \n",
        "This is the strategy employed by the solver above.  But it is not the strategy I normally use. \n",
        "I generally solve Sudoku puzzles by looking at a block (or row, or column), and thinking: let's consider the digit $k$ ($1 \\leq k \\leq 9$).  Where can it go in the block?  And if I find that the digit can go in one block cell only, I write it there.  \n",
        "Does the solver work even without this \"where can it go\" strategy?  And can we make it follow it? \n",
        "\n",
        "The solver works even without the \"where can it go\" strategy because it exaustively tries all possibilities.  This means the solver works without the strategy; it does not say that the solver works _well_ without the strategy. \n",
        "\n",
        "We can certainly implement the _where can it go_ strategy, as part of constraint propagation; it would make our solver more efficient. \n"
      ]
    },
    {
      "cell_type": "markdown",
      "metadata": {
        "deletable": false,
        "editable": false,
        "nbgrader": {
          "checksum": "3134dad2ecb444342510670f91698a26",
          "grade": false,
          "grade_id": "cell-2a163e6eda3fc3cc",
          "locked": true,
          "schema_version": 1,
          "solution": false
        },
        "id": "VlIjeE3ZM32H"
      },
      "source": [
        "## Question 3: A better `full_propagation` method\n",
        "### Not a real question; just copy some previous code into a new method.\n",
        "There is a subtle point in applying the _where can it go_ heuristics. \n",
        "\n",
        "Before, when our only constraint was the uniqueness in each row, column, and block, we needed to propagate only from cells that hold a singleton value. \n",
        "If a cell held a non-singleton set of digits, such as $\\{2, 5\\}$, no values could be ruled out as a consequence of this on the same row, column, or block. \n",
        "\n",
        "The _where can it go_ heuristic, instead, benefits from knowing that in a cell, the set of values went for instance from $\\{2, 3, 5\\}$ to $\\{2, 5\\}$: by ruling out the possibility of a $3$ in this cell, it may be possibe to deduct that the digit $3$ can appear in only one (other) place in the block, and place it there. \n",
        "\n",
        "Thus, we modify the `full_propagation` method.  The method does:\n",
        "* Repeat:\n",
        "  * first does propagation as before, based on singletons; \n",
        "  * then, it applies the _where can it go_ heuristic on the whole Sudoku board. \n",
        "* until there is nothing more that can be propagated. \n",
        "\n",
        "Thus, we replace the `full_propagation` method previously defined with this new one, where the (A) block of code is what you previously wrote in `full_propagation`.\n",
        "You don't need to write new code here: just copy your solution for `full_propagation` into the (A) block below. "
      ]
    },
    {
      "cell_type": "code",
      "metadata": {
        "deletable": false,
        "nbgrader": {
          "checksum": "2917aa2e18b68e2df6b7f60df58f5184",
          "grade": false,
          "grade_id": "cell-940dd336f8ce0836",
          "locked": false,
          "schema_version": 1,
          "solution": true
        },
        "id": "V4wIzi3BM32H"
      },
      "source": [
        "### Exercise: define full propagation with where can it go\n",
        "\n",
        "def sudoku_full_propagation_with_where_can_it_go(self, to_propagate=None):\n",
        "    \"\"\"Iteratively propagates from all singleton cells, and from all\n",
        "    newly discovered singleton cells, until no more propagation is possible.\"\"\"\n",
        "    if to_propagate is None:\n",
        "        to_propagate = {(i, j) for i in range(9) for j in range(9)}\n",
        "    while len(to_propagate) > 0:\n",
        "        # Here is your previous solution code from (A) in full_propagation.\n",
        "        # Please copy it below.\n",
        "        # YOUR CODE HERE\n",
        "        while len(to_propagate)>0:\n",
        "            cells=to_propagate.pop()\n",
        "            propagated_cells=self.propagate_cell(cells)\n",
        "            to_propagate=to_propagate|propagated_cells\n",
        "        \n",
        "\n",
        "        # Now we check whether there is any other propagation that we can\n",
        "        # get from the where can it go rule.\n",
        "        to_propagate = self.where_can_it_go()\n",
        "\n"
      ],
      "execution_count": 366,
      "outputs": []
    },
    {
      "cell_type": "markdown",
      "metadata": {
        "deletable": false,
        "editable": false,
        "nbgrader": {
          "checksum": "3c07ebb05e8944fbca00e9d5bc1abf3d",
          "grade": false,
          "grade_id": "cell-e7e942ed1c70bffe",
          "locked": true,
          "schema_version": 1,
          "solution": false
        },
        "id": "SkdbvH1sM32H"
      },
      "source": [
        "## Question 4: Implement the `occurs_once_in_sets` helper"
      ]
    },
    {
      "cell_type": "markdown",
      "metadata": {
        "deletable": false,
        "editable": false,
        "nbgrader": {
          "checksum": "6fe2aa31cbcf882d747215c6393ab971",
          "grade": false,
          "grade_id": "cell-a9c05b01c9d2dc52",
          "locked": true,
          "schema_version": 1,
          "solution": false
        },
        "id": "cHlPuOwdM32H"
      },
      "source": [
        "To implement the `where_can_it_go` method, let us write a helper function, or better, let's have you write it.  Given a sequence of sets $S_1, S_2, \\ldots, S_n$, we want to obtain the set of elements that appear in _exactly one_ of the sets (that is, they appear in one set, and _only_ in one set).   Mathematically, we can write this as \n",
        "$$\n",
        "(S_1 \\setminus (S_2 \\cup \\cdots \\cup S_n)) \\cup (S_2 \\setminus (S_1 \\cup S_3 \\cup \\cdots \\cup S_n)) \\cup \\cdots \\cup\n",
        "(S_n \\setminus (S_1 \\cup \\cdots \\cup S_{n-1}))\n",
        "$$\n",
        "even though that's certainly not the easiest way to compute it!\n",
        "The problem can be solved with the help of [defaultdict](https://docs.python.org/3/library/collections.html#collections.defaultdict!) to count the occurrences, and is 5 lines long.\n",
        "Of course, other solutions are possible as well. \n"
      ]
    },
    {
      "cell_type": "code",
      "metadata": {
        "deletable": false,
        "nbgrader": {
          "checksum": "563bf07eb1cfa4378a35e7b3ac6c4160",
          "grade": false,
          "grade_id": "cell-9f0737bfd5d1edf6",
          "locked": false,
          "schema_version": 1,
          "solution": true
        },
        "id": "NymPH55-M32H"
      },
      "source": [
        "### Exercise: define helper function to check once-only occurrence\n",
        "\n",
        "from collections import defaultdict\n",
        "\n",
        "def occurs_once_in_sets(set_sequence):\n",
        "    \"\"\"Returns the elements that occur only once in the sequence of sets set_sequence.\n",
        "    The elements are returned as a set.\"\"\"\n",
        "    # YOUR CODE HERE\n",
        "    elements=[]\n",
        "    for sets in set_sequence:\n",
        "        for i in sets:\n",
        "            elements.append(i)  \n",
        "    count=defaultdict(int)\n",
        "    for n in elements:\n",
        "        count[n]+=1\n",
        "    once_elements=set()\n",
        "    for n in elements:\n",
        "        if count[n]==1:\n",
        "            once_elements.add(n)\n",
        "    return once_elements\n",
        "\n"
      ],
      "execution_count": 367,
      "outputs": []
    },
    {
      "cell_type": "code",
      "metadata": {
        "deletable": false,
        "nbgrader": {
          "checksum": "1ea7c5802dcb4f21076564af9a9efe06",
          "grade": false,
          "grade_id": "cell-14c7c9ed82e904c0",
          "locked": false,
          "schema_version": 1,
          "solution": true
        },
        "id": "T2PIyalRM32H"
      },
      "source": [
        "# Here you can write your own tests if you like. \n",
        "\n",
        "# YOUR CODE HERE"
      ],
      "execution_count": 368,
      "outputs": []
    },
    {
      "cell_type": "markdown",
      "metadata": {
        "deletable": false,
        "editable": false,
        "nbgrader": {
          "checksum": "f49892bd818a2304b0e9f2d323ad66e3",
          "grade": false,
          "grade_id": "cell-844954a86c0828cf",
          "locked": true,
          "schema_version": 1,
          "solution": false
        },
        "id": "JiQcG0GeM32H"
      },
      "source": [
        "Let us test it."
      ]
    },
    {
      "cell_type": "code",
      "metadata": {
        "deletable": false,
        "editable": false,
        "nbgrader": {
          "checksum": "0de25efa3f83f8e819f42aa76dbf9f3a",
          "grade": true,
          "grade_id": "cell-d9ee2758716b0152",
          "locked": true,
          "points": 10,
          "schema_version": 1,
          "solution": false
        },
        "id": "yDXjHf3aM32H"
      },
      "source": [
        "### 10 points: Tests for once-only\n",
        "\n",
        "from nose.tools import assert_equal\n",
        "\n",
        "assert_equal(occurs_once_in_sets([{1, 2}, {2, 3}]), {1, 3})\n",
        "assert_equal(occurs_once_in_sets([]), set())\n",
        "assert_equal(occurs_once_in_sets([{2, 3, 4}]), {2, 3, 4})\n",
        "assert_equal(occurs_once_in_sets([set()]), set())\n",
        "assert_equal(occurs_once_in_sets([{2, 3, 4, 5, 6}, {5, 6, 7, 8}, {5, 6, 7}, {4, 6, 7}]), {2, 3, 8})\n",
        "\n"
      ],
      "execution_count": 369,
      "outputs": []
    },
    {
      "cell_type": "markdown",
      "metadata": {
        "deletable": false,
        "editable": false,
        "nbgrader": {
          "checksum": "5ac8acb0181e09b10bab5125c36c75ef",
          "grade": false,
          "grade_id": "cell-d3e7dae9b06497ff",
          "locked": true,
          "schema_version": 1,
          "solution": false
        },
        "id": "UFjsnU0VM32H"
      },
      "source": [
        "## Question 5: Implement _where can it go_. \n",
        "\n",
        "We are now ready to write -- or better, to have you write -- the _where can it go_ method.  \n",
        "The method is global: it examines all rows, all columns, and all blocks.  \n",
        "If it finds that in a row (or column, or block), a value can fit in only one cell, and that cell is not currently a singleton (for otherwise there is nothing to be done), it sets the value in the cell, and it adds the cell to the newly_singleton set that is returned, just as in propagate_cell. \n",
        "The portion of method that you need to write is about two dozen lines of code long."
      ]
    },
    {
      "cell_type": "code",
      "metadata": {
        "deletable": false,
        "nbgrader": {
          "checksum": "94fdcc1c2ae52fe766c1eb0a1df33155",
          "grade": false,
          "grade_id": "cell-9ade6414caf1a374",
          "locked": false,
          "schema_version": 1,
          "solution": true
        },
        "id": "NH9I7rCwM32H"
      },
      "source": [
        "### Exercise: write where_can_it_go\n",
        "\n",
        "def sudoku_where_can_it_go(self):\n",
        "    \"\"\"Sets some cell values according to the where can it go\n",
        "    heuristics, by examining all rows, colums, and blocks.\"\"\"\n",
        "    newly_singleton = set()\n",
        "\n",
        "    # YOUR CODE HERE\n",
        "    #row(i)\n",
        "    for i in range(9):\n",
        "        elements_sets=self.m[i]\n",
        "        occurs_once_sets=occurs_once_in_sets(elements_sets)\n",
        "        for occurs_once in occurs_once_sets:\n",
        "            for j in range(9): # Find the position of occurs once elements\n",
        "                if occurs_once in self.m[i][j] and len(self.m[i][j])>1: \n",
        "                # If in somewhere in the matrix and is not singleton\n",
        "                    self.m[i][j]={occurs_once}                                                \n",
        "                    newly_singleton.add((i, j))\n",
        "    #column(j)\n",
        "    for j in range(9):\n",
        "        elements_sets=[]\n",
        "        for i in range(9):\n",
        "            elements_sets.append(self.m[i][j])\n",
        "        occurs_once_sets=occurs_once_in_sets(elements_sets)\n",
        "        for occurs_once in occurs_once_sets:\n",
        "            for i in range(9): # Find the position of occurs once elements\n",
        "                if occurs_once in self.m[i][j] and len(self.m[i][j])>1: \n",
        "                # If in somewhere in the matrix and is not singleton\n",
        "                    self.m[i][j]={occurs_once}                                                 \n",
        "                    newly_singleton.add((i, j))\n",
        "    #3*3\n",
        "    for i0 in range(0,9,3):\n",
        "        for j0 in range(0,9,3):\n",
        "            elements_sets=[]\n",
        "            for i in range(3):\n",
        "                for j in range(3):\n",
        "                    elements_sets.append(self.m[i+i0][j+j0])\n",
        "            occurs_once_sets=occurs_once_in_sets(elements_sets)\n",
        "            for occurs_once in occurs_once_sets:\n",
        "                for i in range(3): \n",
        "                    for j in range(3): # Find the position of occurs once elements\n",
        "                        if occurs_once in self.m[i+i0][j+j0] and len(self.m[i+i0][j+j0])>1: \n",
        "                        # If in somewhere in the matrix and is not singleton\n",
        "                            self.m[i+i0][j+j0]={occurs_once}                                                 \n",
        "                            newly_singleton.add((i+i0, j+j0))\n",
        "\n",
        "\n",
        "    \n",
        "\n",
        "\n",
        "\n",
        "\n",
        "\n",
        "\n",
        "    # Returns the list of newly-singleton cells.\n",
        "    return newly_singleton\n",
        "\n",
        "Sudoku.where_can_it_go = sudoku_where_can_it_go\n"
      ],
      "execution_count": 370,
      "outputs": []
    },
    {
      "cell_type": "code",
      "metadata": {
        "deletable": false,
        "nbgrader": {
          "checksum": "67d229ce5dfc61bc2982bf708875811e",
          "grade": false,
          "grade_id": "cell-97e00eb346b723ee",
          "locked": false,
          "schema_version": 1,
          "solution": true
        },
        "id": "JsDeQkOfM32H"
      },
      "source": [
        "# Here you can write your own tests if you like. \n",
        "\n",
        "# YOUR CODE HERE"
      ],
      "execution_count": 371,
      "outputs": []
    },
    {
      "cell_type": "markdown",
      "metadata": {
        "deletable": false,
        "editable": false,
        "nbgrader": {
          "checksum": "95c1bbb794630b8d57748c2b7e3de6b8",
          "grade": false,
          "grade_id": "cell-adbadd736183d93d",
          "locked": true,
          "schema_version": 1,
          "solution": false
        },
        "id": "prPekhPFM32H"
      },
      "source": [
        "Let us test it.  We cannot test this code in one iteration only, since its result may depend on the order in which you apply the method to rows and columns. \n",
        "Rather, we apply the method until it can determine no more cell values."
      ]
    },
    {
      "cell_type": "code",
      "metadata": {
        "deletable": false,
        "editable": false,
        "nbgrader": {
          "checksum": "b923cc103ab839a02d255dd6bab0e0c0",
          "grade": true,
          "grade_id": "cell-af67367ad75158d9",
          "locked": true,
          "points": 20,
          "schema_version": 1,
          "solution": false
        },
        "colab": {
          "base_uri": "https://localhost:8080/"
        },
        "id": "TQsNji0nM32I",
        "outputId": "46db468c-cb81-4ef0-9ba7-8ce9a60a81b8"
      },
      "source": [
        "### Tests for where can it go\n",
        "\n",
        "sd = Sudoku.from_string('[[[5], [3], [1, 2, 4], [1, 2, 6], [7], [1, 2, 6, 8], [4, 8, 9], [1, 2, 4], [2, 8]], [[6], [1, 4, 7], [1, 2, 4, 7], [1, 2, 3], [9], [5], [3, 4, 8], [1, 2, 4], [2, 7, 8]], [[1, 2], [9], [8], [1, 2, 3], [4], [1, 2], [3, 5], [6], [2, 7]], [[8], [1, 5], [1, 5, 9], [1, 7, 9], [6], [1, 4, 7, 9], [4, 5], [2, 4, 5], [3]], [[4], [2], [6], [8], [5], [3], [7], [9], [1]], [[7], [1, 5], [1, 3, 5, 9], [1, 9], [2], [1, 4, 9], [4, 5, 8], [4, 5], [6]], [[1, 9], [6], [1, 5, 7, 9], [5, 7, 9], [3], [7, 9], [2], [8], [4]], [[2, 9], [7, 8], [2, 7, 9], [4], [1], [2, 7, 9], [6], [3], [5]], [[2, 3], [4, 5], [2, 3, 4, 5], [2, 5, 6], [8], [2, 6], [1], [7], [9]]]')\n",
        "print(\"Original:\")\n",
        "sd.show(details=True)\n",
        "new_singletons = set()\n",
        "while True:\n",
        "    new_s = sd.where_can_it_go()\n",
        "    if len(new_s) == 0:\n",
        "        break\n",
        "    new_singletons |= new_s\n",
        "assert_equal(new_singletons,\n",
        "             {(3, 2), (2, 6), (7, 1), (5, 6), (2, 8), (8, 0), (0, 5), (1, 6),\n",
        "              (2, 3), (3, 7), (0, 3), (5, 1), (0, 8), (8, 5), (5, 3), (5, 5),\n",
        "              (8, 1), (5, 7), (3, 1), (0, 6), (1, 8), (3, 6), (5, 2), (1, 1)})\n",
        "print(\"After where can it go:\")\n",
        "sd.show(details=True)\n",
        "sdd = Sudoku.from_string('[[[5], [3], [1, 2, 4], [6], [7], [8], [9], [1, 2, 4], [2]], [[6], [7], [1, 2, 4, 7], [1, 2, 3], [9], [5], [3], [1, 2, 4], [8]], [[1, 2], [9], [8], [3], [4], [1, 2], [5], [6], [7]], [[8], [5], [9], [1, 9, 7], [6], [1, 4, 9, 7], [4], [2], [3]], [[4], [2], [6], [8], [5], [3], [7], [9], [1]], [[7], [1], [3], [9], [2], [4], [8], [5], [6]], [[1, 9], [6], [1, 5, 9, 7], [9, 5, 7], [3], [9, 7], [2], [8], [4]], [[9, 2], [8], [9, 2, 7], [4], [1], [9, 2, 7], [6], [3], [5]], [[3], [4], [2, 3, 4, 5], [2, 5, 6], [8], [6], [1], [7], [9]]]')\n",
        "print(\"The above should be equal to:\")\n",
        "sdd.show(details=True)\n",
        "assert_equal(sd, sdd)\n",
        "\n",
        "sd = Sudoku([\n",
        "    '___26_7_1',\n",
        "    '68__7____',\n",
        "    '1____45__',\n",
        "    '82_1___4_',\n",
        "    '__46_2___',\n",
        "    '_5___3_28',\n",
        "    '___3___74',\n",
        "    '_4__5__36',\n",
        "    '7_3_18___'\n",
        "])\n",
        "print(\"Another Original:\")\n",
        "sd.show(details=True)\n",
        "print(\"Propagate once:\")\n",
        "sd.propagate_all_cells_once()\n",
        "# sd.show(details=True)\n",
        "new_singletons = set()\n",
        "while True:\n",
        "    new_s = sd.where_can_it_go()\n",
        "    if len(new_s) == 0:\n",
        "        break\n",
        "    new_singletons |= new_s\n",
        "print(\"After where can it go:\")\n",
        "sd.show(details=True)\n",
        "sdd = Sudoku.from_string('[[[4], [3], [5], [2], [6], [9], [7], [8], [1]], [[6], [8], [2], [5], [7], [1], [4], [9], [3]], [[1], [9], [7], [8], [3], [4], [5], [6], [2]], [[8], [2], [6], [1], [9], [5], [3], [4], [7]], [[3], [7], [4], [6], [8], [2], [9], [1], [5]], [[9], [5], [1], [7], [4], [3], [6], [2], [8]], [[5], [1], [1, 2, 5, 6, 8, 9], [3], [2], [6], [1, 2, 8, 9], [7], [4]], [[2], [4], [1, 2, 8, 9], [9], [5], [7], [1, 2, 8, 9], [3], [6]], [[7], [6], [3], [4], [1], [8], [2], [5], [9]]]')\n",
        "print(\"The above should be equal to:\")\n",
        "sdd.show(details=True)\n",
        "assert_equal(sd, sdd)\n",
        "\n"
      ],
      "execution_count": 372,
      "outputs": [
        {
          "output_type": "stream",
          "text": [
            "Original:\n",
            "+-----------------------------+-----------------------------+-----------------------------+\n",
            "|____5____ __3______ 12_4_____|12___6___ ______7__ 12___6_8_|___4___89 12_4_____ _2_____8_|\n",
            "|_____6___ 1__4__7__ 12_4__7__|123______ ________9 ____5____|__34___8_ 12_4_____ _2____78_|\n",
            "|12_______ ________9 _______8_|123______ ___4_____ 12_______|__3_5____ _____6___ _2____7__|\n",
            "+-----------------------------+-----------------------------+-----------------------------+\n",
            "|_______8_ 1___5____ 1___5___9|1_____7_9 _____6___ 1__4__7_9|___45____ _2_45____ __3______|\n",
            "|___4_____ _2_______ _____6___|_______8_ ____5____ __3______|______7__ ________9 1________|\n",
            "|______7__ 1___5____ 1_3_5___9|1_______9 _2_______ 1__4____9|___45__8_ ___45____ _____6___|\n",
            "+-----------------------------+-----------------------------+-----------------------------+\n",
            "|1_______9 _____6___ 1___5_7_9|____5_7_9 __3______ ______7_9|_2_______ _______8_ ___4_____|\n",
            "|_2______9 ______78_ _2____7_9|___4_____ 1________ _2____7_9|_____6___ __3______ ____5____|\n",
            "|_23______ ___45____ _2345____|_2__56___ _______8_ _2___6___|1________ ______7__ ________9|\n",
            "+-----------------------------+-----------------------------+-----------------------------+\n",
            "After where can it go:\n",
            "+-----------------------------+-----------------------------+-----------------------------+\n",
            "|____5____ __3______ 12_4_____|_____6___ ______7__ _______8_|________9 12_4_____ _2_______|\n",
            "|_____6___ ______7__ 12_4__7__|123______ ________9 ____5____|__3______ 12_4_____ _______8_|\n",
            "|12_______ ________9 _______8_|__3______ ___4_____ 12_______|____5____ _____6___ ______7__|\n",
            "+-----------------------------+-----------------------------+-----------------------------+\n",
            "|_______8_ ____5____ ________9|1_____7_9 _____6___ 1__4__7_9|___4_____ _2_______ __3______|\n",
            "|___4_____ _2_______ _____6___|_______8_ ____5____ __3______|______7__ ________9 1________|\n",
            "|______7__ 1________ __3______|________9 _2_______ ___4_____|_______8_ ____5____ _____6___|\n",
            "+-----------------------------+-----------------------------+-----------------------------+\n",
            "|1_______9 _____6___ 1___5_7_9|____5_7_9 __3______ ______7_9|_2_______ _______8_ ___4_____|\n",
            "|_2______9 _______8_ _2____7_9|___4_____ 1________ _2____7_9|_____6___ __3______ ____5____|\n",
            "|__3______ ___4_____ _2345____|_2__56___ _______8_ _____6___|1________ ______7__ ________9|\n",
            "+-----------------------------+-----------------------------+-----------------------------+\n",
            "The above should be equal to:\n",
            "+-----------------------------+-----------------------------+-----------------------------+\n",
            "|____5____ __3______ 12_4_____|_____6___ ______7__ _______8_|________9 12_4_____ _2_______|\n",
            "|_____6___ ______7__ 12_4__7__|123______ ________9 ____5____|__3______ 12_4_____ _______8_|\n",
            "|12_______ ________9 _______8_|__3______ ___4_____ 12_______|____5____ _____6___ ______7__|\n",
            "+-----------------------------+-----------------------------+-----------------------------+\n",
            "|_______8_ ____5____ ________9|1_____7_9 _____6___ 1__4__7_9|___4_____ _2_______ __3______|\n",
            "|___4_____ _2_______ _____6___|_______8_ ____5____ __3______|______7__ ________9 1________|\n",
            "|______7__ 1________ __3______|________9 _2_______ ___4_____|_______8_ ____5____ _____6___|\n",
            "+-----------------------------+-----------------------------+-----------------------------+\n",
            "|1_______9 _____6___ 1___5_7_9|____5_7_9 __3______ ______7_9|_2_______ _______8_ ___4_____|\n",
            "|_2______9 _______8_ _2____7_9|___4_____ 1________ _2____7_9|_____6___ __3______ ____5____|\n",
            "|__3______ ___4_____ _2345____|_2__56___ _______8_ _____6___|1________ ______7__ ________9|\n",
            "+-----------------------------+-----------------------------+-----------------------------+\n",
            "Another Original:\n",
            "+-----------------------------+-----------------------------+-----------------------------+\n",
            "|123456789 123456789 123456789|_2_______ _____6___ 123456789|______7__ 123456789 1________|\n",
            "|_____6___ _______8_ 123456789|123456789 ______7__ 123456789|123456789 123456789 123456789|\n",
            "|1________ 123456789 123456789|123456789 123456789 ___4_____|____5____ 123456789 123456789|\n",
            "+-----------------------------+-----------------------------+-----------------------------+\n",
            "|_______8_ _2_______ 123456789|1________ 123456789 123456789|123456789 ___4_____ 123456789|\n",
            "|123456789 123456789 ___4_____|_____6___ 123456789 _2_______|123456789 123456789 123456789|\n",
            "|123456789 ____5____ 123456789|123456789 123456789 __3______|123456789 _2_______ _______8_|\n",
            "+-----------------------------+-----------------------------+-----------------------------+\n",
            "|123456789 123456789 123456789|__3______ 123456789 123456789|123456789 ______7__ ___4_____|\n",
            "|123456789 ___4_____ 123456789|123456789 ____5____ 123456789|123456789 __3______ _____6___|\n",
            "|______7__ 123456789 __3______|123456789 1________ _______8_|123456789 123456789 123456789|\n",
            "+-----------------------------+-----------------------------+-----------------------------+\n",
            "Propagate once:\n",
            "After where can it go:\n",
            "+-----------------------------+-----------------------------+-----------------------------+\n",
            "|___4_____ __3______ ____5____|_2_______ _____6___ ________9|______7__ _______8_ 1________|\n",
            "|_____6___ _______8_ _2_______|____5____ ______7__ 1________|___4_____ ________9 __3______|\n",
            "|1________ ________9 ______7__|_______8_ __3______ ___4_____|____5____ _____6___ _2_______|\n",
            "+-----------------------------+-----------------------------+-----------------------------+\n",
            "|_______8_ _2_______ _____6___|1________ ________9 ____5____|__3______ ___4_____ ______7__|\n",
            "|__3______ ______7__ ___4_____|_____6___ _______8_ _2_______|________9 1________ ____5____|\n",
            "|________9 ____5____ 1________|______7__ ___4_____ __3______|_____6___ _2_______ _______8_|\n",
            "+-----------------------------+-----------------------------+-----------------------------+\n",
            "|____5____ 1________ 12__56_89|__3______ _2_______ _____6___|12_____89 ______7__ ___4_____|\n",
            "|_2_______ ___4_____ 12_____89|________9 ____5____ ______7__|12_____89 __3______ _____6___|\n",
            "|______7__ _____6___ __3______|___4_____ 1________ _______8_|_2_______ ____5____ ________9|\n",
            "+-----------------------------+-----------------------------+-----------------------------+\n",
            "The above should be equal to:\n",
            "+-----------------------------+-----------------------------+-----------------------------+\n",
            "|___4_____ __3______ ____5____|_2_______ _____6___ ________9|______7__ _______8_ 1________|\n",
            "|_____6___ _______8_ _2_______|____5____ ______7__ 1________|___4_____ ________9 __3______|\n",
            "|1________ ________9 ______7__|_______8_ __3______ ___4_____|____5____ _____6___ _2_______|\n",
            "+-----------------------------+-----------------------------+-----------------------------+\n",
            "|_______8_ _2_______ _____6___|1________ ________9 ____5____|__3______ ___4_____ ______7__|\n",
            "|__3______ ______7__ ___4_____|_____6___ _______8_ _2_______|________9 1________ ____5____|\n",
            "|________9 ____5____ 1________|______7__ ___4_____ __3______|_____6___ _2_______ _______8_|\n",
            "+-----------------------------+-----------------------------+-----------------------------+\n",
            "|____5____ 1________ 12__56_89|__3______ _2_______ _____6___|12_____89 ______7__ ___4_____|\n",
            "|_2_______ ___4_____ 12_____89|________9 ____5____ ______7__|12_____89 __3______ _____6___|\n",
            "|______7__ _____6___ __3______|___4_____ 1________ _______8_|_2_______ ____5____ ________9|\n",
            "+-----------------------------+-----------------------------+-----------------------------+\n"
          ],
          "name": "stdout"
        }
      ]
    },
    {
      "cell_type": "markdown",
      "metadata": {
        "deletable": false,
        "editable": false,
        "nbgrader": {
          "checksum": "92016e2bd36fd36ab501cb41a5577362",
          "grade": false,
          "grade_id": "cell-1da6bd2e538d04a7",
          "locked": true,
          "schema_version": 1,
          "solution": false
        },
        "id": "pbOmt-c0M32I"
      },
      "source": [
        "Let us try it now on a real probem. Note from before that this Sudoku instance could not be solved via propagate_cells alone:"
      ]
    },
    {
      "cell_type": "code",
      "metadata": {
        "deletable": false,
        "editable": false,
        "nbgrader": {
          "checksum": "6c0019ff0046f86caa9b85eb71b91a75",
          "grade": false,
          "grade_id": "cell-4e8812962b1eb9aa",
          "locked": true,
          "schema_version": 1,
          "solution": false
        },
        "id": "YgaxPF0DM32I",
        "colab": {
          "base_uri": "https://localhost:8080/"
        },
        "outputId": "b100500b-c290-4685-aa01-6f77424a486a"
      },
      "source": [
        "sd = Sudoku(sd_partially_solved)\n",
        "newly_singleton = sd.where_can_it_go()\n",
        "print(\"Newly singleton:\", newly_singleton)\n",
        "print(\"Resulting Sudoku:\")\n",
        "sd.show(details=True)\n"
      ],
      "execution_count": 373,
      "outputs": [
        {
          "output_type": "stream",
          "text": [
            "Newly singleton: {(3, 2), (2, 6), (7, 1), (5, 6), (2, 8), (8, 0), (5, 7), (0, 6), (0, 5), (1, 6), (3, 6), (3, 7), (0, 3), (5, 2), (1, 1)}\n",
            "Resulting Sudoku:\n",
            "+-----------------------------+-----------------------------+-----------------------------+\n",
            "|____5____ __3______ 12_4_____|_____6___ ______7__ _______8_|________9 12_4_____ _2_____8_|\n",
            "|_____6___ ______7__ 12_4__7__|123______ ________9 ____5____|__3______ 12_4_____ _2____78_|\n",
            "|12_______ ________9 _______8_|123______ ___4_____ 12_______|____5____ _____6___ ______7__|\n",
            "+-----------------------------+-----------------------------+-----------------------------+\n",
            "|_______8_ 1___5____ ________9|1_____7_9 _____6___ 1__4__7_9|___4_____ _2_______ __3______|\n",
            "|___4_____ _2_______ _____6___|_______8_ ____5____ __3______|______7__ ________9 1________|\n",
            "|______7__ 1___5____ __3______|1_______9 _2_______ 1__4____9|_______8_ ____5____ _____6___|\n",
            "+-----------------------------+-----------------------------+-----------------------------+\n",
            "|1_______9 _____6___ 1___5_7_9|____5_7_9 __3______ ______7_9|_2_______ _______8_ ___4_____|\n",
            "|_2______9 _______8_ _2____7_9|___4_____ 1________ _2____7_9|_____6___ __3______ ____5____|\n",
            "|__3______ ___45____ _2345____|_2__56___ _______8_ _2___6___|1________ ______7__ ________9|\n",
            "+-----------------------------+-----------------------------+-----------------------------+\n"
          ],
          "name": "stdout"
        }
      ]
    },
    {
      "cell_type": "markdown",
      "metadata": {
        "deletable": false,
        "editable": false,
        "nbgrader": {
          "checksum": "44e54d1465c5aa4c7260bba564e7bf06",
          "grade": false,
          "grade_id": "cell-5ed278d69132bc8a",
          "locked": true,
          "schema_version": 1,
          "solution": false
        },
        "id": "6Lioduf2M32I"
      },
      "source": [
        "As we can see, the heuristics led to substantial progress.   Let us incorporate it in the Sudoku solver. "
      ]
    },
    {
      "cell_type": "code",
      "metadata": {
        "deletable": false,
        "editable": false,
        "nbgrader": {
          "checksum": "d91a8402a2904ceb55439800a48e42ef",
          "grade": false,
          "grade_id": "cell-bf3f6d962beb6b03",
          "locked": true,
          "schema_version": 1,
          "solution": false
        },
        "id": "lhojoEzYM32I"
      },
      "source": [
        "Sudoku.full_propagation = sudoku_full_propagation_with_where_can_it_go\n"
      ],
      "execution_count": 374,
      "outputs": []
    },
    {
      "cell_type": "markdown",
      "metadata": {
        "deletable": false,
        "editable": false,
        "nbgrader": {
          "checksum": "5a9afb5fff93888608330ad7ee9c39e0",
          "grade": false,
          "grade_id": "cell-9eea8046cc62f03f",
          "locked": true,
          "schema_version": 1,
          "solution": false
        },
        "id": "qtVzPprWM32I"
      },
      "source": [
        "Let us try again to solve a Sudoku example which, as we saw before, could not be solved by constrain propagation only (without using the _where can it go_ heuristics).  Can we solve it now via constraint propagation?"
      ]
    },
    {
      "cell_type": "code",
      "metadata": {
        "deletable": false,
        "editable": false,
        "nbgrader": {
          "checksum": "f8f1ad24474c6fbd9d69a81ced0f4111",
          "grade": false,
          "grade_id": "cell-133a1a9756b38a92",
          "locked": true,
          "schema_version": 1,
          "solution": false
        },
        "id": "UH_4gYy1M32I",
        "colab": {
          "base_uri": "https://localhost:8080/"
        },
        "outputId": "a70c3666-4173-450c-b736-89254656e432"
      },
      "source": [
        "sd = Sudoku([\n",
        "    '53__7____',\n",
        "    '6___95___',\n",
        "    '_98____6_',\n",
        "    '8___6___3',\n",
        "    '4__8_3__1',\n",
        "    '7___2___6',\n",
        "    '_6____28_',\n",
        "    '___41___5',\n",
        "    '____8__79'\n",
        "])\n",
        "print(\"Initial:\")\n",
        "sd.show()\n",
        "sd.full_propagation()\n",
        "print(\"After full propagation with where can it go:\")\n",
        "sd.show()\n"
      ],
      "execution_count": 375,
      "outputs": [
        {
          "output_type": "stream",
          "text": [
            "Initial:\n",
            "+---+---+---+\n",
            "|53.|.7.|...|\n",
            "|6..|.95|...|\n",
            "|.98|...|.6.|\n",
            "+---+---+---+\n",
            "|8..|.6.|..3|\n",
            "|4..|8.3|..1|\n",
            "|7..|.2.|..6|\n",
            "+---+---+---+\n",
            "|.6.|...|28.|\n",
            "|...|41.|..5|\n",
            "|...|.8.|.79|\n",
            "+---+---+---+\n",
            "After full propagation with where can it go:\n",
            "+---+---+---+\n",
            "|53.|678|9.2|\n",
            "|67.|.95|3.8|\n",
            "|.98|34.|567|\n",
            "+---+---+---+\n",
            "|859|.6.|423|\n",
            "|426|853|791|\n",
            "|713|924|856|\n",
            "+---+---+---+\n",
            "|.6.|.3.|284|\n",
            "|.8.|41.|635|\n",
            "|34.|.86|179|\n",
            "+---+---+---+\n"
          ],
          "name": "stdout"
        }
      ]
    },
    {
      "cell_type": "markdown",
      "metadata": {
        "deletable": false,
        "editable": false,
        "nbgrader": {
          "checksum": "2528b4a197bb1da1d1017f0757272bfc",
          "grade": false,
          "grade_id": "cell-65eb6a97ffb32428",
          "locked": true,
          "schema_version": 1,
          "solution": false
        },
        "id": "Y4v4l3FQM32I"
      },
      "source": [
        "No!  We still cannot! But if we compare the above with the previous attempt, we see that the heuristic led to much more progress; very few positions still remain to be determined via search. "
      ]
    },
    {
      "cell_type": "markdown",
      "metadata": {
        "deletable": false,
        "editable": false,
        "nbgrader": {
          "checksum": "b3ddad18cecaa1ab92c541bc78fd51b0",
          "grade": false,
          "grade_id": "cell-4f07cfa36044eb1a",
          "locked": true,
          "schema_version": 1,
          "solution": false
        },
        "id": "xlbBedOkM32I"
      },
      "source": [
        "## Question 6: Solving some problems from example sites\n",
        "\n",
        "Let us see how long it takes us to solve examples found around the Web. \n",
        "We consider a few from [this site](https://dingo.sbs.arizona.edu/~sandiway/sudoku/examples.html).\n",
        "You should be able to complete all of these tests in a short amount of time. "
      ]
    },
    {
      "cell_type": "code",
      "metadata": {
        "deletable": false,
        "editable": false,
        "nbgrader": {
          "checksum": "db12b648bbd224f7e6aad3c93024b659",
          "grade": false,
          "grade_id": "cell-b748a9d7b998ccb1",
          "locked": true,
          "schema_version": 1,
          "solution": false
        },
        "id": "ZDn5F2xLM32I"
      },
      "source": [
        "import time\n"
      ],
      "execution_count": 376,
      "outputs": []
    },
    {
      "cell_type": "markdown",
      "metadata": {
        "deletable": false,
        "editable": false,
        "nbgrader": {
          "checksum": "60abbc6df0dd5ce2e624961a0bfd0b4c",
          "grade": false,
          "grade_id": "cell-81aecc7eb0dc272d",
          "locked": true,
          "schema_version": 1,
          "solution": false
        },
        "id": "y26QuvDEM32I"
      },
      "source": [
        "### Daily Telegraph January 19th \"Diabolical\"\n",
        "\n"
      ]
    },
    {
      "cell_type": "code",
      "metadata": {
        "deletable": false,
        "editable": false,
        "nbgrader": {
          "checksum": "4bb7812d3cbd83fdb608d6ccf2242cc3",
          "grade": true,
          "grade_id": "cell-f21c8884bfe258ea",
          "locked": true,
          "points": 5,
          "schema_version": 1,
          "solution": false
        },
        "id": "pakzBaq2M32I",
        "colab": {
          "base_uri": "https://localhost:8080/"
        },
        "outputId": "9d485ef8-7aaf-4302-d924-f6dfaf66eae4"
      },
      "source": [
        "# 5 points: You need to do this in less than 5. \n",
        "\n",
        "sd = Sudoku([\n",
        "    '_2_6_8___',\n",
        "    '58___97__',\n",
        "    '____4____',\n",
        "    '37____5__',\n",
        "    '6_______4',\n",
        "    '__8____13',\n",
        "    '____2____',\n",
        "    '__98___36',\n",
        "    '___3_6_9_'\n",
        "])\n",
        "t = time.time()\n",
        "sd.solve()\n",
        "elapsed = time.time() - t\n",
        "print(\"Solved in\", elapsed, \"seconds\")\n",
        "\n",
        "assert elapsed < 5"
      ],
      "execution_count": 377,
      "outputs": [
        {
          "output_type": "stream",
          "text": [
            "We found a solution:\n",
            "+---+---+---+\n",
            "|123|678|945|\n",
            "|584|239|761|\n",
            "|967|145|328|\n",
            "+---+---+---+\n",
            "|372|461|589|\n",
            "|691|583|274|\n",
            "|458|792|613|\n",
            "+---+---+---+\n",
            "|836|924|157|\n",
            "|219|857|436|\n",
            "|745|316|892|\n",
            "+---+---+---+\n",
            "Solved in 0.006636857986450195 seconds\n"
          ],
          "name": "stdout"
        }
      ]
    },
    {
      "cell_type": "markdown",
      "metadata": {
        "deletable": false,
        "editable": false,
        "nbgrader": {
          "checksum": "591d98201ab2c2a800a21ded9d565575",
          "grade": false,
          "grade_id": "cell-1a9ae785b525a858",
          "locked": true,
          "schema_version": 1,
          "solution": false
        },
        "id": "kQboxSLtM32I"
      },
      "source": [
        "### Vegard Hanssen puzzle 2155141"
      ]
    },
    {
      "cell_type": "code",
      "metadata": {
        "deletable": false,
        "editable": false,
        "nbgrader": {
          "checksum": "3a237387efbf3cb021c5d81d70328f26",
          "grade": true,
          "grade_id": "cell-de239964954e29c9",
          "locked": true,
          "points": 5,
          "schema_version": 1,
          "solution": false
        },
        "id": "hkgwMMJEM32I",
        "colab": {
          "base_uri": "https://localhost:8080/"
        },
        "outputId": "c5553110-a777-419c-c939-1c71fa154319"
      },
      "source": [
        "# 5 points: you need to do this in less than 5 seconds.\n",
        "\n",
        "sd = Sudoku([\n",
        "    '___6__4__',\n",
        "    '7____36__',\n",
        "    '____91_8_',\n",
        "    '_________',\n",
        "    '_5_18___3',\n",
        "    '___3_6_45',\n",
        "    '_4_2___6_',\n",
        "    '9_3______',\n",
        "    '_2____1__'\n",
        "])\n",
        "t = time.time()\n",
        "sd.solve()\n",
        "elapsed = time.time() - t\n",
        "print(\"Solved in\", elapsed, \"seconds\")\n",
        "assert elapsed < 5"
      ],
      "execution_count": 378,
      "outputs": [
        {
          "output_type": "stream",
          "text": [
            "We found a solution:\n",
            "+---+---+---+\n",
            "|581|672|439|\n",
            "|792|843|651|\n",
            "|364|591|782|\n",
            "+---+---+---+\n",
            "|438|957|216|\n",
            "|256|184|973|\n",
            "|179|326|845|\n",
            "+---+---+---+\n",
            "|845|219|367|\n",
            "|913|768|524|\n",
            "|627|435|198|\n",
            "+---+---+---+\n",
            "Solved in 0.038094282150268555 seconds\n"
          ],
          "name": "stdout"
        }
      ]
    },
    {
      "cell_type": "markdown",
      "metadata": {
        "deletable": false,
        "editable": false,
        "nbgrader": {
          "checksum": "2ad8445548c388f80ca5991713b9e2fd",
          "grade": false,
          "grade_id": "cell-e420fe240cceb545",
          "locked": true,
          "schema_version": 1,
          "solution": false
        },
        "id": "CeY64jFvM32I"
      },
      "source": [
        "### A supposedly even harder one\n",
        "\n",
        "[source](http://www.sudokuwiki.org/Weekly_Sudoku.asp?puz=28)"
      ]
    },
    {
      "cell_type": "code",
      "metadata": {
        "deletable": false,
        "editable": false,
        "nbgrader": {
          "checksum": "a89e6fc6376e0fe58fad502265dcd3f1",
          "grade": true,
          "grade_id": "cell-3c4e52eb6fd15e87",
          "locked": true,
          "points": 5,
          "schema_version": 1,
          "solution": false
        },
        "id": "OyqxllO5M32I",
        "colab": {
          "base_uri": "https://localhost:8080/"
        },
        "outputId": "27bf9035-06c1-452e-c9a0-4aca486a8cb3"
      },
      "source": [
        "# 5 points: you need to do this in less than 10 seconds. \n",
        "\n",
        "sd = Sudoku([\n",
        "    '6____894_',\n",
        "    '9____61__',\n",
        "    '_7__4____',\n",
        "    '2__61____',\n",
        "    '______2__',\n",
        "    '_89__2___',\n",
        "    '____6___5',\n",
        "    '_______3_',\n",
        "    '8____16__'\n",
        "])\n",
        "t = time.time()\n",
        "sd.solve()\n",
        "elapsed = time.time() - t\n",
        "print(\"Solved in\", elapsed, \"seconds\")\n",
        "assert elapsed < 10"
      ],
      "execution_count": 379,
      "outputs": [
        {
          "output_type": "stream",
          "text": [
            "We found a solution:\n",
            "+---+---+---+\n",
            "|625|178|943|\n",
            "|948|326|157|\n",
            "|371|945|862|\n",
            "+---+---+---+\n",
            "|257|619|384|\n",
            "|463|587|291|\n",
            "|189|432|576|\n",
            "+---+---+---+\n",
            "|792|863|415|\n",
            "|516|294|738|\n",
            "|834|751|629|\n",
            "+---+---+---+\n",
            "Solved in 0.5102922916412354 seconds\n"
          ],
          "name": "stdout"
        }
      ]
    },
    {
      "cell_type": "markdown",
      "metadata": {
        "deletable": false,
        "editable": false,
        "nbgrader": {
          "checksum": "12f9ddc7dc82b2919f581fa26ad90d30",
          "grade": false,
          "grade_id": "cell-f565bf2d2f86c8e3",
          "locked": true,
          "schema_version": 1,
          "solution": false
        },
        "id": "5Y0ssNzNM32I"
      },
      "source": [
        "## Trying puzzles in bulk\n",
        "\n",
        "Let us try the puzzles found at [https://raw.githubusercontent.com/shadaj/sudoku/master/sudoku17.txt](https://raw.githubusercontent.com/shadaj/sudoku/master/sudoku17.txt); apparently lines 517 and 6361 are very hard). "
      ]
    },
    {
      "cell_type": "code",
      "metadata": {
        "deletable": false,
        "editable": false,
        "nbgrader": {
          "checksum": "b57acf87dea7e0c2d1b233653371bf6c",
          "grade": false,
          "grade_id": "cell-2c0b6226e2aec0eb",
          "locked": true,
          "schema_version": 1,
          "solution": false
        },
        "id": "3Er4XPcrM32I"
      },
      "source": [
        "import requests\n",
        "\n",
        "r = requests.get(\"https://raw.githubusercontent.com/shadaj/sudoku/master/sudoku17.txt\")\n",
        "puzzles = r.text.split()\n"
      ],
      "execution_count": 380,
      "outputs": []
    },
    {
      "cell_type": "markdown",
      "metadata": {
        "deletable": false,
        "editable": false,
        "nbgrader": {
          "checksum": "96a0866682a55dd4ac0c557b073257e6",
          "grade": false,
          "grade_id": "cell-35dd0a5c09b9e542",
          "locked": true,
          "schema_version": 1,
          "solution": false
        },
        "id": "-0BpUtAsM32I"
      },
      "source": [
        "Let us convert these puzzles to our format."
      ]
    },
    {
      "cell_type": "code",
      "metadata": {
        "deletable": false,
        "editable": false,
        "nbgrader": {
          "checksum": "5b4a286c7647a7a30cfd95da73a56100",
          "grade": false,
          "grade_id": "cell-6c0de7feec6166c5",
          "locked": true,
          "schema_version": 1,
          "solution": false
        },
        "id": "QD1hGS-BM32I"
      },
      "source": [
        "def convert_to_our_format(s):\n",
        "    t = s.replace('0', '_')\n",
        "    r = []\n",
        "    for i in range(9):\n",
        "        r.append(t[i * 9: (i + 1) * 9])\n",
        "    return r\n"
      ],
      "execution_count": 381,
      "outputs": []
    },
    {
      "cell_type": "markdown",
      "metadata": {
        "deletable": false,
        "editable": false,
        "nbgrader": {
          "checksum": "dfa0d55daaf773ca852ac5589196a444",
          "grade": false,
          "grade_id": "cell-886afacee135508f",
          "locked": true,
          "schema_version": 1,
          "solution": false
        },
        "id": "fpid1Na7M32J"
      },
      "source": [
        "You need to solve these tests efficiently."
      ]
    },
    {
      "cell_type": "code",
      "metadata": {
        "deletable": false,
        "editable": false,
        "nbgrader": {
          "checksum": "d670f50f0b4b00e3f88e6add40c7f8af",
          "grade": true,
          "grade_id": "cell-28f9c6ef4bd62c17",
          "locked": true,
          "points": 5,
          "schema_version": 1,
          "solution": false
        },
        "id": "3WFx33VPM32J",
        "colab": {
          "base_uri": "https://localhost:8080/"
        },
        "outputId": "710f7d3d-9343-4d6c-bb7d-941031173b61"
      },
      "source": [
        "# 5 points: you need to solve the first 1000 Sudokus in less than 30 seconds.\n",
        "\n",
        "t = 0\n",
        "max_d = 0.\n",
        "max_i = None\n",
        "t = time.time()\n",
        "for i, s in enumerate(puzzles[:1000]):\n",
        "    p = convert_to_our_format(puzzles[i])\n",
        "    sd = Sudoku(p)\n",
        "    sd.solve(do_print=False)\n",
        "elapsed = time.time() - t\n",
        "print(\"It took you\", elapsed, \"to solve the first 1000 Sudokus.\")\n",
        "assert elapsed < 30"
      ],
      "execution_count": 382,
      "outputs": [
        {
          "output_type": "stream",
          "text": [
            "It took you 10.534757614135742 to solve the first 1000 Sudokus.\n"
          ],
          "name": "stdout"
        }
      ]
    }
  ]
}