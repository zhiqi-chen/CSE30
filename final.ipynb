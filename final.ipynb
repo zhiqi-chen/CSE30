{
  "nbformat": 4,
  "nbformat_minor": 0,
  "metadata": {
    "colab": {
      "name": "final.ipynb",
      "provenance": [],
      "collapsed_sections": []
    },
    "kernelspec": {
      "display_name": "Python 3",
      "language": "python",
      "name": "python3"
    },
    "language_info": {
      "codemirror_mode": {
        "name": "ipython",
        "version": 3
      },
      "file_extension": ".py",
      "mimetype": "text/x-python",
      "name": "python",
      "nbconvert_exporter": "python",
      "pygments_lexer": "ipython3",
      "version": "3.7.3"
    },
    "test_info": {
      "id": "e2eea3a2b6179b40daf798ea76f45f5d6b722267"
    }
  },
  "cells": [
    {
      "cell_type": "markdown",
      "metadata": {
        "id": "g4aZVlv4iyZw"
      },
      "source": [
        "Before you turn this problem in, make sure everything runs as expected. First, **restart the kernel** (in the menubar, select Kernel$\\rightarrow$Restart) and then **run all cells** (in the menubar, select Cell$\\rightarrow$Run All).\n",
        "\n",
        "Make sure you fill in any place that says `YOUR CODE HERE` or \"YOUR ANSWER HERE\", as well as your name and collaborators below:"
      ]
    },
    {
      "cell_type": "code",
      "metadata": {
        "id": "NtNSiIlIiyZ6"
      },
      "source": [
        "NAME = \"Zhiqi Chen\"\n",
        "COLLABORATORS = \"\""
      ],
      "execution_count": 186,
      "outputs": []
    },
    {
      "cell_type": "markdown",
      "metadata": {
        "id": "gwOWJ366iyZ8"
      },
      "source": [
        "---"
      ]
    },
    {
      "cell_type": "markdown",
      "metadata": {
        "deletable": false,
        "editable": false,
        "nbgrader": {
          "checksum": "a83484c4072d29c835156491de5b8ee0",
          "grade": false,
          "grade_id": "cell-57aae62eb3ce2b72",
          "locked": true,
          "schema_version": 1,
          "solution": false
        },
        "id": "2CrEGsr5iyZ8"
      },
      "source": [
        "# Final: From Sudoku to SAT\n",
        "\n",
        "Copyright Luca de Alfaro, 2020.  License: [CC-BY-NC-ND](https://creativecommons.org/licenses/by-nc-nd/4.0/)."
      ]
    },
    {
      "cell_type": "markdown",
      "metadata": {
        "id": "GegUMfS1iyZ9"
      },
      "source": [
        "## Submission\n",
        "\n",
        "[Please submit to this Google Form](https://docs.google.com/forms/d/e/1FAIpQLSeblJI6NYAMxl2V-4Ww2a_UvfHGGH8HLDMIiAMXSdBI2JCeUQ/viewform?usp=sf_link).\n",
        "\n",
        "Deadline: Thursday, December 17, 11pm.\n",
        "Unfortunately, **no extensions are possible** due to the fact the grades are due Monday/Tuesday of the week after. "
      ]
    },
    {
      "cell_type": "markdown",
      "metadata": {
        "id": "e9-wowF-iyZ9"
      },
      "source": [
        "## Format\n",
        "\n",
        "There are 8 questions, each worth 10 points, except for the last which is worth 20 points."
      ]
    },
    {
      "cell_type": "markdown",
      "metadata": {
        "deletable": false,
        "editable": false,
        "nbgrader": {
          "checksum": "8cea5d5bb3383509043e562512248b97",
          "grade": false,
          "grade_id": "cell-d1a708327ed33eb7",
          "locked": true,
          "schema_version": 1,
          "solution": false
        },
        "id": "XkA9E9oMiyZ-"
      },
      "source": [
        "Sudoku is a search problem.  SAT is a prototypical search problem, and more precisely, SAT is perhaps the most basic of the _NP-Complete_ problems: the problems where, if you could only _guess_ the solution, you could _verify_ that it is truly a solution in time that is polynomial in the size of the problem (in case of SAT, the sum of the length of all the clauses). \n",
        "\n",
        "This opens the question: can we solve Sudoku, rather than by writing a special-purpose Sudoku solver, by translating the Sudoku problem to SAT, and using an off-the-shelf SAT solver?  There is a lot of research that went into developing efficient SAT solvers: would it be more efficient to use a custom solver, as we did, or to translate and rely on an off-the-shelf SAT solver?  Let's experiment. "
      ]
    },
    {
      "cell_type": "markdown",
      "metadata": {
        "deletable": false,
        "editable": false,
        "nbgrader": {
          "checksum": "5e04e52ccca7b6b5fdd6e96d093ac26f",
          "grade": false,
          "grade_id": "cell-6448a1302470d297",
          "locked": true,
          "schema_version": 1,
          "solution": false
        },
        "id": "NlQczNA-iyZ-"
      },
      "source": [
        "### Installing a SAT solver library"
      ]
    },
    {
      "cell_type": "markdown",
      "metadata": {
        "deletable": false,
        "editable": false,
        "nbgrader": {
          "checksum": "ef5f1074fe2065fb94fcfb3f793bcb2c",
          "grade": false,
          "grade_id": "cell-f4686ad5e29e95e3",
          "locked": true,
          "schema_version": 1,
          "solution": false
        },
        "id": "D_e8tm5iiyZ-"
      },
      "source": [
        "Let us install our library for SAT solvers.  Here is a link to the [pysat](https://pysathq.github.io/usage.html) documentation. "
      ]
    },
    {
      "cell_type": "code",
      "metadata": {
        "deletable": false,
        "editable": false,
        "nbgrader": {
          "checksum": "f88f78ea218eeb5792880ac760296fdc",
          "grade": false,
          "grade_id": "cell-de1948ca78597caa",
          "locked": true,
          "schema_version": 1,
          "solution": false
        },
        "id": "pwPTCDuWiyZ_"
      },
      "source": [
        "try:\n",
        "    import pysat\n",
        "except:\n",
        "    !pip install python-sat\n",
        "    import pysat\n"
      ],
      "execution_count": 187,
      "outputs": []
    },
    {
      "cell_type": "markdown",
      "metadata": {
        "deletable": false,
        "editable": false,
        "nbgrader": {
          "checksum": "135136913a0eb8988ee47696517903da",
          "grade": false,
          "grade_id": "cell-344b37ba680e041",
          "locked": true,
          "schema_version": 1,
          "solution": false
        },
        "id": "dDlJuQgeiyaA"
      },
      "source": [
        "Let us check that our solver works.  The Glucose solver is one of the solvers. "
      ]
    },
    {
      "cell_type": "code",
      "metadata": {
        "deletable": false,
        "editable": false,
        "nbgrader": {
          "checksum": "41e1a2950a56a8e05775967d515af46f",
          "grade": false,
          "grade_id": "cell-59f222b907871dac",
          "locked": true,
          "schema_version": 1,
          "solution": false
        },
        "colab": {
          "base_uri": "https://localhost:8080/"
        },
        "id": "RZ4K6zO-iyaA",
        "outputId": "11ec67a7-d306-413b-e594-eac4b5145fc4"
      },
      "source": [
        "from pysat.solvers import Glucose3\n",
        "g = Glucose3()\n",
        "g.add_clause([-1, 2])\n",
        "g.add_clause([-2, 3])\n",
        "print(g.solve())\n",
        "print(g.get_model())\n",
        "g.delete()\n"
      ],
      "execution_count": 188,
      "outputs": [
        {
          "output_type": "stream",
          "text": [
            "True\n",
            "[-1, -2, -3]\n"
          ],
          "name": "stdout"
        }
      ]
    },
    {
      "cell_type": "markdown",
      "metadata": {
        "deletable": false,
        "editable": false,
        "nbgrader": {
          "checksum": "c2e8146e0fe626dc33feddc07aa05855",
          "grade": false,
          "grade_id": "cell-7c3cc89294cb33f9",
          "locked": true,
          "schema_version": 1,
          "solution": false
        },
        "id": "396t7z2WiyaA"
      },
      "source": [
        "Rather than deleting the solver after use with `g.delete()`, it is better to use the solver within a `with` clause: this avoids the problem of forgetting to delete the solver after use. "
      ]
    },
    {
      "cell_type": "code",
      "metadata": {
        "deletable": false,
        "editable": false,
        "nbgrader": {
          "checksum": "44548767c5364a723fe58c2ced5d662f",
          "grade": false,
          "grade_id": "cell-9d6ed47a1728678b",
          "locked": true,
          "schema_version": 1,
          "solution": false
        },
        "colab": {
          "base_uri": "https://localhost:8080/"
        },
        "id": "clEsFvq7iyaB",
        "outputId": "c19ff148-1b0f-457d-9115-80015972b4f8"
      },
      "source": [
        "with Glucose3() as g:\n",
        "    g.add_clause([-1, 2])\n",
        "    g.add_clause([-2, 3])\n",
        "    print(g.solve())\n",
        "    print(g.get_model())\n"
      ],
      "execution_count": 189,
      "outputs": [
        {
          "output_type": "stream",
          "text": [
            "True\n",
            "[-1, -2, -3]\n"
          ],
          "name": "stdout"
        }
      ]
    },
    {
      "cell_type": "markdown",
      "metadata": {
        "deletable": false,
        "editable": false,
        "nbgrader": {
          "checksum": "e3a343b40d216de6e78ab3f6febc1209",
          "grade": false,
          "grade_id": "cell-7c6934229d6a0a6c",
          "locked": true,
          "schema_version": 1,
          "solution": false
        },
        "id": "7Zmdu-pUiyaB"
      },
      "source": [
        "There are also Glucose4, and Minisat22.  They all work in the same way. "
      ]
    },
    {
      "cell_type": "code",
      "metadata": {
        "deletable": false,
        "editable": false,
        "nbgrader": {
          "checksum": "e54d806b509baba3433841dcc9de9d7f",
          "grade": false,
          "grade_id": "cell-42b3ab657b35184d",
          "locked": true,
          "schema_version": 1,
          "solution": false
        },
        "colab": {
          "base_uri": "https://localhost:8080/"
        },
        "id": "8_INLx2YiyaC",
        "outputId": "4437331b-9c48-455e-ee14-9b6531c29b0e"
      },
      "source": [
        "from pysat.solvers import Glucose4, Minisat22\n",
        "with Minisat22() as g:\n",
        "    g.add_clause([-1, 2])\n",
        "    g.add_clause([-2, 3])\n",
        "    print(g.solve())\n",
        "    print(g.get_model())\n"
      ],
      "execution_count": 190,
      "outputs": [
        {
          "output_type": "stream",
          "text": [
            "True\n",
            "[-1, -2, -3]\n"
          ],
          "name": "stdout"
        }
      ]
    },
    {
      "cell_type": "markdown",
      "metadata": {
        "deletable": false,
        "editable": false,
        "nbgrader": {
          "checksum": "151a0bd6fb0ed2a1740ae5f8f1b54552",
          "grade": false,
          "grade_id": "cell-ce6ed7269215e04",
          "locked": true,
          "schema_version": 1,
          "solution": false
        },
        "id": "w58j8FhyiyaD"
      },
      "source": [
        "## A `SudokuViaSAT` class. \n",
        "\n",
        "The first thing we do is to write a Sudoku class that can represent a Sudoku problem to be solved.  Unlike our previosu representation, each cell here will contain either a digit 1..9, or 0, where 0 represents an unknown digit. \n",
        "We do not need to represent our solver's state of knowledge in terms of sets of digits, since the seach for a solution will be done in the SAT solver. \n",
        "\n",
        "The class has three methods, which we will fill in later: one for translating the Sudoku into a SAT instance, one for solving the SAT instance, and another one for using the solution to the SAT instance to fill in the unspecified cells of the Sudoku problem. \n",
        "\n",
        "Contrary to the previous approach, we keep the state of the board as a numpy array, of size 9 x 9; this will make indexing in the array a little bit more pleasant. \n",
        "The reason we could not use this representation earlier is that we wanted to associate with each cell a _set_ of digits, and sets are not pleasant to represent in Numpy; single digits are. "
      ]
    },
    {
      "cell_type": "code",
      "metadata": {
        "deletable": false,
        "nbgrader": {
          "checksum": "4bced3780e70b5eec7bf5cf9e2e1fb99",
          "grade": false,
          "grade_id": "cell-757d419cfb44d830",
          "locked": false,
          "schema_version": 1,
          "solution": true
        },
        "id": "H4m2kbjQiyaE"
      },
      "source": [
        "import numpy as np\n",
        "\n",
        "class SudokuViaSAT(object):\n",
        "\n",
        "    def __init__(self, sudoku_string):\n",
        "        \"\"\"\n",
        "        @param sudoku_string: an 81-long digit string: 0 represents an unknown\n",
        "            digit, and 1..9 represent the respective digit.\n",
        "        \"\"\"\n",
        "        assert len(sudoku_string) > 80\n",
        "        self.board = np.zeros((9, 9), dtype=np.uint8)\n",
        "        for i in range(9):\n",
        "            for j in range(9):\n",
        "                self.board[i, j] = int(sudoku_string[i * 9 + j])\n",
        "        self.sat = None # This will be the SAT instance.\n",
        "        # Perform here any other initialization you think you need.\n",
        "        # YOUR CODE HERE\n",
        "\n",
        "    def show(self):\n",
        "        \"\"\"Prints out the board.\"\"\"\n",
        "        print(\"+---+---+---+\")\n",
        "        for i in range(9):\n",
        "            r = '|'\n",
        "            for j in range(9):\n",
        "                r += \".\" if self.board[i, j] == 0 else str(self.board[i, j])\n",
        "                if (j + 1) % 3 == 0:\n",
        "                    r += \"|\"\n",
        "            print(r)\n",
        "            if (i + 1) % 3 == 0:\n",
        "                print(\"+---+---+---+\")\n"
      ],
      "execution_count": 191,
      "outputs": []
    },
    {
      "cell_type": "code",
      "metadata": {
        "deletable": false,
        "editable": false,
        "nbgrader": {
          "checksum": "0a933fe0d1af51a8e106e885bdac5c19",
          "grade": false,
          "grade_id": "cell-490b05394cf0ae31",
          "locked": true,
          "schema_version": 1,
          "solution": false
        },
        "colab": {
          "base_uri": "https://localhost:8080/"
        },
        "id": "oS0XBaPSiyaF",
        "outputId": "c206d160-7bc5-464b-ed1a-1083af75682d"
      },
      "source": [
        "problem = \"000000061350000000400050000020000800000601000000700000000080200600400000007000010\"\n",
        "sd = SudokuViaSAT(problem)\n",
        "sd.show()\n"
      ],
      "execution_count": 192,
      "outputs": [
        {
          "output_type": "stream",
          "text": [
            "+---+---+---+\n",
            "|...|...|.61|\n",
            "|35.|...|...|\n",
            "|4..|.5.|...|\n",
            "+---+---+---+\n",
            "|.2.|...|8..|\n",
            "|...|6.1|...|\n",
            "|...|7..|...|\n",
            "+---+---+---+\n",
            "|...|.8.|2..|\n",
            "|6..|4..|...|\n",
            "|..7|...|.1.|\n",
            "+---+---+---+\n"
          ],
          "name": "stdout"
        }
      ]
    },
    {
      "cell_type": "markdown",
      "metadata": {
        "deletable": false,
        "editable": false,
        "nbgrader": {
          "checksum": "e3ee60044b5341419e9a3f001211b2fb",
          "grade": false,
          "grade_id": "cell-53bf7a41e53e2408",
          "locked": true,
          "schema_version": 1,
          "solution": false
        },
        "id": "YXmbD9I6iyaF"
      },
      "source": [
        "## Variables\n",
        "\n",
        "We base our trasnslation of Sudoku into SAT on variables $p_{dij}$, where $p_{dij}$ expresses the fact that the digit $d$ appears at coordinates $(i, j)$. \n",
        "Since SAT solvers represent a variable by an integer, we will have that $p_{dij}$ is encoded simply using the integer $dij$ (in decimal notation), and the literal $\\bar{p}_{dij}$ will be encoded as $-dij$. \n",
        "\n",
        "For example, to express that digit 3 appears at coordinates 6, 7, we use the literal 367.  To express the negation of this, $\\bar{p}_{367}$, that is, that digit 3 _does not_ appear at coordinates 6, 7, we use the literal -367. \n",
        "\n",
        "We thus start by writing two helper functions, `encode_variable` and `decode_variable`, that go from $d, i, j$ to the corresponding integer, and vice versa.  \n",
        "We write one of them for you, and we ask you to write the other."
      ]
    },
    {
      "cell_type": "code",
      "metadata": {
        "deletable": false,
        "editable": false,
        "nbgrader": {
          "checksum": "f4a71fe65f2dc9d4a1f5b8cc71f0088e",
          "grade": false,
          "grade_id": "cell-1c7a6f43465f4f24",
          "locked": true,
          "schema_version": 1,
          "solution": false
        },
        "id": "1CkplOS-iyaG"
      },
      "source": [
        "def encode_variable(d, i, j):\n",
        "    \"\"\"This function creates the variable (the integer) representing the\n",
        "    fact that digit d appears in position i, j.\n",
        "    Of course, to obtain the complement variable, you can just negate\n",
        "    (take the negative) of the returned integer.\n",
        "    Note that it must be: 1 <= d <= 9, 0 <= i <= 8, 0 <= j <= 8.\"\"\"\n",
        "    assert 1 <= d <= 9\n",
        "    assert 0 <= i < 9\n",
        "    assert 0 <= j < 9\n",
        "    # The int() below seems useless, but it is not.  If d is a numpy.uint8,\n",
        "    # as an element of the board is, this int() ensures that the generated\n",
        "    # literal is a normal Python integer, as the SAT solvers expect.\n",
        "    return int(d * 100 + i * 10 + j)\n"
      ],
      "execution_count": 193,
      "outputs": []
    },
    {
      "cell_type": "code",
      "metadata": {
        "deletable": false,
        "editable": false,
        "nbgrader": {
          "checksum": "1f2795209534088caf168347be36ffbd",
          "grade": false,
          "grade_id": "cell-81365175fb38cc",
          "locked": true,
          "schema_version": 1,
          "solution": false
        },
        "id": "_jUu3VfKiyaG"
      },
      "source": [
        "# Let's define a testing helper.\n",
        "\n",
        "def check_equal(x, y, msg=None):\n",
        "    if x != y:\n",
        "        if msg is None:\n",
        "            print(\"Error:\")\n",
        "        else:\n",
        "            print(\"Error in\", msg, \":\")\n",
        "        print(\"    Your answer was:\", x)\n",
        "        print(\"    Correct answer: \", y)\n",
        "    assert x == y, \"%r and %r are different\" % (x, y)\n"
      ],
      "execution_count": 194,
      "outputs": []
    },
    {
      "cell_type": "code",
      "metadata": {
        "deletable": false,
        "editable": false,
        "nbgrader": {
          "checksum": "befa5ecffd0dfd3d02d08473007fdaf6",
          "grade": false,
          "grade_id": "cell-36f89d2403daf295",
          "locked": true,
          "schema_version": 1,
          "solution": false
        },
        "id": "fmugqhW-iyaH"
      },
      "source": [
        "check_equal(encode_variable(3, 6, 7), 367)\n"
      ],
      "execution_count": 195,
      "outputs": []
    },
    {
      "cell_type": "markdown",
      "metadata": {
        "deletable": false,
        "editable": false,
        "nbgrader": {
          "checksum": "a9dd8da24811cb4c147ca392d0cc58c4",
          "grade": false,
          "grade_id": "cell-2a302b8ce3034f75",
          "locked": true,
          "schema_version": 1,
          "solution": false
        },
        "id": "pUTOoBwBiyaH"
      },
      "source": [
        "## Question 1\n",
        "\n",
        "It's your turn now to write a function `decode_variable` that is the opposite of `encode_variable`. "
      ]
    },
    {
      "cell_type": "code",
      "metadata": {
        "deletable": false,
        "nbgrader": {
          "checksum": "e0f38884a8a26efdd8c143d046f0b7de",
          "grade": false,
          "grade_id": "cell-1166fd545df9b9f1",
          "locked": false,
          "schema_version": 1,
          "solution": true
        },
        "id": "ZzLZKl8MiyaI"
      },
      "source": [
        "def decode_variable(p):\n",
        "    \"\"\"Given an integer constructed as by _create_prediate above,\n",
        "    returns the tuple (d, i, j), where d is the digit, and i, j are\n",
        "    the cells where the digit is.  Returns None if the integer is out of\n",
        "    range.\n",
        "    Note that it must be: 1 <= d <= 9, 0 <= i <= 8, 0 <= j <= 8.\n",
        "    If this does not hold, return None.\n",
        "    Also return None if p is not in the range from 100, to 988 (the\n",
        "    highest and lowest values that p can assume).\n",
        "    Hint: modulo arithmetic via %, // is useful here!\"\"\"\n",
        "    # YOUR CODE HERE\n",
        "    if p<100 or p>988:\n",
        "        return None\n",
        "    else:\n",
        "        j=int(p%10)\n",
        "        if j<0 or j>8:\n",
        "            return None\n",
        "        i=int((p%100-j)/10)\n",
        "        if i<0 or i>8:\n",
        "            return None\n",
        "        d=int(((p%1000)-(p%100))/100)\n",
        "        if d<1 or d>9:\n",
        "            return None\n",
        "        return (d,i,j)\n"
      ],
      "execution_count": 196,
      "outputs": []
    },
    {
      "cell_type": "markdown",
      "metadata": {
        "deletable": false,
        "editable": false,
        "nbgrader": {
          "checksum": "ff05d25fe21f1c07736f5dbc67ada1d2",
          "grade": false,
          "grade_id": "cell-1e79c5a2009acc62",
          "locked": true,
          "schema_version": 1,
          "solution": false
        },
        "id": "jg7xaiOKiyaI"
      },
      "source": [
        "Let's test this. \n",
        "\n"
      ]
    },
    {
      "cell_type": "code",
      "metadata": {
        "deletable": false,
        "editable": false,
        "nbgrader": {
          "checksum": "94591840ac28d1e1d77cbed4aa3d080e",
          "grade": true,
          "grade_id": "cell-90d9b2b5df2d93b6",
          "locked": true,
          "points": 10,
          "schema_version": 1,
          "solution": false
        },
        "id": "X6nLIiRJiyaJ"
      },
      "source": [
        "for d in range(1, 10):\n",
        "    for i in range(9):\n",
        "        for j in range(9):\n",
        "            r = decode_variable(encode_variable(d, i, j))\n",
        "            check_equal((d, i, j), r)\n",
        "\n"
      ],
      "execution_count": 197,
      "outputs": []
    },
    {
      "cell_type": "markdown",
      "metadata": {
        "deletable": false,
        "editable": false,
        "nbgrader": {
          "checksum": "529876f99f83121794f471b4856f4d45",
          "grade": false,
          "grade_id": "cell-1680195844bdd7c1",
          "locked": true,
          "schema_version": 1,
          "solution": false
        },
        "id": "lIa0DcmeiyaJ"
      },
      "source": [
        "## Creating the clauses that represent a generic Sudoku problem\n",
        "\n",
        "The key to translating Sudoku to SAT consists in producing a list of clauses that encodes the rules of Sudoku.  We will create list of clauses expressing the following. \n",
        "Below, we have $1 \\leq d \\leq 9$, and $0 \\leq i, j \\leq 8$. \n",
        "\n",
        "1. At each cell $i, j$ at least one digit $d$ must appear.\n",
        "2. At each cell $i, j$, at most one digit $d$ must appear. \n",
        "* If a digit $d$ appears at cell $i, j$, the same digit $d$ will not appear elsewhere on: \n",
        "    3. The same column. \n",
        "    4. The same row. \n",
        "    5. The same 3x3 Sudoku block. \n",
        "\n",
        "Note that conditions 1 and 2 are obvious to a human, and were encoded implicitly in our Sudoku solver.  Our SAT solver, however, has no idea of what a variable like $p_{367}$ means, or that digit 3 appears in cell 6, 7; therefore, we must teach it that exactly one digit apppears in each cell, via clauses. \n",
        "\n",
        "As an example, you can say that at at least one digit appears in cell 6, 7 via the clause: \n",
        "\n",
        "$$\n",
        "[p_{167}, p_{267}, \\ldots, p_{967}]\n",
        "$$\n",
        "\n",
        "and you can say that if 2 appears in cell 67, then 3 does not apper in that same cell, via: \n",
        "\n",
        "$$\n",
        "[\\bar{p}_{267}, \\bar{p}_{367}] \\; . \n",
        "$$\n",
        "\n",
        "In literals ready for SAT, the latter is [-267, -367]. \n",
        "Similarly, to say that if a 2 appears at 6, 7, it does not appear on the same row at 6, 8, you would use the clause [-267, -268]. \n",
        "\n",
        "You will be creating these list of clauses below, for the cases 1, 2, 3, 4, 5 above. "
      ]
    },
    {
      "cell_type": "markdown",
      "metadata": {
        "deletable": false,
        "editable": false,
        "nbgrader": {
          "checksum": "cf56c610d7784df74fededf2677e5f7e",
          "grade": false,
          "grade_id": "cell-71f1999e53490864",
          "locked": true,
          "schema_version": 1,
          "solution": false
        },
        "id": "0u8k_00YiyaK"
      },
      "source": [
        "### 1. Cells contain at least one digit\n",
        "#### Question 2\n",
        "\n",
        "For each cell $i, j$, you have to create a clause stating that at least one $p_{dij}$ is true, for some $d$.  You can easily build it as the disjunction $p_{1ij} \\vee p_{2ij} \\vee \\cdots \\vee p_{9ij}$, corresponding to the clause:  \n",
        "\n",
        "$$\n",
        "[p_{1ij}, p_{2ij}, \\ldots, p_{9ij}] \\; . \n",
        "$$\n",
        "\n",
        "Of course, to generate the clause for the SAT solver, you have to encode the variables $p_{1ij}, p_{2ij}, \\ldots, p_{9ij}$ using `encode_variable`."
      ]
    },
    {
      "cell_type": "code",
      "metadata": {
        "deletable": false,
        "nbgrader": {
          "checksum": "288ff5f0d0a693ee5cc49f59bd3164ea",
          "grade": false,
          "grade_id": "cell-23c4c1d0e6e4de2b",
          "locked": false,
          "schema_version": 1,
          "solution": true
        },
        "id": "X-sOvFFHiyaK"
      },
      "source": [
        "def every_cell_contains_at_least_one_digit():\n",
        "    \"\"\"Returns a list of clauses, stating that every cell must contain\n",
        "    at least one digit.\"\"\"\n",
        "    # YOUR CODE HERE\n",
        "    clauses=[]\n",
        "    for i in range(9):\n",
        "        for j in range(9):\n",
        "            encode=[]\n",
        "            for d in range(1,10):\n",
        "                encode.append(encode_variable(d,i,j))\n",
        "            clauses.append(encode)\n",
        "    return clauses\n",
        "\n"
      ],
      "execution_count": 198,
      "outputs": []
    },
    {
      "cell_type": "markdown",
      "metadata": {
        "deletable": false,
        "editable": false,
        "nbgrader": {
          "checksum": "0228761d6b2ebe766daa3945e0be355b",
          "grade": false,
          "grade_id": "cell-84064230242ba02c",
          "locked": true,
          "schema_version": 1,
          "solution": false
        },
        "id": "li8E-DmziyaK"
      },
      "source": [
        "We test it with help of a SAT solver. "
      ]
    },
    {
      "cell_type": "code",
      "metadata": {
        "deletable": false,
        "editable": false,
        "nbgrader": {
          "checksum": "50ddbf34c449522131138e5e9a4efaaa",
          "grade": true,
          "grade_id": "cell-da0d51a85f65f188",
          "locked": true,
          "points": 10,
          "schema_version": 1,
          "solution": false
        },
        "id": "y_Q4sZXQiyaL"
      },
      "source": [
        "def prepare(g):\n",
        "    for c in every_cell_contains_at_least_one_digit():\n",
        "        g.add_clause(c)\n",
        "\n",
        "with Glucose3() as g:\n",
        "    prepare(g)\n",
        "    # This can be solved.\n",
        "    check_equal(g.solve(), True)\n",
        "    for d in range(1, 10):\n",
        "        # These clauses state that no digit appears at 4, 5.\n",
        "        # You can change the coordinates if you like.\n",
        "        g.add_clause([-encode_variable(d, 4, 5)])\n",
        "    check_equal(g.solve(), False)\n",
        "\n"
      ],
      "execution_count": 199,
      "outputs": []
    },
    {
      "cell_type": "markdown",
      "metadata": {
        "deletable": false,
        "editable": false,
        "nbgrader": {
          "checksum": "3ad33df2faaa4d346f5d056e949ad8be",
          "grade": false,
          "grade_id": "cell-7f86d436e5297ed2",
          "locked": true,
          "schema_version": 1,
          "solution": false
        },
        "id": "VuGcpGD3iyaL"
      },
      "source": [
        "### 2. Cells contain at most one digit\n",
        "\n",
        "#### Question 3\n",
        "\n",
        "Next, we need to express the fact that each cell can contain at most one digit $d$. \n",
        "The idea is to write clauses that say that if a cell $i,j$ contains a digit $d$, it does not contain a different digit $d'$. \n",
        "This is expressed by $p_{dij} \\rightarrow \\bar{p}_{d'ij}$ for all $0 \\leq i, j \\leq 8$ and all $1 \\leq d, d' \\leq 9$ with $d \\neq d'$.  In turn, the implication $p_{dij} \\rightarrow \\bar{p}_{d'ij}$ can be expressed as the clause \n",
        "\n",
        "$$\n",
        "[\\bar{p}_{dij}, \\bar{p}_{d'ij}] \\; , \n",
        "$$\n",
        "\n",
        "for all $0 \\leq i, j \\leq 8$ and all $1 \\leq d, d' \\leq 9$ with $d \\neq d'$. \n",
        "The clause says that either $d$ is not at $i,j$, or $d'$ is not at $i,j$: this ensures that $d, d'$ are not both at $i, j$.\n"
      ]
    },
    {
      "cell_type": "code",
      "metadata": {
        "deletable": false,
        "nbgrader": {
          "checksum": "62facb3f154a19345d2de02a7448fad9",
          "grade": false,
          "grade_id": "cell-4e48a0d99d160a1a",
          "locked": false,
          "schema_version": 1,
          "solution": true
        },
        "id": "cXSEOMutiyaM"
      },
      "source": [
        "def every_cell_contains_at_most_one_digit():\n",
        "    \"\"\"Returns a list of clauses, stating that every cell contains\n",
        "    at most one digit.\"\"\"\n",
        "    # YOUR CODE HERE\n",
        "    clauses=[]\n",
        "    for i in range(9):\n",
        "        for j in range(9):\n",
        "            for d in range(1,10): \n",
        "                for dd in range(1,10):\n",
        "                    if d!=dd:\n",
        "                        clauses.append([-encode_variable(d,i,j), -encode_variable(dd,i,j)])\n",
        "    return clauses\n"
      ],
      "execution_count": 200,
      "outputs": []
    },
    {
      "cell_type": "markdown",
      "metadata": {
        "deletable": false,
        "editable": false,
        "nbgrader": {
          "checksum": "c3d15089729201ab516e8023af89b1be",
          "grade": false,
          "grade_id": "cell-1925096dac97bbad",
          "locked": true,
          "schema_version": 1,
          "solution": false
        },
        "id": "XgPy7GACiyaP"
      },
      "source": [
        "We test this again with the help of a SAT solver. "
      ]
    },
    {
      "cell_type": "code",
      "metadata": {
        "deletable": false,
        "editable": false,
        "nbgrader": {
          "checksum": "eb648e945a9d6a133db4ff3665696d7e",
          "grade": true,
          "grade_id": "cell-7e4b139dacada42c",
          "locked": true,
          "points": 10,
          "schema_version": 1,
          "solution": false
        },
        "id": "1p2O3R0jiyaP"
      },
      "source": [
        "def prepare(g):\n",
        "    for c in every_cell_contains_at_most_one_digit():\n",
        "        g.add_clause(c)\n",
        "\n",
        "with Glucose3() as g:\n",
        "    prepare(g)\n",
        "    check_equal(g.solve(), True)\n",
        "    # This states that both 3 and 4 appear at position 6, 7.\n",
        "    g.add_clause([encode_variable(3, 6, 7)])\n",
        "    g.add_clause([encode_variable(4, 6, 7)])\n",
        "    check_equal(g.solve(), False)\n",
        "\n"
      ],
      "execution_count": 201,
      "outputs": []
    },
    {
      "cell_type": "markdown",
      "metadata": {
        "deletable": false,
        "editable": false,
        "nbgrader": {
          "checksum": "d85d97b968a184ce36f198149bbbf4a3",
          "grade": false,
          "grade_id": "cell-8b9e5c7ee66d2d27",
          "locked": true,
          "schema_version": 1,
          "solution": false
        },
        "id": "SigWtnJmiyaR"
      },
      "source": [
        "### 3. No identical digits in the same row\n",
        "\n",
        "#### Question 4\n",
        "\n",
        "We now need to experss one of the basic rules of Sudoku: a digit can appear in only one cell along a row. \n",
        "Precisely, for all rows $0 \\leq i \\leq 8$, and all digits $1 \\leq d \\leq 9$, we write \n",
        "\n",
        "$$\n",
        "    p_{dij} \\rightarrow \\bar{p}_{dij'}\n",
        "$$\n",
        "\n",
        "for all $0 \\leq j, j' \\leq 8$ with $j \\neq j'$. \n",
        "These implications stipulate that if digit $d$ is at position $j$ in the row, it cannot also be in position $j'$ with $j' \\neq j$. \n",
        "These implications can be translated into clauses with two literals, exactly as we did in point 2 above. "
      ]
    },
    {
      "cell_type": "code",
      "metadata": {
        "deletable": false,
        "nbgrader": {
          "checksum": "b993c3cf98c2cd7dfc4c14e2198063bc",
          "grade": false,
          "grade_id": "cell-4b28f627587bb1d9",
          "locked": false,
          "schema_version": 1,
          "solution": true
        },
        "id": "qoBMRNGUiyaR"
      },
      "source": [
        "def no_identical_digits_in_same_row():\n",
        "    \"\"\"Returns a list of clauses, stating that if a digit appears\n",
        "    in a cell, the same digit cannot appear elsewhere in the\n",
        "    same row, column, or 3x3 square.\"\"\"\n",
        "    # YOUR CODE HERE\n",
        "    clauses=[]\n",
        "    for i in range(9):\n",
        "        for d in range(1,10):\n",
        "            for j in range(9): \n",
        "                for jj in range(9):\n",
        "                    if j!=jj:\n",
        "                        clauses.append([-encode_variable(d,i,j), -encode_variable(d,i,jj)])\n",
        "    return clauses\n",
        "\n"
      ],
      "execution_count": 202,
      "outputs": []
    },
    {
      "cell_type": "code",
      "metadata": {
        "deletable": false,
        "editable": false,
        "nbgrader": {
          "checksum": "fd5b3b7c7f4de0df68bbc1878204662f",
          "grade": true,
          "grade_id": "cell-31b4f11d9f867122",
          "locked": true,
          "points": 10,
          "schema_version": 1,
          "solution": false
        },
        "id": "GbeutfjSiyaS"
      },
      "source": [
        "def prepare(g):\n",
        "    for c in no_identical_digits_in_same_row():\n",
        "        g.add_clause(c)\n",
        "\n",
        "with Glucose3() as g:\n",
        "    prepare(g)\n",
        "    check_equal(g.solve(), True)\n",
        "    # This states that 3 appears twice in row 5.\n",
        "    g.add_clause([encode_variable(3, 5, 7)])\n",
        "    g.add_clause([encode_variable(3, 5, 8)])\n",
        "    check_equal(g.solve(), False)\n",
        "\n",
        "# But columns are not forbidden.\n",
        "with Glucose3() as g:\n",
        "    prepare(g)\n",
        "    g.add_clause([encode_variable(3, 5, 7)])\n",
        "    g.add_clause([encode_variable(3, 2, 7)])\n",
        "    check_equal(g.solve(), True)\n",
        "\n"
      ],
      "execution_count": 203,
      "outputs": []
    },
    {
      "cell_type": "markdown",
      "metadata": {
        "deletable": false,
        "editable": false,
        "nbgrader": {
          "checksum": "a26a87902f73754f2967b844945c7532",
          "grade": false,
          "grade_id": "cell-df6e84f35522cc8a",
          "locked": true,
          "schema_version": 1,
          "solution": false
        },
        "id": "FX242ANqiyaS"
      },
      "source": [
        "### 4. No identical digits in the same column\n",
        "\n",
        "#### Question 5\n",
        "\n",
        "This is a similar idea to the above, but for columns. "
      ]
    },
    {
      "cell_type": "code",
      "metadata": {
        "deletable": false,
        "nbgrader": {
          "checksum": "d445778356dac2dbff2eaab7a8a952ad",
          "grade": false,
          "grade_id": "cell-b131d691a5252352",
          "locked": false,
          "schema_version": 1,
          "solution": true
        },
        "id": "swJ4lB1FiyaT"
      },
      "source": [
        "def no_identical_digits_in_same_column():\n",
        "    \"\"\"Returns a list of clauses, stating that if a digit appears\n",
        "    in a cell, the same digit cannot appear elsewhere in the\n",
        "    same row, column, or 3x3 square.\"\"\"\n",
        "    # YOUR CODE HERE\n",
        "    clauses=[]\n",
        "    for j in range(9):\n",
        "        for d in range(1,10):\n",
        "            for i in range(9): \n",
        "                for ii in range(9):\n",
        "                    if i!=ii:\n",
        "                        clauses.append([-encode_variable(d,i,j), -encode_variable(d,ii,j)])\n",
        "    return clauses\n"
      ],
      "execution_count": 204,
      "outputs": []
    },
    {
      "cell_type": "code",
      "metadata": {
        "deletable": false,
        "editable": false,
        "nbgrader": {
          "checksum": "15ab5a111b93dbd8154b003245e5b57e",
          "grade": true,
          "grade_id": "cell-b53cebe9f7bba5fd",
          "locked": true,
          "points": 10,
          "schema_version": 1,
          "solution": false
        },
        "id": "pBIW0H_5iyaU"
      },
      "source": [
        "def prepare(g):\n",
        "    for c in no_identical_digits_in_same_column():\n",
        "        g.add_clause(c)\n",
        "\n",
        "with Glucose3() as g:\n",
        "    prepare(g)\n",
        "    check_equal(g.solve(), True)\n",
        "    # This states that 3 appears twice in column 7.\n",
        "    g.add_clause([encode_variable(3, 5, 7)])\n",
        "    g.add_clause([encode_variable(3, 2, 7)])\n",
        "    check_equal(g.solve(), False)\n",
        "\n",
        "# But rows are not forbidden.\n",
        "with Glucose3() as g:\n",
        "    prepare(g)\n",
        "    g.add_clause([encode_variable(3, 5, 7)])\n",
        "    g.add_clause([encode_variable(3, 5, 8)])\n",
        "    check_equal(g.solve(), True)\n",
        "\n"
      ],
      "execution_count": 205,
      "outputs": []
    },
    {
      "cell_type": "markdown",
      "metadata": {
        "deletable": false,
        "editable": false,
        "nbgrader": {
          "checksum": "51d0d04dd743606434ded41da90cd767",
          "grade": false,
          "grade_id": "cell-169deace9376f50c",
          "locked": true,
          "schema_version": 1,
          "solution": false
        },
        "id": "FB8qKb3CiyaV"
      },
      "source": [
        "### 5. No identical digits in the same 3x3 block. \n",
        "\n",
        "#### Question 6\n",
        "\n",
        "The idea here is to state that if a digit $d$ appears at a position $i,j$ in a 3x3 Sudoku block, it does not appear in any other position $i',j'$ in the same 3x3 block, with $i \\neq i'$ or $j \\neq j'$. "
      ]
    },
    {
      "cell_type": "code",
      "metadata": {
        "deletable": false,
        "nbgrader": {
          "checksum": "9f9745c5c3520f757fb40ba3a795fa50",
          "grade": false,
          "grade_id": "cell-9cfa52555918e06d",
          "locked": false,
          "schema_version": 1,
          "solution": true
        },
        "id": "x4Ge5YnziyaV"
      },
      "source": [
        "def no_identical_digits_in_same_block():\n",
        "    \"\"\"Returns a list of clauses, stating that if a digit appears\n",
        "    in a cell, the same digit cannot appear elsewhere in the\n",
        "    same row, column, or 3x3 square.\"\"\"\n",
        "    # YOUR CODE HERE\n",
        "    clauses=[]\n",
        "    for i0 in (0,3,6):\n",
        "        for j0 in (0,3,6):\n",
        "            for d in range(1,10):\n",
        "                for i in range(i0,i0+3):\n",
        "                    for ii in range(i0,i0+3):\n",
        "                        for j in range(j0,j0+3):\n",
        "                            for jj in range(j0,j0+3):\n",
        "                                if i!=ii or j!=jj:\n",
        "                                    clauses.append([-encode_variable(d,i,j), -encode_variable(d,ii,jj)])\n",
        "    return clauses\n"
      ],
      "execution_count": 206,
      "outputs": []
    },
    {
      "cell_type": "code",
      "metadata": {
        "deletable": false,
        "editable": false,
        "nbgrader": {
          "checksum": "de00f4b4d4f2158dd6b339acc414db0e",
          "grade": true,
          "grade_id": "cell-34ebed6e05d7ff50",
          "locked": true,
          "points": 10,
          "schema_version": 1,
          "solution": false
        },
        "id": "SgdNKyEXiyaX"
      },
      "source": [
        "def prepare(g):\n",
        "    for c in no_identical_digits_in_same_block():\n",
        "        g.add_clause(c)\n",
        "\n",
        "with Glucose3() as g:\n",
        "    prepare(g)\n",
        "    check_equal(g.solve(), True)\n",
        "    # This states that 3 appears twice in top block\n",
        "    g.add_clause([encode_variable(3, 1, 1)])\n",
        "    g.add_clause([encode_variable(3, 1, 2)])\n",
        "    check_equal(g.solve(), False)\n",
        "\n",
        "# One more test.\n",
        "with Glucose3() as g:\n",
        "    prepare(g)\n",
        "    g.add_clause([encode_variable(3, 1, 1)])\n",
        "    g.add_clause([encode_variable(3, 2, 1)])\n",
        "    check_equal(g.solve(), False)\n",
        "\n",
        "# But different blocks are not forbidden.\n",
        "with Glucose3() as g:\n",
        "    prepare(g)\n",
        "    g.add_clause([encode_variable(3, 1, 1)])\n",
        "    g.add_clause([encode_variable(3, 5, 8)])\n",
        "    check_equal(g.solve(), True)\n",
        "\n"
      ],
      "execution_count": 207,
      "outputs": []
    },
    {
      "cell_type": "markdown",
      "metadata": {
        "deletable": false,
        "editable": false,
        "nbgrader": {
          "checksum": "2b0048e672ddca76ebfec9794054f257",
          "grade": false,
          "grade_id": "cell-1ce1297994bd1914",
          "locked": true,
          "schema_version": 1,
          "solution": false
        },
        "id": "ZQ_QcHwxiyaX"
      },
      "source": [
        "## Putting it all together: the rules of Sudoku. \n",
        "\n",
        "We put this all together into a function that creates the rules for Sudoku, in SAT notation."
      ]
    },
    {
      "cell_type": "code",
      "metadata": {
        "deletable": false,
        "editable": false,
        "nbgrader": {
          "checksum": "4bf56e7541f22997db893e4cdda24d04",
          "grade": false,
          "grade_id": "cell-2842049079b0ef52",
          "locked": true,
          "schema_version": 1,
          "solution": false
        },
        "id": "buvtFbE0iyaX"
      },
      "source": [
        "def sudoku_rules():\n",
        "    clauses = []\n",
        "    clauses.extend(every_cell_contains_at_least_one_digit())\n",
        "    clauses.extend(every_cell_contains_at_most_one_digit())\n",
        "    clauses.extend(no_identical_digits_in_same_row())\n",
        "    clauses.extend(no_identical_digits_in_same_column())\n",
        "    clauses.extend(no_identical_digits_in_same_block())\n",
        "    return clauses\n"
      ],
      "execution_count": 208,
      "outputs": []
    },
    {
      "cell_type": "markdown",
      "metadata": {
        "deletable": false,
        "editable": false,
        "nbgrader": {
          "checksum": "4c5c3444bf059fa8f705095f2b558ce0",
          "grade": false,
          "grade_id": "cell-862e4b9619472b4a",
          "locked": true,
          "schema_version": 1,
          "solution": false
        },
        "id": "vErDOsrPiyaY"
      },
      "source": [
        "And if we solve this, we have created a Sudoku problem! \n"
      ]
    },
    {
      "cell_type": "code",
      "metadata": {
        "deletable": false,
        "editable": false,
        "nbgrader": {
          "checksum": "8fd67d3ee89a502157d81147a95afb50",
          "grade": false,
          "grade_id": "cell-66e293842d533780",
          "locked": true,
          "schema_version": 1,
          "solution": false
        },
        "id": "Bg4GIyzniyaY"
      },
      "source": [
        "with Glucose3() as g:\n",
        "    for c in sudoku_rules():\n",
        "        g.add_clause(c)\n",
        "    check_equal(g.solve(), True)\n"
      ],
      "execution_count": 209,
      "outputs": []
    },
    {
      "cell_type": "markdown",
      "metadata": {
        "deletable": false,
        "editable": false,
        "nbgrader": {
          "checksum": "f859cb7ef9967de4fe521dcd3e71b5d7",
          "grade": false,
          "grade_id": "cell-cc805c109e24b2cf",
          "locked": true,
          "schema_version": 1,
          "solution": false
        },
        "id": "oOhpMoAdiyaY"
      },
      "source": [
        "If the test above does not pass, comment out some of the lines in the `sudoku_rules` function.  Try to determine which sets of clauses make the Sudoku rules unsolvable. "
      ]
    },
    {
      "cell_type": "markdown",
      "metadata": {
        "deletable": false,
        "editable": false,
        "nbgrader": {
          "checksum": "a278601a6413e1f9422a48304114f8db",
          "grade": false,
          "grade_id": "cell-93b9d74c91234ffa",
          "locked": true,
          "schema_version": 1,
          "solution": false
        },
        "id": "qJZbUmCDiyaY"
      },
      "source": [
        "## Question 7: Translating the initial state of the board into clauses\n",
        "\n",
        "We now need to translate the intial state of the board into clauses.  This is easy to do: whenever the board contains a (known) digit $d$ in position $i,j$, you generate a clause\n",
        "\n",
        "$$\n",
        "[p_{dij}]\n",
        "$$\n",
        "\n",
        "stating that $d$ is in position $i,j$.  That's all! \n",
        "We let you do implement this via a method `_board_to_SAT` of `SudokuViaSAT`, which returns the list of such unary clauses. "
      ]
    },
    {
      "cell_type": "code",
      "metadata": {
        "deletable": false,
        "nbgrader": {
          "checksum": "955f00f493acc81518f9e1bfffa37685",
          "grade": false,
          "grade_id": "cell-48c1603b0a7f742e",
          "locked": false,
          "schema_version": 1,
          "solution": true
        },
        "id": "5SO26tBDiyaZ"
      },
      "source": [
        "def _board_to_SAT(self):\n",
        "    \"\"\"Translates the currently known state of the board into a list of SAT\n",
        "    clauses.  Each clause has only one literal, and expresses the fact that a\n",
        "    given digit is in a given position.  The method returns the list of clauses\n",
        "    corresponding to all the initially known Sudoku digits.\"\"\"\n",
        "    # YOUR CODE HERE\n",
        "    clauses=[]\n",
        "    for i in range(9):\n",
        "        for j in range(9):\n",
        "            d=self.board[i,j]\n",
        "            if d!=0:\n",
        "                clauses.append([encode_variable(d,i,j)])\n",
        "    return clauses\n",
        "\n",
        "SudokuViaSAT._board_to_SAT = _board_to_SAT\n"
      ],
      "execution_count": 210,
      "outputs": []
    },
    {
      "cell_type": "markdown",
      "metadata": {
        "deletable": false,
        "editable": false,
        "nbgrader": {
          "checksum": "14e0f5ec282d97cc50b9258086a33c0c",
          "grade": false,
          "grade_id": "cell-c3544a7c19caff4c",
          "locked": true,
          "schema_version": 1,
          "solution": false
        },
        "id": "ETiIswFHiyaZ"
      },
      "source": [
        "Let us test this. "
      ]
    },
    {
      "cell_type": "code",
      "metadata": {
        "deletable": false,
        "editable": false,
        "nbgrader": {
          "checksum": "9d83c691e435b971a4d95dc3dc6c4bbc",
          "grade": true,
          "grade_id": "cell-809f2ec69a5b03b4",
          "locked": true,
          "points": 10,
          "schema_version": 1,
          "solution": false
        },
        "colab": {
          "base_uri": "https://localhost:8080/"
        },
        "id": "dTz5FrijiyaZ",
        "outputId": "3ce131ff-603b-40c9-d0b3-b208bb5d8457"
      },
      "source": [
        "problem = \"000000061350000000400050000020000800000601000000700000000080200600400000007000010\"\n",
        "sd = SudokuViaSAT(problem)\n",
        "sd.show()\n",
        "clauses = sd._board_to_SAT()\n",
        "check_equal(len(clauses), 17)\n",
        "check_equal([310] in clauses, True)\n",
        "check_equal([511] in clauses, True)\n",
        "check_equal([224] in clauses, False)\n",
        "\n",
        "# This should print the elements of the board.\n",
        "for c in sd._board_to_SAT():\n",
        "    print(c)\n",
        "\n"
      ],
      "execution_count": 211,
      "outputs": [
        {
          "output_type": "stream",
          "text": [
            "+---+---+---+\n",
            "|...|...|.61|\n",
            "|35.|...|...|\n",
            "|4..|.5.|...|\n",
            "+---+---+---+\n",
            "|.2.|...|8..|\n",
            "|...|6.1|...|\n",
            "|...|7..|...|\n",
            "+---+---+---+\n",
            "|...|.8.|2..|\n",
            "|6..|4..|...|\n",
            "|..7|...|.1.|\n",
            "+---+---+---+\n",
            "[607]\n",
            "[108]\n",
            "[310]\n",
            "[511]\n",
            "[420]\n",
            "[524]\n",
            "[231]\n",
            "[836]\n",
            "[643]\n",
            "[145]\n",
            "[753]\n",
            "[864]\n",
            "[266]\n",
            "[670]\n",
            "[473]\n",
            "[782]\n",
            "[187]\n"
          ],
          "name": "stdout"
        }
      ]
    },
    {
      "cell_type": "markdown",
      "metadata": {
        "deletable": false,
        "editable": false,
        "nbgrader": {
          "checksum": "01cae2003ceffb39c5241ef873abc6a5",
          "grade": false,
          "grade_id": "cell-de5ba5c3e7147462",
          "locked": true,
          "schema_version": 1,
          "solution": false
        },
        "id": "Nn6Eub9siyaa"
      },
      "source": [
        "## Translating Sudoku to SAT\n",
        "\n",
        "We now write a `_to_SAT` method for `SudokuViaSAT`, that translates a Sudoku problem into a list of SAT clauses, and returns the list of clauses.  The list contains: \n",
        "\n",
        "* all the clauses returned by the `sudoku_rules` function above, \n",
        "* all the clauses that represent the initial state of the board, returned by the `_board_to_SAT` method.  \n"
      ]
    },
    {
      "cell_type": "code",
      "metadata": {
        "deletable": false,
        "editable": false,
        "nbgrader": {
          "checksum": "b42e00b1af2bde9ce1b7a1678afa29eb",
          "grade": false,
          "grade_id": "cell-384e354c55a66a2d",
          "locked": true,
          "schema_version": 1,
          "solution": false
        },
        "id": "duYlh9eTiyaa"
      },
      "source": [
        "def _to_SAT(self):\n",
        "    return list(sudoku_rules()) + list(self._board_to_SAT())\n",
        "\n",
        "SudokuViaSAT._to_SAT = _to_SAT\n"
      ],
      "execution_count": 212,
      "outputs": []
    },
    {
      "cell_type": "markdown",
      "metadata": {
        "deletable": false,
        "editable": false,
        "nbgrader": {
          "checksum": "6636dce6b67f1e5fb21630d058137247",
          "grade": false,
          "grade_id": "cell-17d996245f7944c9",
          "locked": true,
          "schema_version": 1,
          "solution": false
        },
        "id": "iYhyrzJTiyaa"
      },
      "source": [
        "Let's try if we can solve an instance of Sudoku via SAT."
      ]
    },
    {
      "cell_type": "code",
      "metadata": {
        "deletable": false,
        "editable": false,
        "nbgrader": {
          "checksum": "e11446dd78e1de825a63eb7ecbd299eb",
          "grade": false,
          "grade_id": "cell-aef3b2434b577e08",
          "locked": true,
          "schema_version": 1,
          "solution": false
        },
        "id": "UnJS3JG0iyaa"
      },
      "source": [
        "problem = \"000000061350000000400050000020000800000601000000700000000080200600400000007000010\"\n",
        "sd = SudokuViaSAT(problem)\n",
        "with Glucose3() as g:\n",
        "    for c in sd._to_SAT():\n",
        "        g.add_clause(c)\n",
        "    check_equal(g.solve(), True)\n",
        "\n",
        "problem = \"000000061350000000404050000020000800000601000000700000000080200600400000007000010\"\n",
        "sd = SudokuViaSAT(problem)\n",
        "with Glucose3() as g:\n",
        "    for c in sd._to_SAT():\n",
        "        for j in c:\n",
        "            g.add_clause(c)\n",
        "    check_equal(g.solve(), False)\n"
      ],
      "execution_count": 213,
      "outputs": []
    },
    {
      "cell_type": "markdown",
      "metadata": {
        "deletable": false,
        "editable": false,
        "nbgrader": {
          "checksum": "4839e9e4d978e136b0c50d5c6c8c3685",
          "grade": false,
          "grade_id": "cell-7277c7f46b667c57",
          "locked": true,
          "schema_version": 1,
          "solution": false
        },
        "id": "alXwAUhYiyaa"
      },
      "source": [
        "Indeed it works! "
      ]
    },
    {
      "cell_type": "markdown",
      "metadata": {
        "deletable": false,
        "editable": false,
        "nbgrader": {
          "checksum": "ddc2f6b854e807da0dc5e61bc8f2265b",
          "grade": false,
          "grade_id": "cell-6d82ae30b7fc85a4",
          "locked": true,
          "schema_version": 1,
          "solution": false
        },
        "id": "iR8W7aZ3iyab"
      },
      "source": [
        "## Writing a `solve` method for Sudoku"
      ]
    },
    {
      "cell_type": "markdown",
      "metadata": {
        "deletable": false,
        "editable": false,
        "nbgrader": {
          "checksum": "856518361fb9f7d42bc3f8b31bdc9fec",
          "grade": false,
          "grade_id": "cell-fb714ab3c8df8adc",
          "locked": true,
          "schema_version": 1,
          "solution": false
        },
        "id": "mrEUSBqAiyab"
      },
      "source": [
        "It is time to put everything together in a `solve` method for `SudokuViaSAT`.  The method works as follows.  It takes as input one of the SAT solver classes, such as `Glucose3`, `Glucose4`, or `Minisat22`.  Then: \n",
        "\n",
        "* It uses the method `_to_SAT` to create the clauses for a SAT instance encoding the Sudoku problem. \n",
        "* It adds those clauses to the SAT solver. \n",
        "* It solves the SAT problem. \n",
        "* If the problem has a solution, it uses the solution of the SAT problem to complete the cell in the Sudoku board. \n",
        "\n",
        "For the last step, we can check that the problem has a solution via `g.solve()`, as in the test cases above. \n",
        "If the problem has a solution, `g.get_model()` gives us a truth assignment satisfying the SAT problem. \n",
        "Let us take a look at it. "
      ]
    },
    {
      "cell_type": "code",
      "metadata": {
        "deletable": false,
        "editable": false,
        "nbgrader": {
          "checksum": "302bdcd01b38415785763fc99d73e9b9",
          "grade": false,
          "grade_id": "cell-ccb58ea226532c78",
          "locked": true,
          "schema_version": 1,
          "solution": false
        },
        "colab": {
          "base_uri": "https://localhost:8080/"
        },
        "id": "Iy9AoADfiyab",
        "outputId": "9209b2a6-ef99-4621-deff-7266cbf8266f"
      },
      "source": [
        "\n",
        "### This is Cell (A)\n",
        "\n",
        "problem = \"000000061350000000400050000020000800000601000000700000000080200600400000007000010\"\n",
        "sd = SudokuViaSAT(problem)\n",
        "with Glucose3() as g:\n",
        "    for c in sd._to_SAT():\n",
        "        g.add_clause(c)\n",
        "    check_equal(g.solve(), True)\n",
        "    # Let's get a truth assignment.\n",
        "    ps = g.get_model()\n",
        "    print(ps)\n"
      ],
      "execution_count": 214,
      "outputs": [
        {
          "output_type": "stream",
          "text": [
            "[-1, -2, -3, -4, -5, -6, -7, -8, -9, -10, -11, -12, -13, -14, -15, -16, -17, -18, -19, -20, -21, -22, -23, -24, -25, -26, -27, -28, -29, -30, -31, -32, -33, -34, -35, -36, -37, -38, -39, -40, -41, -42, -43, -44, -45, -46, -47, -48, -49, -50, -51, -52, -53, -54, -55, -56, -57, -58, -59, -60, -61, -62, -63, -64, -65, -66, -67, -68, -69, -70, -71, -72, -73, -74, -75, -76, -77, -78, -79, -80, -81, -82, -83, -84, -85, -86, -87, -88, -89, -90, -91, -92, -93, -94, -95, -96, -97, -98, -99, -100, -101, -102, -103, -104, -105, -106, -107, 108, -109, -110, -111, 112, -113, -114, -115, -116, -117, -118, -119, -120, -121, -122, 123, -124, -125, -126, -127, -128, -129, 130, -131, -132, -133, -134, -135, -136, -137, -138, -139, -140, -141, -142, -143, -144, 145, -146, -147, -148, -149, -150, -151, -152, -153, -154, -155, 156, -157, -158, -159, -160, 161, -162, -163, -164, -165, -166, -167, -168, -169, -170, -171, -172, -173, 174, -175, -176, -177, -178, -179, -180, -181, -182, -183, -184, -185, -186, 187, -188, -189, -190, -191, -192, -193, -194, -195, -196, -197, -198, -199, 200, -201, -202, -203, -204, -205, -206, -207, -208, -209, -210, -211, -212, -213, -214, -215, -216, 217, -218, -219, -220, -221, -222, -223, -224, 225, -226, -227, -228, -229, -230, 231, -232, -233, -234, -235, -236, -237, -238, -239, -240, -241, -242, -243, 244, -245, -246, -247, -248, -249, -250, -251, -252, -253, -254, -255, -256, -257, 258, -259, -260, -261, -262, -263, -264, -265, 266, -267, -268, -269, -270, -271, 272, -273, -274, -275, -276, -277, -278, -279, -280, -281, -282, 283, -284, -285, -286, -287, -288, -289, -290, -291, -292, -293, -294, -295, -296, -297, -298, -299, -300, -301, -302, 303, -304, -305, -306, -307, -308, -309, 310, -311, -312, -313, -314, -315, -316, -317, -318, -319, -320, -321, -322, -323, -324, -325, -326, -327, 328, -329, -330, -331, -332, -333, -334, 335, -336, -337, -338, -339, -340, 341, -342, -343, -344, -345, -346, -347, -348, -349, -350, -351, -352, -353, -354, -355, -356, 357, -358, -359, -360, -361, 362, -363, -364, -365, -366, -367, -368, -369, -370, -371, -372, -373, -374, -375, 376, -377, -378, -379, -380, -381, -382, -383, 384, -385, -386, -387, -388, -389, -390, -391, -392, -393, -394, -395, -396, -397, -398, -399, -400, -401, -402, -403, -404, 405, -406, -407, -408, -409, -410, -411, -412, -413, -414, -415, -416, -417, 418, -419, 420, -421, -422, -423, -424, -425, -426, -427, -428, -429, -430, -431, 432, -433, -434, -435, -436, -437, -438, -439, -440, -441, -442, -443, -444, -445, 446, -447, -448, -449, -450, -451, -452, -453, 454, -455, -456, -457, -458, -459, -460, -461, -462, -463, -464, -465, -466, 467, -468, -469, -470, -471, -472, 473, -474, -475, -476, -477, -478, -479, -480, 481, -482, -483, -484, -485, -486, -487, -488, -489, -490, -491, -492, -493, -494, -495, -496, -497, -498, -499, -500, -501, -502, -503, -504, -505, 506, -507, -508, -509, -510, 511, -512, -513, -514, -515, -516, -517, -518, -519, -520, -521, -522, -523, 524, -525, -526, -527, -528, -529, -530, -531, -532, 533, -534, -535, -536, -537, -538, -539, -540, -541, -542, -543, -544, -545, -546, -547, 548, -549, -550, -551, 552, -553, -554, -555, -556, -557, -558, -559, 560, -561, -562, -563, -564, -565, -566, -567, -568, -569, -570, -571, -572, -573, -574, -575, -576, 577, -578, -579, -580, -581, -582, -583, -584, 585, -586, -587, -588, -589, -590, -591, -592, -593, -594, -595, -596, -597, -598, -599, -600, -601, -602, -603, -604, -605, -606, 607, -608, -609, -610, -611, -612, -613, 614, -615, -616, -617, -618, -619, -620, -621, 622, -623, -624, -625, -626, -627, -628, -629, -630, -631, -632, -633, -634, -635, -636, -637, 638, -639, -640, -641, -642, 643, -644, -645, -646, -647, -648, -649, -650, 651, -652, -653, -654, -655, -656, -657, -658, -659, -660, -661, -662, -663, -664, 665, -666, -667, -668, -669, 670, -671, -672, -673, -674, -675, -676, -677, -678, -679, -680, -681, -682, -683, -684, -685, 686, -687, -688, -689, -690, -691, -692, -693, -694, -695, -696, -697, -698, -699, -700, -701, -702, -703, 704, -705, -706, -707, -708, -709, -710, -711, -712, -713, -714, -715, 716, -717, -718, -719, -720, 721, -722, -723, -724, -725, -726, -727, -728, -729, -730, -731, -732, -733, -734, -735, -736, 737, -738, -739, 740, -741, -742, -743, -744, -745, -746, -747, -748, -749, -750, -751, -752, 753, -754, -755, -756, -757, -758, -759, -760, -761, -762, -763, -764, -765, -766, -767, 768, -769, -770, -771, -772, -773, -774, 775, -776, -777, -778, -779, -780, -781, 782, -783, -784, -785, -786, -787, -788, -789, -790, -791, -792, -793, -794, -795, -796, -797, -798, -799, -800, 801, -802, -803, -804, -805, -806, -807, -808, -809, -810, -811, -812, 813, -814, -815, -816, -817, -818, -819, -820, -821, -822, -823, -824, -825, -826, 827, -828, -829, -830, -831, -832, -833, -834, -835, 836, -837, -838, -839, -840, -841, 842, -843, -844, -845, -846, -847, -848, -849, -850, -851, -852, -853, -854, 855, -856, -857, -858, -859, -860, -861, -862, -863, 864, -865, -866, -867, -868, -869, -870, -871, -872, -873, -874, -875, -876, -877, 878, -879, 880, -881, -882, -883, -884, -885, -886, -887, -888, -889, -890, -891, -892, -893, -894, -895, -896, -897, -898, -899, -900, -901, 902, -903, -904, -905, -906, -907, -908, -909, -910, -911, -912, -913, -914, 915, -916, -917, -918, -919, -920, -921, -922, -923, -924, -925, 926, -927, -928, -929, -930, -931, -932, -933, 934, -935, -936, -937, -938, -939, -940, -941, -942, -943, -944, -945, -946, 947, -948, -949, 950, -951, -952, -953, -954, -955, -956, -957, -958, -959, -960, -961, -962, 963, -964, -965, -966, -967, -968, -969, -970, 971, -972, -973, -974, -975, -976, -977, -978, -979, -980, -981, -982, -983, -984, -985, -986, -987, 988]\n"
          ],
          "name": "stdout"
        }
      ]
    },
    {
      "cell_type": "markdown",
      "metadata": {
        "deletable": false,
        "editable": false,
        "nbgrader": {
          "checksum": "31e12495df5be0555d23d00357d8c4f2",
          "grade": false,
          "grade_id": "cell-502ce1758e25cb79",
          "locked": true,
          "schema_version": 1,
          "solution": false
        },
        "id": "wvn9A5Vyiyab"
      },
      "source": [
        "This truth assignment contains: \n",
        "\n",
        "* Garbage.  For some odd reason, the SAT solvers want to give us truth assignments also to variables that are not part of any clause, such as 1, 2, 3, ... . \n",
        "* Negative literals, such as -456.  We really don't care to know that 4 cannot appear in cell 5,6. \n",
        "* Positive literals that can be interpreted via `decode_variable` (defined at the beginning).  These we use to completethe board.  For instance, if we get a literal 345 in the model, this means that 3 appears in cell 4, 5, and we can set `self.board[4, 5] = 3`. \n",
        "\n"
      ]
    },
    {
      "cell_type": "markdown",
      "metadata": {
        "deletable": false,
        "editable": false,
        "nbgrader": {
          "checksum": "58e379c0cef6deb6d11e945b50bf14a3",
          "grade": false,
          "grade_id": "cell-42efbb880e9ce99e",
          "locked": true,
          "schema_version": 1,
          "solution": false
        },
        "id": "3a_VslJqiyab"
      },
      "source": [
        "Let's take a look at the positive, interpretable literals: "
      ]
    },
    {
      "cell_type": "code",
      "metadata": {
        "deletable": false,
        "editable": false,
        "nbgrader": {
          "checksum": "9c3c3d7b02d53fbcf9a7aed1b8f63af6",
          "grade": false,
          "grade_id": "cell-f6c05ce88a2b0194",
          "locked": true,
          "schema_version": 1,
          "solution": false
        },
        "colab": {
          "base_uri": "https://localhost:8080/"
        },
        "id": "MojwKA7siyab",
        "outputId": "5da9adec-d482-4e33-d3fe-39008fbe205c"
      },
      "source": [
        "for l in ps:\n",
        "    if l > 0 and decode_variable(l) is not None:\n",
        "        print(decode_variable(l))\n"
      ],
      "execution_count": 215,
      "outputs": [
        {
          "output_type": "stream",
          "text": [
            "(1, 0, 8)\n",
            "(1, 1, 2)\n",
            "(1, 2, 3)\n",
            "(1, 3, 0)\n",
            "(1, 4, 5)\n",
            "(1, 5, 6)\n",
            "(1, 6, 1)\n",
            "(1, 7, 4)\n",
            "(1, 8, 7)\n",
            "(2, 0, 0)\n",
            "(2, 1, 7)\n",
            "(2, 2, 5)\n",
            "(2, 3, 1)\n",
            "(2, 4, 4)\n",
            "(2, 5, 8)\n",
            "(2, 6, 6)\n",
            "(2, 7, 2)\n",
            "(2, 8, 3)\n",
            "(3, 0, 3)\n",
            "(3, 1, 0)\n",
            "(3, 2, 8)\n",
            "(3, 3, 5)\n",
            "(3, 4, 1)\n",
            "(3, 5, 7)\n",
            "(3, 6, 2)\n",
            "(3, 7, 6)\n",
            "(3, 8, 4)\n",
            "(4, 0, 5)\n",
            "(4, 1, 8)\n",
            "(4, 2, 0)\n",
            "(4, 3, 2)\n",
            "(4, 4, 6)\n",
            "(4, 5, 4)\n",
            "(4, 6, 7)\n",
            "(4, 7, 3)\n",
            "(4, 8, 1)\n",
            "(5, 0, 6)\n",
            "(5, 1, 1)\n",
            "(5, 2, 4)\n",
            "(5, 3, 3)\n",
            "(5, 4, 8)\n",
            "(5, 5, 2)\n",
            "(5, 6, 0)\n",
            "(5, 7, 7)\n",
            "(5, 8, 5)\n",
            "(6, 0, 7)\n",
            "(6, 1, 4)\n",
            "(6, 2, 2)\n",
            "(6, 3, 8)\n",
            "(6, 4, 3)\n",
            "(6, 5, 1)\n",
            "(6, 6, 5)\n",
            "(6, 7, 0)\n",
            "(6, 8, 6)\n",
            "(7, 0, 4)\n",
            "(7, 1, 6)\n",
            "(7, 2, 1)\n",
            "(7, 3, 7)\n",
            "(7, 4, 0)\n",
            "(7, 5, 3)\n",
            "(7, 6, 8)\n",
            "(7, 7, 5)\n",
            "(7, 8, 2)\n",
            "(8, 0, 1)\n",
            "(8, 1, 3)\n",
            "(8, 2, 7)\n",
            "(8, 3, 6)\n",
            "(8, 4, 2)\n",
            "(8, 5, 5)\n",
            "(8, 6, 4)\n",
            "(8, 7, 8)\n",
            "(8, 8, 0)\n",
            "(9, 0, 2)\n",
            "(9, 1, 5)\n",
            "(9, 2, 6)\n",
            "(9, 3, 4)\n",
            "(9, 4, 7)\n",
            "(9, 5, 0)\n",
            "(9, 6, 3)\n",
            "(9, 7, 1)\n",
            "(9, 8, 8)\n"
          ],
          "name": "stdout"
        }
      ]
    },
    {
      "cell_type": "markdown",
      "metadata": {
        "deletable": false,
        "editable": false,
        "nbgrader": {
          "checksum": "be7d907b7ad3fd18216c09cc8a4912a7",
          "grade": false,
          "grade_id": "cell-1c78b58963427c8f",
          "locked": true,
          "schema_version": 1,
          "solution": false
        },
        "id": "8POh0e43iyac"
      },
      "source": [
        "## Question 8: The `solve` method\n",
        "\n",
        "Aha! This looks very good! as you can see from the end, there are 9 tuples beginning with 9; these are exactly the location of the digits \"9\" in the Sudoku. \n",
        "Thus, the model of the SAT solver enables us to directly fill the Sudoku board.  We let you implement the `solve` method.  You might want to look at cell (A) above for inspiration; basically, you have to: \n",
        "\n",
        "* Translate Sudoku to SAT; \n",
        "* Solve the SAT problem;\n",
        "* Use the solution of the SAT problem to fill the Sudoku board."
      ]
    },
    {
      "cell_type": "code",
      "metadata": {
        "deletable": false,
        "nbgrader": {
          "checksum": "b71f28804e9aaf24d9819fd7b86bee08",
          "grade": false,
          "grade_id": "cell-4d6fd92b503d89a8",
          "locked": false,
          "schema_version": 1,
          "solution": true
        },
        "id": "HoVVqwrViyac"
      },
      "source": [
        "def solve(self, Solver):\n",
        "    \"\"\"Solves the Sudoku instance using the given SAT solver\n",
        "    (e.g., Glucose3, Minisat22).\n",
        "    @param Solver: a solver, such as Glucose3, Minisat22.\n",
        "    @returns: False, if the Sudoku problem is not solvable, and True, if it is.\n",
        "        In the latter case, the solve method also completes self.board,\n",
        "        using the solution of SAT to complete the board.\"\"\"\n",
        "    # YOUR CODE HERE\n",
        "    with Solver() as solver:\n",
        "        for n in self._to_SAT():\n",
        "            solver.add_clause(n)\n",
        "        if solver.solve()!=True:\n",
        "            return False\n",
        "        else:\n",
        "            solutions=solver.get_model()\n",
        "            for g in solutions:\n",
        "                if g>0 and decode_variable(g) is not None:\n",
        "                    d,i,j=decode_variable(g)\n",
        "                    self.board[i,j]=d\n",
        "        return True\n",
        "\n",
        "SudokuViaSAT.solve = solve\n"
      ],
      "execution_count": 216,
      "outputs": []
    },
    {
      "cell_type": "markdown",
      "metadata": {
        "deletable": false,
        "editable": false,
        "nbgrader": {
          "checksum": "035202345fa7bab92d7c9b0e5f0857cf",
          "grade": false,
          "grade_id": "cell-399b3fcdec4add62",
          "locked": true,
          "schema_version": 1,
          "solution": false
        },
        "id": "MTABziGJiyac"
      },
      "source": [
        "Let's try solving a Sudoku end-to-end. "
      ]
    },
    {
      "cell_type": "code",
      "metadata": {
        "deletable": false,
        "editable": false,
        "nbgrader": {
          "checksum": "0b44c5e12f758a0a7cb781026294f29c",
          "grade": false,
          "grade_id": "cell-32ee85844eb663e",
          "locked": true,
          "schema_version": 1,
          "solution": false
        },
        "colab": {
          "base_uri": "https://localhost:8080/"
        },
        "id": "QvFEHpDoiyac",
        "outputId": "cefc7d3b-0915-4014-a902-2ff30c47ec1f"
      },
      "source": [
        "problem = \"000000061350000000400050000020000800000601000000700000000080200600400000007000010\"\n",
        "sd = SudokuViaSAT(problem)\n",
        "sd.show()\n",
        "sd.solve(Glucose3)\n",
        "sd.show()\n"
      ],
      "execution_count": 217,
      "outputs": [
        {
          "output_type": "stream",
          "text": [
            "+---+---+---+\n",
            "|...|...|.61|\n",
            "|35.|...|...|\n",
            "|4..|.5.|...|\n",
            "+---+---+---+\n",
            "|.2.|...|8..|\n",
            "|...|6.1|...|\n",
            "|...|7..|...|\n",
            "+---+---+---+\n",
            "|...|.8.|2..|\n",
            "|6..|4..|...|\n",
            "|..7|...|.1.|\n",
            "+---+---+---+\n",
            "+---+---+---+\n",
            "|289|374|561|\n",
            "|351|869|724|\n",
            "|476|152|983|\n",
            "+---+---+---+\n",
            "|124|593|876|\n",
            "|738|621|495|\n",
            "|965|748|132|\n",
            "+---+---+---+\n",
            "|513|986|247|\n",
            "|692|417|358|\n",
            "|847|235|619|\n",
            "+---+---+---+\n"
          ],
          "name": "stdout"
        }
      ]
    },
    {
      "cell_type": "markdown",
      "metadata": {
        "deletable": false,
        "editable": false,
        "nbgrader": {
          "checksum": "ee11c06ae7f47dcbe59fbecde6f1235d",
          "grade": false,
          "grade_id": "cell-4c985d6a7125cd6f",
          "locked": true,
          "schema_version": 1,
          "solution": false
        },
        "id": "yUBMcHYZiyad"
      },
      "source": [
        "This is quite wonderful!  Let us write a check that a solved Sudoku satisfies all rules of Sudoku, and is equal to a given problem in the specified cells. "
      ]
    },
    {
      "cell_type": "code",
      "metadata": {
        "deletable": false,
        "editable": false,
        "nbgrader": {
          "checksum": "06d7e8ad8f07f284831b8e4def84431a",
          "grade": false,
          "grade_id": "cell-7b293ba5e46f2d23",
          "locked": true,
          "schema_version": 1,
          "solution": false
        },
        "id": "OCVmF14Miyad"
      },
      "source": [
        "def verify_solution(Solver, sudoku_string):\n",
        "    sd = SudokuViaSAT(sudoku_string)\n",
        "    sd.solve(Solver)\n",
        "    # Check that we leave alone the original assignment.\n",
        "    for i in range(9):\n",
        "        for j in range(9):\n",
        "            d = int(sudoku_string[i * 9 + j])\n",
        "            if d > 0:\n",
        "                assert sd.board[i, j] == d\n",
        "    # Check that there is a digit in every cell.\n",
        "    for i in range(9):\n",
        "        for j in range(9):\n",
        "            assert 1 <= sd.board[i, j] <= 9\n",
        "    # Check the exclusion rules of Sudoku.\n",
        "    for i in range(9):\n",
        "        for j in range(9):\n",
        "            # No repetition in row.\n",
        "            for ii in range(i + 1, 9):\n",
        "                assert sd.board[i, j] != sd.board[ii, j]\n",
        "            # No repetition in column.\n",
        "            for jj in range(j + 1, 9):\n",
        "                assert sd.board[i, j] != sd.board[i, jj]\n",
        "            # No repetition in block\n",
        "            ci, cj = i // 3, j // 3\n",
        "            for bi in range(2):\n",
        "                ii = ci * 3 + bi\n",
        "                for bj in range(2):\n",
        "                    jj = cj * 3 + bj\n",
        "                    if i != ii or j != jj:\n",
        "                        assert sd.board[i, j] != sd.board[ii, jj]\n"
      ],
      "execution_count": 222,
      "outputs": []
    },
    {
      "cell_type": "code",
      "metadata": {
        "deletable": false,
        "editable": false,
        "nbgrader": {
          "checksum": "d9670adb56481f628fc5337c5730e890",
          "grade": false,
          "grade_id": "cell-7a0810955ccc71e",
          "locked": true,
          "schema_version": 1,
          "solution": false
        },
        "id": "QI8wVt9Yiyae"
      },
      "source": [
        "verify_solution(Glucose3, problem)\n"
      ],
      "execution_count": 223,
      "outputs": []
    },
    {
      "cell_type": "markdown",
      "metadata": {
        "deletable": false,
        "editable": false,
        "nbgrader": {
          "checksum": "944ca3aa0614c0080bf1185bb190177b",
          "grade": false,
          "grade_id": "cell-314af603e9222d9b",
          "locked": true,
          "schema_version": 1,
          "solution": false
        },
        "id": "QTuoHNs8iyae"
      },
      "source": [
        "Let's check that you get the first 100 puzzles right."
      ]
    },
    {
      "cell_type": "code",
      "metadata": {
        "deletable": false,
        "editable": false,
        "nbgrader": {
          "checksum": "c0d7f5796238bb7c74bc0fa3d8dc97a6",
          "grade": false,
          "grade_id": "cell-dadf72d2301efaa0",
          "locked": true,
          "schema_version": 1,
          "solution": false
        },
        "id": "hXKRHHYQiyaf"
      },
      "source": [
        "import requests\n",
        "\n",
        "r = requests.get(\"https://raw.githubusercontent.com/shadaj/sudoku/master/sudoku17.txt\")\n",
        "puzzles = r.text.split()\n"
      ],
      "execution_count": 224,
      "outputs": []
    },
    {
      "cell_type": "code",
      "metadata": {
        "deletable": false,
        "editable": false,
        "nbgrader": {
          "checksum": "1aa72d1ff24d859c74a1d651a88f54f9",
          "grade": true,
          "grade_id": "cell-bb1dbf880187fea3",
          "locked": true,
          "points": 20,
          "schema_version": 1,
          "solution": false
        },
        "id": "wG_j08zJiyaf"
      },
      "source": [
        "for problem in puzzles[:100]:\n",
        "    verify_solution(Glucose3, problem)\n",
        "\n"
      ],
      "execution_count": 225,
      "outputs": []
    }
  ]
}