{
  "nbformat": 4,
  "nbformat_minor": 0,
  "metadata": {
    "colab": {
      "name": "Homework_13_SAT.ipynb",
      "provenance": [],
      "collapsed_sections": []
    },
    "kernelspec": {
      "display_name": "Python 3",
      "language": "python",
      "name": "python3"
    },
    "language_info": {
      "codemirror_mode": {
        "name": "ipython",
        "version": 3
      },
      "file_extension": ".py",
      "mimetype": "text/x-python",
      "name": "python",
      "nbconvert_exporter": "python",
      "pygments_lexer": "ipython3",
      "version": "3.7.3"
    },
    "test_info": {
      "id": "e2eea3a2b6179b40daf798ea76f45f5d6b722267"
    }
  },
  "cells": [
    {
      "cell_type": "markdown",
      "metadata": {
        "id": "f7Z9Op7qHzHE"
      },
      "source": [
        "Before you turn this problem in, make sure everything runs as expected. First, **restart the kernel** (in the menubar, select Kernel$\\rightarrow$Restart) and then **run all cells** (in the menubar, select Cell$\\rightarrow$Run All).\n",
        "\n",
        "Make sure you fill in any place that says `YOUR CODE HERE` or \"YOUR ANSWER HERE\", as well as your name and collaborators below:"
      ]
    },
    {
      "cell_type": "code",
      "metadata": {
        "id": "md_Lp_HBHzHO"
      },
      "source": [
        "NAME = \"Zhiqi Chen\"\n",
        "COLLABORATORS = \"\""
      ],
      "execution_count": 373,
      "outputs": []
    },
    {
      "cell_type": "markdown",
      "metadata": {
        "id": "fSPukBenHzHQ"
      },
      "source": [
        "---"
      ]
    },
    {
      "cell_type": "markdown",
      "metadata": {
        "deletable": false,
        "editable": false,
        "nbgrader": {
          "checksum": "8677114c90ca409f8c60b94973443baf",
          "grade": false,
          "grade_id": "cell-32ca95f1dd955988",
          "locked": true,
          "schema_version": 1,
          "solution": false
        },
        "id": "-zZ9g2psHzHQ"
      },
      "source": [
        "# Homework 13: SAT\n",
        "\n",
        "Copyright Luca de Alfaro, 2019-20. \n",
        "License: [CC-BY-NC-ND](https://creativecommons.org/licenses/by-nc-nd/4.0/)."
      ]
    },
    {
      "cell_type": "markdown",
      "metadata": {
        "deletable": false,
        "editable": false,
        "nbgrader": {
          "checksum": "94abd69bb465c459cf3452891f229eae",
          "grade": false,
          "grade_id": "cell-ce18bb384dbbaa48",
          "locked": true,
          "schema_version": 1,
          "solution": false
        },
        "id": "cqM5fU-dHzHQ"
      },
      "source": [
        "## How this class is graded\n",
        "\n",
        "This has actually nothing to do with the homework, but I am putting it here to ensure you look at it, as your grade depends on it. \n",
        "\n",
        "### Do the SETs and the questionnaire\n",
        "\n",
        "Please, do the SETs (Students Evaluations of Teaching) available on Canvas, and please do [this questionnaire](https://docs.google.com/forms/d/e/1FAIpQLSeXzhbec8ncMe6y-dL_5TPeTfenKah6LEhDs7bC0dkgCNcEyQ/viewform?usp=sf_link). \n",
        "\n",
        "If the response rate of the SETs is above 70%, I will give you 50 free points.  If it is below... I will keep pestering you until it gets above.  Thanks!  See Piazza for more information. \n",
        "\n",
        "### Computation of class garde. \n",
        "\n",
        "#### Raw Grade\n",
        "\n",
        "First, I will compute a _raw grade_: \n",
        "\n",
        "Let T be the total of the maximum points of each assignment.\n",
        "\n",
        "Let N be the total points you got in all your assignments.\n",
        "\n",
        "Your class percentage will be computed as\n",
        "\n",
        "min(1, (N + 50) / T) * 100\n",
        "\n",
        "and above 90%, you get A, above 80% you get B.  The boundary of C, D, F, I usually choose with more thought about the particular grade distribution in a class.\n",
        "\n",
        "#### Class Grade\n",
        "\n",
        "Once I have the raw grade, your final class grade will be at least as much as the raw grade.  In case all grades are too low (e.g., if fewer than 25% or so get A), I will consider curving the grades up.  I will not curve the grades down. "
      ]
    },
    {
      "cell_type": "markdown",
      "metadata": {
        "deletable": false,
        "editable": false,
        "nbgrader": {
          "checksum": "d21d1712bf2aceace688e6bd1c43e411",
          "grade": false,
          "grade_id": "cell-d0d2150a713068eb",
          "locked": true,
          "schema_version": 1,
          "solution": false
        },
        "id": "O_-vuV63HzHR"
      },
      "source": [
        "## Submission\n",
        "\n",
        "[Please submit to this Google Form](https://docs.google.com/forms/d/e/1FAIpQLSd41BagwJlDHMHsOsiao7lw5zu4I6Z7g6IFqKAygTMhO8h4ig/viewform?usp=sf_link).\n",
        "\n",
        "Deadline: Friday December 11, 11pm (check on Canvas for updated information)."
      ]
    },
    {
      "cell_type": "markdown",
      "metadata": {
        "deletable": false,
        "editable": false,
        "nbgrader": {
          "checksum": "73c5757e93b083c6d0150235ec3269c4",
          "grade": false,
          "grade_id": "cell-36f4a54cde3881f2",
          "locked": true,
          "schema_version": 1,
          "solution": false
        },
        "id": "_FD4ZhoSHzHS"
      },
      "source": [
        "## Test Format\n",
        "\n",
        "There are 5 questions, for a total of 70 points. "
      ]
    },
    {
      "cell_type": "markdown",
      "metadata": {
        "deletable": false,
        "editable": false,
        "nbgrader": {
          "checksum": "d7a62e0bab6b3fa9b6c04b6f389ab226",
          "grade": false,
          "grade_id": "cell-251529f5fb47c794",
          "locked": true,
          "schema_version": 1,
          "solution": false
        },
        "id": "frmjSp2KHzHU"
      },
      "source": [
        "Let $p_1, p_2, \\ldots$ be propositional variables. \n",
        "A SAT problem, represented in [conjunctive normal form](https://en.wikipedia.org/wiki/Conjunctive_normal_form), consists in a conjunction of disjunctions of propositional variables and their complements, such as\n",
        "\n",
        "$$\n",
        "(p_1 \\vee \\bar{p}_2 \\vee p_3) \\wedge (p_2 \\vee p_5) \\; .\n",
        "$$\n",
        "\n",
        "We call each conjuct a [clause](https://en.wikipedia.org/wiki/Clause_(logic));\n",
        "in the above example, we have two clauses, $c_1 = p_1 \\vee \\bar{p}_2 \\vee p_3$ and \n",
        "$c_2 = p_2 \\vee p_5$. \n",
        "The disjuncts in a clause are called [literals](https://en.wikipedia.org/wiki/Literal_(mathematical_logic)): \n",
        "for example, the first clause $c_1 = p_1 \\vee \\bar{p}_2 \\vee p_3$ contains the literals $p_1$, $\\bar{p}_2$, and $p_3$. \n",
        "\n",
        "The satisfiability question is: can we find a truth assignment to the variables that makes the expression true?\n",
        "In the above case, the answer is yes: we can take: \n",
        "\n",
        "$$\n",
        "p_1 = True, \\; p_5 = True\n",
        "$$\n",
        "\n",
        "and any value for $p_2, p_3$. "
      ]
    },
    {
      "cell_type": "markdown",
      "metadata": {
        "deletable": false,
        "editable": false,
        "nbgrader": {
          "checksum": "8117f7a3d19014301e3f152e96df7da8",
          "grade": false,
          "grade_id": "cell-dde2d750f2de776a",
          "locked": true,
          "schema_version": 1,
          "solution": false
        },
        "id": "elaZ7mogHzHV"
      },
      "source": [
        "## SAT representation\n",
        "\n",
        "To represent an instance of SAT, we represent literals, clauses, and the overall expression, as follows.\n",
        "\n",
        "**Literals.** We represent the literal $p_k$ via the positive integer $k$, and the literal $\\bar{p}_k$ via the negative integer $-k$. \n",
        "\n",
        "**Clauses.** We represent a clause via the set of integers representing the clause literals.  \n",
        "For instance, we represent the clause $p_1 \\vee \\bar{p}_3 \\vee p_4$ via the set $\\{1, -3, 4\\}$. \n",
        "\n",
        "**SAT problem.**  We represent a SAT problem (again, in conjunctive normal form) via the set consisting in the representation of its clauses. \n",
        "For instance, the problem \n",
        "$$\n",
        "(p_1 \\vee \\bar{p}_2 \\vee p_3) \\wedge (p_2 \\vee p_5)\n",
        "$$\n",
        "is represented by the set of sets:\n",
        "$$\n",
        "\\{ \\{1, -2, 3\\}, \\{2, 5\\} \\} \\; .\n",
        "$$"
      ]
    },
    {
      "cell_type": "markdown",
      "metadata": {
        "deletable": false,
        "editable": false,
        "nbgrader": {
          "checksum": "356e408a9006daeb355539c4e53bc11b",
          "grade": false,
          "grade_id": "cell-8e431c26a7ebbea1",
          "locked": true,
          "schema_version": 1,
          "solution": false
        },
        "id": "r5O8UXLfHzHW"
      },
      "source": [
        "There are various operations that we need to do on clauses, and on the overall SAT problem, to solve it.  Thus, we encapsulate both clauses, and the SAT problem, in python classes, so we can associate the operations along with the representations."
      ]
    },
    {
      "cell_type": "markdown",
      "metadata": {
        "deletable": false,
        "editable": false,
        "nbgrader": {
          "checksum": "af5dd2bc4d8a50ac3a662cb31bcd101f",
          "grade": false,
          "grade_id": "cell-8c9c8a065311e851",
          "locked": true,
          "schema_version": 1,
          "solution": false
        },
        "id": "4Nm6ltP7HzHX"
      },
      "source": [
        "### Clauses"
      ]
    },
    {
      "cell_type": "markdown",
      "metadata": {
        "deletable": false,
        "editable": false,
        "nbgrader": {
          "checksum": "f49338ebcc8d239ebfe09992c9261b06",
          "grade": false,
          "grade_id": "cell-7ad653a64caebe88",
          "locked": true,
          "schema_version": 1,
          "solution": false
        },
        "id": "A--GZsIpHzHX"
      },
      "source": [
        "We first define an auxiliary function, which tells us whether a set contains both an integer and its negative.  This will be used, for instance, to detect whether a clause contains both a literal and its complement."
      ]
    },
    {
      "cell_type": "code",
      "metadata": {
        "deletable": false,
        "editable": false,
        "nbgrader": {
          "checksum": "1e4e189a0c352e7568f5e86805619910",
          "grade": false,
          "grade_id": "cell-3e53d976613e49e0",
          "locked": true,
          "schema_version": 1,
          "solution": false
        },
        "id": "eXbSVV-xHzHY"
      },
      "source": [
        "def has_pos_and_neg(l):\n",
        "    return len(set(l)) > len({abs(x) for x in l})\n"
      ],
      "execution_count": 374,
      "outputs": []
    },
    {
      "cell_type": "markdown",
      "metadata": {
        "deletable": false,
        "editable": false,
        "nbgrader": {
          "checksum": "774923e016ef76054a71355434e85c23",
          "grade": false,
          "grade_id": "cell-a07c27bb97910ab6",
          "locked": true,
          "schema_version": 1,
          "solution": false
        },
        "id": "k-jO6ZYsHzHZ"
      },
      "source": [
        "This is the class representing a clause.  It is written in such a way that: \n",
        "\n",
        "* The list of literals is stored as a frozenset `self.literals`, so that we automatically remove duplicate literals, and so that we can easily define clause equality.\n",
        "* It can be initialized either with a list of integers, or with a clause.  In the first case, the integers are the literals.  In the second case, we create a copy of the original clause. \n",
        "* A clause is true iff it contains both a literal and its complement. \n",
        "* A clause is false iff it is empty."
      ]
    },
    {
      "cell_type": "code",
      "metadata": {
        "deletable": false,
        "editable": false,
        "nbgrader": {
          "checksum": "c6a2e50c5803ed9e108c24494fb12645",
          "grade": false,
          "grade_id": "cell-e29458f4d4852813",
          "locked": true,
          "schema_version": 1,
          "solution": false
        },
        "id": "11h6K-h4HzHa"
      },
      "source": [
        "### Defining Clauses\n",
        "\n",
        "class Clause(object):\n",
        "\n",
        "    def __init__(self, clause):\n",
        "        \"\"\"Initializes a clause.  Here, the input clause is either a list or set\n",
        "        of integers, or is an instance of Clause; in the latter case, a shallow\n",
        "        copy is made, so that one can modify this clause without modifying the\n",
        "        original clause.\n",
        "        Store the list of literals as a frozenset.\"\"\"\n",
        "        if isinstance(clause, Clause):\n",
        "            # We use frozenset here, so that clauses are not modifiable.\n",
        "            # This ensures that two equal clauses always have the same hash,\n",
        "            # due also to our definition of the __hash__ method.\n",
        "            self.literals = frozenset(clause.literals)\n",
        "        else:\n",
        "            for i in clause:\n",
        "                # Sanity check.\n",
        "                assert isinstance(i, int), \"Not an integer: %r\" % i\n",
        "            self.literals = frozenset(clause)\n",
        "\n",
        "    def __repr__(self):\n",
        "        return repr(self.literals)\n",
        "\n",
        "    def __eq__(self, other):\n",
        "        return self.literals == other.literals\n",
        "\n",
        "    def __hash__(self):\n",
        "        \"\"\"This will be used to be able to have sets of clauses,\n",
        "        with clause equality defined on the equality of their literal sets.\"\"\"\n",
        "        return hash(self.literals)\n",
        "\n",
        "    def __len__(self):\n",
        "        return len(self.literals)\n",
        "\n",
        "    @property\n",
        "    def istrue(self):\n",
        "        \"\"\"A clause is true if it contains both a predicate and its complement.\"\"\"\n",
        "        return has_pos_and_neg(self.literals)\n",
        "\n",
        "    @property\n",
        "    def isfalse(self):\n",
        "        \"\"\"A clause is false if and only if it is empty.\"\"\"\n",
        "        return len(self.literals) == 0\n"
      ],
      "execution_count": 375,
      "outputs": []
    },
    {
      "cell_type": "markdown",
      "metadata": {
        "deletable": false,
        "editable": false,
        "nbgrader": {
          "checksum": "7f08cbc69d937f1be49b9980d445531e",
          "grade": false,
          "grade_id": "cell-9ff9f0fb763bbbd0",
          "locked": true,
          "schema_version": 1,
          "solution": false
        },
        "id": "QJZjSr6bHzHb"
      },
      "source": [
        "Let us load also our testing framework."
      ]
    },
    {
      "cell_type": "code",
      "metadata": {
        "deletable": false,
        "editable": false,
        "nbgrader": {
          "checksum": "3f0ee6ed213d4bc6d087445863ffaf28",
          "grade": false,
          "grade_id": "cell-10c9dfc25d7de087",
          "locked": true,
          "schema_version": 1,
          "solution": false
        },
        "id": "rBdV8FAVHzHd"
      },
      "source": [
        "try:\n",
        "    from nose.tools import assert_equal, assert_almost_equal\n",
        "    from nose.tools import assert_true, assert_false\n",
        "    from nose.tools import assert_not_equal\n",
        "except:\n",
        "    !pip install nose\n",
        "    from nose.tools import assert_equal, assert_almost_equal\n",
        "    from nose.tools import assert_true, assert_false\n",
        "    from nose.tools import assert_not_equal\n"
      ],
      "execution_count": 376,
      "outputs": []
    },
    {
      "cell_type": "markdown",
      "metadata": {
        "deletable": false,
        "editable": false,
        "nbgrader": {
          "checksum": "b8909cf3a9cf37f43f9c15377929c3e0",
          "grade": false,
          "grade_id": "cell-822130b7248b926e",
          "locked": true,
          "schema_version": 1,
          "solution": false
        },
        "id": "6Ru16rtsHzHe"
      },
      "source": [
        "These tests are there just to give you examples.  You have not written any code yet!  They are not tests for your work."
      ]
    },
    {
      "cell_type": "code",
      "metadata": {
        "deletable": false,
        "editable": false,
        "nbgrader": {
          "checksum": "6bb89417f48a8b95799d585d3940782c",
          "grade": false,
          "grade_id": "cell-2436251265d1d808",
          "locked": true,
          "schema_version": 1,
          "solution": false
        },
        "id": "mAAnKlD1HzHh"
      },
      "source": [
        "# Tests for Clause.\n",
        "c = Clause([2, -3, 4])\n",
        "d = Clause([-3, 2, 4])\n",
        "e = Clause(c)\n",
        "assert_equal(c, d)\n",
        "assert_equal(c, e)\n",
        "\n",
        "c = Clause([2, 3, 5])\n",
        "assert_false(c.istrue)\n",
        "assert_false(c.isfalse)\n",
        "\n",
        "c = Clause([-2, 5, 2])\n",
        "assert_true(c.istrue)\n",
        "assert_false(c.isfalse)\n",
        "\n",
        "c = Clause([])\n",
        "assert_false(c.istrue)\n",
        "assert_true(c.isfalse)"
      ],
      "execution_count": 377,
      "outputs": []
    },
    {
      "cell_type": "markdown",
      "metadata": {
        "deletable": false,
        "editable": false,
        "nbgrader": {
          "checksum": "2df124ef72b891e615d2d11de6aa464c",
          "grade": false,
          "grade_id": "cell-95f73ea69d85c03f",
          "locked": true,
          "schema_version": 1,
          "solution": false
        },
        "id": "-zo4rVfmHzH3"
      },
      "source": [
        "### Truth assignments\n",
        "\n",
        "We are seeking a truth assignment for the propositional variables that makes the expression true, and so, that makes each clause true.  \n",
        "\n",
        "We represent the truth assignment that assigns True to $p_k$ via the integer $k$, and the truth assignment that assigns False to $p_k$ via $-k$.  Thus, if you have a (positive or negative) literal $i$, the truth assignment $i$ will make it true. \n",
        "\n",
        "We represent truth assignments to multiple variables simply as the set of assignments to individual variables. \n",
        "For example, the truth assignment that assigns True to $p_1$ and False to $p_2$ will be represented via the set $\\{1, -2\\}$. \n"
      ]
    },
    {
      "cell_type": "markdown",
      "metadata": {
        "deletable": false,
        "editable": false,
        "nbgrader": {
          "checksum": "2a55f3619d5af07524d9491bbbcb7d20",
          "grade": false,
          "grade_id": "cell-64b66adc9fedd89b",
          "locked": true,
          "schema_version": 1,
          "solution": false
        },
        "id": "_CGzI3WtHzH4"
      },
      "source": [
        "## Question 1: Define Clause simplification\n",
        "\n",
        "To solve a SAT instance, we need to search for a truth assignment to its propositional variables that will make all the clauses true. \n",
        "We will search for such a truth assignment by trying to build it one variable at a time.  So a basic operation on a clause will be: \n",
        "\n",
        "> Given a clause, and a truth assignment for one variable, compute the result on the clause. \n",
        "\n",
        "What is the result on the clause?  Consider a clause  with representation $c$ (thus, $c$ is a set of integers) and a truth assignment $i$ (recall that $i$ can be positive or negative, depending on whether it assigns True or False to $p_i$).  There are three cases:\n",
        "\n",
        "* If $i \\in c$, then the $i$ literal of $c$ is true, and so is the whole clause. We return True to signify it. \n",
        "* If $-i \\in c$, then the $-i$ literal of $c$ is false, and it cannot help make the clause true.  We return the clause $c \\setminus \\{-i\\}$, which corresponds to the remaining ways of making the clause true under assignment $i$. \n",
        "* If neither $i$ nor $-i$ is in $c$, then we return $c$ itself, as $c$ is not affected by the truth assignment $i$. \n",
        "\n",
        "Based on the above discussion, implement a `simplify` method for a Clause that, given a truth assignment, returns either a simplified clause, if some literals remain, or True."
      ]
    },
    {
      "cell_type": "code",
      "metadata": {
        "deletable": false,
        "nbgrader": {
          "checksum": "805fd5143865a184f4f34d0cfad96093",
          "grade": false,
          "grade_id": "cell-44fa53fec379a716",
          "locked": false,
          "schema_version": 1,
          "solution": true
        },
        "id": "BY4w_sN9HzH5"
      },
      "source": [
        "### Exercise: define simplify\n",
        "\n",
        "def clause_simplify(self, i):\n",
        "    \"\"\"Computes the result simplify the clause according to the\n",
        "    truth assignment i.\"\"\"\n",
        "    # YOUR CODE HERE\n",
        "    if i in self.literals:\n",
        "        return True\n",
        "    if -i in self.literals:\n",
        "        return Clause(self.literals-{-i})\n",
        "    if i not in self.literals and -i not in self.literals:\n",
        "        return self\n",
        "\n",
        "Clause.simplify = clause_simplify\n"
      ],
      "execution_count": 378,
      "outputs": []
    },
    {
      "cell_type": "markdown",
      "metadata": {
        "deletable": false,
        "editable": false,
        "nbgrader": {
          "checksum": "720162c37a877b676e693e570339f4a4",
          "grade": false,
          "grade_id": "cell-fd7876511cf5d95a",
          "locked": true,
          "schema_version": 1,
          "solution": false
        },
        "id": "-WW-4GeLHzH6"
      },
      "source": [
        "Here are some tests. "
      ]
    },
    {
      "cell_type": "code",
      "metadata": {
        "deletable": false,
        "editable": false,
        "nbgrader": {
          "checksum": "0f5e070fc4da0fa333b7dfaafe26ac5d",
          "grade": true,
          "grade_id": "cell-274cfeaede7a5247",
          "locked": true,
          "points": 5,
          "schema_version": 1,
          "solution": false
        },
        "id": "69DJi2YOHzH7"
      },
      "source": [
        "### 5 Points: simple tests for simplify.\n",
        "\n",
        "c = Clause([1, 2, -3, 4])\n",
        "# If we assign True to p_1, the whole clause is True.\n",
        "assert_equal(c.simplify(1), True)\n",
        "\n"
      ],
      "execution_count": 379,
      "outputs": []
    },
    {
      "cell_type": "code",
      "metadata": {
        "deletable": false,
        "editable": false,
        "nbgrader": {
          "checksum": "a514567e7f62e4a1fca80597d7c7ce4c",
          "grade": true,
          "grade_id": "cell-c935324998860d23",
          "locked": true,
          "points": 5,
          "schema_version": 1,
          "solution": false
        },
        "id": "OWKnA260HzH7"
      },
      "source": [
        "### 5 points: more tests for simplify\n",
        "\n",
        "c = Clause([1, 2, -3, 4])\n",
        "# If we assign False to 1 and True to 3, p_1 and p_3 are not useful\n",
        "# any more to make the clause true.\n",
        "assert_equal(c.simplify(-4), Clause([1, 2, -3]))\n",
        "\n"
      ],
      "execution_count": 380,
      "outputs": []
    },
    {
      "cell_type": "code",
      "metadata": {
        "deletable": false,
        "editable": false,
        "nbgrader": {
          "checksum": "41e61b0e17447421e881ab4ec1f863a7",
          "grade": true,
          "grade_id": "cell-52a9dc45b42c85f6",
          "locked": true,
          "points": 5,
          "schema_version": 1,
          "solution": false
        },
        "id": "Yw5cuuOTHzH7"
      },
      "source": [
        "### 5 points: yet more tests for simplify\n",
        "\n",
        "c = Clause([1, 2, -3, 4])\n",
        "# Left unchanged.\n",
        "assert_equal(c.simplify(12), c)\n",
        "\n"
      ],
      "execution_count": 381,
      "outputs": []
    },
    {
      "cell_type": "markdown",
      "metadata": {
        "deletable": false,
        "editable": false,
        "nbgrader": {
          "checksum": "c66b024fff230cf587b3ae1b3880325f",
          "grade": false,
          "grade_id": "cell-eba299ab5edf1f7c",
          "locked": true,
          "schema_version": 1,
          "solution": false
        },
        "id": "bv1unpW2HzH8"
      },
      "source": [
        "## SAT Representation"
      ]
    },
    {
      "cell_type": "markdown",
      "metadata": {
        "deletable": false,
        "editable": false,
        "nbgrader": {
          "checksum": "4e97e3a5da739849be16d1e51d8d4a68",
          "grade": false,
          "grade_id": "cell-5f8ad0fc6467d5e9",
          "locked": true,
          "schema_version": 1,
          "solution": false
        },
        "id": "sMpAduz7HzH8"
      },
      "source": [
        "A SAT instance consists in a set of clauses. \n",
        "\n",
        "The SAT instance is satisfiable if and only if there is a truth assignment to predicates that satisfies all of its clauses. \n",
        "Therefore: \n",
        "\n",
        "* If the SAT instance contains no clauses, it is trivially satisfiable.\n",
        "* If the SAT instance contains an empty clause, it is unsatisfiable, since there is no way to satisfy that clause. \n",
        "\n",
        "Based on this idea, the initializer method for our SAT class will get a list of clauses as input.  It will discard the tautologically true ones (as indicated by the istrue clause method).  If there is even a single unsatisfiable clause, then we set the SAT problem to consist of only one unsatisfiable clause, as a shorthand for denoting that the SAT problem cannot be satisfied. \n",
        "\n",
        "We endow the SAT class with methods isfalse and istrue, that detect SAT problems that are trivially satisfiable by any truth assignment, or trivially unsatisfiable by any truth assignment. \n",
        "\n",
        "You will need to implement the methods _generate_candidate_assignments_, _apply_assignment_, and _solve_, which together will be used to search for a solution of the SAT instance.  These methods are discussed below. "
      ]
    },
    {
      "cell_type": "code",
      "metadata": {
        "deletable": false,
        "editable": false,
        "nbgrader": {
          "checksum": "340f7b3eacf6adeaf397f935f0af7fec",
          "grade": false,
          "grade_id": "cell-72ddfa1ee51d42fc",
          "locked": true,
          "schema_version": 1,
          "solution": false
        },
        "id": "NMsT4Vr4HzH9"
      },
      "source": [
        "class SAT(object):\n",
        "\n",
        "    def __init__(self, clause_list):\n",
        "        \"\"\"clause_list is a list of lists (or better, an iterable of\n",
        "        iterables), to represent a list or set of clauses.\"\"\"\n",
        "        raw_clauses = {Clause(c) for c in clause_list}\n",
        "        # We do some initial sanity checking.\n",
        "        # If a clause is empty, then it\n",
        "        # cannot be satisfied, and the entire problem is False.\n",
        "        # If a clause is true, it can be dropped.\n",
        "        self.clauses = set()\n",
        "        for c in raw_clauses:\n",
        "            if c.isfalse:\n",
        "                # Unsatisfiable.\n",
        "                self.clauses = {c}\n",
        "                break\n",
        "            elif c.istrue:\n",
        "                pass\n",
        "            else:\n",
        "                self.clauses.add(c)\n",
        "\n",
        "    def __repr__(self):\n",
        "        return repr(self.clauses)\n",
        "\n",
        "    def __eq__(self, other):\n",
        "        return self.clauses == other.clauses\n",
        "\n"
      ],
      "execution_count": 382,
      "outputs": []
    },
    {
      "cell_type": "markdown",
      "metadata": {
        "deletable": false,
        "editable": false,
        "nbgrader": {
          "checksum": "83e501f5cc21dc97259ef15e25f720f2",
          "grade": false,
          "grade_id": "cell-609a92e77a5276e2",
          "locked": true,
          "schema_version": 1,
          "solution": false
        },
        "id": "-beH7bIXHzH9"
      },
      "source": [
        "## Question 2: Define istrue and isfalse\n",
        "\n",
        "Define two functions (that are defined as properties), `istrue` and `isfalse`: \n",
        "\n",
        "* A SAT instance is true only if it contains no clauses.  This because empty clauses are not added to the SAT instance (see above initializer). \n",
        "* A SAT instance is false if it contains a false clause. \n",
        "\n",
        "These are simple functions; it's not a trick question. "
      ]
    },
    {
      "cell_type": "code",
      "metadata": {
        "deletable": false,
        "nbgrader": {
          "checksum": "0222197670fa5c1f3ebb62ecb3657e6a",
          "grade": false,
          "grade_id": "cell-a01fe9df9e51b602",
          "locked": false,
          "schema_version": 1,
          "solution": true
        },
        "id": "wVciXut6HzH-"
      },
      "source": [
        "### istrue, isfalse, for SAT.\n",
        "\n",
        "def sat_istrue(self):\n",
        "    # YOUR CODE HERE\n",
        "    if len(self.clauses)==0:\n",
        "        return True\n",
        "    else:\n",
        "        return False\n",
        "\n",
        "def sat_isfalse(self):\n",
        "    # YOUR CODE HERE\n",
        "    if len(self.clauses)==1 and list(self.clauses)[0]==Clause([]):\n",
        "        return True\n",
        "    else:\n",
        "        return False\n",
        "\n",
        "SAT.istrue = property(sat_istrue)\n",
        "SAT.isfalse = property(sat_isfalse)\n"
      ],
      "execution_count": 383,
      "outputs": []
    },
    {
      "cell_type": "markdown",
      "metadata": {
        "deletable": false,
        "editable": false,
        "nbgrader": {
          "checksum": "1414780e6aefdc05ee4335ebcf3d6f65",
          "grade": false,
          "grade_id": "cell-405102b301149f01",
          "locked": true,
          "schema_version": 1,
          "solution": false
        },
        "id": "jBkO5QHbHzH-"
      },
      "source": [
        "Here are, as usual, some tests. "
      ]
    },
    {
      "cell_type": "code",
      "metadata": {
        "deletable": false,
        "editable": false,
        "nbgrader": {
          "checksum": "44b1d226475d724960a178d301836458",
          "grade": true,
          "grade_id": "cell-56999380bacc0f8a",
          "locked": true,
          "points": 5,
          "schema_version": 1,
          "solution": false
        },
        "id": "zkWJazmXHzH_"
      },
      "source": [
        "# 5 points: tests for is_true\n",
        "\n",
        "s = SAT([[-1,-2,3],[2,-3],[1,-4,2,1]])\n",
        "assert_false(s.istrue)\n",
        "s = SAT([])\n",
        "assert_true(s.istrue)\n"
      ],
      "execution_count": 384,
      "outputs": []
    },
    {
      "cell_type": "code",
      "metadata": {
        "deletable": false,
        "editable": false,
        "nbgrader": {
          "checksum": "00fd7f4114c348417b421bfb31e16ddd",
          "grade": true,
          "grade_id": "cell-25516bd261a4196d",
          "locked": true,
          "points": 5,
          "schema_version": 1,
          "solution": false
        },
        "id": "rJCz3lq-HzH_"
      },
      "source": [
        "# 5 points: tests for is_false\n",
        "\n",
        "s = SAT([[-1,-2,3],[2,-3],[1,-4,2,1]])\n",
        "assert_false(s.isfalse)\n",
        "s = SAT([])\n",
        "assert_false(s.isfalse)\n",
        "s = SAT([[],[2,-3],[1,-4,2,1]])\n",
        "assert_true(s.isfalse)\n"
      ],
      "execution_count": 385,
      "outputs": []
    },
    {
      "cell_type": "markdown",
      "metadata": {
        "deletable": false,
        "editable": false,
        "nbgrader": {
          "checksum": "1721626e0aa41c9f14e777e3cc3c045c",
          "grade": false,
          "grade_id": "cell-bb6e2545ddb037f8",
          "locked": true,
          "schema_version": 1,
          "solution": false
        },
        "id": "jjYExX4pHzIA"
      },
      "source": [
        "## Question 3: Generate candidate assignments\n",
        "\n",
        "In order to solve a SAT instance, we proceed with the choice-constraint propagation-recursion setting.  Let us build the choice piece first. \n",
        "The idea is this: if we are to make true a clause $c$, we have to make true at least one of its literals.  Thus, we can pick a clause $c$, and try the truth assignment corresponding to each of its literals in turn: at least one of them should work.  Which clause is best to pick?  As in the Sudoku case, one with minimal length, so that the probability of one of its literals being true is highest. \n",
        "\n",
        "Based on this, write a method _generate_candidate_assignments_ in the above SAT class, which returns the list or set of literals of one of the clauses of minimal length.  These will be the truth assignments we will need to try in turn.  Below are some tests that your code should pass.\n",
        "\n",
        "_Note:_ the solution can (but need not) be written in one line of code."
      ]
    },
    {
      "cell_type": "code",
      "metadata": {
        "deletable": false,
        "nbgrader": {
          "checksum": "028013c671cdd82ad89037fe2f481deb",
          "grade": false,
          "grade_id": "cell-757451008ce63800",
          "locked": false,
          "schema_version": 1,
          "solution": true
        },
        "id": "3UeOhowYHzIE"
      },
      "source": [
        "### Definition of `generate_candidate_assignments`\n",
        "\n",
        "def sat_generate_candidate_assignments(self):\n",
        "    \"\"\"Generates candidate assignments.\n",
        "    If the SAT problem contains unary clauses (clauses with only\n",
        "    one literal), then it returns a list of one candidate assignment,\n",
        "    with the one candidate assignment consisting in the union of\n",
        "    all the unary clauses.\n",
        "    If the SAT problem does not contain any unary clause, then picks\n",
        "    one of its shortest clauses, and return as candidate assignments\n",
        "    a list of sets, one for each of the literals of the chosen clause.\"\"\"\n",
        "    # YOUR CODE HERE\n",
        "    for clauses in self.clauses:\n",
        "        if len(clauses)==min(len(clauses) for clauses in self.clauses):\n",
        "            return set(clauses.literals)\n",
        "\n",
        "\n",
        "SAT.generate_candidate_assignments = sat_generate_candidate_assignments\n"
      ],
      "execution_count": 386,
      "outputs": []
    },
    {
      "cell_type": "code",
      "metadata": {
        "deletable": false,
        "editable": false,
        "nbgrader": {
          "checksum": "3fb0fe0f5d70867396376ebd069c134d",
          "grade": true,
          "grade_id": "cell-9741eec96209c75",
          "locked": true,
          "points": 5,
          "schema_version": 1,
          "solution": false
        },
        "id": "UoQzDmmNHzIF"
      },
      "source": [
        "### 5 points: Tests for `generate_candidate_assignments`\n",
        "\n",
        "s = SAT([[-1,-2,3],[2,-3],[1,-4,2,1]])\n",
        "assert_equal(set(s.generate_candidate_assignments()), {2, -3})\n",
        "\n"
      ],
      "execution_count": 387,
      "outputs": []
    },
    {
      "cell_type": "markdown",
      "metadata": {
        "deletable": false,
        "editable": false,
        "nbgrader": {
          "checksum": "0a770730440853f9ccfb65609b41a85a",
          "grade": false,
          "grade_id": "cell-6f60bc0f334813f8",
          "locked": true,
          "schema_version": 1,
          "solution": false
        },
        "id": "PufNpyxRHzIG"
      },
      "source": [
        "## Question 4: Define apply_assignment\n",
        "\n",
        "Once we pick a truth assignment from one of the literals above, we need to propagate its effect to the clauses of the SAT instance. \n",
        "\n",
        "Write an `apply_assignment` method in the SAT class given above, that takes as input a truth assignment $i$, and returns a new SAT object, whose clauses are obtained by simplifying the clauses of the current assignment according to $i$.  Clauses that are made true by $i$ (clauses where the _simplify_ method returns True) should not be part of the new SAT problem, since they are already satisfied. \n",
        "\n",
        "Note that you have _already_ written the code to apply an assignment to each clause; you just need to apply the assignment to all clauses and return the resulting SAT problem here.  Remember to return a _new_ SAT problem (use the SAT constructor to create it); do _not_ modify the current SAT problem. \n",
        "\n",
        "We provide below some tests for your code.\n",
        "\n",
        "_Note:_ the solution can (but need not) be written in two lines of code."
      ]
    },
    {
      "cell_type": "code",
      "metadata": {
        "deletable": false,
        "nbgrader": {
          "checksum": "a1c4fcd16bec0d72eb20904df2ff1122",
          "grade": false,
          "grade_id": "cell-887f514437db010c",
          "locked": false,
          "schema_version": 1,
          "solution": true
        },
        "id": "Pb6WmJ_dHzIH"
      },
      "source": [
        "### Exercise: define `apply_assignment`\n",
        "\n",
        "def sat_apply_assignment(self, assignment):\n",
        "    \"\"\"Applies the assignment to every clause, simplifying it.\n",
        "    If a clause is false, the whole problem is unsatisfiable,\n",
        "    and we return False.  If a clause is True, it does not need\n",
        "    to be included.\"\"\"\n",
        "    # YOUR CODE HERE\n",
        "    new=set()\n",
        "    for clauses in self.clauses:\n",
        "        simplifying=clauses.simplify(assignment)\n",
        "        if not isinstance(simplifying, bool):\n",
        "            new.add(simplifying)\n",
        "    return SAT(new)\n",
        "\n",
        "\n",
        "\n",
        "SAT.apply_assignment = sat_apply_assignment\n"
      ],
      "execution_count": 388,
      "outputs": []
    },
    {
      "cell_type": "code",
      "metadata": {
        "deletable": false,
        "editable": false,
        "nbgrader": {
          "checksum": "0784b90100f88ca0cebc29c6731e150d",
          "grade": true,
          "grade_id": "cell-f0ee25cf1f85af30",
          "locked": true,
          "points": 5,
          "schema_version": 1,
          "solution": false
        },
        "id": "iq_udcFnHzIH"
      },
      "source": [
        "### 5 points: Tests for `apply_assignment`\n",
        "\n",
        "# First, examples in which each clause is simplified and is part of the\n",
        "# new SAT problem.\n",
        "s = SAT([[-1, -2, 3], [2, -3], [5, -4, 2, 10]])\n",
        "t = s.apply_assignment(1)\n",
        "assert_equal(t, SAT([[-2, 3], [2, -3], [5, -4, 2, 10]]))\n",
        "\n",
        "s = SAT([[2, 3], [4, 2, -3], [2]])\n",
        "t = s.apply_assignment(-2)\n",
        "assert_equal(t, SAT([[3], [4, -3], []]))\n",
        "\n"
      ],
      "execution_count": 389,
      "outputs": []
    },
    {
      "cell_type": "code",
      "metadata": {
        "deletable": false,
        "editable": false,
        "nbgrader": {
          "checksum": "e01f9e6f376ceec5676545d11ad8d4fe",
          "grade": true,
          "grade_id": "cell-93c4b48f6812cceb",
          "locked": true,
          "points": 5,
          "schema_version": 1,
          "solution": false
        },
        "id": "qHvEloJ3HzII"
      },
      "source": [
        "### 5 points: More tests for `apply_assignment`\n",
        "\n",
        "# Second, an example in which some clauses are made True, and hence removed\n",
        "# from the new SAT problem.\n",
        "s = SAT([[-1, -2, 3], [2, -3], [5, -4, 2, 10]])\n",
        "t = s.apply_assignment(-1)\n",
        "assert_equal(t, SAT([[2, -3], [5, -4, 2, 10]]))\n",
        "\n",
        "s = SAT([[2, 3, -4], [-1, -3, 5], [-3]])\n",
        "t = s.apply_assignment(3)\n",
        "assert_equal(t, SAT([[-1, 5], []]))\n",
        "\n"
      ],
      "execution_count": 390,
      "outputs": []
    },
    {
      "cell_type": "markdown",
      "metadata": {
        "deletable": false,
        "editable": false,
        "nbgrader": {
          "checksum": "32e085ac6f379a08fa975dfef701a9b6",
          "grade": false,
          "grade_id": "cell-6761a0f29ecace4c",
          "locked": true,
          "schema_version": 1,
          "solution": false
        },
        "id": "YG6eHQedHzII"
      },
      "source": [
        "## Question 5: Define solve\n",
        "\n",
        "The main method for searching for a solution of the SAT instance is the `solve` method. \n",
        "The `solve` method takes no arguments, and should return either False, if the SAT instance is unsatisfiable, or a truth assignment that satisfies it.  The satisfying truth assignment should be returned as a set (of integers).  \n",
        "\n",
        "The `solve` method uses _generate_candidate_assignments_ and _apply_assignment_ above. \n",
        "\n",
        "First, the `solve` method should check whether the SAT instance $S$ is trivially unsatisfiable (and return False) or trivially satisfiable (and return the empty set), using the `istrue` and `isfalse` methods. \n",
        "This takes care of the base cases of the search. \n",
        "\n",
        "If none of the above applies, `solve` must generate candiate truth assignments, and try them one by one.  \n",
        "Let $a$ be the candidate assignment we are trying.  We apply $a$ to the current SAT problem via `apply_assignment`, obtaining $S'$. \n",
        "We recursively try to solve $S'$, via a call to `solve` of $S'$.  Then: \n",
        "\n",
        "* If the new SAT problem $S'$ has no solution, you can move on to the next candidate assignment, if any; \n",
        "* if the new SAT problem $S'$ returns as a solution a truth-assignment $L$ ($L$ is a list of integers), the solution is obtaining by combining $L$ and $a$ (returning the set obtained by adding $a$ to $L$). \n"
      ]
    },
    {
      "cell_type": "code",
      "metadata": {
        "deletable": false,
        "nbgrader": {
          "checksum": "340639d0e2df0d30c99f7a8955a2a7cc",
          "grade": false,
          "grade_id": "cell-d7bb7acb5545798d",
          "locked": false,
          "schema_version": 1,
          "solution": true
        },
        "id": "R6c71_uZHzIJ"
      },
      "source": [
        "### Exercise: define `solve`\n",
        "\n",
        "def sat_solve(self):\n",
        "    \"\"\"Solves a SAT instance.\n",
        "    First, it checks whether the instance is false (in which case\n",
        "    it returns False) or true (in which case it returns an empty\n",
        "    assignment).\n",
        "    If neither of these applies, generates a list of candidate\n",
        "    assignments, and for each of them, applies them to the current SAT\n",
        "    instance, generating a new SAT instance, and solves it.\n",
        "    If the new SAT instance has a solution, merges it with the assignment,\n",
        "    and returns it.  If it has no solution, tries the next candidate\n",
        "    assignment.  If no candidate assignment works, returns False, as\n",
        "    the SAT problem cannot be satisfied.\"\"\"\n",
        "    # YOUR CODE HERE\n",
        "    if self.istrue:\n",
        "        return set()\n",
        "    elif self.isfalse:\n",
        "        return False\n",
        "    else:\n",
        "        candidate_assg=self.generate_candidate_assignments()\n",
        "        for assignment in candidate_assg:\n",
        "            candidate=self.apply_assignment(assignment).solve()\n",
        "            if isinstance(candidate,set):\n",
        "                return candidate|{assignment}\n",
        "            if not isinstance(candidate,set):\n",
        "                continue\n",
        "        return False\n",
        "\n",
        "\n",
        "\n",
        "\n",
        "\n",
        "\n",
        "SAT.solve = sat_solve\n"
      ],
      "execution_count": 391,
      "outputs": []
    },
    {
      "cell_type": "markdown",
      "metadata": {
        "deletable": false,
        "editable": false,
        "nbgrader": {
          "checksum": "f0a47fe3577ae980526531aa47a0c435",
          "grade": false,
          "grade_id": "cell-c63881c1ca65b2f6",
          "locked": true,
          "schema_version": 1,
          "solution": false
        },
        "id": "n36w6WYpHzIJ"
      },
      "source": [
        "To help you verify your code, let us write a method `apply_assignment` that, given a SAT problem, applies an assignment to it, and returns True if the SAT instance is satisfied. "
      ]
    },
    {
      "cell_type": "code",
      "metadata": {
        "deletable": false,
        "editable": false,
        "nbgrader": {
          "checksum": "9f4f690c2d569c35a99073e1130539ea",
          "grade": false,
          "grade_id": "cell-293415304d1cc741",
          "locked": true,
          "schema_version": 1,
          "solution": false
        },
        "id": "wFL7fHeRHzIK"
      },
      "source": [
        "def sat_verify_assignment(self, assignment):\n",
        "    assert not has_pos_and_neg(assignment), \"The assignment is inconsistent\"\n",
        "    s = self\n",
        "    for i in assignment:\n",
        "        s = s.apply_assignment(i)\n",
        "        if s.istrue:\n",
        "            return True\n",
        "        if s.isfalse:\n",
        "            return False\n",
        "    return False\n",
        "\n",
        "SAT.verify_assignment = sat_verify_assignment\n"
      ],
      "execution_count": 392,
      "outputs": []
    },
    {
      "cell_type": "markdown",
      "metadata": {
        "deletable": false,
        "editable": false,
        "nbgrader": {
          "checksum": "d913283ec276b0218980c941bd6a56ff",
          "grade": false,
          "grade_id": "cell-42343f87b38a5224",
          "locked": true,
          "schema_version": 1,
          "solution": false
        },
        "id": "KkS_3xtKHzIL"
      },
      "source": [
        "Here are some tests for `solve`. "
      ]
    },
    {
      "cell_type": "code",
      "metadata": {
        "deletable": false,
        "editable": false,
        "nbgrader": {
          "checksum": "85c4807e5caadca79909c4069f2bcff5",
          "grade": true,
          "grade_id": "cell-9b70e204fe41afcb",
          "locked": true,
          "points": 5,
          "schema_version": 1,
          "solution": false
        },
        "colab": {
          "base_uri": "https://localhost:8080/"
        },
        "id": "LexSzpj9HzIM",
        "outputId": "92824988-f7d5-402c-a111-4f608dd6fc8f"
      },
      "source": [
        "### 5 points: A solvable problem\n",
        "\n",
        "s = SAT([[1, 2], [-2, 2, 3], [-3, -2]])\n",
        "a = s.solve()\n",
        "print(\"Assignment:\", a)\n",
        "assert_true(s.verify_assignment(a))\n",
        "\n"
      ],
      "execution_count": 393,
      "outputs": [
        {
          "output_type": "stream",
          "text": [
            "Assignment: {1, -3}\n"
          ],
          "name": "stdout"
        }
      ]
    },
    {
      "cell_type": "code",
      "metadata": {
        "deletable": false,
        "editable": false,
        "nbgrader": {
          "checksum": "57e5e35e73781e68d3f699a52fef4e80",
          "grade": true,
          "grade_id": "cell-2e0494775451c03f",
          "locked": true,
          "points": 5,
          "schema_version": 1,
          "solution": false
        },
        "colab": {
          "base_uri": "https://localhost:8080/"
        },
        "id": "hYaKVhqgHzIM",
        "outputId": "22744a1b-9728-4285-f9f9-a06e8fe843e3"
      },
      "source": [
        "### 5 points: Another solvable problem.\n",
        "\n",
        "s = SAT([[1, 2], [-2, 3], [-3, 4], [-4, 5], [8, -1]])\n",
        "a = s.solve()\n",
        "print(\"Assignment:\", a)\n",
        "assert_true(s.verify_assignment(a))\n",
        "\n"
      ],
      "execution_count": 394,
      "outputs": [
        {
          "output_type": "stream",
          "text": [
            "Assignment: {1, 8, -4, -3, -2}\n"
          ],
          "name": "stdout"
        }
      ]
    },
    {
      "cell_type": "code",
      "metadata": {
        "deletable": false,
        "editable": false,
        "nbgrader": {
          "checksum": "cb636a859f84b3c354dec4ea18eac06d",
          "grade": true,
          "grade_id": "cell-942342400b7cd7e6",
          "locked": true,
          "points": 5,
          "schema_version": 1,
          "solution": false
        },
        "colab": {
          "base_uri": "https://localhost:8080/"
        },
        "id": "m4g6JU5UHzIM",
        "outputId": "c9fe5225-0b37-4a75-a105-2a77a58b5a74"
      },
      "source": [
        "### 5 points: Yet another solvable problem\n",
        "\n",
        "s = SAT([[-1, 2], [-2, 3], [-3, 1]])\n",
        "a = s.solve()\n",
        "print(\"Assignment:\", a)\n",
        "assert_true(s.verify_assignment(a))\n",
        "\n"
      ],
      "execution_count": 395,
      "outputs": [
        {
          "output_type": "stream",
          "text": [
            "Assignment: {1, 2, 3}\n"
          ],
          "name": "stdout"
        }
      ]
    },
    {
      "cell_type": "code",
      "metadata": {
        "deletable": false,
        "editable": false,
        "nbgrader": {
          "checksum": "bb1443df6d02c0eb46f47005174e85e5",
          "grade": true,
          "grade_id": "cell-20e2b76909e6e4da",
          "locked": true,
          "points": 5,
          "schema_version": 1,
          "solution": false
        },
        "id": "yW8nNuRTHzIM"
      },
      "source": [
        "### 5 points: An unsolvable problem\n",
        "\n",
        "s = SAT([[1], [-1, 2], [-2]])\n",
        "assert_false(s.solve())\n",
        "\n"
      ],
      "execution_count": 396,
      "outputs": []
    },
    {
      "cell_type": "code",
      "metadata": {
        "deletable": false,
        "editable": false,
        "nbgrader": {
          "checksum": "624189781cf41eadee5330d715ef891e",
          "grade": true,
          "grade_id": "cell-37952f3df66e102e",
          "locked": true,
          "points": 5,
          "schema_version": 1,
          "solution": false
        },
        "id": "nY66rbIAHzIN"
      },
      "source": [
        "### 5 points: Another unsolvable problem\n",
        "\n",
        "s = SAT([[-1, 2], [-2, 3], [-3, -1], [1]])\n",
        "assert_false(s.solve())\n",
        "\n"
      ],
      "execution_count": 397,
      "outputs": []
    },
    {
      "cell_type": "code",
      "metadata": {
        "deletable": false,
        "editable": false,
        "nbgrader": {
          "checksum": "922b6c630baf5c6b06dbecf29a21f9ef",
          "grade": true,
          "grade_id": "cell-3b5b6499f47c4e7c",
          "locked": true,
          "points": 5,
          "schema_version": 1,
          "solution": false
        },
        "id": "m-QKl_VeHzIN"
      },
      "source": [
        "### 5 points: Yet another unsolvable problem\n",
        "\n",
        "s = SAT([[-1, 2], [-2, 3], [-3, -1], [1], [-4, -3, -2]])\n",
        "assert_false(s.solve())\n",
        "\n"
      ],
      "execution_count": 398,
      "outputs": []
    }
  ]
}